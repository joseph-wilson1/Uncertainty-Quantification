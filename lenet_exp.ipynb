{
 "cells": [
  {
   "cell_type": "code",
   "execution_count": 19,
   "metadata": {},
   "outputs": [
    {
     "name": "stdout",
     "output_type": "stream",
     "text": [
      "Number of parameters p = 61706\n",
      "Number of training points = 1000\n"
     ]
    },
    {
     "name": "stderr",
     "output_type": "stream",
     "text": [
      "  1%|          | 1/100 [00:00<00:28,  3.51it/s]"
     ]
    },
    {
     "name": "stdout",
     "output_type": "stream",
     "text": [
      "Epoch 0 of 100\n",
      "Training CE = 2.3474\n",
      "Test CE = 2.2570\n",
      "Test accuracy = 20.0%\n",
      "\n",
      " -------------------------------------\n"
     ]
    },
    {
     "name": "stderr",
     "output_type": "stream",
     "text": [
      "  5%|▌         | 5/100 [00:01<00:20,  4.54it/s]"
     ]
    },
    {
     "name": "stdout",
     "output_type": "stream",
     "text": [
      "Epoch 4 of 100\n",
      "Training CE = 1.7888\n",
      "Test CE = 0.9339\n",
      "Test accuracy = 80.0%\n",
      "\n",
      " -------------------------------------\n"
     ]
    },
    {
     "name": "stderr",
     "output_type": "stream",
     "text": [
      "  9%|▉         | 9/100 [00:02<00:20,  4.50it/s]"
     ]
    },
    {
     "name": "stdout",
     "output_type": "stream",
     "text": [
      "Epoch 8 of 100\n",
      "Training CE = 0.5246\n",
      "Test CE = 0.0597\n",
      "Test accuracy = 100.0%\n",
      "\n",
      " -------------------------------------\n"
     ]
    },
    {
     "name": "stderr",
     "output_type": "stream",
     "text": [
      " 13%|█▎        | 13/100 [00:02<00:19,  4.53it/s]"
     ]
    },
    {
     "name": "stdout",
     "output_type": "stream",
     "text": [
      "Epoch 12 of 100\n",
      "Training CE = 0.2826\n",
      "Test CE = 0.0187\n",
      "Test accuracy = 100.0%\n",
      "\n",
      " -------------------------------------\n"
     ]
    },
    {
     "name": "stderr",
     "output_type": "stream",
     "text": [
      " 17%|█▋        | 17/100 [00:03<00:18,  4.55it/s]"
     ]
    },
    {
     "name": "stdout",
     "output_type": "stream",
     "text": [
      "Epoch 16 of 100\n",
      "Training CE = 0.1675\n",
      "Test CE = 0.0116\n",
      "Test accuracy = 100.0%\n",
      "\n",
      " -------------------------------------\n"
     ]
    },
    {
     "name": "stderr",
     "output_type": "stream",
     "text": [
      " 21%|██        | 21/100 [00:04<00:16,  4.67it/s]"
     ]
    },
    {
     "name": "stdout",
     "output_type": "stream",
     "text": [
      "Epoch 20 of 100\n",
      "Training CE = 0.0836\n",
      "Test CE = 0.0094\n",
      "Test accuracy = 100.0%\n",
      "\n",
      " -------------------------------------\n"
     ]
    },
    {
     "name": "stderr",
     "output_type": "stream",
     "text": [
      " 26%|██▌       | 26/100 [00:05<00:15,  4.77it/s]"
     ]
    },
    {
     "name": "stdout",
     "output_type": "stream",
     "text": [
      "Epoch 24 of 100\n",
      "Training CE = 0.0467\n",
      "Test CE = 0.0062\n",
      "Test accuracy = 100.0%\n",
      "\n",
      " -------------------------------------\n"
     ]
    },
    {
     "name": "stderr",
     "output_type": "stream",
     "text": [
      " 30%|███       | 30/100 [00:06<00:14,  4.79it/s]"
     ]
    },
    {
     "name": "stdout",
     "output_type": "stream",
     "text": [
      "Epoch 28 of 100\n",
      "Training CE = 0.0294\n",
      "Test CE = 0.0055\n",
      "Test accuracy = 100.0%\n",
      "\n",
      " -------------------------------------\n"
     ]
    },
    {
     "name": "stderr",
     "output_type": "stream",
     "text": [
      " 33%|███▎      | 33/100 [00:07<00:13,  4.79it/s]"
     ]
    },
    {
     "name": "stdout",
     "output_type": "stream",
     "text": [
      "Epoch 32 of 100\n",
      "Training CE = 0.0214\n",
      "Test CE = 0.0042\n",
      "Test accuracy = 100.0%\n",
      "\n",
      " -------------------------------------\n"
     ]
    },
    {
     "name": "stderr",
     "output_type": "stream",
     "text": [
      " 37%|███▋      | 37/100 [00:08<00:13,  4.80it/s]"
     ]
    },
    {
     "name": "stdout",
     "output_type": "stream",
     "text": [
      "Epoch 36 of 100\n",
      "Training CE = 0.0141\n",
      "Test CE = 0.0032\n",
      "Test accuracy = 100.0%\n",
      "\n",
      " -------------------------------------\n"
     ]
    },
    {
     "name": "stderr",
     "output_type": "stream",
     "text": [
      " 41%|████      | 41/100 [00:08<00:12,  4.68it/s]"
     ]
    },
    {
     "name": "stdout",
     "output_type": "stream",
     "text": [
      "Epoch 40 of 100\n",
      "Training CE = 0.0105\n",
      "Test CE = 0.0025\n",
      "Test accuracy = 100.0%\n",
      "\n",
      " -------------------------------------\n"
     ]
    },
    {
     "name": "stderr",
     "output_type": "stream",
     "text": [
      " 45%|████▌     | 45/100 [00:09<00:11,  4.80it/s]"
     ]
    },
    {
     "name": "stdout",
     "output_type": "stream",
     "text": [
      "Epoch 44 of 100\n",
      "Training CE = 0.0080\n",
      "Test CE = 0.0018\n",
      "Test accuracy = 100.0%\n",
      "\n",
      " -------------------------------------\n"
     ]
    },
    {
     "name": "stderr",
     "output_type": "stream",
     "text": [
      " 50%|█████     | 50/100 [00:10<00:10,  4.77it/s]"
     ]
    },
    {
     "name": "stdout",
     "output_type": "stream",
     "text": [
      "Epoch 48 of 100\n",
      "Training CE = 0.0061\n",
      "Test CE = 0.0012\n",
      "Test accuracy = 100.0%\n",
      "\n",
      " -------------------------------------\n"
     ]
    },
    {
     "name": "stderr",
     "output_type": "stream",
     "text": [
      " 53%|█████▎    | 53/100 [00:11<00:10,  4.69it/s]"
     ]
    },
    {
     "name": "stdout",
     "output_type": "stream",
     "text": [
      "Epoch 52 of 100\n",
      "Training CE = 0.0048\n",
      "Test CE = 0.0010\n",
      "Test accuracy = 100.0%\n",
      "\n",
      " -------------------------------------\n"
     ]
    },
    {
     "name": "stderr",
     "output_type": "stream",
     "text": [
      " 58%|█████▊    | 58/100 [00:12<00:08,  4.77it/s]"
     ]
    },
    {
     "name": "stdout",
     "output_type": "stream",
     "text": [
      "Epoch 56 of 100\n",
      "Training CE = 0.0041\n",
      "Test CE = 0.0008\n",
      "Test accuracy = 100.0%\n",
      "\n",
      " -------------------------------------\n"
     ]
    },
    {
     "name": "stderr",
     "output_type": "stream",
     "text": [
      " 61%|██████    | 61/100 [00:13<00:08,  4.79it/s]"
     ]
    },
    {
     "name": "stdout",
     "output_type": "stream",
     "text": [
      "Epoch 60 of 100\n",
      "Training CE = 0.0035\n",
      "Test CE = 0.0007\n",
      "Test accuracy = 100.0%\n",
      "\n",
      " -------------------------------------\n"
     ]
    },
    {
     "name": "stderr",
     "output_type": "stream",
     "text": [
      " 66%|██████▌   | 66/100 [00:14<00:07,  4.65it/s]"
     ]
    },
    {
     "name": "stdout",
     "output_type": "stream",
     "text": [
      "Epoch 64 of 100\n",
      "Training CE = 0.0031\n",
      "Test CE = 0.0006\n",
      "Test accuracy = 100.0%\n",
      "\n",
      " -------------------------------------\n"
     ]
    },
    {
     "name": "stderr",
     "output_type": "stream",
     "text": [
      " 69%|██████▉   | 69/100 [00:14<00:06,  4.66it/s]"
     ]
    },
    {
     "name": "stdout",
     "output_type": "stream",
     "text": [
      "Epoch 68 of 100\n",
      "Training CE = 0.0028\n",
      "Test CE = 0.0005\n",
      "Test accuracy = 100.0%\n",
      "\n",
      " -------------------------------------\n"
     ]
    },
    {
     "name": "stderr",
     "output_type": "stream",
     "text": [
      " 73%|███████▎  | 73/100 [00:15<00:05,  4.70it/s]"
     ]
    },
    {
     "name": "stdout",
     "output_type": "stream",
     "text": [
      "Epoch 72 of 100\n",
      "Training CE = 0.0026\n",
      "Test CE = 0.0004\n",
      "Test accuracy = 100.0%\n",
      "\n",
      " -------------------------------------\n"
     ]
    },
    {
     "name": "stderr",
     "output_type": "stream",
     "text": [
      " 78%|███████▊  | 78/100 [00:16<00:04,  4.82it/s]"
     ]
    },
    {
     "name": "stdout",
     "output_type": "stream",
     "text": [
      "Epoch 76 of 100\n",
      "Training CE = 0.0024\n",
      "Test CE = 0.0004\n",
      "Test accuracy = 100.0%\n",
      "\n",
      " -------------------------------------\n"
     ]
    },
    {
     "name": "stderr",
     "output_type": "stream",
     "text": [
      " 82%|████████▏ | 82/100 [00:17<00:03,  4.76it/s]"
     ]
    },
    {
     "name": "stdout",
     "output_type": "stream",
     "text": [
      "Epoch 80 of 100\n",
      "Training CE = 0.0022\n",
      "Test CE = 0.0004\n",
      "Test accuracy = 100.0%\n",
      "\n",
      " -------------------------------------\n"
     ]
    },
    {
     "name": "stderr",
     "output_type": "stream",
     "text": [
      " 85%|████████▌ | 85/100 [00:18<00:03,  4.78it/s]"
     ]
    },
    {
     "name": "stdout",
     "output_type": "stream",
     "text": [
      "Epoch 84 of 100\n",
      "Training CE = 0.0021\n",
      "Test CE = 0.0003\n",
      "Test accuracy = 100.0%\n",
      "\n",
      " -------------------------------------\n"
     ]
    },
    {
     "name": "stderr",
     "output_type": "stream",
     "text": [
      " 89%|████████▉ | 89/100 [00:19<00:02,  4.59it/s]"
     ]
    },
    {
     "name": "stdout",
     "output_type": "stream",
     "text": [
      "Epoch 88 of 100\n",
      "Training CE = 0.0020\n",
      "Test CE = 0.0003\n",
      "Test accuracy = 100.0%\n",
      "\n",
      " -------------------------------------\n"
     ]
    },
    {
     "name": "stderr",
     "output_type": "stream",
     "text": [
      " 94%|█████████▍| 94/100 [00:20<00:01,  4.71it/s]"
     ]
    },
    {
     "name": "stdout",
     "output_type": "stream",
     "text": [
      "Epoch 92 of 100\n",
      "Training CE = 0.0019\n",
      "Test CE = 0.0003\n",
      "Test accuracy = 100.0%\n",
      "\n",
      " -------------------------------------\n"
     ]
    },
    {
     "name": "stderr",
     "output_type": "stream",
     "text": [
      " 97%|█████████▋| 97/100 [00:20<00:00,  4.69it/s]"
     ]
    },
    {
     "name": "stdout",
     "output_type": "stream",
     "text": [
      "Epoch 96 of 100\n",
      "Training CE = 0.0018\n",
      "Test CE = 0.0003\n",
      "Test accuracy = 100.0%\n",
      "\n",
      " -------------------------------------\n"
     ]
    },
    {
     "name": "stderr",
     "output_type": "stream",
     "text": [
      "100%|██████████| 100/100 [00:21<00:00,  4.66it/s]"
     ]
    },
    {
     "name": "stdout",
     "output_type": "stream",
     "text": [
      "Done!\n",
      "Final training cross-entropy = 0.0017\n",
      "Final test cross-entropy = 0.0002\n",
      "Final test accuracy = 100.0%\n"
     ]
    },
    {
     "name": "stderr",
     "output_type": "stream",
     "text": [
      "\n"
     ]
    }
   ],
   "source": [
    "### Setup data,model,ntk method\n",
    "\n",
    "import torch\n",
    "from torchvision.transforms import ToTensor\n",
    "from torchvision import datasets\n",
    "from tqdm import tqdm\n",
    "import definitions as df\n",
    "from importlib import reload\n",
    "import definitions as df\n",
    "import definitions_2 as df2\n",
    "import torch\n",
    "from tqdm import tqdm\n",
    "import importlib\n",
    "import numpy as np\n",
    "from torch import nn\n",
    "from torch.utils.data import DataLoader\n",
    "import matplotlib.pyplot as plt\n",
    "import solvers\n",
    "import models as model\n",
    "importlib.reload(model)\n",
    "importlib.reload(solvers)\n",
    "\n",
    "torch.set_default_dtype(torch.float64)\n",
    "\n",
    "reload(df)\n",
    "reload(df2)\n",
    "\n",
    "N_TRAIN = 1000\n",
    "N_TEST = 5\n",
    "N_OUTPUT = 10\n",
    "\n",
    "training_data = datasets.MNIST(\n",
    "    root=\"data/MNIST\",\n",
    "    train=True,\n",
    "    download=True,\n",
    "    transform=ToTensor()\n",
    ")\n",
    "\n",
    "test_data = datasets.MNIST(\n",
    "    root=\"data/MNIST\",\n",
    "    train=False,\n",
    "    download=True,\n",
    "    transform=ToTensor()\n",
    ")\n",
    "\n",
    "\n",
    "class Reshape(torch.nn.Module):\n",
    "    def forward(self, x):\n",
    "        return x.view(-1, 1, 28, 28)\n",
    "\n",
    "class LeNet5(nn.Module):\n",
    "    def __init__(self):\n",
    "        super().__init__()\n",
    "        self.net = torch.nn.Sequential(\n",
    "            Reshape(),\n",
    "            nn.Conv2d(1, 6, kernel_size=5, padding=2),\n",
    "            nn.Sigmoid(),\n",
    "            nn.AvgPool2d(kernel_size=2, stride=2),\n",
    "            nn.Conv2d(6, 16, kernel_size=5),\n",
    "            nn.Sigmoid(),\n",
    "            nn.AvgPool2d(kernel_size=2, stride=2),\n",
    "            nn.Flatten(),\n",
    "            nn.Linear(16 * 5 * 5, 120),\n",
    "            nn.Sigmoid(),\n",
    "            nn.Linear(120, 84),\n",
    "            nn.Sigmoid(),\n",
    "            nn.Linear(84, 10),\n",
    "        )\n",
    "\n",
    "    def forward(self,x):\n",
    "        return self.net(x)\n",
    "    \n",
    "def init_weights(m):\n",
    "    if type(m) == nn.Linear or type(m) == nn.Conv2d:\n",
    "        nn.init.xavier_uniform_(m.weight)\n",
    "    \n",
    "\n",
    "training_data = torch.utils.data.Subset(training_data,range(N_TRAIN))\n",
    "test_data = torch.utils.data.Subset(test_data,range(N_TEST))\n",
    "\n",
    "batch_size = 50\n",
    "\n",
    "train_dataloader = DataLoader(training_data, batch_size)\n",
    "test_dataloader = DataLoader(test_data, N_TEST)\n",
    "test_x,test_y = next(iter(test_dataloader))\n",
    "\n",
    "ntk_net = LeNet5()\n",
    "ntk_net.apply(init_weights)\n",
    "ntk_net.eval()\n",
    "num_weights = sum(p.numel() for p in ntk_net.parameters() if p.requires_grad)\n",
    "\n",
    "print(\"Number of parameters p = {}\".format(sum(p.numel() for p in ntk_net.parameters() if p.requires_grad)))\n",
    "print(\"Number of training points = {}\".format(len(training_data)))\n",
    "\n",
    "learning_rate = 5e-3\n",
    "epochs = 100\n",
    "\n",
    "ce_loss = nn.CrossEntropyLoss()\n",
    "optimizer = torch.optim.Adam(ntk_net.parameters(), lr=learning_rate, weight_decay=1e-5)\n",
    "\n",
    "ntk_train_ce, ntk_test_ce, ntk_test_acc = df2.training(train_dataloader,test_dataloader,ntk_net,ce_loss,optimizer,epochs,verbose=True)\n"
   ]
  },
  {
   "cell_type": "code",
   "execution_count": 16,
   "metadata": {},
   "outputs": [
    {
     "name": "stderr",
     "output_type": "stream",
     "text": [
      "  1%|          | 1/100 [00:00<00:21,  4.62it/s]"
     ]
    },
    {
     "name": "stdout",
     "output_type": "stream",
     "text": [
      "Epoch 0 of 100\n",
      "Training CE = 0.0914\n",
      "Test CE = 0.0896\n",
      "Test accuracy = 20.0%\n",
      "\n",
      " -------------------------------------\n"
     ]
    },
    {
     "name": "stderr",
     "output_type": "stream",
     "text": [
      "  6%|▌         | 6/100 [00:01<00:19,  4.78it/s]"
     ]
    },
    {
     "name": "stdout",
     "output_type": "stream",
     "text": [
      "Epoch 4 of 100\n",
      "Training CE = 0.0902\n",
      "Test CE = 0.0890\n",
      "Test accuracy = 20.0%\n",
      "\n",
      " -------------------------------------\n"
     ]
    },
    {
     "name": "stderr",
     "output_type": "stream",
     "text": [
      "  9%|▉         | 9/100 [00:01<00:19,  4.66it/s]"
     ]
    },
    {
     "name": "stdout",
     "output_type": "stream",
     "text": [
      "Epoch 8 of 100\n",
      "Training CE = 0.0584\n",
      "Test CE = 0.0280\n",
      "Test accuracy = 80.0%\n",
      "\n",
      " -------------------------------------\n"
     ]
    },
    {
     "name": "stderr",
     "output_type": "stream",
     "text": [
      " 13%|█▎        | 13/100 [00:02<00:18,  4.62it/s]"
     ]
    },
    {
     "name": "stdout",
     "output_type": "stream",
     "text": [
      "Epoch 12 of 100\n",
      "Training CE = 0.0225\n",
      "Test CE = 0.0100\n",
      "Test accuracy = 100.0%\n",
      "\n",
      " -------------------------------------\n"
     ]
    },
    {
     "name": "stderr",
     "output_type": "stream",
     "text": [
      " 17%|█▋        | 17/100 [00:03<00:17,  4.67it/s]"
     ]
    },
    {
     "name": "stdout",
     "output_type": "stream",
     "text": [
      "Epoch 16 of 100\n",
      "Training CE = 0.0134\n",
      "Test CE = 0.0002\n",
      "Test accuracy = 100.0%\n",
      "\n",
      " -------------------------------------\n"
     ]
    },
    {
     "name": "stderr",
     "output_type": "stream",
     "text": [
      " 21%|██        | 21/100 [00:04<00:16,  4.65it/s]"
     ]
    },
    {
     "name": "stdout",
     "output_type": "stream",
     "text": [
      "Epoch 20 of 100\n",
      "Training CE = 0.0111\n",
      "Test CE = 0.0001\n",
      "Test accuracy = 100.0%\n",
      "\n",
      " -------------------------------------\n"
     ]
    },
    {
     "name": "stderr",
     "output_type": "stream",
     "text": [
      " 25%|██▌       | 25/100 [00:05<00:16,  4.62it/s]"
     ]
    },
    {
     "name": "stdout",
     "output_type": "stream",
     "text": [
      "Epoch 24 of 100\n",
      "Training CE = 0.0070\n",
      "Test CE = 0.0001\n",
      "Test accuracy = 100.0%\n",
      "\n",
      " -------------------------------------\n"
     ]
    },
    {
     "name": "stderr",
     "output_type": "stream",
     "text": [
      " 29%|██▉       | 29/100 [00:06<00:15,  4.71it/s]"
     ]
    },
    {
     "name": "stdout",
     "output_type": "stream",
     "text": [
      "Epoch 28 of 100\n",
      "Training CE = 0.0061\n",
      "Test CE = 0.0001\n",
      "Test accuracy = 100.0%\n",
      "\n",
      " -------------------------------------\n"
     ]
    },
    {
     "name": "stderr",
     "output_type": "stream",
     "text": [
      " 33%|███▎      | 33/100 [00:07<00:14,  4.69it/s]"
     ]
    },
    {
     "name": "stdout",
     "output_type": "stream",
     "text": [
      "Epoch 32 of 100\n",
      "Training CE = 0.0071\n",
      "Test CE = 0.0003\n",
      "Test accuracy = 100.0%\n",
      "\n",
      " -------------------------------------\n"
     ]
    },
    {
     "name": "stderr",
     "output_type": "stream",
     "text": [
      " 37%|███▋      | 37/100 [00:07<00:13,  4.51it/s]"
     ]
    },
    {
     "name": "stdout",
     "output_type": "stream",
     "text": [
      "Epoch 36 of 100\n",
      "Training CE = 0.0035\n",
      "Test CE = 0.0000\n",
      "Test accuracy = 100.0%\n",
      "\n",
      " -------------------------------------\n"
     ]
    },
    {
     "name": "stderr",
     "output_type": "stream",
     "text": [
      " 42%|████▏     | 42/100 [00:09<00:12,  4.66it/s]"
     ]
    },
    {
     "name": "stdout",
     "output_type": "stream",
     "text": [
      "Epoch 40 of 100\n",
      "Training CE = 0.0027\n",
      "Test CE = 0.0000\n",
      "Test accuracy = 100.0%\n",
      "\n",
      " -------------------------------------\n"
     ]
    },
    {
     "name": "stderr",
     "output_type": "stream",
     "text": [
      " 45%|████▌     | 45/100 [00:09<00:11,  4.59it/s]"
     ]
    },
    {
     "name": "stdout",
     "output_type": "stream",
     "text": [
      "Epoch 44 of 100\n",
      "Training CE = 0.0022\n",
      "Test CE = 0.0000\n",
      "Test accuracy = 100.0%\n",
      "\n",
      " -------------------------------------\n"
     ]
    },
    {
     "name": "stderr",
     "output_type": "stream",
     "text": [
      " 49%|████▉     | 49/100 [00:10<00:10,  4.69it/s]"
     ]
    },
    {
     "name": "stdout",
     "output_type": "stream",
     "text": [
      "Epoch 48 of 100\n",
      "Training CE = 0.0028\n",
      "Test CE = 0.0000\n",
      "Test accuracy = 100.0%\n",
      "\n",
      " -------------------------------------\n"
     ]
    },
    {
     "name": "stderr",
     "output_type": "stream",
     "text": [
      " 53%|█████▎    | 53/100 [00:11<00:10,  4.67it/s]"
     ]
    },
    {
     "name": "stdout",
     "output_type": "stream",
     "text": [
      "Epoch 52 of 100\n",
      "Training CE = 0.0027\n",
      "Test CE = 0.0001\n",
      "Test accuracy = 100.0%\n",
      "\n",
      " -------------------------------------\n"
     ]
    },
    {
     "name": "stderr",
     "output_type": "stream",
     "text": [
      " 57%|█████▋    | 57/100 [00:12<00:09,  4.57it/s]"
     ]
    },
    {
     "name": "stdout",
     "output_type": "stream",
     "text": [
      "Epoch 56 of 100\n",
      "Training CE = 0.0029\n",
      "Test CE = 0.0000\n",
      "Test accuracy = 100.0%\n",
      "\n",
      " -------------------------------------\n"
     ]
    },
    {
     "name": "stderr",
     "output_type": "stream",
     "text": [
      " 62%|██████▏   | 62/100 [00:13<00:07,  4.76it/s]"
     ]
    },
    {
     "name": "stdout",
     "output_type": "stream",
     "text": [
      "Epoch 60 of 100\n",
      "Training CE = 0.0020\n",
      "Test CE = 0.0000\n",
      "Test accuracy = 100.0%\n",
      "\n",
      " -------------------------------------\n"
     ]
    },
    {
     "name": "stderr",
     "output_type": "stream",
     "text": [
      " 65%|██████▌   | 65/100 [00:14<00:07,  4.68it/s]"
     ]
    },
    {
     "name": "stdout",
     "output_type": "stream",
     "text": [
      "Epoch 64 of 100\n",
      "Training CE = 0.0022\n",
      "Test CE = 0.0000\n",
      "Test accuracy = 100.0%\n",
      "\n",
      " -------------------------------------\n"
     ]
    },
    {
     "name": "stderr",
     "output_type": "stream",
     "text": [
      " 69%|██████▉   | 69/100 [00:14<00:06,  4.61it/s]"
     ]
    },
    {
     "name": "stdout",
     "output_type": "stream",
     "text": [
      "Epoch 68 of 100\n",
      "Training CE = 0.0021\n",
      "Test CE = 0.0002\n",
      "Test accuracy = 100.0%\n",
      "\n",
      " -------------------------------------\n"
     ]
    },
    {
     "name": "stderr",
     "output_type": "stream",
     "text": [
      " 73%|███████▎  | 73/100 [00:15<00:05,  4.69it/s]"
     ]
    },
    {
     "name": "stdout",
     "output_type": "stream",
     "text": [
      "Epoch 72 of 100\n",
      "Training CE = 0.0021\n",
      "Test CE = 0.0000\n",
      "Test accuracy = 100.0%\n",
      "\n",
      " -------------------------------------\n"
     ]
    },
    {
     "name": "stderr",
     "output_type": "stream",
     "text": [
      " 78%|███████▊  | 78/100 [00:16<00:04,  4.74it/s]"
     ]
    },
    {
     "name": "stdout",
     "output_type": "stream",
     "text": [
      "Epoch 76 of 100\n",
      "Training CE = 0.0016\n",
      "Test CE = 0.0001\n",
      "Test accuracy = 100.0%\n",
      "\n",
      " -------------------------------------\n"
     ]
    },
    {
     "name": "stderr",
     "output_type": "stream",
     "text": [
      " 81%|████████  | 81/100 [00:17<00:03,  4.76it/s]"
     ]
    },
    {
     "name": "stdout",
     "output_type": "stream",
     "text": [
      "Epoch 80 of 100\n",
      "Training CE = 0.0031\n",
      "Test CE = 0.0000\n",
      "Test accuracy = 100.0%\n",
      "\n",
      " -------------------------------------\n"
     ]
    },
    {
     "name": "stderr",
     "output_type": "stream",
     "text": [
      " 85%|████████▌ | 85/100 [00:18<00:03,  4.72it/s]"
     ]
    },
    {
     "name": "stdout",
     "output_type": "stream",
     "text": [
      "Epoch 84 of 100\n",
      "Training CE = 0.0018\n",
      "Test CE = 0.0000\n",
      "Test accuracy = 100.0%\n",
      "\n",
      " -------------------------------------\n"
     ]
    },
    {
     "name": "stderr",
     "output_type": "stream",
     "text": [
      " 90%|█████████ | 90/100 [00:19<00:02,  4.76it/s]"
     ]
    },
    {
     "name": "stdout",
     "output_type": "stream",
     "text": [
      "Epoch 88 of 100\n",
      "Training CE = 0.0018\n",
      "Test CE = 0.0000\n",
      "Test accuracy = 100.0%\n",
      "\n",
      " -------------------------------------\n"
     ]
    },
    {
     "name": "stderr",
     "output_type": "stream",
     "text": [
      " 93%|█████████▎| 93/100 [00:20<00:01,  4.55it/s]"
     ]
    },
    {
     "name": "stdout",
     "output_type": "stream",
     "text": [
      "Epoch 92 of 100\n",
      "Training CE = 0.0019\n",
      "Test CE = 0.0000\n",
      "Test accuracy = 100.0%\n",
      "\n",
      " -------------------------------------\n"
     ]
    },
    {
     "name": "stderr",
     "output_type": "stream",
     "text": [
      " 97%|█████████▋| 97/100 [00:20<00:00,  4.72it/s]"
     ]
    },
    {
     "name": "stdout",
     "output_type": "stream",
     "text": [
      "Epoch 96 of 100\n",
      "Training CE = 0.0016\n",
      "Test CE = 0.0000\n",
      "Test accuracy = 100.0%\n",
      "\n",
      " -------------------------------------\n"
     ]
    },
    {
     "name": "stderr",
     "output_type": "stream",
     "text": [
      "100%|██████████| 100/100 [00:21<00:00,  4.65it/s]"
     ]
    },
    {
     "name": "stdout",
     "output_type": "stream",
     "text": [
      "Done!\n",
      "Final training cross-entropy = 0.0016\n",
      "Final test cross-entropy = 0.0000\n",
      "Final test accuracy = 100.0%\n"
     ]
    },
    {
     "name": "stderr",
     "output_type": "stream",
     "text": [
      "\n"
     ]
    }
   ],
   "source": [
    "### Train NTK Network on Brier Loss\n",
    "mse = nn.MSELoss()\n",
    "\n",
    "def brier_loss(pred,target):\n",
    "    pred = pred.softmax(dim=1)\n",
    "    target = df.one_hot(target,N_OUTPUT)\n",
    "    return mse(pred,target)\n",
    "\n",
    "ntk_softmax_net = LeNet5()\n",
    "ntk_softmax_net.apply(init_weights)\n",
    "ntk_softmax_net.eval()\n",
    "learning_rate = 5e-3\n",
    "\n",
    "mse = nn.MSELoss()\n",
    "optimizer = torch.optim.Adam(ntk_softmax_net.parameters(), lr=learning_rate, weight_decay=1e-5)\n",
    "\n",
    "ntk_train_brier, ntk_test_brier, ntk_test_acc = df2.training(train_dataloader,test_dataloader,ntk_softmax_net,brier_loss,optimizer,epochs,verbose=True)"
   ]
  },
  {
   "cell_type": "code",
   "execution_count": 3,
   "metadata": {},
   "outputs": [
    {
     "name": "stdout",
     "output_type": "stream",
     "text": [
      "fnet shape is torch.Size([1])\n",
      "fnet is tensor([-2.9525], grad_fn=<ReshapeAliasBackward0>)\n"
     ]
    }
   ],
   "source": [
    "### Find NTK Kappa condition number and eigenvalues\n",
    "\n",
    "from functorch import make_functional_with_buffers\n",
    "reload(df)\n",
    "\n",
    "fnet, params, buffers = make_functional_with_buffers(ntk_net)     \n",
    "\n",
    "def fnet_single(params, x):\n",
    "    # return fnet(params, buffers, x.unsqueeze(0)).squeeze(0).softmax(dim=0)[0].reshape(1) # if brier\n",
    "    return fnet(params, buffers, x.unsqueeze(0)).squeeze(0)[0].reshape(1) # if n0t brier loss\n",
    "\n",
    "dataset1_ntk = DataLoader(training_data,len(training_data))\n",
    "x1_ntk,_ = next(iter(dataset1_ntk))\n",
    "dataset_train = DataLoader(test_data,1)\n",
    "x1_test,_ = next(iter(dataset_train))\n",
    "\n",
    "Kappa = df.empirical_ntk_jacobian_contraction(fnet_single, params, x1_ntk, x1_ntk)\n",
    "kappa_xX = df.empirical_ntk_jacobian_contraction(fnet_single, params, x1_ntk, x1_test)\n",
    "\n",
    "print(\"For training data size n = {}\".format(N_TRAIN))\n",
    "print(\"Condition number of Kappa = {}\".format(np.linalg.cond(Kappa)))\n",
    "eigs = np.linalg.eigvalsh(Kappa)\n",
    "print(\"Number of negative eigvals = {}\".format(eigs[eigs<0].size))"
   ]
  },
  {
   "cell_type": "code",
   "execution_count": 18,
   "metadata": {},
   "outputs": [
    {
     "name": "stderr",
     "output_type": "stream",
     "text": [
      "c:\\Users\\bayke\\miniconda3\\Lib\\site-packages\\torch\\_functorch\\deprecated.py:104: UserWarning: We've integrated functorch into PyTorch. As the final step of the integration, functorch.make_functional_with_buffers is deprecated as of PyTorch 2.0 and will be deleted in a future version of PyTorch >= 2.3. Please use torch.func.functional_call instead; see the PyTorch 2.0 release notes and/or the torch.func migration guide for more details https://pytorch.org/docs/master/func.migrating.html\n",
      "  warn_deprecated('make_functional_with_buffers', 'torch.func.functional_call')\n",
      "100%|██████████| 50/50 [00:27<00:00,  1.79it/s]\n",
      "  4%|▍         | 2/50 [00:02<00:58,  1.21s/it]\n"
     ]
    },
    {
     "ename": "KeyboardInterrupt",
     "evalue": "",
     "output_type": "error",
     "traceback": [
      "\u001b[1;31m---------------------------------------------------------------------------\u001b[0m",
      "\u001b[1;31mKeyboardInterrupt\u001b[0m                         Traceback (most recent call last)",
      "Cell \u001b[1;32mIn[18], line 13\u001b[0m\n\u001b[0;32m      2\u001b[0m reload(df)\n\u001b[0;32m      4\u001b[0m direct_direct_mu, direct_direct_sigma2 \u001b[38;5;241m=\u001b[39m df\u001b[38;5;241m.\u001b[39mntk_method(\n\u001b[0;32m      5\u001b[0m     train\u001b[38;5;241m=\u001b[39mtraining_data,\n\u001b[0;32m      6\u001b[0m     test\u001b[38;5;241m=\u001b[39mtest_data,\n\u001b[1;32m   (...)\u001b[0m\n\u001b[0;32m     10\u001b[0m     softmax\u001b[38;5;241m=\u001b[39m\u001b[38;5;28;01mTrue\u001b[39;00m,\n\u001b[0;32m     11\u001b[0m     batch_size\u001b[38;5;241m=\u001b[39m\u001b[38;5;241m0\u001b[39m)\n\u001b[1;32m---> 13\u001b[0m direct_iterative_mu, direct_iterative_sigma2 \u001b[38;5;241m=\u001b[39m \u001b[43mdf\u001b[49m\u001b[38;5;241;43m.\u001b[39;49m\u001b[43mntk_method\u001b[49m\u001b[43m(\u001b[49m\n\u001b[0;32m     14\u001b[0m \u001b[43m    \u001b[49m\u001b[43mtrain\u001b[49m\u001b[38;5;241;43m=\u001b[39;49m\u001b[43mtraining_data\u001b[49m\u001b[43m,\u001b[49m\n\u001b[0;32m     15\u001b[0m \u001b[43m    \u001b[49m\u001b[43mtest\u001b[49m\u001b[38;5;241;43m=\u001b[39;49m\u001b[43mtest_data\u001b[49m\u001b[43m,\u001b[49m\n\u001b[0;32m     16\u001b[0m \u001b[43m    \u001b[49m\u001b[43mmodel\u001b[49m\u001b[38;5;241;43m=\u001b[39;49m\u001b[43mntk_net\u001b[49m\u001b[43m,\u001b[49m\n\u001b[0;32m     17\u001b[0m \u001b[43m    \u001b[49m\u001b[43mnum_class\u001b[49m\u001b[38;5;241;43m=\u001b[39;49m\u001b[38;5;241;43m10\u001b[39;49m\u001b[43m,\u001b[49m\n\u001b[0;32m     18\u001b[0m \u001b[43m    \u001b[49m\u001b[43msolver\u001b[49m\u001b[38;5;241;43m=\u001b[39;49m\u001b[38;5;124;43m'\u001b[39;49m\u001b[38;5;124;43mdirect_iterative\u001b[39;49m\u001b[38;5;124;43m'\u001b[39;49m\u001b[43m,\u001b[49m\n\u001b[0;32m     19\u001b[0m \u001b[43m    \u001b[49m\u001b[43mbatch_size\u001b[49m\u001b[38;5;241;43m=\u001b[39;49m\u001b[38;5;241;43m0\u001b[39;49m\u001b[43m)\u001b[49m\n\u001b[0;32m     21\u001b[0m iterative_iterative_cr_mu, iterative_iterative_cr_sigma2 \u001b[38;5;241m=\u001b[39m df\u001b[38;5;241m.\u001b[39mntk_method(\n\u001b[0;32m     22\u001b[0m     train\u001b[38;5;241m=\u001b[39mtraining_data,\n\u001b[0;32m     23\u001b[0m     test\u001b[38;5;241m=\u001b[39mtest_data,\n\u001b[1;32m   (...)\u001b[0m\n\u001b[0;32m     26\u001b[0m     solver\u001b[38;5;241m=\u001b[39m\u001b[38;5;124m'\u001b[39m\u001b[38;5;124miterative_iterative_cr\u001b[39m\u001b[38;5;124m'\u001b[39m,\n\u001b[0;32m     27\u001b[0m     batch_size\u001b[38;5;241m=\u001b[39m\u001b[38;5;241m0\u001b[39m)\n\u001b[0;32m     29\u001b[0m iterative_iterative_lsmr_mu, iterative_iterative_lsmr_sigma2 \u001b[38;5;241m=\u001b[39m df\u001b[38;5;241m.\u001b[39mntk_method(\n\u001b[0;32m     30\u001b[0m     train\u001b[38;5;241m=\u001b[39mtraining_data,\n\u001b[0;32m     31\u001b[0m     test\u001b[38;5;241m=\u001b[39mtest_data,\n\u001b[1;32m   (...)\u001b[0m\n\u001b[0;32m     34\u001b[0m     solver\u001b[38;5;241m=\u001b[39m\u001b[38;5;124m'\u001b[39m\u001b[38;5;124miterative_iterative_lsmr\u001b[39m\u001b[38;5;124m'\u001b[39m,\n\u001b[0;32m     35\u001b[0m     batch_size\u001b[38;5;241m=\u001b[39m\u001b[38;5;241m0\u001b[39m)\n",
      "File \u001b[1;32mc:\\Users\\bayke\\Documents\\UQ\\PhD\\Code\\Uncertainty-Quantification\\definitions.py:765\u001b[0m, in \u001b[0;36mntk_method\u001b[1;34m(train, test, model, num_class, solver, batch_size, softmax, cr_maxit, cr_rtol, lsmr_maxit)\u001b[0m\n\u001b[0;32m    761\u001b[0m Kappa \u001b[38;5;241m=\u001b[39m empirical_ntk(fnet_single,params,train,train,batch_size)\u001b[38;5;241m.\u001b[39mdetach()\n\u001b[0;32m    763\u001b[0m \u001b[38;5;28;01mfor\u001b[39;00m i,(x_t,_) \u001b[38;5;129;01min\u001b[39;00m \u001b[38;5;28menumerate\u001b[39m(test_loader):\n\u001b[0;32m    764\u001b[0m     \u001b[38;5;66;03m### Form small kappas\u001b[39;00m\n\u001b[1;32m--> 765\u001b[0m     kappa_xX \u001b[38;5;241m=\u001b[39m \u001b[43mempirical_ntk\u001b[49m\u001b[43m(\u001b[49m\u001b[43mfnet_single\u001b[49m\u001b[43m,\u001b[49m\u001b[43mparams\u001b[49m\u001b[43m,\u001b[49m\u001b[43mtrain\u001b[49m\u001b[43m,\u001b[49m\u001b[43mx_t\u001b[49m\u001b[43m,\u001b[49m\u001b[43mbatch_size\u001b[49m\u001b[43m)\u001b[49m\u001b[38;5;241m.\u001b[39mdetach()\n\u001b[0;32m    766\u001b[0m     kappa_xx \u001b[38;5;241m=\u001b[39m empirical_ntk(fnet_single,params,x_t,x_t,batch_size)\u001b[38;5;241m.\u001b[39mdetach()\n\u001b[0;32m    768\u001b[0m     \u001b[38;5;66;03m### Directly solve K^-1\u001b[39;00m\n",
      "File \u001b[1;32mc:\\Users\\bayke\\Documents\\UQ\\PhD\\Code\\Uncertainty-Quantification\\definitions.py:928\u001b[0m, in \u001b[0;36mempirical_ntk\u001b[1;34m(fnet_single, params, x1, x2, batch_size)\u001b[0m\n\u001b[0;32m    925\u001b[0m \u001b[38;5;28;01mif\u001b[39;00m \u001b[38;5;28mlen\u001b[39m(x2_batch)\u001b[38;5;241m>\u001b[39m\u001b[38;5;241m1\u001b[39m:\n\u001b[0;32m    926\u001b[0m     x2_batch, _ \u001b[38;5;241m=\u001b[39m x2_batch\n\u001b[1;32m--> 928\u001b[0m eNTK_batch \u001b[38;5;241m=\u001b[39m \u001b[43mempirical_ntk_jacobian_contraction\u001b[49m\u001b[43m(\u001b[49m\u001b[43mfnet_single\u001b[49m\u001b[43m,\u001b[49m\u001b[43m \u001b[49m\u001b[43mparams\u001b[49m\u001b[43m,\u001b[49m\u001b[43m \u001b[49m\u001b[43mx1_batch\u001b[49m\u001b[43m,\u001b[49m\u001b[43m \u001b[49m\u001b[43mx2_batch\u001b[49m\u001b[43m)\u001b[49m\u001b[38;5;241m.\u001b[39msqueeze((\u001b[38;5;241m2\u001b[39m,\u001b[38;5;241m3\u001b[39m))\n\u001b[0;32m    929\u001b[0m eNTK_shape \u001b[38;5;241m=\u001b[39m eNTK_batch\u001b[38;5;241m.\u001b[39mshape\n\u001b[0;32m    930\u001b[0m eNTK[idx:idx\u001b[38;5;241m+\u001b[39meNTK_shape[\u001b[38;5;241m0\u001b[39m], idy:idy\u001b[38;5;241m+\u001b[39meNTK_shape[\u001b[38;5;241m1\u001b[39m]] \u001b[38;5;241m=\u001b[39m eNTK_batch\n",
      "File \u001b[1;32mc:\\Users\\bayke\\Documents\\UQ\\PhD\\Code\\Uncertainty-Quantification\\definitions.py:1050\u001b[0m, in \u001b[0;36mempirical_ntk_jacobian_contraction\u001b[1;34m(fnet_single, params, x1, x2)\u001b[0m\n\u001b[0;32m   1048\u001b[0m \u001b[38;5;28;01mdef\u001b[39;00m \u001b[38;5;21mempirical_ntk_jacobian_contraction\u001b[39m(fnet_single, params, x1, x2):\n\u001b[0;32m   1049\u001b[0m         \u001b[38;5;66;03m# Compute J(x1)\u001b[39;00m\n\u001b[1;32m-> 1050\u001b[0m         jac1 \u001b[38;5;241m=\u001b[39m \u001b[43mvmap\u001b[49m\u001b[43m(\u001b[49m\u001b[43mjacrev\u001b[49m\u001b[43m(\u001b[49m\u001b[43mfnet_single\u001b[49m\u001b[43m)\u001b[49m\u001b[43m,\u001b[49m\u001b[43m \u001b[49m\u001b[43m(\u001b[49m\u001b[38;5;28;43;01mNone\u001b[39;49;00m\u001b[43m,\u001b[49m\u001b[43m \u001b[49m\u001b[38;5;241;43m0\u001b[39;49m\u001b[43m)\u001b[49m\u001b[43m)\u001b[49m\u001b[43m(\u001b[49m\u001b[43mparams\u001b[49m\u001b[43m,\u001b[49m\u001b[43m \u001b[49m\u001b[43mx1\u001b[49m\u001b[43m)\u001b[49m\n\u001b[0;32m   1051\u001b[0m         jac1 \u001b[38;5;241m=\u001b[39m [j\u001b[38;5;241m.\u001b[39mflatten(\u001b[38;5;241m2\u001b[39m) \u001b[38;5;28;01mfor\u001b[39;00m j \u001b[38;5;129;01min\u001b[39;00m jac1]\n\u001b[0;32m   1053\u001b[0m         \u001b[38;5;66;03m# Compute J(x2)\u001b[39;00m\n",
      "File \u001b[1;32mc:\\Users\\bayke\\miniconda3\\Lib\\site-packages\\torch\\_functorch\\apis.py:188\u001b[0m, in \u001b[0;36mvmap.<locals>.wrapped\u001b[1;34m(*args, **kwargs)\u001b[0m\n\u001b[0;32m    187\u001b[0m \u001b[38;5;28;01mdef\u001b[39;00m \u001b[38;5;21mwrapped\u001b[39m(\u001b[38;5;241m*\u001b[39margs, \u001b[38;5;241m*\u001b[39m\u001b[38;5;241m*\u001b[39mkwargs):\n\u001b[1;32m--> 188\u001b[0m     \u001b[38;5;28;01mreturn\u001b[39;00m \u001b[43mvmap_impl\u001b[49m\u001b[43m(\u001b[49m\u001b[43mfunc\u001b[49m\u001b[43m,\u001b[49m\u001b[43m \u001b[49m\u001b[43min_dims\u001b[49m\u001b[43m,\u001b[49m\u001b[43m \u001b[49m\u001b[43mout_dims\u001b[49m\u001b[43m,\u001b[49m\u001b[43m \u001b[49m\u001b[43mrandomness\u001b[49m\u001b[43m,\u001b[49m\u001b[43m \u001b[49m\u001b[43mchunk_size\u001b[49m\u001b[43m,\u001b[49m\u001b[43m \u001b[49m\u001b[38;5;241;43m*\u001b[39;49m\u001b[43margs\u001b[49m\u001b[43m,\u001b[49m\u001b[43m \u001b[49m\u001b[38;5;241;43m*\u001b[39;49m\u001b[38;5;241;43m*\u001b[39;49m\u001b[43mkwargs\u001b[49m\u001b[43m)\u001b[49m\n",
      "File \u001b[1;32mc:\\Users\\bayke\\miniconda3\\Lib\\site-packages\\torch\\_functorch\\vmap.py:278\u001b[0m, in \u001b[0;36mvmap_impl\u001b[1;34m(func, in_dims, out_dims, randomness, chunk_size, *args, **kwargs)\u001b[0m\n\u001b[0;32m    274\u001b[0m     \u001b[38;5;28;01mreturn\u001b[39;00m _chunked_vmap(func, flat_in_dims, chunks_flat_args,\n\u001b[0;32m    275\u001b[0m                          args_spec, out_dims, randomness, \u001b[38;5;241m*\u001b[39m\u001b[38;5;241m*\u001b[39mkwargs)\n\u001b[0;32m    277\u001b[0m \u001b[38;5;66;03m# If chunk_size is not specified.\u001b[39;00m\n\u001b[1;32m--> 278\u001b[0m \u001b[38;5;28;01mreturn\u001b[39;00m \u001b[43m_flat_vmap\u001b[49m\u001b[43m(\u001b[49m\n\u001b[0;32m    279\u001b[0m \u001b[43m    \u001b[49m\u001b[43mfunc\u001b[49m\u001b[43m,\u001b[49m\u001b[43m \u001b[49m\u001b[43mbatch_size\u001b[49m\u001b[43m,\u001b[49m\u001b[43m \u001b[49m\u001b[43mflat_in_dims\u001b[49m\u001b[43m,\u001b[49m\u001b[43m \u001b[49m\u001b[43mflat_args\u001b[49m\u001b[43m,\u001b[49m\u001b[43m \u001b[49m\u001b[43margs_spec\u001b[49m\u001b[43m,\u001b[49m\u001b[43m \u001b[49m\u001b[43mout_dims\u001b[49m\u001b[43m,\u001b[49m\u001b[43m \u001b[49m\u001b[43mrandomness\u001b[49m\u001b[43m,\u001b[49m\u001b[43m \u001b[49m\u001b[38;5;241;43m*\u001b[39;49m\u001b[38;5;241;43m*\u001b[39;49m\u001b[43mkwargs\u001b[49m\n\u001b[0;32m    280\u001b[0m \u001b[43m\u001b[49m\u001b[43m)\u001b[49m\n",
      "File \u001b[1;32mc:\\Users\\bayke\\miniconda3\\Lib\\site-packages\\torch\\_functorch\\vmap.py:44\u001b[0m, in \u001b[0;36mdoesnt_support_saved_tensors_hooks.<locals>.fn\u001b[1;34m(*args, **kwargs)\u001b[0m\n\u001b[0;32m     41\u001b[0m \u001b[38;5;129m@functools\u001b[39m\u001b[38;5;241m.\u001b[39mwraps(f)\n\u001b[0;32m     42\u001b[0m \u001b[38;5;28;01mdef\u001b[39;00m \u001b[38;5;21mfn\u001b[39m(\u001b[38;5;241m*\u001b[39margs, \u001b[38;5;241m*\u001b[39m\u001b[38;5;241m*\u001b[39mkwargs):\n\u001b[0;32m     43\u001b[0m     \u001b[38;5;28;01mwith\u001b[39;00m torch\u001b[38;5;241m.\u001b[39mautograd\u001b[38;5;241m.\u001b[39mgraph\u001b[38;5;241m.\u001b[39mdisable_saved_tensors_hooks(message):\n\u001b[1;32m---> 44\u001b[0m         \u001b[38;5;28;01mreturn\u001b[39;00m \u001b[43mf\u001b[49m\u001b[43m(\u001b[49m\u001b[38;5;241;43m*\u001b[39;49m\u001b[43margs\u001b[49m\u001b[43m,\u001b[49m\u001b[43m \u001b[49m\u001b[38;5;241;43m*\u001b[39;49m\u001b[38;5;241;43m*\u001b[39;49m\u001b[43mkwargs\u001b[49m\u001b[43m)\u001b[49m\n",
      "File \u001b[1;32mc:\\Users\\bayke\\miniconda3\\Lib\\site-packages\\torch\\_functorch\\vmap.py:391\u001b[0m, in \u001b[0;36m_flat_vmap\u001b[1;34m(func, batch_size, flat_in_dims, flat_args, args_spec, out_dims, randomness, **kwargs)\u001b[0m\n\u001b[0;32m    389\u001b[0m \u001b[38;5;28;01mtry\u001b[39;00m:\n\u001b[0;32m    390\u001b[0m     batched_inputs \u001b[38;5;241m=\u001b[39m _create_batched_inputs(flat_in_dims, flat_args, vmap_level, args_spec)\n\u001b[1;32m--> 391\u001b[0m     batched_outputs \u001b[38;5;241m=\u001b[39m \u001b[43mfunc\u001b[49m\u001b[43m(\u001b[49m\u001b[38;5;241;43m*\u001b[39;49m\u001b[43mbatched_inputs\u001b[49m\u001b[43m,\u001b[49m\u001b[43m \u001b[49m\u001b[38;5;241;43m*\u001b[39;49m\u001b[38;5;241;43m*\u001b[39;49m\u001b[43mkwargs\u001b[49m\u001b[43m)\u001b[49m\n\u001b[0;32m    392\u001b[0m     \u001b[38;5;28;01mreturn\u001b[39;00m _unwrap_batched(batched_outputs, out_dims, vmap_level, batch_size, func)\n\u001b[0;32m    393\u001b[0m \u001b[38;5;28;01mfinally\u001b[39;00m:\n",
      "File \u001b[1;32mc:\\Users\\bayke\\miniconda3\\Lib\\site-packages\\torch\\_functorch\\eager_transforms.py:500\u001b[0m, in \u001b[0;36mjacrev.<locals>.wrapper_fn\u001b[1;34m(*args)\u001b[0m\n\u001b[0;32m    497\u001b[0m \u001b[38;5;129m@wraps\u001b[39m(func)\n\u001b[0;32m    498\u001b[0m \u001b[38;5;28;01mdef\u001b[39;00m \u001b[38;5;21mwrapper_fn\u001b[39m(\u001b[38;5;241m*\u001b[39margs):\n\u001b[0;32m    499\u001b[0m     error_if_complex(\u001b[38;5;124m\"\u001b[39m\u001b[38;5;124mjacrev\u001b[39m\u001b[38;5;124m\"\u001b[39m, args, is_input\u001b[38;5;241m=\u001b[39m\u001b[38;5;28;01mTrue\u001b[39;00m)\n\u001b[1;32m--> 500\u001b[0m     vjp_out \u001b[38;5;241m=\u001b[39m \u001b[43m_vjp_with_argnums\u001b[49m\u001b[43m(\u001b[49m\u001b[43mfunc\u001b[49m\u001b[43m,\u001b[49m\u001b[43m \u001b[49m\u001b[38;5;241;43m*\u001b[39;49m\u001b[43margs\u001b[49m\u001b[43m,\u001b[49m\u001b[43m \u001b[49m\u001b[43margnums\u001b[49m\u001b[38;5;241;43m=\u001b[39;49m\u001b[43margnums\u001b[49m\u001b[43m,\u001b[49m\u001b[43m \u001b[49m\u001b[43mhas_aux\u001b[49m\u001b[38;5;241;43m=\u001b[39;49m\u001b[43mhas_aux\u001b[49m\u001b[43m)\u001b[49m\n\u001b[0;32m    501\u001b[0m     \u001b[38;5;28;01mif\u001b[39;00m has_aux:\n\u001b[0;32m    502\u001b[0m         output, vjp_fn, aux \u001b[38;5;241m=\u001b[39m vjp_out\n",
      "File \u001b[1;32mc:\\Users\\bayke\\miniconda3\\Lib\\site-packages\\torch\\_functorch\\vmap.py:44\u001b[0m, in \u001b[0;36mdoesnt_support_saved_tensors_hooks.<locals>.fn\u001b[1;34m(*args, **kwargs)\u001b[0m\n\u001b[0;32m     41\u001b[0m \u001b[38;5;129m@functools\u001b[39m\u001b[38;5;241m.\u001b[39mwraps(f)\n\u001b[0;32m     42\u001b[0m \u001b[38;5;28;01mdef\u001b[39;00m \u001b[38;5;21mfn\u001b[39m(\u001b[38;5;241m*\u001b[39margs, \u001b[38;5;241m*\u001b[39m\u001b[38;5;241m*\u001b[39mkwargs):\n\u001b[0;32m     43\u001b[0m     \u001b[38;5;28;01mwith\u001b[39;00m torch\u001b[38;5;241m.\u001b[39mautograd\u001b[38;5;241m.\u001b[39mgraph\u001b[38;5;241m.\u001b[39mdisable_saved_tensors_hooks(message):\n\u001b[1;32m---> 44\u001b[0m         \u001b[38;5;28;01mreturn\u001b[39;00m \u001b[43mf\u001b[49m\u001b[43m(\u001b[49m\u001b[38;5;241;43m*\u001b[39;49m\u001b[43margs\u001b[49m\u001b[43m,\u001b[49m\u001b[43m \u001b[49m\u001b[38;5;241;43m*\u001b[39;49m\u001b[38;5;241;43m*\u001b[39;49m\u001b[43mkwargs\u001b[49m\u001b[43m)\u001b[49m\n",
      "File \u001b[1;32mc:\\Users\\bayke\\miniconda3\\Lib\\site-packages\\torch\\_functorch\\eager_transforms.py:302\u001b[0m, in \u001b[0;36m_vjp_with_argnums\u001b[1;34m(func, argnums, has_aux, *primals)\u001b[0m\n\u001b[0;32m    300\u001b[0m     diff_primals \u001b[38;5;241m=\u001b[39m _slice_argnums(primals, argnums, as_tuple\u001b[38;5;241m=\u001b[39m\u001b[38;5;28;01mFalse\u001b[39;00m)\n\u001b[0;32m    301\u001b[0m     tree_map_(partial(_create_differentiable, level\u001b[38;5;241m=\u001b[39mlevel), diff_primals)\n\u001b[1;32m--> 302\u001b[0m primals_out \u001b[38;5;241m=\u001b[39m \u001b[43mfunc\u001b[49m\u001b[43m(\u001b[49m\u001b[38;5;241;43m*\u001b[39;49m\u001b[43mprimals\u001b[49m\u001b[43m)\u001b[49m\n\u001b[0;32m    304\u001b[0m \u001b[38;5;28;01mif\u001b[39;00m has_aux:\n\u001b[0;32m    305\u001b[0m     \u001b[38;5;28;01mif\u001b[39;00m \u001b[38;5;129;01mnot\u001b[39;00m (\u001b[38;5;28misinstance\u001b[39m(primals_out, \u001b[38;5;28mtuple\u001b[39m) \u001b[38;5;129;01mand\u001b[39;00m \u001b[38;5;28mlen\u001b[39m(primals_out) \u001b[38;5;241m==\u001b[39m \u001b[38;5;241m2\u001b[39m):\n",
      "File \u001b[1;32mc:\\Users\\bayke\\Documents\\UQ\\PhD\\Code\\Uncertainty-Quantification\\definitions.py:758\u001b[0m, in \u001b[0;36mntk_method.<locals>.fnet_single\u001b[1;34m(params, x)\u001b[0m\n\u001b[0;32m    757\u001b[0m \u001b[38;5;28;01mdef\u001b[39;00m \u001b[38;5;21mfnet_single\u001b[39m(params, x):\n\u001b[1;32m--> 758\u001b[0m     \u001b[38;5;28;01mreturn\u001b[39;00m \u001b[43mfnet\u001b[49m\u001b[43m(\u001b[49m\u001b[43mparams\u001b[49m\u001b[43m,\u001b[49m\u001b[43m \u001b[49m\u001b[43mbuffers\u001b[49m\u001b[43m,\u001b[49m\u001b[43m \u001b[49m\u001b[43mx\u001b[49m\u001b[38;5;241;43m.\u001b[39;49m\u001b[43munsqueeze\u001b[49m\u001b[43m(\u001b[49m\u001b[38;5;241;43m0\u001b[39;49m\u001b[43m)\u001b[49m\u001b[43m)\u001b[49m\u001b[38;5;241m.\u001b[39msqueeze(\u001b[38;5;241m0\u001b[39m)[c]\u001b[38;5;241m.\u001b[39mreshape(\u001b[38;5;241m1\u001b[39m)\n",
      "File \u001b[1;32mc:\\Users\\bayke\\miniconda3\\Lib\\site-packages\\torch\\nn\\modules\\module.py:1511\u001b[0m, in \u001b[0;36mModule._wrapped_call_impl\u001b[1;34m(self, *args, **kwargs)\u001b[0m\n\u001b[0;32m   1509\u001b[0m     \u001b[38;5;28;01mreturn\u001b[39;00m \u001b[38;5;28mself\u001b[39m\u001b[38;5;241m.\u001b[39m_compiled_call_impl(\u001b[38;5;241m*\u001b[39margs, \u001b[38;5;241m*\u001b[39m\u001b[38;5;241m*\u001b[39mkwargs)  \u001b[38;5;66;03m# type: ignore[misc]\u001b[39;00m\n\u001b[0;32m   1510\u001b[0m \u001b[38;5;28;01melse\u001b[39;00m:\n\u001b[1;32m-> 1511\u001b[0m     \u001b[38;5;28;01mreturn\u001b[39;00m \u001b[38;5;28;43mself\u001b[39;49m\u001b[38;5;241;43m.\u001b[39;49m\u001b[43m_call_impl\u001b[49m\u001b[43m(\u001b[49m\u001b[38;5;241;43m*\u001b[39;49m\u001b[43margs\u001b[49m\u001b[43m,\u001b[49m\u001b[43m \u001b[49m\u001b[38;5;241;43m*\u001b[39;49m\u001b[38;5;241;43m*\u001b[39;49m\u001b[43mkwargs\u001b[49m\u001b[43m)\u001b[49m\n",
      "File \u001b[1;32mc:\\Users\\bayke\\miniconda3\\Lib\\site-packages\\torch\\nn\\modules\\module.py:1520\u001b[0m, in \u001b[0;36mModule._call_impl\u001b[1;34m(self, *args, **kwargs)\u001b[0m\n\u001b[0;32m   1515\u001b[0m \u001b[38;5;66;03m# If we don't have any hooks, we want to skip the rest of the logic in\u001b[39;00m\n\u001b[0;32m   1516\u001b[0m \u001b[38;5;66;03m# this function, and just call forward.\u001b[39;00m\n\u001b[0;32m   1517\u001b[0m \u001b[38;5;28;01mif\u001b[39;00m \u001b[38;5;129;01mnot\u001b[39;00m (\u001b[38;5;28mself\u001b[39m\u001b[38;5;241m.\u001b[39m_backward_hooks \u001b[38;5;129;01mor\u001b[39;00m \u001b[38;5;28mself\u001b[39m\u001b[38;5;241m.\u001b[39m_backward_pre_hooks \u001b[38;5;129;01mor\u001b[39;00m \u001b[38;5;28mself\u001b[39m\u001b[38;5;241m.\u001b[39m_forward_hooks \u001b[38;5;129;01mor\u001b[39;00m \u001b[38;5;28mself\u001b[39m\u001b[38;5;241m.\u001b[39m_forward_pre_hooks\n\u001b[0;32m   1518\u001b[0m         \u001b[38;5;129;01mor\u001b[39;00m _global_backward_pre_hooks \u001b[38;5;129;01mor\u001b[39;00m _global_backward_hooks\n\u001b[0;32m   1519\u001b[0m         \u001b[38;5;129;01mor\u001b[39;00m _global_forward_hooks \u001b[38;5;129;01mor\u001b[39;00m _global_forward_pre_hooks):\n\u001b[1;32m-> 1520\u001b[0m     \u001b[38;5;28;01mreturn\u001b[39;00m \u001b[43mforward_call\u001b[49m\u001b[43m(\u001b[49m\u001b[38;5;241;43m*\u001b[39;49m\u001b[43margs\u001b[49m\u001b[43m,\u001b[49m\u001b[43m \u001b[49m\u001b[38;5;241;43m*\u001b[39;49m\u001b[38;5;241;43m*\u001b[39;49m\u001b[43mkwargs\u001b[49m\u001b[43m)\u001b[49m\n\u001b[0;32m   1522\u001b[0m \u001b[38;5;28;01mtry\u001b[39;00m:\n\u001b[0;32m   1523\u001b[0m     result \u001b[38;5;241m=\u001b[39m \u001b[38;5;28;01mNone\u001b[39;00m\n",
      "File \u001b[1;32mc:\\Users\\bayke\\miniconda3\\Lib\\site-packages\\torch\\_functorch\\make_functional.py:304\u001b[0m, in \u001b[0;36mFunctionalModuleWithBuffers.forward\u001b[1;34m(self, params, buffers, *args, **kwargs)\u001b[0m\n\u001b[0;32m    298\u001b[0m old_state \u001b[38;5;241m=\u001b[39m _swap_state(\n\u001b[0;32m    299\u001b[0m     \u001b[38;5;28mself\u001b[39m\u001b[38;5;241m.\u001b[39mstateless_model,\n\u001b[0;32m    300\u001b[0m     \u001b[38;5;28mself\u001b[39m\u001b[38;5;241m.\u001b[39mall_names_map,\n\u001b[0;32m    301\u001b[0m     \u001b[38;5;28mtuple\u001b[39m(params) \u001b[38;5;241m+\u001b[39m \u001b[38;5;28mtuple\u001b[39m(buffers),\n\u001b[0;32m    302\u001b[0m )\n\u001b[0;32m    303\u001b[0m \u001b[38;5;28;01mtry\u001b[39;00m:\n\u001b[1;32m--> 304\u001b[0m     \u001b[38;5;28;01mreturn\u001b[39;00m \u001b[38;5;28;43mself\u001b[39;49m\u001b[38;5;241;43m.\u001b[39;49m\u001b[43mstateless_model\u001b[49m\u001b[43m(\u001b[49m\u001b[38;5;241;43m*\u001b[39;49m\u001b[43margs\u001b[49m\u001b[43m,\u001b[49m\u001b[43m \u001b[49m\u001b[38;5;241;43m*\u001b[39;49m\u001b[38;5;241;43m*\u001b[39;49m\u001b[43mkwargs\u001b[49m\u001b[43m)\u001b[49m\n\u001b[0;32m    305\u001b[0m \u001b[38;5;28;01mfinally\u001b[39;00m:\n\u001b[0;32m    306\u001b[0m     \u001b[38;5;66;03m# Remove the loaded state on self.stateless_model\u001b[39;00m\n\u001b[0;32m    307\u001b[0m     _swap_state(\u001b[38;5;28mself\u001b[39m\u001b[38;5;241m.\u001b[39mstateless_model, \u001b[38;5;28mself\u001b[39m\u001b[38;5;241m.\u001b[39mall_names_map, old_state)\n",
      "File \u001b[1;32mc:\\Users\\bayke\\miniconda3\\Lib\\site-packages\\torch\\nn\\modules\\module.py:1511\u001b[0m, in \u001b[0;36mModule._wrapped_call_impl\u001b[1;34m(self, *args, **kwargs)\u001b[0m\n\u001b[0;32m   1509\u001b[0m     \u001b[38;5;28;01mreturn\u001b[39;00m \u001b[38;5;28mself\u001b[39m\u001b[38;5;241m.\u001b[39m_compiled_call_impl(\u001b[38;5;241m*\u001b[39margs, \u001b[38;5;241m*\u001b[39m\u001b[38;5;241m*\u001b[39mkwargs)  \u001b[38;5;66;03m# type: ignore[misc]\u001b[39;00m\n\u001b[0;32m   1510\u001b[0m \u001b[38;5;28;01melse\u001b[39;00m:\n\u001b[1;32m-> 1511\u001b[0m     \u001b[38;5;28;01mreturn\u001b[39;00m \u001b[38;5;28;43mself\u001b[39;49m\u001b[38;5;241;43m.\u001b[39;49m\u001b[43m_call_impl\u001b[49m\u001b[43m(\u001b[49m\u001b[38;5;241;43m*\u001b[39;49m\u001b[43margs\u001b[49m\u001b[43m,\u001b[49m\u001b[43m \u001b[49m\u001b[38;5;241;43m*\u001b[39;49m\u001b[38;5;241;43m*\u001b[39;49m\u001b[43mkwargs\u001b[49m\u001b[43m)\u001b[49m\n",
      "File \u001b[1;32mc:\\Users\\bayke\\miniconda3\\Lib\\site-packages\\torch\\nn\\modules\\module.py:1520\u001b[0m, in \u001b[0;36mModule._call_impl\u001b[1;34m(self, *args, **kwargs)\u001b[0m\n\u001b[0;32m   1515\u001b[0m \u001b[38;5;66;03m# If we don't have any hooks, we want to skip the rest of the logic in\u001b[39;00m\n\u001b[0;32m   1516\u001b[0m \u001b[38;5;66;03m# this function, and just call forward.\u001b[39;00m\n\u001b[0;32m   1517\u001b[0m \u001b[38;5;28;01mif\u001b[39;00m \u001b[38;5;129;01mnot\u001b[39;00m (\u001b[38;5;28mself\u001b[39m\u001b[38;5;241m.\u001b[39m_backward_hooks \u001b[38;5;129;01mor\u001b[39;00m \u001b[38;5;28mself\u001b[39m\u001b[38;5;241m.\u001b[39m_backward_pre_hooks \u001b[38;5;129;01mor\u001b[39;00m \u001b[38;5;28mself\u001b[39m\u001b[38;5;241m.\u001b[39m_forward_hooks \u001b[38;5;129;01mor\u001b[39;00m \u001b[38;5;28mself\u001b[39m\u001b[38;5;241m.\u001b[39m_forward_pre_hooks\n\u001b[0;32m   1518\u001b[0m         \u001b[38;5;129;01mor\u001b[39;00m _global_backward_pre_hooks \u001b[38;5;129;01mor\u001b[39;00m _global_backward_hooks\n\u001b[0;32m   1519\u001b[0m         \u001b[38;5;129;01mor\u001b[39;00m _global_forward_hooks \u001b[38;5;129;01mor\u001b[39;00m _global_forward_pre_hooks):\n\u001b[1;32m-> 1520\u001b[0m     \u001b[38;5;28;01mreturn\u001b[39;00m \u001b[43mforward_call\u001b[49m\u001b[43m(\u001b[49m\u001b[38;5;241;43m*\u001b[39;49m\u001b[43margs\u001b[49m\u001b[43m,\u001b[49m\u001b[43m \u001b[49m\u001b[38;5;241;43m*\u001b[39;49m\u001b[38;5;241;43m*\u001b[39;49m\u001b[43mkwargs\u001b[49m\u001b[43m)\u001b[49m\n\u001b[0;32m   1522\u001b[0m \u001b[38;5;28;01mtry\u001b[39;00m:\n\u001b[0;32m   1523\u001b[0m     result \u001b[38;5;241m=\u001b[39m \u001b[38;5;28;01mNone\u001b[39;00m\n",
      "Cell \u001b[1;32mIn[15], line 71\u001b[0m, in \u001b[0;36mLeNet5.forward\u001b[1;34m(self, x)\u001b[0m\n\u001b[0;32m     70\u001b[0m \u001b[38;5;28;01mdef\u001b[39;00m \u001b[38;5;21mforward\u001b[39m(\u001b[38;5;28mself\u001b[39m,x):\n\u001b[1;32m---> 71\u001b[0m     \u001b[38;5;28;01mreturn\u001b[39;00m \u001b[38;5;28;43mself\u001b[39;49m\u001b[38;5;241;43m.\u001b[39;49m\u001b[43mnet\u001b[49m\u001b[43m(\u001b[49m\u001b[43mx\u001b[49m\u001b[43m)\u001b[49m\n",
      "File \u001b[1;32mc:\\Users\\bayke\\miniconda3\\Lib\\site-packages\\torch\\nn\\modules\\module.py:1511\u001b[0m, in \u001b[0;36mModule._wrapped_call_impl\u001b[1;34m(self, *args, **kwargs)\u001b[0m\n\u001b[0;32m   1509\u001b[0m     \u001b[38;5;28;01mreturn\u001b[39;00m \u001b[38;5;28mself\u001b[39m\u001b[38;5;241m.\u001b[39m_compiled_call_impl(\u001b[38;5;241m*\u001b[39margs, \u001b[38;5;241m*\u001b[39m\u001b[38;5;241m*\u001b[39mkwargs)  \u001b[38;5;66;03m# type: ignore[misc]\u001b[39;00m\n\u001b[0;32m   1510\u001b[0m \u001b[38;5;28;01melse\u001b[39;00m:\n\u001b[1;32m-> 1511\u001b[0m     \u001b[38;5;28;01mreturn\u001b[39;00m \u001b[38;5;28;43mself\u001b[39;49m\u001b[38;5;241;43m.\u001b[39;49m\u001b[43m_call_impl\u001b[49m\u001b[43m(\u001b[49m\u001b[38;5;241;43m*\u001b[39;49m\u001b[43margs\u001b[49m\u001b[43m,\u001b[49m\u001b[43m \u001b[49m\u001b[38;5;241;43m*\u001b[39;49m\u001b[38;5;241;43m*\u001b[39;49m\u001b[43mkwargs\u001b[49m\u001b[43m)\u001b[49m\n",
      "File \u001b[1;32mc:\\Users\\bayke\\miniconda3\\Lib\\site-packages\\torch\\nn\\modules\\module.py:1520\u001b[0m, in \u001b[0;36mModule._call_impl\u001b[1;34m(self, *args, **kwargs)\u001b[0m\n\u001b[0;32m   1515\u001b[0m \u001b[38;5;66;03m# If we don't have any hooks, we want to skip the rest of the logic in\u001b[39;00m\n\u001b[0;32m   1516\u001b[0m \u001b[38;5;66;03m# this function, and just call forward.\u001b[39;00m\n\u001b[0;32m   1517\u001b[0m \u001b[38;5;28;01mif\u001b[39;00m \u001b[38;5;129;01mnot\u001b[39;00m (\u001b[38;5;28mself\u001b[39m\u001b[38;5;241m.\u001b[39m_backward_hooks \u001b[38;5;129;01mor\u001b[39;00m \u001b[38;5;28mself\u001b[39m\u001b[38;5;241m.\u001b[39m_backward_pre_hooks \u001b[38;5;129;01mor\u001b[39;00m \u001b[38;5;28mself\u001b[39m\u001b[38;5;241m.\u001b[39m_forward_hooks \u001b[38;5;129;01mor\u001b[39;00m \u001b[38;5;28mself\u001b[39m\u001b[38;5;241m.\u001b[39m_forward_pre_hooks\n\u001b[0;32m   1518\u001b[0m         \u001b[38;5;129;01mor\u001b[39;00m _global_backward_pre_hooks \u001b[38;5;129;01mor\u001b[39;00m _global_backward_hooks\n\u001b[0;32m   1519\u001b[0m         \u001b[38;5;129;01mor\u001b[39;00m _global_forward_hooks \u001b[38;5;129;01mor\u001b[39;00m _global_forward_pre_hooks):\n\u001b[1;32m-> 1520\u001b[0m     \u001b[38;5;28;01mreturn\u001b[39;00m \u001b[43mforward_call\u001b[49m\u001b[43m(\u001b[49m\u001b[38;5;241;43m*\u001b[39;49m\u001b[43margs\u001b[49m\u001b[43m,\u001b[49m\u001b[43m \u001b[49m\u001b[38;5;241;43m*\u001b[39;49m\u001b[38;5;241;43m*\u001b[39;49m\u001b[43mkwargs\u001b[49m\u001b[43m)\u001b[49m\n\u001b[0;32m   1522\u001b[0m \u001b[38;5;28;01mtry\u001b[39;00m:\n\u001b[0;32m   1523\u001b[0m     result \u001b[38;5;241m=\u001b[39m \u001b[38;5;28;01mNone\u001b[39;00m\n",
      "File \u001b[1;32mc:\\Users\\bayke\\miniconda3\\Lib\\site-packages\\torch\\nn\\modules\\container.py:217\u001b[0m, in \u001b[0;36mSequential.forward\u001b[1;34m(self, input)\u001b[0m\n\u001b[0;32m    215\u001b[0m \u001b[38;5;28;01mdef\u001b[39;00m \u001b[38;5;21mforward\u001b[39m(\u001b[38;5;28mself\u001b[39m, \u001b[38;5;28minput\u001b[39m):\n\u001b[0;32m    216\u001b[0m     \u001b[38;5;28;01mfor\u001b[39;00m module \u001b[38;5;129;01min\u001b[39;00m \u001b[38;5;28mself\u001b[39m:\n\u001b[1;32m--> 217\u001b[0m         \u001b[38;5;28minput\u001b[39m \u001b[38;5;241m=\u001b[39m \u001b[43mmodule\u001b[49m\u001b[43m(\u001b[49m\u001b[38;5;28;43minput\u001b[39;49m\u001b[43m)\u001b[49m\n\u001b[0;32m    218\u001b[0m     \u001b[38;5;28;01mreturn\u001b[39;00m \u001b[38;5;28minput\u001b[39m\n",
      "File \u001b[1;32mc:\\Users\\bayke\\miniconda3\\Lib\\site-packages\\torch\\nn\\modules\\module.py:1511\u001b[0m, in \u001b[0;36mModule._wrapped_call_impl\u001b[1;34m(self, *args, **kwargs)\u001b[0m\n\u001b[0;32m   1509\u001b[0m     \u001b[38;5;28;01mreturn\u001b[39;00m \u001b[38;5;28mself\u001b[39m\u001b[38;5;241m.\u001b[39m_compiled_call_impl(\u001b[38;5;241m*\u001b[39margs, \u001b[38;5;241m*\u001b[39m\u001b[38;5;241m*\u001b[39mkwargs)  \u001b[38;5;66;03m# type: ignore[misc]\u001b[39;00m\n\u001b[0;32m   1510\u001b[0m \u001b[38;5;28;01melse\u001b[39;00m:\n\u001b[1;32m-> 1511\u001b[0m     \u001b[38;5;28;01mreturn\u001b[39;00m \u001b[38;5;28;43mself\u001b[39;49m\u001b[38;5;241;43m.\u001b[39;49m\u001b[43m_call_impl\u001b[49m\u001b[43m(\u001b[49m\u001b[38;5;241;43m*\u001b[39;49m\u001b[43margs\u001b[49m\u001b[43m,\u001b[49m\u001b[43m \u001b[49m\u001b[38;5;241;43m*\u001b[39;49m\u001b[38;5;241;43m*\u001b[39;49m\u001b[43mkwargs\u001b[49m\u001b[43m)\u001b[49m\n",
      "File \u001b[1;32mc:\\Users\\bayke\\miniconda3\\Lib\\site-packages\\torch\\nn\\modules\\module.py:1520\u001b[0m, in \u001b[0;36mModule._call_impl\u001b[1;34m(self, *args, **kwargs)\u001b[0m\n\u001b[0;32m   1515\u001b[0m \u001b[38;5;66;03m# If we don't have any hooks, we want to skip the rest of the logic in\u001b[39;00m\n\u001b[0;32m   1516\u001b[0m \u001b[38;5;66;03m# this function, and just call forward.\u001b[39;00m\n\u001b[0;32m   1517\u001b[0m \u001b[38;5;28;01mif\u001b[39;00m \u001b[38;5;129;01mnot\u001b[39;00m (\u001b[38;5;28mself\u001b[39m\u001b[38;5;241m.\u001b[39m_backward_hooks \u001b[38;5;129;01mor\u001b[39;00m \u001b[38;5;28mself\u001b[39m\u001b[38;5;241m.\u001b[39m_backward_pre_hooks \u001b[38;5;129;01mor\u001b[39;00m \u001b[38;5;28mself\u001b[39m\u001b[38;5;241m.\u001b[39m_forward_hooks \u001b[38;5;129;01mor\u001b[39;00m \u001b[38;5;28mself\u001b[39m\u001b[38;5;241m.\u001b[39m_forward_pre_hooks\n\u001b[0;32m   1518\u001b[0m         \u001b[38;5;129;01mor\u001b[39;00m _global_backward_pre_hooks \u001b[38;5;129;01mor\u001b[39;00m _global_backward_hooks\n\u001b[0;32m   1519\u001b[0m         \u001b[38;5;129;01mor\u001b[39;00m _global_forward_hooks \u001b[38;5;129;01mor\u001b[39;00m _global_forward_pre_hooks):\n\u001b[1;32m-> 1520\u001b[0m     \u001b[38;5;28;01mreturn\u001b[39;00m \u001b[43mforward_call\u001b[49m\u001b[43m(\u001b[49m\u001b[38;5;241;43m*\u001b[39;49m\u001b[43margs\u001b[49m\u001b[43m,\u001b[49m\u001b[43m \u001b[49m\u001b[38;5;241;43m*\u001b[39;49m\u001b[38;5;241;43m*\u001b[39;49m\u001b[43mkwargs\u001b[49m\u001b[43m)\u001b[49m\n\u001b[0;32m   1522\u001b[0m \u001b[38;5;28;01mtry\u001b[39;00m:\n\u001b[0;32m   1523\u001b[0m     result \u001b[38;5;241m=\u001b[39m \u001b[38;5;28;01mNone\u001b[39;00m\n",
      "File \u001b[1;32mc:\\Users\\bayke\\miniconda3\\Lib\\site-packages\\torch\\nn\\modules\\conv.py:460\u001b[0m, in \u001b[0;36mConv2d.forward\u001b[1;34m(self, input)\u001b[0m\n\u001b[0;32m    459\u001b[0m \u001b[38;5;28;01mdef\u001b[39;00m \u001b[38;5;21mforward\u001b[39m(\u001b[38;5;28mself\u001b[39m, \u001b[38;5;28minput\u001b[39m: Tensor) \u001b[38;5;241m-\u001b[39m\u001b[38;5;241m>\u001b[39m Tensor:\n\u001b[1;32m--> 460\u001b[0m     \u001b[38;5;28;01mreturn\u001b[39;00m \u001b[38;5;28;43mself\u001b[39;49m\u001b[38;5;241;43m.\u001b[39;49m\u001b[43m_conv_forward\u001b[49m\u001b[43m(\u001b[49m\u001b[38;5;28;43minput\u001b[39;49m\u001b[43m,\u001b[49m\u001b[43m \u001b[49m\u001b[38;5;28;43mself\u001b[39;49m\u001b[38;5;241;43m.\u001b[39;49m\u001b[43mweight\u001b[49m\u001b[43m,\u001b[49m\u001b[43m \u001b[49m\u001b[38;5;28;43mself\u001b[39;49m\u001b[38;5;241;43m.\u001b[39;49m\u001b[43mbias\u001b[49m\u001b[43m)\u001b[49m\n",
      "File \u001b[1;32mc:\\Users\\bayke\\miniconda3\\Lib\\site-packages\\torch\\nn\\modules\\conv.py:456\u001b[0m, in \u001b[0;36mConv2d._conv_forward\u001b[1;34m(self, input, weight, bias)\u001b[0m\n\u001b[0;32m    452\u001b[0m \u001b[38;5;28;01mif\u001b[39;00m \u001b[38;5;28mself\u001b[39m\u001b[38;5;241m.\u001b[39mpadding_mode \u001b[38;5;241m!=\u001b[39m \u001b[38;5;124m'\u001b[39m\u001b[38;5;124mzeros\u001b[39m\u001b[38;5;124m'\u001b[39m:\n\u001b[0;32m    453\u001b[0m     \u001b[38;5;28;01mreturn\u001b[39;00m F\u001b[38;5;241m.\u001b[39mconv2d(F\u001b[38;5;241m.\u001b[39mpad(\u001b[38;5;28minput\u001b[39m, \u001b[38;5;28mself\u001b[39m\u001b[38;5;241m.\u001b[39m_reversed_padding_repeated_twice, mode\u001b[38;5;241m=\u001b[39m\u001b[38;5;28mself\u001b[39m\u001b[38;5;241m.\u001b[39mpadding_mode),\n\u001b[0;32m    454\u001b[0m                     weight, bias, \u001b[38;5;28mself\u001b[39m\u001b[38;5;241m.\u001b[39mstride,\n\u001b[0;32m    455\u001b[0m                     _pair(\u001b[38;5;241m0\u001b[39m), \u001b[38;5;28mself\u001b[39m\u001b[38;5;241m.\u001b[39mdilation, \u001b[38;5;28mself\u001b[39m\u001b[38;5;241m.\u001b[39mgroups)\n\u001b[1;32m--> 456\u001b[0m \u001b[38;5;28;01mreturn\u001b[39;00m \u001b[43mF\u001b[49m\u001b[38;5;241;43m.\u001b[39;49m\u001b[43mconv2d\u001b[49m\u001b[43m(\u001b[49m\u001b[38;5;28;43minput\u001b[39;49m\u001b[43m,\u001b[49m\u001b[43m \u001b[49m\u001b[43mweight\u001b[49m\u001b[43m,\u001b[49m\u001b[43m \u001b[49m\u001b[43mbias\u001b[49m\u001b[43m,\u001b[49m\u001b[43m \u001b[49m\u001b[38;5;28;43mself\u001b[39;49m\u001b[38;5;241;43m.\u001b[39;49m\u001b[43mstride\u001b[49m\u001b[43m,\u001b[49m\n\u001b[0;32m    457\u001b[0m \u001b[43m                \u001b[49m\u001b[38;5;28;43mself\u001b[39;49m\u001b[38;5;241;43m.\u001b[39;49m\u001b[43mpadding\u001b[49m\u001b[43m,\u001b[49m\u001b[43m \u001b[49m\u001b[38;5;28;43mself\u001b[39;49m\u001b[38;5;241;43m.\u001b[39;49m\u001b[43mdilation\u001b[49m\u001b[43m,\u001b[49m\u001b[43m \u001b[49m\u001b[38;5;28;43mself\u001b[39;49m\u001b[38;5;241;43m.\u001b[39;49m\u001b[43mgroups\u001b[49m\u001b[43m)\u001b[49m\n",
      "\u001b[1;31mKeyboardInterrupt\u001b[0m: "
     ]
    }
   ],
   "source": [
    "## Testing ntk_method function\n",
    "reload(df)\n",
    "\n",
    "direct_direct_mu, direct_direct_sigma2 = df.ntk_method(\n",
    "    train=training_data,\n",
    "    test=test_data,\n",
    "    model=ntk_softmax_net,\n",
    "    num_class=10,\n",
    "    solver='direct_direct',\n",
    "    softmax=True,\n",
    "    batch_size=0)\n",
    "\n",
    "direct_iterative_mu, direct_iterative_sigma2 = df.ntk_method(\n",
    "    train=training_data,\n",
    "    test=test_data,\n",
    "    model=ntk_net,\n",
    "    num_class=10,\n",
    "    solver='direct_iterative',\n",
    "    batch_size=0)\n",
    "\n",
    "iterative_iterative_cr_mu, iterative_iterative_cr_sigma2 = df.ntk_method(\n",
    "    train=training_data,\n",
    "    test=test_data,\n",
    "    model=ntk_net,\n",
    "    num_class=10,\n",
    "    solver='iterative_iterative_cr',\n",
    "    batch_size=0)\n",
    "\n",
    "iterative_iterative_lsmr_mu, iterative_iterative_lsmr_sigma2 = df.ntk_method(\n",
    "    train=training_data,\n",
    "    test=test_data,\n",
    "    model=ntk_net,\n",
    "    num_class=10,\n",
    "    solver='iterative_iterative_lsmr',\n",
    "    batch_size=0)\n",
    "\n",
    "print(torch.norm(direct_direct_mu-direct_iterative_mu))\n",
    "print(torch.norm(direct_direct_sigma2-direct_iterative_sigma2))"
   ]
  },
  {
   "cell_type": "code",
   "execution_count": 6,
   "metadata": {},
   "outputs": [
    {
     "ename": "NameError",
     "evalue": "name 'ntk_softmax_net' is not defined",
     "output_type": "error",
     "traceback": [
      "\u001b[1;31m---------------------------------------------------------------------------\u001b[0m",
      "\u001b[1;31mNameError\u001b[0m                                 Traceback (most recent call last)",
      "Cell \u001b[1;32mIn[6], line 10\u001b[0m\n\u001b[0;32m      4\u001b[0m rtol_solve \u001b[38;5;241m=\u001b[39m \u001b[38;5;241m1e-10\u001b[39m\n\u001b[0;32m      5\u001b[0m maxit_solve \u001b[38;5;241m=\u001b[39m \u001b[38;5;241m200\u001b[39m\n\u001b[0;32m      7\u001b[0m uncertainty_array_ntk, mu_ntk \u001b[38;5;241m=\u001b[39m df\u001b[38;5;241m.\u001b[39mntk_uncertainty_explicit_class(\n\u001b[0;32m      8\u001b[0m     train_dataset\u001b[38;5;241m=\u001b[39mtraining_data,\n\u001b[0;32m      9\u001b[0m     test_dataset\u001b[38;5;241m=\u001b[39mtest_data,\n\u001b[1;32m---> 10\u001b[0m     model\u001b[38;5;241m=\u001b[39m\u001b[43mntk_softmax_net\u001b[49m,\n\u001b[0;32m     11\u001b[0m     num_classes\u001b[38;5;241m=\u001b[39m\u001b[38;5;241m10\u001b[39m,\n\u001b[0;32m     12\u001b[0m     \u001b[38;5;28mtype\u001b[39m\u001b[38;5;241m=\u001b[39m\u001b[38;5;124m'\u001b[39m\u001b[38;5;124miterative\u001b[39m\u001b[38;5;124m'\u001b[39m,\n\u001b[0;32m     13\u001b[0m     rtol\u001b[38;5;241m=\u001b[39mrtol_solve,\n\u001b[0;32m     14\u001b[0m     maxit\u001b[38;5;241m=\u001b[39mmaxit_solve,\n\u001b[0;32m     15\u001b[0m     softmax\u001b[38;5;241m=\u001b[39m\u001b[38;5;28;01mTrue\u001b[39;00m)\n\u001b[0;32m     17\u001b[0m plt\u001b[38;5;241m.\u001b[39mhist(uncertainty_array_ntk\u001b[38;5;241m.\u001b[39mreshape(\u001b[38;5;241m-\u001b[39m\u001b[38;5;241m1\u001b[39m,\u001b[38;5;241m1\u001b[39m),density\u001b[38;5;241m=\u001b[39m\u001b[38;5;28;01mTrue\u001b[39;00m)\n\u001b[0;32m     18\u001b[0m plt\u001b[38;5;241m.\u001b[39mxlabel(\u001b[38;5;124m\"\u001b[39m\u001b[38;5;124m$\u001b[39m\u001b[38;5;124m\\\u001b[39m\u001b[38;5;124msigma^2$\u001b[39m\u001b[38;5;124m\"\u001b[39m)\n",
      "\u001b[1;31mNameError\u001b[0m: name 'ntk_softmax_net' is not defined"
     ]
    }
   ],
   "source": [
    "### Find ntk uncertainty and mu\n",
    "reload(df)\n",
    "\n",
    "rtol_solve = 1e-10\n",
    "maxit_solve = 200\n",
    "\n",
    "uncertainty_array_ntk, mu_ntk = df.ntk_uncertainty_explicit_class(\n",
    "    train_dataset=training_data,\n",
    "    test_dataset=test_data,\n",
    "    model=ntk_softmax_net,\n",
    "    num_classes=10,\n",
    "    type='iterative',\n",
    "    rtol=rtol_solve,\n",
    "    maxit=maxit_solve,\n",
    "    softmax=True)\n",
    "\n",
    "plt.hist(uncertainty_array_ntk.reshape(-1,1),density=True)\n",
    "plt.xlabel(\"$\\sigma^2$\")\n",
    "plt.ylabel('Density')\n",
    "plt.title(\"NTK Brier Uncertainty\")\n",
    "plt.show()\n"
   ]
  },
  {
   "cell_type": "code",
   "execution_count": 18,
   "metadata": {},
   "outputs": [],
   "source": [
    "### Sample from ntk distribution to find predictive posterior\n",
    "y_pred_ntk = ntk_net(test_x)\n",
    "y_post_pred_ntk = torch.from_numpy(mu_ntk).transpose(0,1)"
   ]
  },
  {
   "cell_type": "code",
   "execution_count": 23,
   "metadata": {},
   "outputs": [
    {
     "name": "stderr",
     "output_type": "stream",
     "text": [
      "  0%|          | 0/100 [00:00<?, ?it/s]"
     ]
    },
    {
     "name": "stderr",
     "output_type": "stream",
     "text": [
      "  1%|          | 1/100 [00:00<00:25,  3.89it/s]"
     ]
    },
    {
     "name": "stdout",
     "output_type": "stream",
     "text": [
      "Epoch 0 of 100\n",
      "Training CE = 2.3419\n",
      "Test CE = 2.3194\n",
      "Test accuracy = 20.0%\n",
      "\n",
      " -------------------------------------\n"
     ]
    },
    {
     "name": "stderr",
     "output_type": "stream",
     "text": [
      "  5%|▌         | 5/100 [00:01<00:20,  4.60it/s]"
     ]
    },
    {
     "name": "stdout",
     "output_type": "stream",
     "text": [
      "Epoch 4 of 100\n",
      "Training CE = 1.7974\n",
      "Test CE = 0.9100\n",
      "Test accuracy = 80.0%\n",
      "\n",
      " -------------------------------------\n"
     ]
    },
    {
     "name": "stderr",
     "output_type": "stream",
     "text": [
      "  9%|▉         | 9/100 [00:01<00:19,  4.65it/s]"
     ]
    },
    {
     "name": "stdout",
     "output_type": "stream",
     "text": [
      "Epoch 8 of 100\n",
      "Training CE = 0.5170\n",
      "Test CE = 0.0581\n",
      "Test accuracy = 100.0%\n",
      "\n",
      " -------------------------------------\n"
     ]
    },
    {
     "name": "stderr",
     "output_type": "stream",
     "text": [
      " 14%|█▍        | 14/100 [00:03<00:18,  4.74it/s]"
     ]
    },
    {
     "name": "stdout",
     "output_type": "stream",
     "text": [
      "Epoch 12 of 100\n",
      "Training CE = 0.2781\n",
      "Test CE = 0.0212\n",
      "Test accuracy = 100.0%\n",
      "\n",
      " -------------------------------------\n"
     ]
    },
    {
     "name": "stderr",
     "output_type": "stream",
     "text": [
      " 17%|█▋        | 17/100 [00:03<00:17,  4.65it/s]"
     ]
    },
    {
     "name": "stdout",
     "output_type": "stream",
     "text": [
      "Epoch 16 of 100\n",
      "Training CE = 0.1662\n",
      "Test CE = 0.0130\n",
      "Test accuracy = 100.0%\n",
      "\n",
      " -------------------------------------\n"
     ]
    },
    {
     "name": "stderr",
     "output_type": "stream",
     "text": [
      " 22%|██▏       | 22/100 [00:04<00:16,  4.64it/s]"
     ]
    },
    {
     "name": "stdout",
     "output_type": "stream",
     "text": [
      "Epoch 20 of 100\n",
      "Training CE = 0.0938\n",
      "Test CE = 0.0094\n",
      "Test accuracy = 100.0%\n",
      "\n",
      " -------------------------------------\n"
     ]
    },
    {
     "name": "stderr",
     "output_type": "stream",
     "text": [
      " 25%|██▌       | 25/100 [00:05<00:16,  4.65it/s]"
     ]
    },
    {
     "name": "stdout",
     "output_type": "stream",
     "text": [
      "Epoch 24 of 100\n",
      "Training CE = 0.0634\n",
      "Test CE = 0.0112\n",
      "Test accuracy = 100.0%\n",
      "\n",
      " -------------------------------------\n"
     ]
    },
    {
     "name": "stderr",
     "output_type": "stream",
     "text": [
      " 29%|██▉       | 29/100 [00:06<00:15,  4.56it/s]"
     ]
    },
    {
     "name": "stdout",
     "output_type": "stream",
     "text": [
      "Epoch 28 of 100\n",
      "Training CE = 0.0366\n",
      "Test CE = 0.0079\n",
      "Test accuracy = 100.0%\n",
      "\n",
      " -------------------------------------\n"
     ]
    },
    {
     "name": "stderr",
     "output_type": "stream",
     "text": [
      " 33%|███▎      | 33/100 [00:07<00:14,  4.64it/s]"
     ]
    },
    {
     "name": "stdout",
     "output_type": "stream",
     "text": [
      "Epoch 32 of 100\n",
      "Training CE = 0.0268\n",
      "Test CE = 0.0065\n",
      "Test accuracy = 100.0%\n",
      "\n",
      " -------------------------------------\n"
     ]
    },
    {
     "name": "stderr",
     "output_type": "stream",
     "text": [
      " 37%|███▋      | 37/100 [00:07<00:13,  4.78it/s]"
     ]
    },
    {
     "name": "stdout",
     "output_type": "stream",
     "text": [
      "Epoch 36 of 100\n",
      "Training CE = 0.0181\n",
      "Test CE = 0.0057\n",
      "Test accuracy = 100.0%\n",
      "\n",
      " -------------------------------------\n"
     ]
    },
    {
     "name": "stderr",
     "output_type": "stream",
     "text": [
      " 42%|████▏     | 42/100 [00:09<00:12,  4.73it/s]"
     ]
    },
    {
     "name": "stdout",
     "output_type": "stream",
     "text": [
      "Epoch 40 of 100\n",
      "Training CE = 0.0116\n",
      "Test CE = 0.0038\n",
      "Test accuracy = 100.0%\n",
      "\n",
      " -------------------------------------\n"
     ]
    },
    {
     "name": "stderr",
     "output_type": "stream",
     "text": [
      " 46%|████▌     | 46/100 [00:09<00:11,  4.67it/s]"
     ]
    },
    {
     "name": "stdout",
     "output_type": "stream",
     "text": [
      "Epoch 44 of 100\n",
      "Training CE = 0.0085\n",
      "Test CE = 0.0029\n",
      "Test accuracy = 100.0%\n",
      "\n",
      " -------------------------------------\n"
     ]
    },
    {
     "name": "stderr",
     "output_type": "stream",
     "text": [
      " 50%|█████     | 50/100 [00:10<00:10,  4.67it/s]"
     ]
    },
    {
     "name": "stdout",
     "output_type": "stream",
     "text": [
      "Epoch 48 of 100\n",
      "Training CE = 0.0066\n",
      "Test CE = 0.0021\n",
      "Test accuracy = 100.0%\n",
      "\n",
      " -------------------------------------\n"
     ]
    },
    {
     "name": "stderr",
     "output_type": "stream",
     "text": [
      " 53%|█████▎    | 53/100 [00:11<00:10,  4.57it/s]"
     ]
    },
    {
     "name": "stdout",
     "output_type": "stream",
     "text": [
      "Epoch 52 of 100\n",
      "Training CE = 0.0053\n",
      "Test CE = 0.0017\n",
      "Test accuracy = 100.0%\n",
      "\n",
      " -------------------------------------\n"
     ]
    },
    {
     "name": "stderr",
     "output_type": "stream",
     "text": [
      " 57%|█████▋    | 57/100 [00:12<00:09,  4.51it/s]"
     ]
    },
    {
     "name": "stdout",
     "output_type": "stream",
     "text": [
      "Epoch 56 of 100\n",
      "Training CE = 0.0044\n",
      "Test CE = 0.0014\n",
      "Test accuracy = 100.0%\n",
      "\n",
      " -------------------------------------\n"
     ]
    },
    {
     "name": "stderr",
     "output_type": "stream",
     "text": [
      " 61%|██████    | 61/100 [00:13<00:09,  4.29it/s]"
     ]
    },
    {
     "name": "stdout",
     "output_type": "stream",
     "text": [
      "Epoch 60 of 100\n",
      "Training CE = 0.0038\n",
      "Test CE = 0.0011\n",
      "Test accuracy = 100.0%\n",
      "\n",
      " -------------------------------------\n"
     ]
    },
    {
     "name": "stderr",
     "output_type": "stream",
     "text": [
      " 65%|██████▌   | 65/100 [00:14<00:07,  4.40it/s]"
     ]
    },
    {
     "name": "stdout",
     "output_type": "stream",
     "text": [
      "Epoch 64 of 100\n",
      "Training CE = 0.0033\n",
      "Test CE = 0.0010\n",
      "Test accuracy = 100.0%\n",
      "\n",
      " -------------------------------------\n"
     ]
    },
    {
     "name": "stderr",
     "output_type": "stream",
     "text": [
      " 69%|██████▉   | 69/100 [00:15<00:06,  4.60it/s]"
     ]
    },
    {
     "name": "stdout",
     "output_type": "stream",
     "text": [
      "Epoch 68 of 100\n",
      "Training CE = 0.0030\n",
      "Test CE = 0.0009\n",
      "Test accuracy = 100.0%\n",
      "\n",
      " -------------------------------------\n"
     ]
    },
    {
     "name": "stderr",
     "output_type": "stream",
     "text": [
      " 73%|███████▎  | 73/100 [00:15<00:05,  4.56it/s]"
     ]
    },
    {
     "name": "stdout",
     "output_type": "stream",
     "text": [
      "Epoch 72 of 100\n",
      "Training CE = 0.0027\n",
      "Test CE = 0.0008\n",
      "Test accuracy = 100.0%\n",
      "\n",
      " -------------------------------------\n"
     ]
    },
    {
     "name": "stderr",
     "output_type": "stream",
     "text": [
      " 78%|███████▊  | 78/100 [00:16<00:04,  4.70it/s]"
     ]
    },
    {
     "name": "stdout",
     "output_type": "stream",
     "text": [
      "Epoch 76 of 100\n",
      "Training CE = 0.0025\n",
      "Test CE = 0.0007\n",
      "Test accuracy = 100.0%\n",
      "\n",
      " -------------------------------------\n"
     ]
    },
    {
     "name": "stderr",
     "output_type": "stream",
     "text": [
      " 81%|████████  | 81/100 [00:17<00:04,  4.68it/s]"
     ]
    },
    {
     "name": "stdout",
     "output_type": "stream",
     "text": [
      "Epoch 80 of 100\n",
      "Training CE = 0.0023\n",
      "Test CE = 0.0006\n",
      "Test accuracy = 100.0%\n",
      "\n",
      " -------------------------------------\n"
     ]
    },
    {
     "name": "stderr",
     "output_type": "stream",
     "text": [
      " 85%|████████▌ | 85/100 [00:18<00:03,  4.50it/s]"
     ]
    },
    {
     "name": "stdout",
     "output_type": "stream",
     "text": [
      "Epoch 84 of 100\n",
      "Training CE = 0.0022\n",
      "Test CE = 0.0006\n",
      "Test accuracy = 100.0%\n",
      "\n",
      " -------------------------------------\n"
     ]
    },
    {
     "name": "stderr",
     "output_type": "stream",
     "text": [
      " 89%|████████▉ | 89/100 [00:19<00:02,  4.49it/s]"
     ]
    },
    {
     "name": "stdout",
     "output_type": "stream",
     "text": [
      "Epoch 88 of 100\n",
      "Training CE = 0.0021\n",
      "Test CE = 0.0005\n",
      "Test accuracy = 100.0%\n",
      "\n",
      " -------------------------------------\n"
     ]
    },
    {
     "name": "stderr",
     "output_type": "stream",
     "text": [
      " 93%|█████████▎| 93/100 [00:20<00:01,  4.51it/s]"
     ]
    },
    {
     "name": "stdout",
     "output_type": "stream",
     "text": [
      "Epoch 92 of 100\n",
      "Training CE = 0.0019\n",
      "Test CE = 0.0005\n",
      "Test accuracy = 100.0%\n",
      "\n",
      " -------------------------------------\n"
     ]
    },
    {
     "name": "stderr",
     "output_type": "stream",
     "text": [
      " 97%|█████████▋| 97/100 [00:21<00:00,  4.48it/s]"
     ]
    },
    {
     "name": "stdout",
     "output_type": "stream",
     "text": [
      "Epoch 96 of 100\n",
      "Training CE = 0.0019\n",
      "Test CE = 0.0005\n",
      "Test accuracy = 100.0%\n",
      "\n",
      " -------------------------------------\n"
     ]
    },
    {
     "name": "stderr",
     "output_type": "stream",
     "text": [
      "100%|██████████| 100/100 [00:21<00:00,  4.57it/s]\n"
     ]
    },
    {
     "name": "stdout",
     "output_type": "stream",
     "text": [
      "Done!\n",
      "Final training cross-entropy = 0.0018\n",
      "Final test cross-entropy = 0.0005\n",
      "Final test accuracy = 100.0%\n"
     ]
    },
    {
     "name": "stderr",
     "output_type": "stream",
     "text": [
      "  1%|          | 1/100 [00:00<00:21,  4.54it/s]"
     ]
    },
    {
     "name": "stdout",
     "output_type": "stream",
     "text": [
      "Epoch 0 of 100\n",
      "Training CE = 2.3560\n",
      "Test CE = 2.3213\n",
      "Test accuracy = 20.0%\n",
      "\n",
      " -------------------------------------\n"
     ]
    },
    {
     "name": "stderr",
     "output_type": "stream",
     "text": [
      "  5%|▌         | 5/100 [00:01<00:19,  4.76it/s]"
     ]
    },
    {
     "name": "stdout",
     "output_type": "stream",
     "text": [
      "Epoch 4 of 100\n",
      "Training CE = 2.2174\n",
      "Test CE = 1.7532\n",
      "Test accuracy = 80.0%\n",
      "\n",
      " -------------------------------------\n"
     ]
    },
    {
     "name": "stderr",
     "output_type": "stream",
     "text": [
      "  9%|▉         | 9/100 [00:01<00:18,  4.79it/s]"
     ]
    },
    {
     "name": "stdout",
     "output_type": "stream",
     "text": [
      "Epoch 8 of 100\n",
      "Training CE = 0.5744\n",
      "Test CE = 0.1057\n",
      "Test accuracy = 100.0%\n",
      "\n",
      " -------------------------------------\n"
     ]
    },
    {
     "name": "stderr",
     "output_type": "stream",
     "text": [
      " 13%|█▎        | 13/100 [00:02<00:18,  4.77it/s]"
     ]
    },
    {
     "name": "stdout",
     "output_type": "stream",
     "text": [
      "Epoch 12 of 100\n",
      "Training CE = 0.2774\n",
      "Test CE = 0.0264\n",
      "Test accuracy = 100.0%\n",
      "\n",
      " -------------------------------------\n"
     ]
    },
    {
     "name": "stderr",
     "output_type": "stream",
     "text": [
      " 18%|█▊        | 18/100 [00:03<00:16,  4.84it/s]"
     ]
    },
    {
     "name": "stdout",
     "output_type": "stream",
     "text": [
      "Epoch 16 of 100\n",
      "Training CE = 0.1871\n",
      "Test CE = 0.0117\n",
      "Test accuracy = 100.0%\n",
      "\n",
      " -------------------------------------\n"
     ]
    },
    {
     "name": "stderr",
     "output_type": "stream",
     "text": [
      " 21%|██        | 21/100 [00:04<00:16,  4.73it/s]"
     ]
    },
    {
     "name": "stdout",
     "output_type": "stream",
     "text": [
      "Epoch 20 of 100\n",
      "Training CE = 0.1188\n",
      "Test CE = 0.0108\n",
      "Test accuracy = 100.0%\n",
      "\n",
      " -------------------------------------\n"
     ]
    },
    {
     "name": "stderr",
     "output_type": "stream",
     "text": [
      " 25%|██▌       | 25/100 [00:05<00:16,  4.53it/s]"
     ]
    },
    {
     "name": "stdout",
     "output_type": "stream",
     "text": [
      "Epoch 24 of 100\n",
      "Training CE = 0.0701\n",
      "Test CE = 0.0090\n",
      "Test accuracy = 100.0%\n",
      "\n",
      " -------------------------------------\n"
     ]
    },
    {
     "name": "stderr",
     "output_type": "stream",
     "text": [
      " 29%|██▉       | 29/100 [00:06<00:15,  4.72it/s]"
     ]
    },
    {
     "name": "stdout",
     "output_type": "stream",
     "text": [
      "Epoch 28 of 100\n",
      "Training CE = 0.0459\n",
      "Test CE = 0.0079\n",
      "Test accuracy = 100.0%\n",
      "\n",
      " -------------------------------------\n"
     ]
    },
    {
     "name": "stderr",
     "output_type": "stream",
     "text": [
      " 33%|███▎      | 33/100 [00:07<00:14,  4.69it/s]"
     ]
    },
    {
     "name": "stdout",
     "output_type": "stream",
     "text": [
      "Epoch 32 of 100\n",
      "Training CE = 0.0278\n",
      "Test CE = 0.0059\n",
      "Test accuracy = 100.0%\n",
      "\n",
      " -------------------------------------\n"
     ]
    },
    {
     "name": "stderr",
     "output_type": "stream",
     "text": [
      " 38%|███▊      | 38/100 [00:08<00:12,  4.78it/s]"
     ]
    },
    {
     "name": "stdout",
     "output_type": "stream",
     "text": [
      "Epoch 36 of 100\n",
      "Training CE = 0.0180\n",
      "Test CE = 0.0043\n",
      "Test accuracy = 100.0%\n",
      "\n",
      " -------------------------------------\n"
     ]
    },
    {
     "name": "stderr",
     "output_type": "stream",
     "text": [
      " 41%|████      | 41/100 [00:08<00:12,  4.77it/s]"
     ]
    },
    {
     "name": "stdout",
     "output_type": "stream",
     "text": [
      "Epoch 40 of 100\n",
      "Training CE = 0.0118\n",
      "Test CE = 0.0045\n",
      "Test accuracy = 100.0%\n",
      "\n",
      " -------------------------------------\n"
     ]
    },
    {
     "name": "stderr",
     "output_type": "stream",
     "text": [
      " 45%|████▌     | 45/100 [00:09<00:11,  4.77it/s]"
     ]
    },
    {
     "name": "stdout",
     "output_type": "stream",
     "text": [
      "Epoch 44 of 100\n",
      "Training CE = 0.0088\n",
      "Test CE = 0.0029\n",
      "Test accuracy = 100.0%\n",
      "\n",
      " -------------------------------------\n"
     ]
    },
    {
     "name": "stderr",
     "output_type": "stream",
     "text": [
      " 49%|████▉     | 49/100 [00:10<00:10,  4.81it/s]"
     ]
    },
    {
     "name": "stdout",
     "output_type": "stream",
     "text": [
      "Epoch 48 of 100\n",
      "Training CE = 0.0067\n",
      "Test CE = 0.0020\n",
      "Test accuracy = 100.0%\n",
      "\n",
      " -------------------------------------\n"
     ]
    },
    {
     "name": "stderr",
     "output_type": "stream",
     "text": [
      " 54%|█████▍    | 54/100 [00:11<00:09,  4.87it/s]"
     ]
    },
    {
     "name": "stdout",
     "output_type": "stream",
     "text": [
      "Epoch 52 of 100\n",
      "Training CE = 0.0054\n",
      "Test CE = 0.0016\n",
      "Test accuracy = 100.0%\n",
      "\n",
      " -------------------------------------\n"
     ]
    },
    {
     "name": "stderr",
     "output_type": "stream",
     "text": [
      " 57%|█████▋    | 57/100 [00:12<00:08,  4.83it/s]"
     ]
    },
    {
     "name": "stdout",
     "output_type": "stream",
     "text": [
      "Epoch 56 of 100\n",
      "Training CE = 0.0044\n",
      "Test CE = 0.0012\n",
      "Test accuracy = 100.0%\n",
      "\n",
      " -------------------------------------\n"
     ]
    },
    {
     "name": "stderr",
     "output_type": "stream",
     "text": [
      " 62%|██████▏   | 62/100 [00:13<00:07,  4.80it/s]"
     ]
    },
    {
     "name": "stdout",
     "output_type": "stream",
     "text": [
      "Epoch 60 of 100\n",
      "Training CE = 0.0038\n",
      "Test CE = 0.0010\n",
      "Test accuracy = 100.0%\n",
      "\n",
      " -------------------------------------\n"
     ]
    },
    {
     "name": "stderr",
     "output_type": "stream",
     "text": [
      " 66%|██████▌   | 66/100 [00:13<00:06,  4.90it/s]"
     ]
    },
    {
     "name": "stdout",
     "output_type": "stream",
     "text": [
      "Epoch 64 of 100\n",
      "Training CE = 0.0033\n",
      "Test CE = 0.0009\n",
      "Test accuracy = 100.0%\n",
      "\n",
      " -------------------------------------\n"
     ]
    },
    {
     "name": "stderr",
     "output_type": "stream",
     "text": [
      " 70%|███████   | 70/100 [00:14<00:06,  4.90it/s]"
     ]
    },
    {
     "name": "stdout",
     "output_type": "stream",
     "text": [
      "Epoch 68 of 100\n",
      "Training CE = 0.0030\n",
      "Test CE = 0.0008\n",
      "Test accuracy = 100.0%\n",
      "\n",
      " -------------------------------------\n"
     ]
    },
    {
     "name": "stderr",
     "output_type": "stream",
     "text": [
      " 73%|███████▎  | 73/100 [00:15<00:05,  4.93it/s]"
     ]
    },
    {
     "name": "stdout",
     "output_type": "stream",
     "text": [
      "Epoch 72 of 100\n",
      "Training CE = 0.0027\n",
      "Test CE = 0.0007\n",
      "Test accuracy = 100.0%\n",
      "\n",
      " -------------------------------------\n"
     ]
    },
    {
     "name": "stderr",
     "output_type": "stream",
     "text": [
      " 78%|███████▊  | 78/100 [00:16<00:04,  4.89it/s]"
     ]
    },
    {
     "name": "stdout",
     "output_type": "stream",
     "text": [
      "Epoch 76 of 100\n",
      "Training CE = 0.0025\n",
      "Test CE = 0.0006\n",
      "Test accuracy = 100.0%\n",
      "\n",
      " -------------------------------------\n"
     ]
    },
    {
     "name": "stderr",
     "output_type": "stream",
     "text": [
      " 81%|████████  | 81/100 [00:17<00:03,  4.90it/s]"
     ]
    },
    {
     "name": "stdout",
     "output_type": "stream",
     "text": [
      "Epoch 80 of 100\n",
      "Training CE = 0.0023\n",
      "Test CE = 0.0006\n",
      "Test accuracy = 100.0%\n",
      "\n",
      " -------------------------------------\n"
     ]
    },
    {
     "name": "stderr",
     "output_type": "stream",
     "text": [
      " 86%|████████▌ | 86/100 [00:18<00:02,  4.81it/s]"
     ]
    },
    {
     "name": "stdout",
     "output_type": "stream",
     "text": [
      "Epoch 84 of 100\n",
      "Training CE = 0.0022\n",
      "Test CE = 0.0005\n",
      "Test accuracy = 100.0%\n",
      "\n",
      " -------------------------------------\n"
     ]
    },
    {
     "name": "stderr",
     "output_type": "stream",
     "text": [
      " 90%|█████████ | 90/100 [00:18<00:02,  4.89it/s]"
     ]
    },
    {
     "name": "stdout",
     "output_type": "stream",
     "text": [
      "Epoch 88 of 100\n",
      "Training CE = 0.0021\n",
      "Test CE = 0.0005\n",
      "Test accuracy = 100.0%\n",
      "\n",
      " -------------------------------------\n"
     ]
    },
    {
     "name": "stderr",
     "output_type": "stream",
     "text": [
      " 93%|█████████▎| 93/100 [00:19<00:01,  4.86it/s]"
     ]
    },
    {
     "name": "stdout",
     "output_type": "stream",
     "text": [
      "Epoch 92 of 100\n",
      "Training CE = 0.0020\n",
      "Test CE = 0.0005\n",
      "Test accuracy = 100.0%\n",
      "\n",
      " -------------------------------------\n"
     ]
    },
    {
     "name": "stderr",
     "output_type": "stream",
     "text": [
      " 98%|█████████▊| 98/100 [00:20<00:00,  4.88it/s]"
     ]
    },
    {
     "name": "stdout",
     "output_type": "stream",
     "text": [
      "Epoch 96 of 100\n",
      "Training CE = 0.0019\n",
      "Test CE = 0.0004\n",
      "Test accuracy = 100.0%\n",
      "\n",
      " -------------------------------------\n"
     ]
    },
    {
     "name": "stderr",
     "output_type": "stream",
     "text": [
      "100%|██████████| 100/100 [00:21<00:00,  4.76it/s]\n"
     ]
    },
    {
     "name": "stdout",
     "output_type": "stream",
     "text": [
      "Done!\n",
      "Final training cross-entropy = 0.0018\n",
      "Final test cross-entropy = 0.0004\n",
      "Final test accuracy = 100.0%\n"
     ]
    },
    {
     "name": "stderr",
     "output_type": "stream",
     "text": [
      "  1%|          | 1/100 [00:00<00:20,  4.78it/s]"
     ]
    },
    {
     "name": "stdout",
     "output_type": "stream",
     "text": [
      "Epoch 0 of 100\n",
      "Training CE = 2.3570\n",
      "Test CE = 2.3546\n",
      "Test accuracy = 0.0%\n",
      "\n",
      " -------------------------------------\n"
     ]
    },
    {
     "name": "stderr",
     "output_type": "stream",
     "text": [
      "  6%|▌         | 6/100 [00:01<00:19,  4.87it/s]"
     ]
    },
    {
     "name": "stdout",
     "output_type": "stream",
     "text": [
      "Epoch 4 of 100\n",
      "Training CE = 1.9059\n",
      "Test CE = 1.1533\n",
      "Test accuracy = 100.0%\n",
      "\n",
      " -------------------------------------\n"
     ]
    },
    {
     "name": "stderr",
     "output_type": "stream",
     "text": [
      "  9%|▉         | 9/100 [00:01<00:18,  4.84it/s]"
     ]
    },
    {
     "name": "stdout",
     "output_type": "stream",
     "text": [
      "Epoch 8 of 100\n",
      "Training CE = 0.5705\n",
      "Test CE = 0.0791\n",
      "Test accuracy = 100.0%\n",
      "\n",
      " -------------------------------------\n"
     ]
    },
    {
     "name": "stderr",
     "output_type": "stream",
     "text": [
      " 14%|█▍        | 14/100 [00:02<00:17,  4.88it/s]"
     ]
    },
    {
     "name": "stdout",
     "output_type": "stream",
     "text": [
      "Epoch 12 of 100\n",
      "Training CE = 0.2838\n",
      "Test CE = 0.0174\n",
      "Test accuracy = 100.0%\n",
      "\n",
      " -------------------------------------\n"
     ]
    },
    {
     "name": "stderr",
     "output_type": "stream",
     "text": [
      " 18%|█▊        | 18/100 [00:03<00:17,  4.79it/s]"
     ]
    },
    {
     "name": "stdout",
     "output_type": "stream",
     "text": [
      "Epoch 16 of 100\n",
      "Training CE = 0.1667\n",
      "Test CE = 0.0100\n",
      "Test accuracy = 100.0%\n",
      "\n",
      " -------------------------------------\n"
     ]
    },
    {
     "name": "stderr",
     "output_type": "stream",
     "text": [
      " 22%|██▏       | 22/100 [00:04<00:16,  4.85it/s]"
     ]
    },
    {
     "name": "stdout",
     "output_type": "stream",
     "text": [
      "Epoch 20 of 100\n",
      "Training CE = 0.0929\n",
      "Test CE = 0.0077\n",
      "Test accuracy = 100.0%\n",
      "\n",
      " -------------------------------------\n"
     ]
    },
    {
     "name": "stderr",
     "output_type": "stream",
     "text": [
      " 26%|██▌       | 26/100 [00:05<00:15,  4.90it/s]"
     ]
    },
    {
     "name": "stdout",
     "output_type": "stream",
     "text": [
      "Epoch 24 of 100\n",
      "Training CE = 0.0563\n",
      "Test CE = 0.0056\n",
      "Test accuracy = 100.0%\n",
      "\n",
      " -------------------------------------\n"
     ]
    },
    {
     "name": "stderr",
     "output_type": "stream",
     "text": [
      " 30%|███       | 30/100 [00:06<00:14,  4.93it/s]"
     ]
    },
    {
     "name": "stdout",
     "output_type": "stream",
     "text": [
      "Epoch 28 of 100\n",
      "Training CE = 0.0273\n",
      "Test CE = 0.0052\n",
      "Test accuracy = 100.0%\n",
      "\n",
      " -------------------------------------\n"
     ]
    },
    {
     "name": "stderr",
     "output_type": "stream",
     "text": [
      " 33%|███▎      | 33/100 [00:06<00:13,  4.87it/s]"
     ]
    },
    {
     "name": "stdout",
     "output_type": "stream",
     "text": [
      "Epoch 32 of 100\n",
      "Training CE = 0.0173\n",
      "Test CE = 0.0039\n",
      "Test accuracy = 100.0%\n",
      "\n",
      " -------------------------------------\n"
     ]
    },
    {
     "name": "stderr",
     "output_type": "stream",
     "text": [
      " 38%|███▊      | 38/100 [00:07<00:12,  4.85it/s]"
     ]
    },
    {
     "name": "stdout",
     "output_type": "stream",
     "text": [
      "Epoch 36 of 100\n",
      "Training CE = 0.0122\n",
      "Test CE = 0.0026\n",
      "Test accuracy = 100.0%\n",
      "\n",
      " -------------------------------------\n"
     ]
    },
    {
     "name": "stderr",
     "output_type": "stream",
     "text": [
      " 42%|████▏     | 42/100 [00:08<00:12,  4.78it/s]"
     ]
    },
    {
     "name": "stdout",
     "output_type": "stream",
     "text": [
      "Epoch 40 of 100\n",
      "Training CE = 0.0092\n",
      "Test CE = 0.0018\n",
      "Test accuracy = 100.0%\n",
      "\n",
      " -------------------------------------\n"
     ]
    },
    {
     "name": "stderr",
     "output_type": "stream",
     "text": [
      " 45%|████▌     | 45/100 [00:09<00:11,  4.84it/s]"
     ]
    },
    {
     "name": "stdout",
     "output_type": "stream",
     "text": [
      "Epoch 44 of 100\n",
      "Training CE = 0.0071\n",
      "Test CE = 0.0014\n",
      "Test accuracy = 100.0%\n",
      "\n",
      " -------------------------------------\n"
     ]
    },
    {
     "name": "stderr",
     "output_type": "stream",
     "text": [
      " 50%|█████     | 50/100 [00:10<00:10,  4.85it/s]"
     ]
    },
    {
     "name": "stdout",
     "output_type": "stream",
     "text": [
      "Epoch 48 of 100\n",
      "Training CE = 0.0056\n",
      "Test CE = 0.0011\n",
      "Test accuracy = 100.0%\n",
      "\n",
      " -------------------------------------\n"
     ]
    },
    {
     "name": "stderr",
     "output_type": "stream",
     "text": [
      " 54%|█████▍    | 54/100 [00:11<00:09,  4.90it/s]"
     ]
    },
    {
     "name": "stdout",
     "output_type": "stream",
     "text": [
      "Epoch 52 of 100\n",
      "Training CE = 0.0046\n",
      "Test CE = 0.0009\n",
      "Test accuracy = 100.0%\n",
      "\n",
      " -------------------------------------\n"
     ]
    },
    {
     "name": "stderr",
     "output_type": "stream",
     "text": [
      " 58%|█████▊    | 58/100 [00:12<00:08,  4.91it/s]"
     ]
    },
    {
     "name": "stdout",
     "output_type": "stream",
     "text": [
      "Epoch 56 of 100\n",
      "Training CE = 0.0039\n",
      "Test CE = 0.0008\n",
      "Test accuracy = 100.0%\n",
      "\n",
      " -------------------------------------\n"
     ]
    },
    {
     "name": "stderr",
     "output_type": "stream",
     "text": [
      " 62%|██████▏   | 62/100 [00:12<00:07,  4.89it/s]"
     ]
    },
    {
     "name": "stdout",
     "output_type": "stream",
     "text": [
      "Epoch 60 of 100\n",
      "Training CE = 0.0034\n",
      "Test CE = 0.0007\n",
      "Test accuracy = 100.0%\n",
      "\n",
      " -------------------------------------\n"
     ]
    },
    {
     "name": "stderr",
     "output_type": "stream",
     "text": [
      " 66%|██████▌   | 66/100 [00:13<00:06,  4.93it/s]"
     ]
    },
    {
     "name": "stdout",
     "output_type": "stream",
     "text": [
      "Epoch 64 of 100\n",
      "Training CE = 0.0030\n",
      "Test CE = 0.0006\n",
      "Test accuracy = 100.0%\n",
      "\n",
      " -------------------------------------\n"
     ]
    },
    {
     "name": "stderr",
     "output_type": "stream",
     "text": [
      " 69%|██████▉   | 69/100 [00:14<00:06,  4.91it/s]"
     ]
    },
    {
     "name": "stdout",
     "output_type": "stream",
     "text": [
      "Epoch 68 of 100\n",
      "Training CE = 0.0027\n",
      "Test CE = 0.0005\n",
      "Test accuracy = 100.0%\n",
      "\n",
      " -------------------------------------\n"
     ]
    },
    {
     "name": "stderr",
     "output_type": "stream",
     "text": [
      " 74%|███████▍  | 74/100 [00:15<00:05,  4.82it/s]"
     ]
    },
    {
     "name": "stdout",
     "output_type": "stream",
     "text": [
      "Epoch 72 of 100\n",
      "Training CE = 0.0025\n",
      "Test CE = 0.0005\n",
      "Test accuracy = 100.0%\n",
      "\n",
      " -------------------------------------\n"
     ]
    },
    {
     "name": "stderr",
     "output_type": "stream",
     "text": [
      " 78%|███████▊  | 78/100 [00:16<00:04,  4.86it/s]"
     ]
    },
    {
     "name": "stdout",
     "output_type": "stream",
     "text": [
      "Epoch 76 of 100\n",
      "Training CE = 0.0023\n",
      "Test CE = 0.0004\n",
      "Test accuracy = 100.0%\n",
      "\n",
      " -------------------------------------\n"
     ]
    },
    {
     "name": "stderr",
     "output_type": "stream",
     "text": [
      " 82%|████████▏ | 82/100 [00:16<00:03,  4.89it/s]"
     ]
    },
    {
     "name": "stdout",
     "output_type": "stream",
     "text": [
      "Epoch 80 of 100\n",
      "Training CE = 0.0022\n",
      "Test CE = 0.0004\n",
      "Test accuracy = 100.0%\n",
      "\n",
      " -------------------------------------\n"
     ]
    },
    {
     "name": "stderr",
     "output_type": "stream",
     "text": [
      " 85%|████████▌ | 85/100 [00:17<00:03,  4.85it/s]"
     ]
    },
    {
     "name": "stdout",
     "output_type": "stream",
     "text": [
      "Epoch 84 of 100\n",
      "Training CE = 0.0020\n",
      "Test CE = 0.0004\n",
      "Test accuracy = 100.0%\n",
      "\n",
      " -------------------------------------\n"
     ]
    },
    {
     "name": "stderr",
     "output_type": "stream",
     "text": [
      " 90%|█████████ | 90/100 [00:18<00:02,  4.81it/s]"
     ]
    },
    {
     "name": "stdout",
     "output_type": "stream",
     "text": [
      "Epoch 88 of 100\n",
      "Training CE = 0.0019\n",
      "Test CE = 0.0003\n",
      "Test accuracy = 100.0%\n",
      "\n",
      " -------------------------------------\n"
     ]
    },
    {
     "name": "stderr",
     "output_type": "stream",
     "text": [
      " 93%|█████████▎| 93/100 [00:19<00:01,  4.74it/s]"
     ]
    },
    {
     "name": "stdout",
     "output_type": "stream",
     "text": [
      "Epoch 92 of 100\n",
      "Training CE = 0.0018\n",
      "Test CE = 0.0003\n",
      "Test accuracy = 100.0%\n",
      "\n",
      " -------------------------------------\n"
     ]
    },
    {
     "name": "stderr",
     "output_type": "stream",
     "text": [
      " 98%|█████████▊| 98/100 [00:20<00:00,  4.82it/s]"
     ]
    },
    {
     "name": "stdout",
     "output_type": "stream",
     "text": [
      "Epoch 96 of 100\n",
      "Training CE = 0.0017\n",
      "Test CE = 0.0003\n",
      "Test accuracy = 100.0%\n",
      "\n",
      " -------------------------------------\n"
     ]
    },
    {
     "name": "stderr",
     "output_type": "stream",
     "text": [
      "100%|██████████| 100/100 [00:20<00:00,  4.83it/s]\n"
     ]
    },
    {
     "name": "stdout",
     "output_type": "stream",
     "text": [
      "Done!\n",
      "Final training cross-entropy = 0.0017\n",
      "Final test cross-entropy = 0.0003\n",
      "Final test accuracy = 100.0%\n"
     ]
    },
    {
     "name": "stderr",
     "output_type": "stream",
     "text": [
      "  2%|▏         | 2/100 [00:00<00:20,  4.86it/s]"
     ]
    },
    {
     "name": "stdout",
     "output_type": "stream",
     "text": [
      "Epoch 0 of 100\n",
      "Training CE = 2.3394\n",
      "Test CE = 2.3573\n",
      "Test accuracy = 20.0%\n",
      "\n",
      " -------------------------------------\n"
     ]
    },
    {
     "name": "stderr",
     "output_type": "stream",
     "text": [
      "  6%|▌         | 6/100 [00:01<00:19,  4.81it/s]"
     ]
    },
    {
     "name": "stdout",
     "output_type": "stream",
     "text": [
      "Epoch 4 of 100\n",
      "Training CE = 1.9911\n",
      "Test CE = 1.2228\n",
      "Test accuracy = 100.0%\n",
      "\n",
      " -------------------------------------\n"
     ]
    },
    {
     "name": "stderr",
     "output_type": "stream",
     "text": [
      " 10%|█         | 10/100 [00:02<00:18,  4.90it/s]"
     ]
    },
    {
     "name": "stdout",
     "output_type": "stream",
     "text": [
      "Epoch 8 of 100\n",
      "Training CE = 0.6038\n",
      "Test CE = 0.0953\n",
      "Test accuracy = 100.0%\n",
      "\n",
      " -------------------------------------\n"
     ]
    },
    {
     "name": "stderr",
     "output_type": "stream",
     "text": [
      " 13%|█▎        | 13/100 [00:02<00:18,  4.83it/s]"
     ]
    },
    {
     "name": "stdout",
     "output_type": "stream",
     "text": [
      "Epoch 12 of 100\n",
      "Training CE = 0.3211\n",
      "Test CE = 0.0381\n",
      "Test accuracy = 100.0%\n",
      "\n",
      " -------------------------------------\n"
     ]
    },
    {
     "name": "stderr",
     "output_type": "stream",
     "text": [
      " 18%|█▊        | 18/100 [00:03<00:16,  4.84it/s]"
     ]
    },
    {
     "name": "stdout",
     "output_type": "stream",
     "text": [
      "Epoch 16 of 100\n",
      "Training CE = 0.2166\n",
      "Test CE = 0.0184\n",
      "Test accuracy = 100.0%\n",
      "\n",
      " -------------------------------------\n"
     ]
    },
    {
     "name": "stderr",
     "output_type": "stream",
     "text": [
      " 22%|██▏       | 22/100 [00:04<00:16,  4.85it/s]"
     ]
    },
    {
     "name": "stdout",
     "output_type": "stream",
     "text": [
      "Epoch 20 of 100\n",
      "Training CE = 0.1726\n",
      "Test CE = 0.0180\n",
      "Test accuracy = 100.0%\n",
      "\n",
      " -------------------------------------\n"
     ]
    },
    {
     "name": "stderr",
     "output_type": "stream",
     "text": [
      " 26%|██▌       | 26/100 [00:05<00:15,  4.85it/s]"
     ]
    },
    {
     "name": "stdout",
     "output_type": "stream",
     "text": [
      "Epoch 24 of 100\n",
      "Training CE = 0.1111\n",
      "Test CE = 0.0114\n",
      "Test accuracy = 100.0%\n",
      "\n",
      " -------------------------------------\n"
     ]
    },
    {
     "name": "stderr",
     "output_type": "stream",
     "text": [
      " 30%|███       | 30/100 [00:06<00:14,  4.91it/s]"
     ]
    },
    {
     "name": "stdout",
     "output_type": "stream",
     "text": [
      "Epoch 28 of 100\n",
      "Training CE = 0.0706\n",
      "Test CE = 0.0127\n",
      "Test accuracy = 100.0%\n",
      "\n",
      " -------------------------------------\n"
     ]
    },
    {
     "name": "stderr",
     "output_type": "stream",
     "text": [
      " 33%|███▎      | 33/100 [00:06<00:13,  4.84it/s]"
     ]
    },
    {
     "name": "stdout",
     "output_type": "stream",
     "text": [
      "Epoch 32 of 100\n",
      "Training CE = 0.0525\n",
      "Test CE = 0.0151\n",
      "Test accuracy = 100.0%\n",
      "\n",
      " -------------------------------------\n"
     ]
    },
    {
     "name": "stderr",
     "output_type": "stream",
     "text": [
      " 37%|███▋      | 37/100 [00:07<00:13,  4.77it/s]"
     ]
    },
    {
     "name": "stdout",
     "output_type": "stream",
     "text": [
      "Epoch 36 of 100\n",
      "Training CE = 0.0316\n",
      "Test CE = 0.0077\n",
      "Test accuracy = 100.0%\n",
      "\n",
      " -------------------------------------\n"
     ]
    },
    {
     "name": "stderr",
     "output_type": "stream",
     "text": [
      " 41%|████      | 41/100 [00:08<00:12,  4.67it/s]"
     ]
    },
    {
     "name": "stdout",
     "output_type": "stream",
     "text": [
      "Epoch 40 of 100\n",
      "Training CE = 0.0195\n",
      "Test CE = 0.0065\n",
      "Test accuracy = 100.0%\n",
      "\n",
      " -------------------------------------\n"
     ]
    },
    {
     "name": "stderr",
     "output_type": "stream",
     "text": [
      " 45%|████▌     | 45/100 [00:09<00:11,  4.79it/s]"
     ]
    },
    {
     "name": "stdout",
     "output_type": "stream",
     "text": [
      "Epoch 44 of 100\n",
      "Training CE = 0.0147\n",
      "Test CE = 0.0051\n",
      "Test accuracy = 100.0%\n",
      "\n",
      " -------------------------------------\n"
     ]
    },
    {
     "name": "stderr",
     "output_type": "stream",
     "text": [
      " 50%|█████     | 50/100 [00:10<00:10,  4.85it/s]"
     ]
    },
    {
     "name": "stdout",
     "output_type": "stream",
     "text": [
      "Epoch 48 of 100\n",
      "Training CE = 0.0117\n",
      "Test CE = 0.0039\n",
      "Test accuracy = 100.0%\n",
      "\n",
      " -------------------------------------\n"
     ]
    },
    {
     "name": "stderr",
     "output_type": "stream",
     "text": [
      " 54%|█████▍    | 54/100 [00:11<00:09,  4.90it/s]"
     ]
    },
    {
     "name": "stdout",
     "output_type": "stream",
     "text": [
      "Epoch 52 of 100\n",
      "Training CE = 0.0094\n",
      "Test CE = 0.0030\n",
      "Test accuracy = 100.0%\n",
      "\n",
      " -------------------------------------\n"
     ]
    },
    {
     "name": "stderr",
     "output_type": "stream",
     "text": [
      " 57%|█████▋    | 57/100 [00:11<00:08,  4.88it/s]"
     ]
    },
    {
     "name": "stdout",
     "output_type": "stream",
     "text": [
      "Epoch 56 of 100\n",
      "Training CE = 0.0075\n",
      "Test CE = 0.0023\n",
      "Test accuracy = 100.0%\n",
      "\n",
      " -------------------------------------\n"
     ]
    },
    {
     "name": "stderr",
     "output_type": "stream",
     "text": [
      " 62%|██████▏   | 62/100 [00:12<00:07,  4.80it/s]"
     ]
    },
    {
     "name": "stdout",
     "output_type": "stream",
     "text": [
      "Epoch 60 of 100\n",
      "Training CE = 0.0059\n",
      "Test CE = 0.0019\n",
      "Test accuracy = 100.0%\n",
      "\n",
      " -------------------------------------\n"
     ]
    },
    {
     "name": "stderr",
     "output_type": "stream",
     "text": [
      " 65%|██████▌   | 65/100 [00:13<00:07,  4.81it/s]"
     ]
    },
    {
     "name": "stdout",
     "output_type": "stream",
     "text": [
      "Epoch 64 of 100\n",
      "Training CE = 0.0048\n",
      "Test CE = 0.0015\n",
      "Test accuracy = 100.0%\n",
      "\n",
      " -------------------------------------\n"
     ]
    },
    {
     "name": "stderr",
     "output_type": "stream",
     "text": [
      " 70%|███████   | 70/100 [00:14<00:06,  4.86it/s]"
     ]
    },
    {
     "name": "stdout",
     "output_type": "stream",
     "text": [
      "Epoch 68 of 100\n",
      "Training CE = 0.0040\n",
      "Test CE = 0.0013\n",
      "Test accuracy = 100.0%\n",
      "\n",
      " -------------------------------------\n"
     ]
    },
    {
     "name": "stderr",
     "output_type": "stream",
     "text": [
      " 74%|███████▍  | 74/100 [00:15<00:05,  4.86it/s]"
     ]
    },
    {
     "name": "stdout",
     "output_type": "stream",
     "text": [
      "Epoch 72 of 100\n",
      "Training CE = 0.0035\n",
      "Test CE = 0.0012\n",
      "Test accuracy = 100.0%\n",
      "\n",
      " -------------------------------------\n"
     ]
    },
    {
     "name": "stderr",
     "output_type": "stream",
     "text": [
      " 78%|███████▊  | 78/100 [00:16<00:04,  4.70it/s]"
     ]
    },
    {
     "name": "stdout",
     "output_type": "stream",
     "text": [
      "Epoch 76 of 100\n",
      "Training CE = 0.0031\n",
      "Test CE = 0.0010\n",
      "Test accuracy = 100.0%\n",
      "\n",
      " -------------------------------------\n"
     ]
    },
    {
     "name": "stderr",
     "output_type": "stream",
     "text": [
      " 81%|████████  | 81/100 [00:16<00:03,  4.78it/s]"
     ]
    },
    {
     "name": "stdout",
     "output_type": "stream",
     "text": [
      "Epoch 80 of 100\n",
      "Training CE = 0.0028\n",
      "Test CE = 0.0009\n",
      "Test accuracy = 100.0%\n",
      "\n",
      " -------------------------------------\n"
     ]
    },
    {
     "name": "stderr",
     "output_type": "stream",
     "text": [
      " 85%|████████▌ | 85/100 [00:17<00:03,  4.79it/s]"
     ]
    },
    {
     "name": "stdout",
     "output_type": "stream",
     "text": [
      "Epoch 84 of 100\n",
      "Training CE = 0.0026\n",
      "Test CE = 0.0009\n",
      "Test accuracy = 100.0%\n",
      "\n",
      " -------------------------------------\n"
     ]
    },
    {
     "name": "stderr",
     "output_type": "stream",
     "text": [
      " 89%|████████▉ | 89/100 [00:18<00:02,  4.85it/s]"
     ]
    },
    {
     "name": "stdout",
     "output_type": "stream",
     "text": [
      "Epoch 88 of 100\n",
      "Training CE = 0.0024\n",
      "Test CE = 0.0008\n",
      "Test accuracy = 100.0%\n",
      "\n",
      " -------------------------------------\n"
     ]
    },
    {
     "name": "stderr",
     "output_type": "stream",
     "text": [
      " 94%|█████████▍| 94/100 [00:19<00:01,  4.81it/s]"
     ]
    },
    {
     "name": "stdout",
     "output_type": "stream",
     "text": [
      "Epoch 92 of 100\n",
      "Training CE = 0.0022\n",
      "Test CE = 0.0007\n",
      "Test accuracy = 100.0%\n",
      "\n",
      " -------------------------------------\n"
     ]
    },
    {
     "name": "stderr",
     "output_type": "stream",
     "text": [
      " 98%|█████████▊| 98/100 [00:20<00:00,  4.87it/s]"
     ]
    },
    {
     "name": "stdout",
     "output_type": "stream",
     "text": [
      "Epoch 96 of 100\n",
      "Training CE = 0.0021\n",
      "Test CE = 0.0007\n",
      "Test accuracy = 100.0%\n",
      "\n",
      " -------------------------------------\n"
     ]
    },
    {
     "name": "stderr",
     "output_type": "stream",
     "text": [
      "100%|██████████| 100/100 [00:20<00:00,  4.80it/s]\n"
     ]
    },
    {
     "name": "stdout",
     "output_type": "stream",
     "text": [
      "Done!\n",
      "Final training cross-entropy = 0.0020\n",
      "Final test cross-entropy = 0.0007\n",
      "Final test accuracy = 100.0%\n"
     ]
    },
    {
     "name": "stderr",
     "output_type": "stream",
     "text": [
      "  2%|▏         | 2/100 [00:00<00:20,  4.84it/s]"
     ]
    },
    {
     "name": "stdout",
     "output_type": "stream",
     "text": [
      "Epoch 0 of 100\n",
      "Training CE = 2.3660\n",
      "Test CE = 2.3223\n",
      "Test accuracy = 20.0%\n",
      "\n",
      " -------------------------------------\n"
     ]
    },
    {
     "name": "stderr",
     "output_type": "stream",
     "text": [
      "  6%|▌         | 6/100 [00:01<00:19,  4.88it/s]"
     ]
    },
    {
     "name": "stdout",
     "output_type": "stream",
     "text": [
      "Epoch 4 of 100\n",
      "Training CE = 2.3061\n",
      "Test CE = 2.2203\n",
      "Test accuracy = 40.0%\n",
      "\n",
      " -------------------------------------\n"
     ]
    },
    {
     "name": "stderr",
     "output_type": "stream",
     "text": [
      " 10%|█         | 10/100 [00:02<00:18,  4.86it/s]"
     ]
    },
    {
     "name": "stdout",
     "output_type": "stream",
     "text": [
      "Epoch 8 of 100\n",
      "Training CE = 0.6758\n",
      "Test CE = 0.1608\n",
      "Test accuracy = 100.0%\n",
      "\n",
      " -------------------------------------\n"
     ]
    },
    {
     "name": "stderr",
     "output_type": "stream",
     "text": [
      " 13%|█▎        | 13/100 [00:02<00:18,  4.70it/s]"
     ]
    },
    {
     "name": "stdout",
     "output_type": "stream",
     "text": [
      "Epoch 12 of 100\n",
      "Training CE = 0.3163\n",
      "Test CE = 0.0878\n",
      "Test accuracy = 100.0%\n",
      "\n",
      " -------------------------------------\n"
     ]
    },
    {
     "name": "stderr",
     "output_type": "stream",
     "text": [
      " 17%|█▋        | 17/100 [00:03<00:17,  4.81it/s]"
     ]
    },
    {
     "name": "stdout",
     "output_type": "stream",
     "text": [
      "Epoch 16 of 100\n",
      "Training CE = 0.2071\n",
      "Test CE = 0.0388\n",
      "Test accuracy = 100.0%\n",
      "\n",
      " -------------------------------------\n"
     ]
    },
    {
     "name": "stderr",
     "output_type": "stream",
     "text": [
      " 22%|██▏       | 22/100 [00:04<00:15,  4.88it/s]"
     ]
    },
    {
     "name": "stdout",
     "output_type": "stream",
     "text": [
      "Epoch 20 of 100\n",
      "Training CE = 0.1445\n",
      "Test CE = 0.0158\n",
      "Test accuracy = 100.0%\n",
      "\n",
      " -------------------------------------\n"
     ]
    },
    {
     "name": "stderr",
     "output_type": "stream",
     "text": [
      " 26%|██▌       | 26/100 [00:05<00:15,  4.93it/s]"
     ]
    },
    {
     "name": "stdout",
     "output_type": "stream",
     "text": [
      "Epoch 24 of 100\n",
      "Training CE = 0.1041\n",
      "Test CE = 0.0143\n",
      "Test accuracy = 100.0%\n",
      "\n",
      " -------------------------------------\n"
     ]
    },
    {
     "name": "stderr",
     "output_type": "stream",
     "text": [
      " 30%|███       | 30/100 [00:06<00:14,  4.85it/s]"
     ]
    },
    {
     "name": "stdout",
     "output_type": "stream",
     "text": [
      "Epoch 28 of 100\n",
      "Training CE = 0.0540\n",
      "Test CE = 0.0166\n",
      "Test accuracy = 100.0%\n",
      "\n",
      " -------------------------------------\n"
     ]
    },
    {
     "name": "stderr",
     "output_type": "stream",
     "text": [
      " 33%|███▎      | 33/100 [00:06<00:13,  4.80it/s]"
     ]
    },
    {
     "name": "stdout",
     "output_type": "stream",
     "text": [
      "Epoch 32 of 100\n",
      "Training CE = 0.0383\n",
      "Test CE = 0.0148\n",
      "Test accuracy = 100.0%\n",
      "\n",
      " -------------------------------------\n"
     ]
    },
    {
     "name": "stderr",
     "output_type": "stream",
     "text": [
      " 37%|███▋      | 37/100 [00:07<00:13,  4.82it/s]"
     ]
    },
    {
     "name": "stdout",
     "output_type": "stream",
     "text": [
      "Epoch 36 of 100\n",
      "Training CE = 0.0346\n",
      "Test CE = 0.0095\n",
      "Test accuracy = 100.0%\n",
      "\n",
      " -------------------------------------\n"
     ]
    },
    {
     "name": "stderr",
     "output_type": "stream",
     "text": [
      " 42%|████▏     | 42/100 [00:08<00:11,  4.95it/s]"
     ]
    },
    {
     "name": "stdout",
     "output_type": "stream",
     "text": [
      "Epoch 40 of 100\n",
      "Training CE = 0.0309\n",
      "Test CE = 0.0073\n",
      "Test accuracy = 100.0%\n",
      "\n",
      " -------------------------------------\n"
     ]
    },
    {
     "name": "stderr",
     "output_type": "stream",
     "text": [
      " 46%|████▌     | 46/100 [00:09<00:11,  4.84it/s]"
     ]
    },
    {
     "name": "stdout",
     "output_type": "stream",
     "text": [
      "Epoch 44 of 100\n",
      "Training CE = 0.0416\n",
      "Test CE = 0.0068\n",
      "Test accuracy = 100.0%\n",
      "\n",
      " -------------------------------------\n"
     ]
    },
    {
     "name": "stderr",
     "output_type": "stream",
     "text": [
      " 50%|█████     | 50/100 [00:10<00:10,  4.79it/s]"
     ]
    },
    {
     "name": "stdout",
     "output_type": "stream",
     "text": [
      "Epoch 48 of 100\n",
      "Training CE = 0.0138\n",
      "Test CE = 0.0085\n",
      "Test accuracy = 100.0%\n",
      "\n",
      " -------------------------------------\n"
     ]
    },
    {
     "name": "stderr",
     "output_type": "stream",
     "text": [
      " 54%|█████▍    | 54/100 [00:11<00:09,  4.83it/s]"
     ]
    },
    {
     "name": "stdout",
     "output_type": "stream",
     "text": [
      "Epoch 52 of 100\n",
      "Training CE = 0.0061\n",
      "Test CE = 0.0052\n",
      "Test accuracy = 100.0%\n",
      "\n",
      " -------------------------------------\n"
     ]
    },
    {
     "name": "stderr",
     "output_type": "stream",
     "text": [
      " 57%|█████▋    | 57/100 [00:11<00:08,  4.80it/s]"
     ]
    },
    {
     "name": "stdout",
     "output_type": "stream",
     "text": [
      "Epoch 56 of 100\n",
      "Training CE = 0.0048\n",
      "Test CE = 0.0038\n",
      "Test accuracy = 100.0%\n",
      "\n",
      " -------------------------------------\n"
     ]
    },
    {
     "name": "stderr",
     "output_type": "stream",
     "text": [
      " 61%|██████    | 61/100 [00:12<00:08,  4.82it/s]"
     ]
    },
    {
     "name": "stdout",
     "output_type": "stream",
     "text": [
      "Epoch 60 of 100\n",
      "Training CE = 0.0040\n",
      "Test CE = 0.0029\n",
      "Test accuracy = 100.0%\n",
      "\n",
      " -------------------------------------\n"
     ]
    },
    {
     "name": "stderr",
     "output_type": "stream",
     "text": [
      " 65%|██████▌   | 65/100 [00:13<00:07,  4.85it/s]"
     ]
    },
    {
     "name": "stdout",
     "output_type": "stream",
     "text": [
      "Epoch 64 of 100\n",
      "Training CE = 0.0035\n",
      "Test CE = 0.0024\n",
      "Test accuracy = 100.0%\n",
      "\n",
      " -------------------------------------\n"
     ]
    },
    {
     "name": "stderr",
     "output_type": "stream",
     "text": [
      " 70%|███████   | 70/100 [00:14<00:06,  4.79it/s]"
     ]
    },
    {
     "name": "stdout",
     "output_type": "stream",
     "text": [
      "Epoch 68 of 100\n",
      "Training CE = 0.0031\n",
      "Test CE = 0.0020\n",
      "Test accuracy = 100.0%\n",
      "\n",
      " -------------------------------------\n"
     ]
    },
    {
     "name": "stderr",
     "output_type": "stream",
     "text": [
      " 74%|███████▍  | 74/100 [00:15<00:05,  4.89it/s]"
     ]
    },
    {
     "name": "stdout",
     "output_type": "stream",
     "text": [
      "Epoch 72 of 100\n",
      "Training CE = 0.0028\n",
      "Test CE = 0.0018\n",
      "Test accuracy = 100.0%\n",
      "\n",
      " -------------------------------------\n"
     ]
    },
    {
     "name": "stderr",
     "output_type": "stream",
     "text": [
      " 77%|███████▋  | 77/100 [00:16<00:04,  4.83it/s]"
     ]
    },
    {
     "name": "stdout",
     "output_type": "stream",
     "text": [
      "Epoch 76 of 100\n",
      "Training CE = 0.0026\n",
      "Test CE = 0.0016\n",
      "Test accuracy = 100.0%\n",
      "\n",
      " -------------------------------------\n"
     ]
    },
    {
     "name": "stderr",
     "output_type": "stream",
     "text": [
      " 81%|████████  | 81/100 [00:16<00:03,  4.91it/s]"
     ]
    },
    {
     "name": "stdout",
     "output_type": "stream",
     "text": [
      "Epoch 80 of 100\n",
      "Training CE = 0.0024\n",
      "Test CE = 0.0014\n",
      "Test accuracy = 100.0%\n",
      "\n",
      " -------------------------------------\n"
     ]
    },
    {
     "name": "stderr",
     "output_type": "stream",
     "text": [
      " 86%|████████▌ | 86/100 [00:17<00:02,  4.83it/s]"
     ]
    },
    {
     "name": "stdout",
     "output_type": "stream",
     "text": [
      "Epoch 84 of 100\n",
      "Training CE = 0.0022\n",
      "Test CE = 0.0013\n",
      "Test accuracy = 100.0%\n",
      "\n",
      " -------------------------------------\n"
     ]
    },
    {
     "name": "stderr",
     "output_type": "stream",
     "text": [
      " 90%|█████████ | 90/100 [00:18<00:02,  4.83it/s]"
     ]
    },
    {
     "name": "stdout",
     "output_type": "stream",
     "text": [
      "Epoch 88 of 100\n",
      "Training CE = 0.0021\n",
      "Test CE = 0.0012\n",
      "Test accuracy = 100.0%\n",
      "\n",
      " -------------------------------------\n"
     ]
    },
    {
     "name": "stderr",
     "output_type": "stream",
     "text": [
      " 94%|█████████▍| 94/100 [00:19<00:01,  4.89it/s]"
     ]
    },
    {
     "name": "stdout",
     "output_type": "stream",
     "text": [
      "Epoch 92 of 100\n",
      "Training CE = 0.0020\n",
      "Test CE = 0.0011\n",
      "Test accuracy = 100.0%\n",
      "\n",
      " -------------------------------------\n"
     ]
    },
    {
     "name": "stderr",
     "output_type": "stream",
     "text": [
      " 98%|█████████▊| 98/100 [00:20<00:00,  4.93it/s]"
     ]
    },
    {
     "name": "stdout",
     "output_type": "stream",
     "text": [
      "Epoch 96 of 100\n",
      "Training CE = 0.0019\n",
      "Test CE = 0.0010\n",
      "Test accuracy = 100.0%\n",
      "\n",
      " -------------------------------------\n"
     ]
    },
    {
     "name": "stderr",
     "output_type": "stream",
     "text": [
      "100%|██████████| 100/100 [00:20<00:00,  4.82it/s]"
     ]
    },
    {
     "name": "stdout",
     "output_type": "stream",
     "text": [
      "Done!\n",
      "Final training cross-entropy = 0.0018\n",
      "Final test cross-entropy = 0.0010\n",
      "Final test accuracy = 100.0%\n",
      "\n",
      " Ensemble training process has finished.\n"
     ]
    },
    {
     "name": "stderr",
     "output_type": "stream",
     "text": [
      "\n"
     ]
    }
   ],
   "source": [
    "### Deep Ensemble method\n",
    "\n",
    "ensemble_M = 5\n",
    "\n",
    "ensemble_model_list = []\n",
    "ensemble_opt_list = []\n",
    "ensemble_ce_training_list = np.empty(ensemble_M)\n",
    "ensemble_ce_test_list = np.empty(ensemble_M)\n",
    "ensemble_ce_acc_list = np.empty(ensemble_M)\n",
    "\n",
    "for i in range(ensemble_M):\n",
    "    ensemble_model_list.append(LeNet5())\n",
    "    ensemble_model_list[i].apply(init_weights)\n",
    "    ensemble_opt_list.append(torch.optim.Adam(ensemble_model_list[i].parameters(), lr=learning_rate, weight_decay=1e-5))\n",
    "\n",
    "for i in range(ensemble_M):\n",
    "    de_train_ce, de_test_ce, de_test_acc = df2.training(train_dataloader,test_dataloader,ensemble_model_list[i],ce_loss,ensemble_opt_list[i],epochs,verbose=True)\n",
    "    ensemble_ce_training_list[i] = de_train_ce\n",
    "    ensemble_ce_test_list[i] = de_test_ce\n",
    "    ensemble_ce_acc_list[i] = de_test_acc\n",
    "print('\\n Ensemble training process has finished.')"
   ]
  },
  {
   "cell_type": "code",
   "execution_count": 24,
   "metadata": {},
   "outputs": [],
   "source": [
    "### Ensemble predictions\n",
    "\n",
    "def ensemble_sampler(dataset,M):\n",
    "    ensemble_pred = torch.empty((M,len(dataset),10))\n",
    "    for i in range(ensemble_M):\n",
    "        pred_i = ensemble_model_list[i](dataset)\n",
    "        ensemble_pred[i,:,:] = pred_i\n",
    "    ensemble_pred_avg = ensemble_pred.mean(axis=0)\n",
    "    ensemble_pred_var = ensemble_pred.var(axis=0)\n",
    "    return ensemble_pred_avg, ensemble_pred_var\n",
    "\n",
    "ensemble_pred_avg, ensemble_pred_var = ensemble_sampler(test_x,ensemble_M)"
   ]
  },
  {
   "cell_type": "code",
   "execution_count": 31,
   "metadata": {},
   "outputs": [
    {
     "name": "stdout",
     "output_type": "stream",
     "text": [
      "Number of parameters p = 61706\n",
      "Number of training points = 1000\n"
     ]
    },
    {
     "name": "stderr",
     "output_type": "stream",
     "text": [
      "  1%|          | 1/100 [00:00<00:22,  4.47it/s]"
     ]
    },
    {
     "name": "stdout",
     "output_type": "stream",
     "text": [
      "Epoch 0 of 100\n",
      "Training CE = 2.4207\n",
      "Test CE = 2.3459\n",
      "Test accuracy = 20.0%\n",
      "\n",
      " -------------------------------------\n"
     ]
    },
    {
     "name": "stderr",
     "output_type": "stream",
     "text": [
      "  5%|▌         | 5/100 [00:01<00:20,  4.64it/s]"
     ]
    },
    {
     "name": "stdout",
     "output_type": "stream",
     "text": [
      "Epoch 4 of 100\n",
      "Training CE = 2.3012\n",
      "Test CE = 2.2490\n",
      "Test accuracy = 20.0%\n",
      "\n",
      " -------------------------------------\n"
     ]
    },
    {
     "name": "stderr",
     "output_type": "stream",
     "text": [
      " 10%|█         | 10/100 [00:02<00:18,  4.78it/s]"
     ]
    },
    {
     "name": "stdout",
     "output_type": "stream",
     "text": [
      "Epoch 8 of 100\n",
      "Training CE = 2.2983\n",
      "Test CE = 2.2410\n",
      "Test accuracy = 20.0%\n",
      "\n",
      " -------------------------------------\n"
     ]
    },
    {
     "name": "stderr",
     "output_type": "stream",
     "text": [
      " 14%|█▍        | 14/100 [00:02<00:18,  4.71it/s]"
     ]
    },
    {
     "name": "stdout",
     "output_type": "stream",
     "text": [
      "Epoch 12 of 100\n",
      "Training CE = 2.3011\n",
      "Test CE = 2.2512\n",
      "Test accuracy = 20.0%\n",
      "\n",
      " -------------------------------------\n"
     ]
    },
    {
     "name": "stderr",
     "output_type": "stream",
     "text": [
      " 17%|█▋        | 17/100 [00:03<00:17,  4.78it/s]"
     ]
    },
    {
     "name": "stdout",
     "output_type": "stream",
     "text": [
      "Epoch 16 of 100\n",
      "Training CE = 1.6529\n",
      "Test CE = 0.9533\n",
      "Test accuracy = 80.0%\n",
      "\n",
      " -------------------------------------\n"
     ]
    },
    {
     "name": "stderr",
     "output_type": "stream",
     "text": [
      " 21%|██        | 21/100 [00:04<00:16,  4.82it/s]"
     ]
    },
    {
     "name": "stdout",
     "output_type": "stream",
     "text": [
      "Epoch 20 of 100\n",
      "Training CE = 0.7395\n",
      "Test CE = 0.0631\n",
      "Test accuracy = 100.0%\n",
      "\n",
      " -------------------------------------\n"
     ]
    },
    {
     "name": "stderr",
     "output_type": "stream",
     "text": [
      " 26%|██▌       | 26/100 [00:05<00:15,  4.83it/s]"
     ]
    },
    {
     "name": "stdout",
     "output_type": "stream",
     "text": [
      "Epoch 24 of 100\n",
      "Training CE = 0.3887\n",
      "Test CE = 0.0176\n",
      "Test accuracy = 100.0%\n",
      "\n",
      " -------------------------------------\n"
     ]
    },
    {
     "name": "stderr",
     "output_type": "stream",
     "text": [
      " 30%|███       | 30/100 [00:06<00:14,  4.80it/s]"
     ]
    },
    {
     "name": "stdout",
     "output_type": "stream",
     "text": [
      "Epoch 28 of 100\n",
      "Training CE = 0.2591\n",
      "Test CE = 0.0093\n",
      "Test accuracy = 100.0%\n",
      "\n",
      " -------------------------------------\n"
     ]
    },
    {
     "name": "stderr",
     "output_type": "stream",
     "text": [
      " 33%|███▎      | 33/100 [00:06<00:13,  4.82it/s]"
     ]
    },
    {
     "name": "stdout",
     "output_type": "stream",
     "text": [
      "Epoch 32 of 100\n",
      "Training CE = 0.1633\n",
      "Test CE = 0.0042\n",
      "Test accuracy = 100.0%\n",
      "\n",
      " -------------------------------------\n"
     ]
    },
    {
     "name": "stderr",
     "output_type": "stream",
     "text": [
      " 38%|███▊      | 38/100 [00:07<00:12,  4.89it/s]"
     ]
    },
    {
     "name": "stdout",
     "output_type": "stream",
     "text": [
      "Epoch 36 of 100\n",
      "Training CE = 0.1164\n",
      "Test CE = 0.0028\n",
      "Test accuracy = 100.0%\n",
      "\n",
      " -------------------------------------\n"
     ]
    },
    {
     "name": "stderr",
     "output_type": "stream",
     "text": [
      " 42%|████▏     | 42/100 [00:08<00:11,  4.96it/s]"
     ]
    },
    {
     "name": "stdout",
     "output_type": "stream",
     "text": [
      "Epoch 40 of 100\n",
      "Training CE = 0.0860\n",
      "Test CE = 0.0019\n",
      "Test accuracy = 100.0%\n",
      "\n",
      " -------------------------------------\n"
     ]
    },
    {
     "name": "stderr",
     "output_type": "stream",
     "text": [
      " 46%|████▌     | 46/100 [00:09<00:10,  4.97it/s]"
     ]
    },
    {
     "name": "stdout",
     "output_type": "stream",
     "text": [
      "Epoch 44 of 100\n",
      "Training CE = 0.0605\n",
      "Test CE = 0.0024\n",
      "Test accuracy = 100.0%\n",
      "\n",
      " -------------------------------------\n"
     ]
    },
    {
     "name": "stderr",
     "output_type": "stream",
     "text": [
      " 50%|█████     | 50/100 [00:10<00:10,  4.94it/s]"
     ]
    },
    {
     "name": "stdout",
     "output_type": "stream",
     "text": [
      "Epoch 48 of 100\n",
      "Training CE = 0.0511\n",
      "Test CE = 0.0010\n",
      "Test accuracy = 100.0%\n",
      "\n",
      " -------------------------------------\n"
     ]
    },
    {
     "name": "stderr",
     "output_type": "stream",
     "text": [
      " 53%|█████▎    | 53/100 [00:11<00:10,  4.59it/s]"
     ]
    },
    {
     "name": "stdout",
     "output_type": "stream",
     "text": [
      "Epoch 52 of 100\n",
      "Training CE = 0.0414\n",
      "Test CE = 0.0016\n",
      "Test accuracy = 100.0%\n",
      "\n",
      " -------------------------------------\n"
     ]
    },
    {
     "name": "stderr",
     "output_type": "stream",
     "text": [
      " 58%|█████▊    | 58/100 [00:12<00:09,  4.63it/s]"
     ]
    },
    {
     "name": "stdout",
     "output_type": "stream",
     "text": [
      "Epoch 56 of 100\n",
      "Training CE = 0.0280\n",
      "Test CE = 0.0037\n",
      "Test accuracy = 100.0%\n",
      "\n",
      " -------------------------------------\n"
     ]
    },
    {
     "name": "stderr",
     "output_type": "stream",
     "text": [
      " 61%|██████    | 61/100 [00:12<00:08,  4.60it/s]"
     ]
    },
    {
     "name": "stdout",
     "output_type": "stream",
     "text": [
      "Epoch 60 of 100\n",
      "Training CE = 0.0283\n",
      "Test CE = 0.0012\n",
      "Test accuracy = 100.0%\n",
      "\n",
      " -------------------------------------\n"
     ]
    },
    {
     "name": "stderr",
     "output_type": "stream",
     "text": [
      " 65%|██████▌   | 65/100 [00:13<00:07,  4.72it/s]"
     ]
    },
    {
     "name": "stdout",
     "output_type": "stream",
     "text": [
      "Epoch 64 of 100\n",
      "Training CE = 0.0272\n",
      "Test CE = 0.0003\n",
      "Test accuracy = 100.0%\n",
      "\n",
      " -------------------------------------\n"
     ]
    },
    {
     "name": "stderr",
     "output_type": "stream",
     "text": [
      " 70%|███████   | 70/100 [00:14<00:06,  4.70it/s]"
     ]
    },
    {
     "name": "stdout",
     "output_type": "stream",
     "text": [
      "Epoch 68 of 100\n",
      "Training CE = 0.0199\n",
      "Test CE = 0.0003\n",
      "Test accuracy = 100.0%\n",
      "\n",
      " -------------------------------------\n"
     ]
    },
    {
     "name": "stderr",
     "output_type": "stream",
     "text": [
      " 74%|███████▍  | 74/100 [00:15<00:05,  4.85it/s]"
     ]
    },
    {
     "name": "stdout",
     "output_type": "stream",
     "text": [
      "Epoch 72 of 100\n",
      "Training CE = 0.0125\n",
      "Test CE = 0.0002\n",
      "Test accuracy = 100.0%\n",
      "\n",
      " -------------------------------------\n"
     ]
    },
    {
     "name": "stderr",
     "output_type": "stream",
     "text": [
      " 77%|███████▋  | 77/100 [00:16<00:04,  4.80it/s]"
     ]
    },
    {
     "name": "stdout",
     "output_type": "stream",
     "text": [
      "Epoch 76 of 100\n",
      "Training CE = 0.0111\n",
      "Test CE = 0.0002\n",
      "Test accuracy = 100.0%\n",
      "\n",
      " -------------------------------------\n"
     ]
    },
    {
     "name": "stderr",
     "output_type": "stream",
     "text": [
      " 82%|████████▏ | 82/100 [00:17<00:03,  4.84it/s]"
     ]
    },
    {
     "name": "stdout",
     "output_type": "stream",
     "text": [
      "Epoch 80 of 100\n",
      "Training CE = 0.0266\n",
      "Test CE = 0.0003\n",
      "Test accuracy = 100.0%\n",
      "\n",
      " -------------------------------------\n"
     ]
    },
    {
     "name": "stderr",
     "output_type": "stream",
     "text": [
      " 85%|████████▌ | 85/100 [00:17<00:03,  4.69it/s]"
     ]
    },
    {
     "name": "stdout",
     "output_type": "stream",
     "text": [
      "Epoch 84 of 100\n",
      "Training CE = 0.0179\n",
      "Test CE = 0.0003\n",
      "Test accuracy = 100.0%\n",
      "\n",
      " -------------------------------------\n"
     ]
    },
    {
     "name": "stderr",
     "output_type": "stream",
     "text": [
      " 90%|█████████ | 90/100 [00:18<00:02,  4.66it/s]"
     ]
    },
    {
     "name": "stdout",
     "output_type": "stream",
     "text": [
      "Epoch 88 of 100\n",
      "Training CE = 0.0084\n",
      "Test CE = 0.0001\n",
      "Test accuracy = 100.0%\n",
      "\n",
      " -------------------------------------\n"
     ]
    },
    {
     "name": "stderr",
     "output_type": "stream",
     "text": [
      " 93%|█████████▎| 93/100 [00:19<00:01,  4.74it/s]"
     ]
    },
    {
     "name": "stdout",
     "output_type": "stream",
     "text": [
      "Epoch 92 of 100\n",
      "Training CE = 0.0083\n",
      "Test CE = 0.0001\n",
      "Test accuracy = 100.0%\n",
      "\n",
      " -------------------------------------\n"
     ]
    },
    {
     "name": "stderr",
     "output_type": "stream",
     "text": [
      " 98%|█████████▊| 98/100 [00:20<00:00,  4.77it/s]"
     ]
    },
    {
     "name": "stdout",
     "output_type": "stream",
     "text": [
      "Epoch 96 of 100\n",
      "Training CE = 0.0118\n",
      "Test CE = 0.0000\n",
      "Test accuracy = 100.0%\n",
      "\n",
      " -------------------------------------\n"
     ]
    },
    {
     "name": "stderr",
     "output_type": "stream",
     "text": [
      "100%|██████████| 100/100 [00:21<00:00,  4.75it/s]"
     ]
    },
    {
     "name": "stdout",
     "output_type": "stream",
     "text": [
      "Done!\n",
      "Final training cross-entropy = 0.0116\n",
      "Final test cross-entropy = 0.0000\n",
      "Final test accuracy = 100.0%\n"
     ]
    },
    {
     "name": "stderr",
     "output_type": "stream",
     "text": [
      "\n"
     ]
    }
   ],
   "source": [
    "### MC Dropout\n",
    "reload(df)\n",
    "p = 0.5\n",
    "\n",
    "class LeNet5_Dropout(nn.Module):\n",
    "    def __init__(self):\n",
    "        super().__init__()\n",
    "        self.net = torch.nn.Sequential(\n",
    "            Reshape(),\n",
    "            nn.Conv2d(1, 6, kernel_size=5, padding=2),\n",
    "            nn.Sigmoid(),\n",
    "            nn.AvgPool2d(kernel_size=2, stride=2),\n",
    "            nn.Conv2d(6, 16, kernel_size=5),\n",
    "            nn.Sigmoid(),\n",
    "            nn.AvgPool2d(kernel_size=2, stride=2),\n",
    "            nn.Flatten(),\n",
    "            nn.Linear(16 * 5 * 5, 120),\n",
    "            nn.Sigmoid(),\n",
    "            nn.Linear(120, 84),\n",
    "            nn.Sigmoid(),\n",
    "            nn.Dropout(p),\n",
    "            nn.Linear(84, 10),\n",
    "        )\n",
    "\n",
    "    def forward(self,x):\n",
    "        return self.net(x)\n",
    "\n",
    "dropout_net = LeNet5_Dropout()\n",
    "dropout_net.eval()\n",
    "dropout_net.apply(init_weights)\n",
    "\n",
    "print(\"Number of parameters p = {}\".format(sum(p.numel() for p in dropout_net.parameters() if p.requires_grad)))\n",
    "print(\"Number of training points = {}\".format(len(training_data)))\n",
    "\n",
    "dropout_lr = 5e-3\n",
    "dropout_optimizer = torch.optim.Adam(dropout_net.parameters(), lr=dropout_lr, weight_decay=1e-5)\n",
    "\n",
    "dropout_train_cr, dropout_test_ce, dropout_test_acc = df2.training(train_dataloader,test_dataloader,dropout_net,ce_loss,dropout_optimizer, epochs,verbose=True)\n",
    "\n"
   ]
  },
  {
   "cell_type": "code",
   "execution_count": 32,
   "metadata": {},
   "outputs": [],
   "source": [
    "### MC Dropout Prediction\n",
    "def dropout_active(m):\n",
    "    if isinstance(m,nn.Dropout):\n",
    "        m.train()\n",
    "\n",
    "def dropout_sampler(dataset,T):\n",
    "    dropout_net.eval()\n",
    "    dropout_net.apply(dropout_active)\n",
    "    dropout_pred_samples = torch.empty((len(dataset),N_OUTPUT,T))\n",
    "    for t in range(T):\n",
    "        y_hat = dropout_net(dataset)\n",
    "        dropout_pred_samples[:,:,t] = y_hat\n",
    "    dropout_pred = dropout_pred_samples.mean(axis=2)\n",
    "    dropout_pred_var = dropout_pred_samples.var(axis=2)\n",
    "\n",
    "    return dropout_pred, dropout_pred_var\n",
    "\n",
    "T = 30\n",
    "dropout_pred, dropout_pred_var = dropout_sampler(test_x,T)"
   ]
  },
  {
   "cell_type": "code",
   "execution_count": 11,
   "metadata": {},
   "outputs": [
    {
     "name": "stderr",
     "output_type": "stream",
     "text": [
      "Cloning into 'temperature_scaling'...\n"
     ]
    }
   ],
   "source": [
    "!git clone https://github.com/gpleiss/temperature_scaling.git"
   ]
  },
  {
   "cell_type": "code",
   "execution_count": 10,
   "metadata": {},
   "outputs": [
    {
     "name": "stdout",
     "output_type": "stream",
     "text": [
      "Number of parameters p = 61706\n",
      "Number of training points = 1000\n"
     ]
    },
    {
     "name": "stderr",
     "output_type": "stream",
     "text": [
      "  1%|          | 1/100 [00:00<00:25,  3.85it/s]"
     ]
    },
    {
     "name": "stdout",
     "output_type": "stream",
     "text": [
      "Epoch 0 of 100\n",
      "Training CE = 2.370\n",
      "Test CE = 2.33\n",
      "Test accuracy = 15.0%\n"
     ]
    },
    {
     "name": "stderr",
     "output_type": "stream",
     "text": [
      "  5%|▌         | 5/100 [00:01<00:23,  4.06it/s]"
     ]
    },
    {
     "name": "stdout",
     "output_type": "stream",
     "text": [
      "Epoch 4 of 100\n",
      "Training CE = 2.313\n",
      "Test CE = 2.30\n",
      "Test accuracy = 15.0%\n"
     ]
    },
    {
     "name": "stderr",
     "output_type": "stream",
     "text": [
      "  9%|▉         | 9/100 [00:02<00:22,  4.07it/s]"
     ]
    },
    {
     "name": "stdout",
     "output_type": "stream",
     "text": [
      "Epoch 8 of 100\n",
      "Training CE = 1.769\n",
      "Test CE = 1.31\n",
      "Test accuracy = 59.0%\n"
     ]
    },
    {
     "name": "stderr",
     "output_type": "stream",
     "text": [
      " 13%|█▎        | 13/100 [00:03<00:21,  4.10it/s]"
     ]
    },
    {
     "name": "stdout",
     "output_type": "stream",
     "text": [
      "Epoch 12 of 100\n",
      "Training CE = 0.381\n",
      "Test CE = 0.40\n",
      "Test accuracy = 85.0%\n"
     ]
    },
    {
     "name": "stderr",
     "output_type": "stream",
     "text": [
      " 17%|█▋        | 17/100 [00:04<00:20,  4.09it/s]"
     ]
    },
    {
     "name": "stdout",
     "output_type": "stream",
     "text": [
      "Epoch 16 of 100\n",
      "Training CE = 0.204\n",
      "Test CE = 0.26\n",
      "Test accuracy = 90.0%\n"
     ]
    },
    {
     "name": "stderr",
     "output_type": "stream",
     "text": [
      " 21%|██        | 21/100 [00:05<00:19,  4.10it/s]"
     ]
    },
    {
     "name": "stdout",
     "output_type": "stream",
     "text": [
      "Epoch 20 of 100\n",
      "Training CE = 0.127\n",
      "Test CE = 0.27\n",
      "Test accuracy = 89.0%\n"
     ]
    },
    {
     "name": "stderr",
     "output_type": "stream",
     "text": [
      " 25%|██▌       | 25/100 [00:06<00:17,  4.17it/s]"
     ]
    },
    {
     "name": "stdout",
     "output_type": "stream",
     "text": [
      "Epoch 24 of 100\n",
      "Training CE = 0.065\n",
      "Test CE = 0.21\n",
      "Test accuracy = 93.0%\n"
     ]
    },
    {
     "name": "stderr",
     "output_type": "stream",
     "text": [
      " 29%|██▉       | 29/100 [00:07<00:17,  4.10it/s]"
     ]
    },
    {
     "name": "stdout",
     "output_type": "stream",
     "text": [
      "Epoch 28 of 100\n",
      "Training CE = 0.042\n",
      "Test CE = 0.22\n",
      "Test accuracy = 92.0%\n"
     ]
    },
    {
     "name": "stderr",
     "output_type": "stream",
     "text": [
      " 33%|███▎      | 33/100 [00:08<00:16,  4.13it/s]"
     ]
    },
    {
     "name": "stdout",
     "output_type": "stream",
     "text": [
      "Epoch 32 of 100\n",
      "Training CE = 0.034\n",
      "Test CE = 0.15\n",
      "Test accuracy = 96.0%\n"
     ]
    },
    {
     "name": "stderr",
     "output_type": "stream",
     "text": [
      " 37%|███▋      | 37/100 [00:09<00:15,  4.18it/s]"
     ]
    },
    {
     "name": "stdout",
     "output_type": "stream",
     "text": [
      "Epoch 36 of 100\n",
      "Training CE = 0.019\n",
      "Test CE = 0.13\n",
      "Test accuracy = 98.0%\n"
     ]
    },
    {
     "name": "stderr",
     "output_type": "stream",
     "text": [
      " 41%|████      | 41/100 [00:09<00:14,  4.19it/s]"
     ]
    },
    {
     "name": "stdout",
     "output_type": "stream",
     "text": [
      "Epoch 40 of 100\n",
      "Training CE = 0.013\n",
      "Test CE = 0.13\n",
      "Test accuracy = 98.0%\n"
     ]
    },
    {
     "name": "stderr",
     "output_type": "stream",
     "text": [
      " 45%|████▌     | 45/100 [00:10<00:13,  4.14it/s]"
     ]
    },
    {
     "name": "stdout",
     "output_type": "stream",
     "text": [
      "Epoch 44 of 100\n",
      "Training CE = 0.010\n",
      "Test CE = 0.13\n",
      "Test accuracy = 98.0%\n"
     ]
    },
    {
     "name": "stderr",
     "output_type": "stream",
     "text": [
      " 49%|████▉     | 49/100 [00:11<00:12,  4.08it/s]"
     ]
    },
    {
     "name": "stdout",
     "output_type": "stream",
     "text": [
      "Epoch 48 of 100\n",
      "Training CE = 0.008\n",
      "Test CE = 0.13\n",
      "Test accuracy = 98.0%\n"
     ]
    },
    {
     "name": "stderr",
     "output_type": "stream",
     "text": [
      " 53%|█████▎    | 53/100 [00:12<00:11,  4.10it/s]"
     ]
    },
    {
     "name": "stdout",
     "output_type": "stream",
     "text": [
      "Epoch 52 of 100\n",
      "Training CE = 0.006\n",
      "Test CE = 0.14\n",
      "Test accuracy = 98.0%\n"
     ]
    },
    {
     "name": "stderr",
     "output_type": "stream",
     "text": [
      " 57%|█████▋    | 57/100 [00:13<00:10,  4.12it/s]"
     ]
    },
    {
     "name": "stdout",
     "output_type": "stream",
     "text": [
      "Epoch 56 of 100\n",
      "Training CE = 0.005\n",
      "Test CE = 0.14\n",
      "Test accuracy = 98.0%\n"
     ]
    },
    {
     "name": "stderr",
     "output_type": "stream",
     "text": [
      " 61%|██████    | 61/100 [00:14<00:09,  4.20it/s]"
     ]
    },
    {
     "name": "stdout",
     "output_type": "stream",
     "text": [
      "Epoch 60 of 100\n",
      "Training CE = 0.004\n",
      "Test CE = 0.14\n",
      "Test accuracy = 98.0%\n"
     ]
    },
    {
     "name": "stderr",
     "output_type": "stream",
     "text": [
      " 65%|██████▌   | 65/100 [00:15<00:08,  4.19it/s]"
     ]
    },
    {
     "name": "stdout",
     "output_type": "stream",
     "text": [
      "Epoch 64 of 100\n",
      "Training CE = 0.004\n",
      "Test CE = 0.14\n",
      "Test accuracy = 98.0%\n"
     ]
    },
    {
     "name": "stderr",
     "output_type": "stream",
     "text": [
      " 69%|██████▉   | 69/100 [00:16<00:07,  4.18it/s]"
     ]
    },
    {
     "name": "stdout",
     "output_type": "stream",
     "text": [
      "Epoch 68 of 100\n",
      "Training CE = 0.003\n",
      "Test CE = 0.14\n",
      "Test accuracy = 98.0%\n"
     ]
    },
    {
     "name": "stderr",
     "output_type": "stream",
     "text": [
      " 73%|███████▎  | 73/100 [00:17<00:06,  4.06it/s]"
     ]
    },
    {
     "name": "stdout",
     "output_type": "stream",
     "text": [
      "Epoch 72 of 100\n",
      "Training CE = 0.003\n",
      "Test CE = 0.14\n",
      "Test accuracy = 98.0%\n"
     ]
    },
    {
     "name": "stderr",
     "output_type": "stream",
     "text": [
      " 77%|███████▋  | 77/100 [00:18<00:05,  4.10it/s]"
     ]
    },
    {
     "name": "stdout",
     "output_type": "stream",
     "text": [
      "Epoch 76 of 100\n",
      "Training CE = 0.003\n",
      "Test CE = 0.14\n",
      "Test accuracy = 98.0%\n"
     ]
    },
    {
     "name": "stderr",
     "output_type": "stream",
     "text": [
      " 81%|████████  | 81/100 [00:19<00:04,  4.14it/s]"
     ]
    },
    {
     "name": "stdout",
     "output_type": "stream",
     "text": [
      "Epoch 80 of 100\n",
      "Training CE = 0.003\n",
      "Test CE = 0.14\n",
      "Test accuracy = 98.0%\n"
     ]
    },
    {
     "name": "stderr",
     "output_type": "stream",
     "text": [
      " 85%|████████▌ | 85/100 [00:20<00:03,  4.13it/s]"
     ]
    },
    {
     "name": "stdout",
     "output_type": "stream",
     "text": [
      "Epoch 84 of 100\n",
      "Training CE = 0.002\n",
      "Test CE = 0.13\n",
      "Test accuracy = 98.0%\n"
     ]
    },
    {
     "name": "stderr",
     "output_type": "stream",
     "text": [
      " 89%|████████▉ | 89/100 [00:21<00:02,  4.17it/s]"
     ]
    },
    {
     "name": "stdout",
     "output_type": "stream",
     "text": [
      "Epoch 88 of 100\n",
      "Training CE = 0.002\n",
      "Test CE = 0.13\n",
      "Test accuracy = 98.0%\n"
     ]
    },
    {
     "name": "stderr",
     "output_type": "stream",
     "text": [
      " 93%|█████████▎| 93/100 [00:22<00:01,  4.18it/s]"
     ]
    },
    {
     "name": "stdout",
     "output_type": "stream",
     "text": [
      "Epoch 92 of 100\n",
      "Training CE = 0.002\n",
      "Test CE = 0.13\n",
      "Test accuracy = 98.0%\n"
     ]
    },
    {
     "name": "stderr",
     "output_type": "stream",
     "text": [
      " 97%|█████████▋| 97/100 [00:23<00:00,  4.06it/s]"
     ]
    },
    {
     "name": "stdout",
     "output_type": "stream",
     "text": [
      "Epoch 96 of 100\n",
      "Training CE = 0.002\n",
      "Test CE = 0.13\n",
      "Test accuracy = 97.0%\n"
     ]
    },
    {
     "name": "stderr",
     "output_type": "stream",
     "text": [
      "100%|██████████| 100/100 [00:24<00:00,  4.10it/s]"
     ]
    },
    {
     "name": "stdout",
     "output_type": "stream",
     "text": [
      "Done!\n",
      "Final net training cross-entropy = 0.002\n",
      "Final net test cross-entropy = 0.13\n",
      "Final net test accuracy = 97.0%\n"
     ]
    },
    {
     "name": "stderr",
     "output_type": "stream",
     "text": [
      "\n"
     ]
    }
   ],
   "source": [
    "### Setup Temp Scaling Network\n",
    "scale_net = LeNet5()\n",
    "scale_net.eval()\n",
    "scale_net.apply(init_weights)\n",
    "\n",
    "print(\"Number of parameters p = {}\".format(sum(p.numel() for p in scale_net.parameters() if p.requires_grad)))\n",
    "print(\"Number of training points = {}\".format(len(training_data)))\n",
    "\n",
    "learning_rate = 5e-3\n",
    "batch_size = 50\n",
    "epochs = 100\n",
    "\n",
    "train_dataloader = DataLoader(training_data, batch_size)\n",
    "test_dataloader = DataLoader(test_data, N_TEST)\n",
    "\n",
    "loss_fn = nn.CrossEntropyLoss()\n",
    "temp_optimizer = torch.optim.Adam(scale_net.parameters(), lr=learning_rate, weight_decay=1e-5)\n",
    "\n",
    "for epoch in tqdm(range(epochs)):\n",
    "    cnn_scale_train_ce = df.train_loop(train_dataloader, scale_net, loss_fn, optimizer, train_mode=False)\n",
    "    cnn_scale_test_ce, cnn_scale_test_acc = df.test_loop(test_dataloader, scale_net, loss_fn)\n",
    "    if epoch % int(epochs/(epochs/4)) == 0:\n",
    "        print(\"Epoch {} of {}\".format(epoch,epochs))\n",
    "        print(\"Training CE = {:.3f}\".format(cnn_scale_train_ce))\n",
    "        print(\"Test CE = {:.2f}\".format(cnn_scale_test_ce))\n",
    "        print(\"Test accuracy = {:.1f}%\".format(100*cnn_scale_test_acc))\n",
    "print(\"Done!\")\n",
    "print(\"Final net training cross-entropy = {:.3f}\".format(cnn_scale_train_ce))\n",
    "print(\"Final net test cross-entropy = {:.2f}\".format(cnn_scale_test_ce))\n",
    "print(\"Final net test accuracy = {:.1f}%\".format(100*cnn_scale_test_acc))\n"
   ]
  },
  {
   "cell_type": "code",
   "execution_count": 11,
   "metadata": {},
   "outputs": [
    {
     "name": "stdout",
     "output_type": "stream",
     "text": [
      "Before temperature - NLL: 0.127, ECE: 0.044\n",
      "Optimal temperature: 1.373\n",
      "After temperature - NLL: 0.127, ECE: 0.045\n"
     ]
    }
   ],
   "source": [
    "from temperature_scaling import ModelWithTemperature\n",
    "\n",
    "scaled_model = ModelWithTemperature(scale_net)\n",
    "scaled_model.set_temperature(test_dataloader)\n",
    "\n",
    "scaled_model_preds = scaled_model(test_x)"
   ]
  },
  {
   "cell_type": "code",
   "execution_count": 10,
   "metadata": {},
   "outputs": [
    {
     "name": "stdout",
     "output_type": "stream",
     "text": [
      "Number of parameters p = 61706\n",
      "Number of training points = 1000\n"
     ]
    },
    {
     "name": "stderr",
     "output_type": "stream",
     "text": [
      "  1%|          | 1/100 [00:00<00:26,  3.69it/s]"
     ]
    },
    {
     "name": "stdout",
     "output_type": "stream",
     "text": [
      "Epoch 0 of 100\n",
      "Training CE = 2.345\n",
      "Test CE = 2.33\n",
      "Test accuracy = 15.0%\n"
     ]
    },
    {
     "name": "stderr",
     "output_type": "stream",
     "text": [
      "  5%|▌         | 5/100 [00:01<00:25,  3.75it/s]"
     ]
    },
    {
     "name": "stdout",
     "output_type": "stream",
     "text": [
      "Epoch 4 of 100\n",
      "Training CE = 2.070\n",
      "Test CE = 1.78\n",
      "Test accuracy = 56.0%\n"
     ]
    },
    {
     "name": "stderr",
     "output_type": "stream",
     "text": [
      "  9%|▉         | 9/100 [00:02<00:24,  3.75it/s]"
     ]
    },
    {
     "name": "stdout",
     "output_type": "stream",
     "text": [
      "Epoch 8 of 100\n",
      "Training CE = 0.657\n",
      "Test CE = 0.62\n",
      "Test accuracy = 80.0%\n"
     ]
    },
    {
     "name": "stderr",
     "output_type": "stream",
     "text": [
      " 13%|█▎        | 13/100 [00:03<00:23,  3.78it/s]"
     ]
    },
    {
     "name": "stdout",
     "output_type": "stream",
     "text": [
      "Epoch 12 of 100\n",
      "Training CE = 0.327\n",
      "Test CE = 0.36\n",
      "Test accuracy = 87.0%\n"
     ]
    },
    {
     "name": "stderr",
     "output_type": "stream",
     "text": [
      " 17%|█▋        | 17/100 [00:04<00:21,  3.79it/s]"
     ]
    },
    {
     "name": "stdout",
     "output_type": "stream",
     "text": [
      "Epoch 16 of 100\n",
      "Training CE = 0.216\n",
      "Test CE = 0.30\n",
      "Test accuracy = 89.0%\n"
     ]
    },
    {
     "name": "stderr",
     "output_type": "stream",
     "text": [
      " 21%|██        | 21/100 [00:05<00:20,  3.77it/s]"
     ]
    },
    {
     "name": "stdout",
     "output_type": "stream",
     "text": [
      "Epoch 20 of 100\n",
      "Training CE = 0.144\n",
      "Test CE = 0.20\n",
      "Test accuracy = 93.0%\n"
     ]
    },
    {
     "name": "stderr",
     "output_type": "stream",
     "text": [
      " 25%|██▌       | 25/100 [00:06<00:19,  3.76it/s]"
     ]
    },
    {
     "name": "stdout",
     "output_type": "stream",
     "text": [
      "Epoch 24 of 100\n",
      "Training CE = 0.082\n",
      "Test CE = 0.26\n",
      "Test accuracy = 90.0%\n"
     ]
    },
    {
     "name": "stderr",
     "output_type": "stream",
     "text": [
      " 29%|██▉       | 29/100 [00:07<00:18,  3.76it/s]"
     ]
    },
    {
     "name": "stdout",
     "output_type": "stream",
     "text": [
      "Epoch 28 of 100\n",
      "Training CE = 0.049\n",
      "Test CE = 0.14\n",
      "Test accuracy = 96.0%\n"
     ]
    },
    {
     "name": "stderr",
     "output_type": "stream",
     "text": [
      " 33%|███▎      | 33/100 [00:08<00:17,  3.77it/s]"
     ]
    },
    {
     "name": "stdout",
     "output_type": "stream",
     "text": [
      "Epoch 32 of 100\n",
      "Training CE = 0.028\n",
      "Test CE = 0.20\n",
      "Test accuracy = 94.0%\n"
     ]
    },
    {
     "name": "stderr",
     "output_type": "stream",
     "text": [
      " 37%|███▋      | 37/100 [00:09<00:16,  3.75it/s]"
     ]
    },
    {
     "name": "stdout",
     "output_type": "stream",
     "text": [
      "Epoch 36 of 100\n",
      "Training CE = 0.025\n",
      "Test CE = 0.12\n",
      "Test accuracy = 96.0%\n"
     ]
    },
    {
     "name": "stderr",
     "output_type": "stream",
     "text": [
      " 41%|████      | 41/100 [00:10<00:15,  3.75it/s]"
     ]
    },
    {
     "name": "stdout",
     "output_type": "stream",
     "text": [
      "Epoch 40 of 100\n",
      "Training CE = 0.019\n",
      "Test CE = 0.14\n",
      "Test accuracy = 96.0%\n"
     ]
    },
    {
     "name": "stderr",
     "output_type": "stream",
     "text": [
      " 45%|████▌     | 45/100 [00:11<00:14,  3.75it/s]"
     ]
    },
    {
     "name": "stdout",
     "output_type": "stream",
     "text": [
      "Epoch 44 of 100\n",
      "Training CE = 0.008\n",
      "Test CE = 0.13\n",
      "Test accuracy = 96.0%\n"
     ]
    },
    {
     "name": "stderr",
     "output_type": "stream",
     "text": [
      " 49%|████▉     | 49/100 [00:13<00:13,  3.75it/s]"
     ]
    },
    {
     "name": "stdout",
     "output_type": "stream",
     "text": [
      "Epoch 48 of 100\n",
      "Training CE = 0.006\n",
      "Test CE = 0.12\n",
      "Test accuracy = 96.0%\n"
     ]
    },
    {
     "name": "stderr",
     "output_type": "stream",
     "text": [
      " 53%|█████▎    | 53/100 [00:14<00:12,  3.72it/s]"
     ]
    },
    {
     "name": "stdout",
     "output_type": "stream",
     "text": [
      "Epoch 52 of 100\n",
      "Training CE = 0.005\n",
      "Test CE = 0.12\n",
      "Test accuracy = 96.0%\n"
     ]
    },
    {
     "name": "stderr",
     "output_type": "stream",
     "text": [
      " 57%|█████▋    | 57/100 [00:15<00:11,  3.70it/s]"
     ]
    },
    {
     "name": "stdout",
     "output_type": "stream",
     "text": [
      "Epoch 56 of 100\n",
      "Training CE = 0.004\n",
      "Test CE = 0.12\n",
      "Test accuracy = 96.0%\n"
     ]
    },
    {
     "name": "stderr",
     "output_type": "stream",
     "text": [
      " 61%|██████    | 61/100 [00:16<00:10,  3.71it/s]"
     ]
    },
    {
     "name": "stdout",
     "output_type": "stream",
     "text": [
      "Epoch 60 of 100\n",
      "Training CE = 0.004\n",
      "Test CE = 0.12\n",
      "Test accuracy = 96.0%\n"
     ]
    },
    {
     "name": "stderr",
     "output_type": "stream",
     "text": [
      " 65%|██████▌   | 65/100 [00:17<00:09,  3.72it/s]"
     ]
    },
    {
     "name": "stdout",
     "output_type": "stream",
     "text": [
      "Epoch 64 of 100\n",
      "Training CE = 0.003\n",
      "Test CE = 0.12\n",
      "Test accuracy = 96.0%\n"
     ]
    },
    {
     "name": "stderr",
     "output_type": "stream",
     "text": [
      " 69%|██████▉   | 69/100 [00:18<00:08,  3.71it/s]"
     ]
    },
    {
     "name": "stdout",
     "output_type": "stream",
     "text": [
      "Epoch 68 of 100\n",
      "Training CE = 0.003\n",
      "Test CE = 0.12\n",
      "Test accuracy = 96.0%\n"
     ]
    },
    {
     "name": "stderr",
     "output_type": "stream",
     "text": [
      " 73%|███████▎  | 73/100 [00:19<00:07,  3.71it/s]"
     ]
    },
    {
     "name": "stdout",
     "output_type": "stream",
     "text": [
      "Epoch 72 of 100\n",
      "Training CE = 0.003\n",
      "Test CE = 0.12\n",
      "Test accuracy = 96.0%\n"
     ]
    },
    {
     "name": "stderr",
     "output_type": "stream",
     "text": [
      " 77%|███████▋  | 77/100 [00:20<00:06,  3.74it/s]"
     ]
    },
    {
     "name": "stdout",
     "output_type": "stream",
     "text": [
      "Epoch 76 of 100\n",
      "Training CE = 0.002\n",
      "Test CE = 0.12\n",
      "Test accuracy = 96.0%\n"
     ]
    },
    {
     "name": "stderr",
     "output_type": "stream",
     "text": [
      " 81%|████████  | 81/100 [00:21<00:05,  3.75it/s]"
     ]
    },
    {
     "name": "stdout",
     "output_type": "stream",
     "text": [
      "Epoch 80 of 100\n",
      "Training CE = 0.002\n",
      "Test CE = 0.12\n",
      "Test accuracy = 96.0%\n"
     ]
    },
    {
     "name": "stderr",
     "output_type": "stream",
     "text": [
      " 85%|████████▌ | 85/100 [00:22<00:03,  3.77it/s]"
     ]
    },
    {
     "name": "stdout",
     "output_type": "stream",
     "text": [
      "Epoch 84 of 100\n",
      "Training CE = 0.002\n",
      "Test CE = 0.12\n",
      "Test accuracy = 96.0%\n"
     ]
    },
    {
     "name": "stderr",
     "output_type": "stream",
     "text": [
      " 89%|████████▉ | 89/100 [00:23<00:02,  3.77it/s]"
     ]
    },
    {
     "name": "stdout",
     "output_type": "stream",
     "text": [
      "Epoch 88 of 100\n",
      "Training CE = 0.002\n",
      "Test CE = 0.12\n",
      "Test accuracy = 96.0%\n"
     ]
    },
    {
     "name": "stderr",
     "output_type": "stream",
     "text": [
      " 93%|█████████▎| 93/100 [00:24<00:01,  3.80it/s]"
     ]
    },
    {
     "name": "stdout",
     "output_type": "stream",
     "text": [
      "Epoch 92 of 100\n",
      "Training CE = 0.002\n",
      "Test CE = 0.12\n",
      "Test accuracy = 96.0%\n"
     ]
    },
    {
     "name": "stderr",
     "output_type": "stream",
     "text": [
      " 97%|█████████▋| 97/100 [00:25<00:00,  3.84it/s]"
     ]
    },
    {
     "name": "stdout",
     "output_type": "stream",
     "text": [
      "Epoch 96 of 100\n",
      "Training CE = 0.002\n",
      "Test CE = 0.12\n",
      "Test accuracy = 96.0%\n"
     ]
    },
    {
     "name": "stderr",
     "output_type": "stream",
     "text": [
      "100%|██████████| 100/100 [00:26<00:00,  3.75it/s]"
     ]
    },
    {
     "name": "stdout",
     "output_type": "stream",
     "text": [
      "Done!\n",
      "Final net training cross-entropy = 0.002\n",
      "Final net test cross-entropy = 0.12\n",
      "Final net test accuracy = 96.0%\n"
     ]
    },
    {
     "name": "stderr",
     "output_type": "stream",
     "text": [
      "\n"
     ]
    }
   ],
   "source": [
    "### Setup SWAG Network\n",
    "swag_net = LeNet5()\n",
    "swag_net.eval()\n",
    "swag_net.apply(init_weights)\n",
    "\n",
    "print(\"Number of parameters p = {}\".format(sum(p.numel() for p in swag_net.parameters() if p.requires_grad)))\n",
    "print(\"Number of training points = {}\".format(len(training_data)))\n",
    "\n",
    "learning_rate = 5e-3\n",
    "batch_size = 50\n",
    "epochs = 100\n",
    "\n",
    "train_dataloader = DataLoader(training_data, batch_size)\n",
    "test_dataloader = DataLoader(test_data, N_TEST)\n",
    "\n",
    "loss_fn = nn.CrossEntropyLoss()\n",
    "optimizer = torch.optim.Adam(swag_net.parameters(), lr=learning_rate, weight_decay=1e-5)\n",
    "\n",
    "for epoch in tqdm(range(epochs)):\n",
    "    cnn_swag_train_ce = df.train_loop(train_dataloader, swag_net, loss_fn, optimizer, train_mode=False)\n",
    "    cnn_swag_test_ce, cnn_swag_test_acc = df.test_loop(test_dataloader, swag_net, loss_fn)\n",
    "    if epoch % int(epochs/(epochs/4)) == 0:\n",
    "        print(\"Epoch {} of {}\".format(epoch,epochs))\n",
    "        print(\"Training CE = {:.3f}\".format(cnn_swag_train_ce))\n",
    "        print(\"Test CE = {:.2f}\".format(cnn_swag_test_ce))\n",
    "        print(\"Test accuracy = {:.1f}%\".format(100*cnn_swag_test_acc))\n",
    "print(\"Done!\")\n",
    "print(\"Final net training cross-entropy = {:.3f}\".format(cnn_swag_train_ce))\n",
    "print(\"Final net test cross-entropy = {:.2f}\".format(cnn_swag_test_ce))\n",
    "print(\"Final net test accuracy = {:.1f}%\".format(100*cnn_swag_test_acc))\n",
    "\n"
   ]
  },
  {
   "cell_type": "code",
   "execution_count": 154,
   "metadata": {},
   "outputs": [
    {
     "name": "stdout",
     "output_type": "stream",
     "text": [
      "Parameter containing:\n",
      "tensor([[[[ 0.2251,  0.2326,  0.2320, -0.0765, -0.3672],\n",
      "          [ 0.7372,  0.9352,  0.8193,  0.2548, -0.2375],\n",
      "          [ 0.9756,  1.0778,  0.6039,  0.0594, -0.3410],\n",
      "          [ 0.8394,  0.6937,  0.3516,  0.0095, -0.2682],\n",
      "          [ 0.3961,  0.2539, -0.2452, -0.4023, -0.4935]]],\n",
      "\n",
      "\n",
      "        [[[-0.2919, -0.8070, -1.0781, -0.9570, -0.4508],\n",
      "          [-0.5307, -1.4128, -1.1329, -0.6410, -0.2779],\n",
      "          [-0.5944, -0.9978, -0.7163, -0.2880, -0.0312],\n",
      "          [-0.3903, -0.4780, -0.2246,  0.1388,  0.6960],\n",
      "          [ 0.2206,  0.4049,  0.6846,  1.0102,  1.1895]]],\n",
      "\n",
      "\n",
      "        [[[ 0.0077, -0.1290, -0.1942, -0.6041, -0.6166],\n",
      "          [-0.6428, -0.6762, -1.1552, -1.1588, -0.5332],\n",
      "          [-0.4122, -1.1208, -1.0030, -0.6547, -0.2094],\n",
      "          [-0.3764, -0.7941, -0.9212, -0.2245,  0.0860],\n",
      "          [-0.0602, -0.4151, -0.2715,  0.3081,  0.7625]]],\n",
      "\n",
      "\n",
      "        [[[-0.3199, -0.4944, -0.8423, -0.9922, -1.0280],\n",
      "          [-0.3000, -0.6538, -1.2384, -1.0308, -0.8721],\n",
      "          [-0.0037, -0.6058, -0.8578, -0.7702, -0.3451],\n",
      "          [ 0.3763, -0.0731, -0.2339,  0.0810,  0.5603],\n",
      "          [ 0.8916,  0.7321,  0.6554,  0.8242,  1.2073]]],\n",
      "\n",
      "\n",
      "        [[[ 0.8398,  0.6738,  0.4932,  0.5182,  0.3687],\n",
      "          [-0.0738, -0.1698, -0.3117, -0.3410, -0.4907],\n",
      "          [-0.3758, -0.9479, -1.1515, -1.3610, -0.9436],\n",
      "          [-0.3026, -0.9038, -1.2810, -0.8356, -0.4332],\n",
      "          [-0.2671, -0.6697, -0.5631, -0.2485,  0.0355]]],\n",
      "\n",
      "\n",
      "        [[[ 0.3038,  0.2005, -0.0257, -0.5108, -0.7222],\n",
      "          [ 0.0518, -0.5381, -0.7888, -1.2576, -0.9473],\n",
      "          [-0.1534, -0.8152, -1.0631, -1.0733, -0.3085],\n",
      "          [-0.1037, -0.9022, -1.0696, -0.4562,  0.2087],\n",
      "          [ 0.0989, -0.7933, -0.8320, -0.0627,  0.5372]]]], requires_grad=True)\n",
      "Parameter containing:\n",
      "tensor([-0.3239,  0.5229,  0.6591,  0.9428,  0.5796,  0.4834],\n",
      "       requires_grad=True)\n",
      "Parameter containing:\n",
      "tensor([[[[ 1.7234e-01,  1.8481e-01,  2.7777e-01,  3.4489e-01,  2.5312e-01],\n",
      "          [ 1.6393e-01,  1.3580e-01,  4.1426e-01,  3.0809e-01,  1.6195e-01],\n",
      "          [ 6.8639e-02,  5.5266e-02,  3.6360e-01,  3.7648e-01,  2.2889e-01],\n",
      "          [ 1.2670e-01,  7.1372e-02,  3.9378e-01,  4.5655e-01,  4.0792e-01],\n",
      "          [ 3.8434e-02,  1.6478e-01,  3.5112e-01,  3.8255e-01,  2.8213e-01]],\n",
      "\n",
      "         [[ 1.0884e-01, -1.0042e-01, -2.6231e-01, -1.9787e-01,  1.2058e-01],\n",
      "          [ 8.7845e-02, -2.2451e-01, -8.5133e-01, -5.7359e-01,  1.0888e-01],\n",
      "          [ 2.5119e-01, -2.5877e-01, -8.3208e-01, -4.3737e-01,  3.4653e-01],\n",
      "          [ 2.6005e-01, -3.2066e-01, -1.0190e+00, -4.7765e-01,  1.6366e-01],\n",
      "          [ 1.5035e-01, -2.7272e-01, -5.4955e-01, -1.9603e-01,  3.7309e-02]],\n",
      "\n",
      "         [[ 1.2771e-01,  3.5561e-02, -2.5407e-01, -2.0833e-01,  2.0366e-01],\n",
      "          [ 2.6243e-01, -2.2531e-01, -8.7742e-01, -1.4792e-01,  2.7408e-01],\n",
      "          [ 2.8189e-01, -1.6692e-01, -8.7112e-01, -2.1767e-01,  1.4040e-01],\n",
      "          [ 2.2428e-01, -2.9327e-01, -8.8844e-01, -3.9646e-01, -1.5524e-02],\n",
      "          [ 5.8747e-02, -9.7798e-02, -3.0608e-01, -4.2410e-02,  1.1623e-01]],\n",
      "\n",
      "         [[-1.5764e-02, -1.4360e-01, -1.6454e-01,  1.9723e-02,  4.2590e-02],\n",
      "          [-1.3412e-01, -4.9018e-01, -6.0979e-01, -1.3614e-01,  1.8505e-01],\n",
      "          [ 1.6870e-01, -4.3103e-01, -5.1524e-01,  1.8722e-01,  4.0313e-01],\n",
      "          [ 8.1454e-02, -3.9010e-01, -6.5700e-01, -2.5142e-02,  2.2788e-01],\n",
      "          [ 3.8944e-02, -2.8799e-01, -3.4665e-01, -6.7363e-02,  1.3335e-01]],\n",
      "\n",
      "         [[ 9.6283e-03, -5.1228e-01, -7.8550e-01, -2.7030e-01,  9.9459e-02],\n",
      "          [ 9.7418e-02, -6.2855e-01, -1.0731e+00, -2.1904e-01,  1.6872e-01],\n",
      "          [ 6.6741e-02, -5.5201e-01, -1.0837e+00, -3.1879e-01,  5.5774e-02],\n",
      "          [ 9.4364e-02, -4.9767e-01, -7.7591e-01, -3.2462e-01,  5.4716e-02],\n",
      "          [ 7.6327e-02, -1.0303e-01, -3.4731e-02,  1.1696e-01, -8.6890e-03]],\n",
      "\n",
      "         [[ 1.7204e-01,  3.1891e-02, -3.0392e-01,  2.9131e-02,  2.4469e-01],\n",
      "          [ 2.4666e-01, -2.5226e-01, -6.9175e-01,  1.7329e-02,  3.0282e-01],\n",
      "          [ 3.4403e-01, -3.2621e-01, -6.4366e-01, -2.6693e-02, -9.1430e-04],\n",
      "          [ 2.3988e-01, -4.4215e-01, -8.1996e-01, -3.1691e-01,  4.8442e-02],\n",
      "          [ 7.9944e-02, -2.3259e-01, -3.3317e-01,  2.1108e-02, -2.3845e-02]]],\n",
      "\n",
      "\n",
      "        [[[-1.1138e-01, -8.6967e-02,  1.1384e-01,  2.9634e-01,  2.5785e-01],\n",
      "          [-1.6083e-01,  1.0846e-01,  3.7609e-01,  4.0620e-01,  2.0878e-01],\n",
      "          [ 5.4694e-02,  2.3113e-01,  4.1907e-01,  2.3604e-01,  1.6514e-01],\n",
      "          [ 4.9931e-02,  2.3184e-01,  1.0716e-01,  1.7185e-01,  1.6489e-01],\n",
      "          [ 1.2833e-01,  1.0274e-01, -3.6288e-02, -4.3786e-02,  7.6574e-02]],\n",
      "\n",
      "         [[ 3.0856e-01,  1.2657e-01, -5.4076e-02, -1.2934e-01,  9.5155e-02],\n",
      "          [ 2.3237e-01, -2.1833e-01, -4.3637e-01, -3.2683e-01,  1.1930e-01],\n",
      "          [ 1.0110e-02, -6.0142e-01, -8.3862e-01, -3.4658e-01,  7.2770e-02],\n",
      "          [-2.8413e-01, -6.2178e-01, -3.8421e-01,  4.1232e-03,  3.3840e-02],\n",
      "          [-1.5747e-01,  2.2835e-02,  2.4787e-01,  2.4674e-01,  7.0352e-02]],\n",
      "\n",
      "         [[ 3.0317e-01,  1.0510e-01, -9.6533e-02, -1.3566e-01,  2.4426e-01],\n",
      "          [ 9.7818e-02, -1.6490e-01, -4.5427e-01, -3.2749e-01,  1.2857e-01],\n",
      "          [-6.4025e-02, -4.5143e-01, -5.9740e-01, -2.6425e-01,  7.7136e-02],\n",
      "          [-2.0056e-01, -3.8935e-01, -1.9194e-01,  8.6956e-02, -8.9962e-02],\n",
      "          [ 1.7658e-01,  1.3925e-01,  3.3625e-01,  2.2826e-01,  1.0894e-01]],\n",
      "\n",
      "         [[ 2.4228e-01,  1.3460e-01, -8.3675e-02, -9.8396e-02,  2.7516e-01],\n",
      "          [ 1.8416e-01, -2.1193e-01, -4.1363e-01, -1.1635e-01,  1.5746e-01],\n",
      "          [-4.3816e-02, -7.3374e-01, -5.7781e-01, -3.5053e-02,  1.9337e-01],\n",
      "          [-1.6695e-01, -4.4190e-01, -2.4533e-01,  1.4470e-01,  1.3018e-01],\n",
      "          [-7.1596e-04,  1.7671e-01,  3.8630e-01,  1.2801e-01,  1.3746e-01]],\n",
      "\n",
      "         [[ 2.1687e-01, -2.1637e-01, -4.8376e-01, -2.1387e-01,  1.5734e-01],\n",
      "          [-4.7608e-03, -4.9791e-01, -6.5451e-01, -2.6038e-01,  5.0148e-02],\n",
      "          [-2.0626e-01, -7.0221e-01, -4.3711e-01, -4.1857e-02,  7.0450e-02],\n",
      "          [-1.4413e-01, -1.3875e-01,  6.2225e-02,  2.3101e-01,  1.1164e-02],\n",
      "          [ 2.7229e-01,  2.8390e-01,  2.4847e-01,  1.5929e-01,  2.6620e-02]],\n",
      "\n",
      "         [[ 2.1190e-01, -1.6276e-03, -2.6261e-01,  9.0869e-03,  1.5207e-01],\n",
      "          [ 1.3415e-01, -2.4418e-01, -5.4711e-01, -2.6480e-01, -5.7479e-03],\n",
      "          [-1.9616e-01, -6.5510e-01, -5.4389e-01, -1.6838e-01,  1.1834e-03],\n",
      "          [-2.5077e-01, -3.7541e-01, -7.9321e-02, -3.4645e-02, -5.3484e-02],\n",
      "          [ 7.5107e-02,  1.8800e-01,  1.9655e-01,  1.5679e-01,  3.3416e-02]]],\n",
      "\n",
      "\n",
      "        [[[-1.2936e-01,  3.8604e-02, -1.0620e-01, -1.0521e-01, -6.5738e-02],\n",
      "          [-1.4394e-01, -4.9516e-02, -1.9204e-01, -2.8393e-01, -3.6574e-01],\n",
      "          [-6.8258e-02, -1.4216e-01, -2.6346e-01, -4.2408e-01, -3.9661e-01],\n",
      "          [-2.0500e-03, -2.8435e-01, -2.3937e-01, -4.1381e-01, -2.1228e-01],\n",
      "          [ 5.7700e-02, -5.6898e-02, -2.5833e-01, -1.9047e-01, -5.1254e-03]],\n",
      "\n",
      "         [[-2.6157e-01, -1.4037e-01, -2.9192e-02, -5.0581e-02,  1.7870e-02],\n",
      "          [-2.3680e-01, -3.5174e-02, -7.4588e-03,  2.0336e-01,  1.2960e-01],\n",
      "          [-9.8735e-02,  1.5030e-01,  3.9844e-01,  4.6347e-01,  1.8853e-01],\n",
      "          [ 1.0791e-03,  3.3323e-01,  5.2951e-01,  3.7775e-01,  4.8749e-02],\n",
      "          [-1.1278e-01,  2.0938e-01,  2.4308e-01, -2.8748e-02, -2.3959e-01]],\n",
      "\n",
      "         [[-2.2998e-01, -1.2279e-01, -2.2420e-02, -8.6692e-02, -1.0536e-01],\n",
      "          [-1.0101e-01, -1.0099e-02,  1.9686e-01,  1.8583e-01,  8.4431e-02],\n",
      "          [-1.0374e-03,  2.3695e-01,  4.0838e-01,  4.3481e-01,  7.7627e-03],\n",
      "          [ 9.9333e-02,  2.0967e-01,  3.9579e-01,  2.4579e-01, -1.2662e-01],\n",
      "          [-9.2288e-02,  1.3584e-01,  4.3654e-02, -2.2358e-01, -2.3510e-01]],\n",
      "\n",
      "         [[-1.8446e-01, -1.5575e-01, -1.9897e-01, -1.3812e-01, -1.3706e-01],\n",
      "          [-2.4751e-01, -1.3839e-01,  3.7165e-02, -9.4225e-02, -2.3435e-01],\n",
      "          [-1.3518e-01,  7.0167e-02,  2.3339e-01,  7.6132e-02,  2.2089e-02],\n",
      "          [ 2.3528e-02,  1.9723e-01,  4.0303e-01,  4.7742e-02, -1.9097e-01],\n",
      "          [ 8.1294e-02,  9.7595e-02,  8.1485e-03, -1.3076e-01, -2.7849e-01]],\n",
      "\n",
      "         [[-1.5696e-01, -5.0336e-02,  6.9327e-02,  4.4051e-02, -1.0608e-01],\n",
      "          [-3.6819e-02,  2.1517e-01,  4.8296e-01,  3.1316e-01,  1.5752e-01],\n",
      "          [ 1.5984e-01,  3.0984e-01,  5.5586e-01,  2.5607e-01, -1.6688e-02],\n",
      "          [ 4.0517e-03,  3.3934e-01,  1.5203e-01, -1.1097e-01, -3.1284e-01],\n",
      "          [ 1.8301e-02, -1.9490e-02, -1.0856e-01, -2.3364e-01, -1.8823e-01]],\n",
      "\n",
      "         [[-2.1171e-01, -7.3161e-02,  5.4400e-02,  1.1871e-01, -1.5450e-01],\n",
      "          [-1.0005e-01,  2.0068e-01,  2.3168e-01,  3.5036e-01,  1.0068e-03],\n",
      "          [-4.6168e-02,  3.7251e-01,  5.4160e-01,  2.5803e-01,  1.7509e-03],\n",
      "          [ 1.8803e-02,  2.6523e-01,  2.9724e-01,  9.1427e-03, -1.5632e-01],\n",
      "          [-4.1875e-02, -1.8141e-02,  2.3920e-02, -2.4881e-01, -2.4797e-01]]],\n",
      "\n",
      "\n",
      "        ...,\n",
      "\n",
      "\n",
      "        [[[ 3.5726e-01,  4.6150e-02,  1.0502e-01,  4.9856e-02,  5.2638e-02],\n",
      "          [ 2.3585e-01, -1.5373e-02,  3.0432e-01,  4.1485e-01,  8.0646e-02],\n",
      "          [ 8.2278e-02,  1.5613e-01,  3.9584e-01,  4.5634e-01,  2.7631e-01],\n",
      "          [ 9.8029e-02,  9.5365e-02,  2.9289e-01,  3.0435e-01,  3.1768e-01],\n",
      "          [ 1.1634e-01,  5.7872e-02,  1.4169e-01,  1.1357e-01,  2.4416e-01]],\n",
      "\n",
      "         [[ 1.4342e-01,  4.3035e-01,  2.5755e-01, -1.8207e-02,  1.2714e-01],\n",
      "          [ 4.1808e-04,  2.8809e-02, -1.9051e-01, -1.6375e-01,  2.6261e-01],\n",
      "          [-1.1311e-02, -2.0409e-01, -6.1256e-01, -3.2086e-01,  1.2677e-01],\n",
      "          [-2.0738e-01, -6.5927e-01, -9.6754e-01, -5.6110e-01, -6.4426e-02],\n",
      "          [-1.2549e-01, -1.6358e-01, -3.3757e-01, -1.3464e-01, -1.4925e-01]],\n",
      "\n",
      "         [[ 2.0942e-01,  2.8415e-01,  3.1182e-01,  9.8260e-02,  2.8814e-01],\n",
      "          [-1.5318e-02,  2.2460e-02, -3.0203e-01, -1.2300e-01,  2.4489e-01],\n",
      "          [-2.7500e-02, -3.5043e-01, -6.3549e-01, -4.2989e-01,  5.4098e-03],\n",
      "          [-1.9310e-01, -5.2695e-01, -6.9827e-01, -3.9580e-01, -1.8301e-01],\n",
      "          [-1.3329e-02,  6.3213e-02, -1.0935e-01, -1.2720e-01, -1.2202e-01]],\n",
      "\n",
      "         [[ 1.7572e-01,  4.3823e-01,  3.4280e-01,  2.1338e-01,  2.6645e-01],\n",
      "          [ 8.7103e-02,  2.1676e-01,  2.9159e-02,  1.5466e-01,  2.7880e-01],\n",
      "          [-8.0514e-02, -2.1661e-01, -4.2128e-01, -3.8268e-02,  2.8429e-01],\n",
      "          [-2.3868e-01, -6.3207e-01, -6.5057e-01, -6.1386e-02,  1.7109e-01],\n",
      "          [-1.1483e-01, -1.4442e-01, -1.7228e-01,  8.0411e-02, -3.1782e-02]],\n",
      "\n",
      "         [[ 1.7235e-01,  4.7011e-02, -9.0298e-02, -5.9764e-02,  1.9048e-01],\n",
      "          [-3.4891e-02, -3.0377e-01, -5.7558e-01, -2.6177e-01,  1.2506e-01],\n",
      "          [-2.7482e-01, -5.9876e-01, -9.0504e-01, -4.4553e-01, -1.2264e-01],\n",
      "          [-2.0286e-01, -4.4462e-01, -4.8156e-01, -3.0901e-01, -1.9478e-01],\n",
      "          [ 2.6051e-01,  3.2549e-01,  2.0693e-01,  2.8535e-02,  5.6312e-02]],\n",
      "\n",
      "         [[ 1.6404e-01,  2.8379e-01,  1.0418e-01,  6.8210e-02,  2.8442e-01],\n",
      "          [ 2.3291e-02, -2.0359e-01, -2.2188e-01, -1.2867e-01,  1.8293e-01],\n",
      "          [-2.8661e-01, -4.1231e-01, -6.7606e-01, -3.4435e-01, -7.6118e-02],\n",
      "          [-2.7802e-01, -4.8496e-01, -5.6014e-01, -3.8760e-01, -1.4237e-01],\n",
      "          [ 3.8329e-02,  3.7540e-04, -1.2367e-01, -1.0321e-01, -1.3394e-01]]],\n",
      "\n",
      "\n",
      "        [[[ 2.0402e-01,  1.7752e-01,  1.2359e-01, -1.1128e-02, -8.0936e-02],\n",
      "          [ 1.3692e-01,  2.6247e-01,  2.7309e-01,  2.8597e-01,  1.3092e-01],\n",
      "          [ 2.2775e-01,  2.0790e-01,  1.1997e-01,  3.7595e-01,  3.4181e-01],\n",
      "          [ 3.5996e-02,  1.8068e-02, -1.6891e-02,  5.8480e-02,  7.6788e-02],\n",
      "          [ 1.5514e-02, -1.1790e-01, -2.9310e-01, -7.3663e-02,  4.1419e-02]],\n",
      "\n",
      "         [[ 8.6953e-02,  1.6915e-02,  1.5282e-01,  1.1413e-01,  3.0760e-01],\n",
      "          [-2.8775e-01, -4.1412e-01, -3.2527e-01, -1.6969e-01,  1.8201e-01],\n",
      "          [-3.4524e-01, -5.8862e-01, -8.1391e-01, -7.0334e-01, -3.2939e-01],\n",
      "          [-4.5774e-02, -1.6023e-01, -4.0171e-01, -4.2079e-01, -2.9964e-01],\n",
      "          [ 2.7419e-01,  2.6825e-01,  2.9149e-01,  9.5880e-02, -8.8473e-02]],\n",
      "\n",
      "         [[ 3.9732e-02,  1.1446e-02,  1.7893e-01,  3.2452e-01,  2.6585e-01],\n",
      "          [-2.0190e-01, -4.0558e-01, -4.5402e-01, -2.5012e-01,  3.2083e-02],\n",
      "          [-2.6911e-01, -3.4740e-01, -6.8176e-01, -6.9408e-01, -4.0978e-01],\n",
      "          [ 1.0104e-01,  1.6144e-01, -1.1448e-01, -1.4916e-01, -2.6953e-01],\n",
      "          [ 3.2702e-01,  4.8671e-01,  4.0888e-01,  2.6218e-01,  2.4811e-03]],\n",
      "\n",
      "         [[ 2.4309e-02,  2.7161e-01,  2.8276e-01,  3.1908e-01,  3.7473e-01],\n",
      "          [-2.0198e-01, -1.0941e-01, -7.2980e-02,  1.7868e-01,  4.0675e-01],\n",
      "          [-1.7992e-01, -4.5368e-01, -6.5106e-01, -3.3703e-01, -7.2377e-02],\n",
      "          [ 4.5190e-02, -1.6163e-01, -4.0709e-01, -3.5999e-01, -2.2187e-01],\n",
      "          [ 4.1812e-01,  5.6584e-01,  3.6712e-01,  1.9453e-01, -3.8776e-02]],\n",
      "\n",
      "         [[-8.2598e-02, -1.9659e-01, -5.8870e-02,  7.1885e-02,  1.9512e-01],\n",
      "          [-1.7530e-01, -4.2868e-01, -6.2347e-01, -5.6361e-01, -3.0169e-01],\n",
      "          [ 1.4766e-02, -5.4547e-02, -4.5564e-01, -5.9115e-01, -3.6249e-01],\n",
      "          [ 3.4776e-01,  4.2224e-01,  1.8436e-01,  8.7506e-03, -8.1671e-02],\n",
      "          [ 3.3920e-01,  3.2327e-01,  2.7859e-01,  1.6674e-01,  1.4366e-01]],\n",
      "\n",
      "         [[-1.0242e-01, -1.2036e-01,  1.5258e-01,  1.5654e-01,  2.6994e-01],\n",
      "          [-2.7109e-01, -3.9356e-01, -5.9764e-01, -3.6834e-01, -6.8173e-02],\n",
      "          [-2.9525e-01, -4.1736e-01, -7.6764e-01, -6.9181e-01, -3.8145e-01],\n",
      "          [-1.8941e-02,  3.6116e-02,  6.7050e-04, -2.9286e-01, -1.6390e-01],\n",
      "          [ 2.7001e-01,  4.1335e-01,  2.7139e-01,  1.4882e-01, -4.5829e-02]]],\n",
      "\n",
      "\n",
      "        [[[ 2.3134e-01,  1.5442e-01, -4.0058e-02,  2.2289e-02,  2.0761e-01],\n",
      "          [ 1.8590e-01,  1.6486e-01,  2.4640e-01,  3.1358e-01,  2.3180e-01],\n",
      "          [ 6.9170e-02,  6.4934e-02,  1.5632e-01,  4.7728e-01,  1.2430e-01],\n",
      "          [-3.8840e-02, -1.6689e-01,  4.7288e-02,  3.4890e-01,  3.2907e-01],\n",
      "          [-4.8814e-03, -1.1849e-01,  7.7604e-02,  3.9969e-01,  3.6696e-01]],\n",
      "\n",
      "         [[ 4.5487e-02,  1.1403e-01,  2.0308e-01, -7.1536e-03, -1.3476e-01],\n",
      "          [-9.0754e-02,  3.1098e-02, -3.9193e-02, -3.3682e-01, -1.0352e-01],\n",
      "          [-2.9731e-02, -1.3770e-01, -4.7607e-01, -6.2840e-01,  7.6899e-02],\n",
      "          [ 1.1841e-01, -1.5630e-01, -7.4937e-01, -1.0249e+00,  2.8794e-02],\n",
      "          [ 2.0952e-01, -6.8969e-02, -6.8310e-01, -8.2189e-01, -1.6954e-01]],\n",
      "\n",
      "         [[ 7.5675e-02,  1.5277e-01,  1.5008e-01, -8.0328e-02, -6.2653e-02],\n",
      "          [ 8.9486e-02, -9.0770e-02, -2.1097e-01, -2.3598e-01,  5.5133e-02],\n",
      "          [ 6.1350e-02, -9.8796e-02, -6.2031e-01, -3.7312e-01,  2.8453e-01],\n",
      "          [ 1.6112e-01,  6.2573e-02, -5.5380e-01, -4.6754e-01,  1.8890e-01],\n",
      "          [ 2.8082e-01,  1.5571e-01, -4.6877e-01, -5.3935e-01, -2.1630e-01]],\n",
      "\n",
      "         [[ 5.7034e-02,  1.6431e-01,  8.8035e-02,  1.1211e-01, -1.1580e-01],\n",
      "          [-3.1343e-02, -1.2147e-01, -6.4805e-02, -1.1031e-01, -1.7076e-01],\n",
      "          [-1.1777e-01, -2.9738e-01, -5.9845e-01, -8.5475e-02,  4.0255e-01],\n",
      "          [ 1.6836e-01, -3.7023e-01, -9.2452e-01, -1.7039e-01,  6.0385e-01],\n",
      "          [ 3.1559e-01, -8.9787e-02, -8.9412e-01, -4.7935e-01,  1.2662e-01]],\n",
      "\n",
      "         [[ 3.8462e-02, -2.7705e-02, -5.0716e-02, -1.3047e-01, -4.0074e-03],\n",
      "          [-1.4886e-02, -1.9216e-01, -5.9698e-01, -3.5104e-01,  1.7233e-01],\n",
      "          [ 2.6141e-01, -2.0126e-01, -9.7093e-01, -4.7907e-01,  3.7108e-01],\n",
      "          [ 3.3481e-01, -1.4132e-01, -8.2850e-01, -7.5776e-01, -1.3866e-01],\n",
      "          [ 2.5794e-01,  4.3425e-02, -3.3106e-01, -3.0235e-01, -1.9095e-01]],\n",
      "\n",
      "         [[ 4.6930e-02,  1.2063e-01,  1.9745e-01,  3.1662e-02,  1.4344e-01],\n",
      "          [ 8.1663e-02, -1.1233e-01, -1.6815e-01, -2.1078e-01,  1.8564e-01],\n",
      "          [ 1.1870e-01, -4.0997e-02, -5.7335e-01, -2.6458e-01,  3.7582e-01],\n",
      "          [ 2.0893e-01,  2.5003e-02, -6.3426e-01, -3.8689e-01,  1.7338e-01],\n",
      "          [ 3.0479e-01,  1.3727e-02, -5.3377e-01, -4.6025e-01, -7.3790e-02]]]],\n",
      "       requires_grad=True)\n",
      "Parameter containing:\n",
      "tensor([ 0.1958,  0.0690, -0.1341, -0.1220, -0.1255,  0.0628,  0.0693, -0.1048,\n",
      "         0.0104,  0.0768,  0.1174,  0.0414,  0.0644,  0.1797, -0.0162,  0.0969],\n",
      "       requires_grad=True)\n",
      "Parameter containing:\n",
      "tensor([[ 0.0016, -0.0252,  0.0860,  ..., -0.1051, -0.0317, -0.0150],\n",
      "        [-0.0090, -0.0073,  0.0496,  ...,  0.0603, -0.0567, -0.0024],\n",
      "        [-0.0197, -0.2835, -0.2973,  ...,  0.2073, -0.0480,  0.0228],\n",
      "        ...,\n",
      "        [-0.0054, -0.2391, -0.1210,  ...,  0.2730, -0.2144, -0.1739],\n",
      "        [ 0.0294,  0.1843, -0.0186,  ..., -0.3507, -0.1897, -0.0390],\n",
      "        [ 0.0290, -0.0702,  0.1077,  ..., -0.3406, -0.3336, -0.0752]],\n",
      "       requires_grad=True)\n",
      "Parameter containing:\n",
      "tensor([-0.0208, -0.0349, -0.0577, -0.0248,  0.0023, -0.0626,  0.0605, -0.0420,\n",
      "        -0.0864, -0.0415, -0.0240, -0.0003, -0.0005, -0.0912,  0.0560, -0.0971,\n",
      "         0.0340, -0.0464, -0.0427, -0.0447, -0.0308, -0.0101,  0.0421, -0.0334,\n",
      "        -0.1012, -0.0373,  0.0482, -0.0383, -0.0163, -0.0512, -0.0609, -0.0319,\n",
      "        -0.0094, -0.0985,  0.0455,  0.0384,  0.1291, -0.0661,  0.0316, -0.0407,\n",
      "        -0.1388, -0.0191,  0.0789,  0.0019, -0.0392, -0.0296, -0.0152,  0.0108,\n",
      "        -0.1443, -0.0669, -0.0480, -0.0220, -0.0250,  0.1016, -0.0900, -0.0228,\n",
      "        -0.0436, -0.0069, -0.0549, -0.0789, -0.0761, -0.1067, -0.0604, -0.0389,\n",
      "        -0.0592,  0.0790, -0.0365, -0.0792, -0.0196, -0.0643, -0.0170, -0.0527,\n",
      "        -0.0750, -0.0464, -0.0477,  0.0151,  0.0808, -0.1108, -0.1016, -0.0985,\n",
      "         0.0602, -0.0439, -0.0282,  0.0992, -0.0289,  0.0491, -0.0005,  0.0129,\n",
      "        -0.0036, -0.0098, -0.0263, -0.0004, -0.0345, -0.0566, -0.0478,  0.0849,\n",
      "        -0.0170, -0.1003, -0.0185, -0.1073,  0.0118, -0.0985, -0.0127, -0.1071,\n",
      "        -0.1092, -0.0989,  0.0268, -0.0030, -0.0061, -0.0705, -0.0065, -0.0036,\n",
      "        -0.0368,  0.0989, -0.0913,  0.0040,  0.0808, -0.0296, -0.0774, -0.0514],\n",
      "       requires_grad=True)\n",
      "Parameter containing:\n",
      "tensor([[-3.0287e-01,  5.5411e-02,  2.1041e-01,  ...,  5.2588e-02,\n",
      "          4.0032e-01,  2.9139e-01],\n",
      "        [ 2.1124e-01, -6.7442e-02,  1.2232e-01,  ...,  1.9983e-01,\n",
      "          2.0261e-01,  1.1735e-01],\n",
      "        [-1.0765e-01,  3.9674e-02, -2.7577e-01,  ...,  1.8559e-02,\n",
      "         -1.6428e-01,  2.9040e-01],\n",
      "        ...,\n",
      "        [-2.8291e-01, -1.5487e-02,  4.4132e-04,  ..., -1.9552e-02,\n",
      "         -2.6351e-01, -2.1985e-01],\n",
      "        [-7.3267e-02,  5.8503e-02, -4.6021e-02,  ...,  1.3212e-01,\n",
      "         -1.3179e-01,  5.4102e-01],\n",
      "        [-4.2524e-03, -2.7300e-02,  5.0433e-01,  ...,  1.7137e-01,\n",
      "         -2.5890e-01, -3.8852e-01]], requires_grad=True)\n",
      "Parameter containing:\n",
      "tensor([-0.0607,  0.0868, -0.0106,  0.0092, -0.0162, -0.0562,  0.0592, -0.0774,\n",
      "        -0.0455,  0.1029,  0.0864,  0.0870, -0.0543,  0.0085, -0.1146,  0.1847,\n",
      "        -0.0913,  0.0358, -0.1161, -0.0187, -0.0518, -0.0287,  0.0460,  0.0147,\n",
      "        -0.0738,  0.0640, -0.1359,  0.0449,  0.0265, -0.0390,  0.0530,  0.0297,\n",
      "        -0.0328, -0.0016, -0.1199, -0.0457,  0.0080,  0.1174, -0.0397,  0.0696,\n",
      "        -0.0454, -0.0078, -0.1278,  0.0864,  0.0930,  0.0155,  0.0165, -0.0308,\n",
      "         0.0331, -0.0674, -0.0048,  0.0144, -0.0009, -0.0146,  0.0375,  0.0217,\n",
      "        -0.1026, -0.0265, -0.0930, -0.0087, -0.0575,  0.0870,  0.0783,  0.0844,\n",
      "        -0.0236,  0.0772,  0.0335,  0.0177, -0.0432, -0.0876, -0.0593,  0.0660,\n",
      "         0.0647,  0.0219,  0.0050, -0.0037, -0.1170,  0.1191,  0.0149,  0.0372,\n",
      "        -0.0331, -0.1251, -0.0569,  0.1032], requires_grad=True)\n",
      "Parameter containing:\n",
      "tensor([[-0.0028, -0.1947,  0.3200, -0.1900, -0.1306, -0.4831,  0.1724,  0.2436,\n",
      "         -0.6301, -0.7231, -0.2871,  0.4943, -0.2564, -0.2147,  0.5382, -0.7279,\n",
      "          0.0449, -0.2762,  0.5096,  0.4179, -0.3648, -0.1442,  0.4602, -0.5154,\n",
      "          0.4124, -0.5356,  0.5189,  0.1932, -0.1561, -0.3581, -0.5297, -0.3353,\n",
      "         -0.5088, -0.0605,  0.4189,  0.4833,  0.2971, -0.3882,  0.5198, -0.1358,\n",
      "          0.3861, -0.4773,  0.2574, -0.5771,  0.4641,  0.4628, -0.2231, -0.6436,\n",
      "         -0.8069,  0.2744,  0.3515, -0.6646, -0.1148, -0.8341, -0.2436, -0.7491,\n",
      "         -0.3092,  0.5558,  0.4598, -0.3612,  0.4981, -0.2950,  0.0769, -0.6148,\n",
      "         -0.3375, -0.4404, -0.2811,  0.2587,  0.2665,  0.5287,  0.0854, -0.6038,\n",
      "         -0.1096,  0.5176, -0.4285, -0.4012,  0.3462, -0.5045,  0.5423, -0.2250,\n",
      "         -0.3678, -0.2093, -0.4837, -0.3968],\n",
      "        [-0.4363,  0.0265,  0.2380,  0.4652,  0.2059,  0.4744, -0.3752, -0.3652,\n",
      "          0.3185,  0.5589, -0.4831, -0.1444,  0.3439, -0.5706,  0.4313, -0.6735,\n",
      "          0.1295, -0.4625,  0.1718,  0.0717,  0.0720,  0.0446, -0.1026,  0.4885,\n",
      "         -0.3984,  0.5585, -0.4493, -0.2725,  0.0458, -0.1780,  0.4117, -0.1533,\n",
      "          0.5327,  0.3486, -0.4986, -0.4752,  0.2818, -0.3522, -0.3266, -0.3546,\n",
      "         -0.4531,  0.6015,  0.2108, -0.2406,  0.2087, -0.5907,  0.5457,  0.1659,\n",
      "          0.6726, -0.3780, -0.7125,  0.3321,  0.4639,  0.4327,  0.1717,  0.4018,\n",
      "         -0.2759, -0.4881, -0.4411, -0.6335,  0.1315,  0.0572,  0.4455,  0.3772,\n",
      "         -0.4188,  0.4778, -0.4723, -0.0521, -0.3601, -0.2667, -0.3418,  0.1828,\n",
      "          0.3734, -0.6047,  0.3324, -0.1544, -0.2120,  0.0066, -0.4965, -0.1541,\n",
      "         -0.1946, -0.1857,  0.2534, -0.3505],\n",
      "        [ 0.3424, -0.1032,  0.2959, -0.1737, -0.3167,  0.6727,  0.4951, -0.3676,\n",
      "         -0.5057,  0.1561, -0.4194, -0.5432,  0.6205,  0.2860,  0.5017, -0.5226,\n",
      "         -0.1469, -0.6564,  0.2997,  0.0587,  0.0315,  0.2825,  0.2438, -0.7382,\n",
      "          0.0694,  0.4945,  0.2344,  0.2426,  0.4452,  0.4829, -0.4867, -0.3033,\n",
      "          0.4357, -0.3701,  0.1744,  0.1053, -0.8446, -0.4160,  0.3238,  0.2701,\n",
      "         -0.6017, -0.5449,  0.1189,  0.0810,  0.1480, -0.9084,  0.0231,  0.0797,\n",
      "         -0.3084,  0.4893, -0.0543, -0.7986, -0.2198,  0.6204, -0.2379, -0.1896,\n",
      "          0.4911, -0.2844, -0.0856, -0.3350,  0.2028, -0.4827,  0.3188,  0.5112,\n",
      "          0.0265, -0.3089, -0.4420,  0.4268,  0.0284, -0.3295,  0.4373, -0.4825,\n",
      "          0.5331, -0.5316, -0.5854,  0.0306, -0.3333, -0.0202,  0.1103, -0.2441,\n",
      "          0.3934, -0.1519,  0.1343, -0.3280],\n",
      "        [-0.1643,  0.4494, -0.1762,  0.5444,  0.5468, -0.1310,  0.2853, -0.0560,\n",
      "         -0.5762, -0.2988,  0.2732, -0.5832,  0.1848, -0.4672, -0.5975,  0.2303,\n",
      "         -0.0483, -0.0129, -0.0712,  0.2005,  0.4682,  0.0857, -0.0375, -0.5153,\n",
      "          0.1018, -0.5487,  0.2529,  0.1565,  0.5057,  0.1554, -0.2762,  0.0530,\n",
      "          0.3824,  0.1731,  0.0104,  0.4549,  0.1642,  0.7097, -0.5559, -0.2943,\n",
      "         -0.1716, -0.3137, -0.5457,  0.5218, -0.0081,  0.1408, -0.5994,  0.5430,\n",
      "         -0.2667,  0.2185, -0.4174, -0.3014, -0.1321, -0.2944, -0.1991,  0.1843,\n",
      "         -0.2723, -0.6300,  0.5561,  0.6639,  0.4274, -0.6651, -0.5102,  0.4625,\n",
      "         -0.1629, -0.4080, -0.2348,  0.0960,  0.1530, -0.5177, -0.2694, -0.4437,\n",
      "         -0.4164, -0.4033,  0.3754, -0.1821,  0.3095, -0.3859,  0.2415,  0.0274,\n",
      "          0.5464, -0.0973, -0.2669,  0.6104],\n",
      "        [-0.1694, -0.7778, -0.3008, -0.3479, -0.3704,  0.5623, -0.4752,  0.2091,\n",
      "          0.1603,  0.4285,  0.3173,  0.0711, -0.4436,  0.6124, -0.3831,  0.4892,\n",
      "         -0.5469, -0.1898, -0.1027,  0.2649, -0.3584, -0.3652, -0.5711,  0.6359,\n",
      "         -0.4022, -0.4742,  0.2042,  0.1708, -0.4151,  0.5482,  0.0784,  0.0389,\n",
      "         -0.4496, -0.4656,  0.0332, -0.6498, -0.6645,  0.1647,  0.0413, -0.4871,\n",
      "          0.2638,  0.3794,  0.1783, -0.5298, -0.7599, -0.1295, -0.5280, -0.2019,\n",
      "          0.4948,  0.0919,  0.2845, -0.1027,  0.4349,  0.2103, -0.3522, -0.2537,\n",
      "          0.3389,  0.2010, -0.5953, -0.7083, -0.2295,  0.4553, -0.5680,  0.3556,\n",
      "          0.4271,  0.3259,  0.3095, -0.2555, -0.0408, -0.3257,  0.3429,  0.2778,\n",
      "          0.3682,  0.0894,  0.2162,  0.4480, -0.3035,  0.6107,  0.1778,  0.5837,\n",
      "          0.4516, -0.3063, -0.0601, -0.7586],\n",
      "        [ 0.2440,  0.0447, -0.0243, -0.2738,  0.5330, -0.6011, -0.7385,  0.4400,\n",
      "          0.4711,  0.7188,  0.2453,  0.3464, -0.4675, -0.1592, -0.5497, -0.3576,\n",
      "          0.4167,  0.0946, -0.3048,  0.0071,  0.4197, -0.1849,  0.2574,  0.8201,\n",
      "          0.3291,  0.1386, -0.3025,  0.0176, -0.0327, -0.2982,  0.3353,  0.3153,\n",
      "         -0.3509,  0.2273,  0.2030,  0.3107,  0.2991, -0.3208,  0.0765, -0.7118,\n",
      "         -0.0830,  0.6539,  0.2679, -0.6454, -0.3518,  0.1468, -0.1135,  0.4335,\n",
      "          0.2483, -0.6249,  0.1318,  0.2535, -0.0662, -0.4682, -0.5019,  0.5490,\n",
      "         -0.4138,  0.3662,  0.1661,  0.0132, -0.3127, -0.1409, -0.6018, -0.6830,\n",
      "          0.2542,  0.0273, -0.1130, -0.0662,  0.1812,  0.4225, -0.1376,  0.2961,\n",
      "         -0.2278, -0.4255, -0.3129, -0.6756,  0.3531, -0.4118, -0.3854, -0.3794,\n",
      "         -0.3466,  0.0908, -0.5394, -0.5348],\n",
      "        [ 0.2634, -0.0480, -0.5507, -0.4983, -0.3285,  0.3350,  0.7186, -0.5430,\n",
      "          0.2753,  0.5143, -0.7872,  0.3769, -0.6920,  0.5704, -0.4293, -0.5030,\n",
      "         -0.5959,  0.6592,  0.5067, -0.2654, -0.7282,  0.5009,  0.4043,  0.5263,\n",
      "         -0.4366,  0.0999, -0.2939,  0.2866,  0.2978,  0.6302, -0.3757, -0.6116,\n",
      "         -0.3814, -0.5871, -0.5652, -0.4331,  0.2972, -0.3740,  0.3119, -0.1161,\n",
      "          0.0371,  0.5797,  0.2496, -0.7301, -0.4298, -0.5791, -0.3240, -0.4278,\n",
      "          0.5205, -0.0489,  0.2893,  0.6029,  0.6008, -0.6146, -0.2024, -0.9066,\n",
      "         -0.0659,  0.1411, -0.6253, -0.7431, -0.1541, -0.7547,  0.5127, -0.5510,\n",
      "         -0.5989, -0.0977, -0.6520,  0.3444, -0.1455,  0.5587,  0.5303,  0.5178,\n",
      "          0.5332,  0.3471, -0.7012, -0.4918, -0.0970,  0.5583, -0.6481, -0.1792,\n",
      "         -0.4541, -0.2145, -0.1846, -0.4186],\n",
      "        [-0.0651, -0.4429,  0.2168,  0.0739,  0.4300, -0.2972, -0.7304,  0.2832,\n",
      "          0.5417, -0.1494,  0.2034, -0.6768,  0.2805, -0.1761,  0.3162,  0.2548,\n",
      "         -0.3338, -1.0743, -0.1597, -0.1102,  0.2298, -0.4194,  0.1917, -0.4908,\n",
      "         -0.0595, -0.1336, -0.1764, -0.9245, -0.6553, -0.2927,  0.2598,  0.0656,\n",
      "          0.5733,  0.3639,  0.2245, -0.6416, -0.6752,  0.5048, -0.3624,  0.1627,\n",
      "         -0.5091, -0.2040, -0.3751, -0.2619,  0.3504, -0.5495, -0.3161, -0.3727,\n",
      "         -0.5979,  0.1454, -0.6721, -0.7747, -0.3006,  0.4445,  0.3703,  0.3933,\n",
      "         -0.1668,  0.2847, -0.3051,  0.3126,  0.4503,  0.3002,  0.4998,  0.4953,\n",
      "         -0.0547,  0.0764,  0.4862,  0.4019, -0.6268, -0.2034,  0.1533, -0.0743,\n",
      "         -0.3635, -0.3782, -0.1270,  0.5980, -0.1624, -0.2825,  0.2463, -0.4834,\n",
      "          0.3421,  0.7644,  0.5683,  0.4833],\n",
      "        [-0.0806,  0.2560, -0.3419, -0.2792, -0.4711, -0.2609,  0.3962, -0.4134,\n",
      "         -0.5909, -0.4097,  0.0412,  0.1453,  0.6966, -0.3795,  0.0064,  0.6241,\n",
      "          0.1923,  0.5050, -0.1704, -0.4847, -0.1960, -0.3264, -0.0292, -0.1923,\n",
      "          0.2620,  0.6988, -0.4470,  0.1690,  0.1838, -0.1216, -0.0609, -0.5159,\n",
      "         -0.5161,  0.1367, -0.1413,  0.2940,  0.3172, -0.4499, -0.0731,  0.4886,\n",
      "          0.1189,  0.1262, -0.4330,  0.8319,  0.1939,  0.3272,  0.8885, -0.3264,\n",
      "          0.4975, -0.0211,  0.3550,  0.5584,  0.2971, -0.1879,  0.4129, -0.0146,\n",
      "         -0.1991, -0.3450, -0.3005,  0.3491, -0.3745,  0.3556, -0.2917, -0.7811,\n",
      "          0.0751,  0.0615, -0.4306, -0.5440,  0.2154, -0.0684, -0.2204, -0.5447,\n",
      "         -0.3519,  0.4940,  0.2964,  0.0622, -0.4652, -0.4255,  0.1104, -0.4317,\n",
      "          0.1349, -0.2824,  0.5331,  0.1152],\n",
      "        [ 0.2410, -0.3223, -0.5089,  0.2177, -0.0777, -0.5098, -0.4586,  0.3255,\n",
      "          0.2646, -0.7039,  0.0939,  0.4121, -0.6359,  0.1260, -0.4957,  0.3582,\n",
      "          0.1156,  0.3928, -0.0445, -0.3369, -0.4285, -0.0214, -0.4303, -0.6063,\n",
      "         -0.0269, -0.7631, -0.0353, -0.3856, -0.5603, -0.2593,  0.2456,  0.4081,\n",
      "         -0.6962, -0.0191, -0.0507,  0.3867,  0.4194,  0.4365, -0.0588,  0.5224,\n",
      "          0.6176, -0.9926, -0.1596, -0.5650,  0.3551,  0.4832, -0.3194, -0.6115,\n",
      "         -0.9495, -0.2880,  0.0719,  0.3005, -0.6241,  0.1722,  0.3586, -0.5293,\n",
      "          0.0311,  0.2261, -0.4099,  0.0563, -0.3941,  0.2330,  0.3113,  0.1449,\n",
      "          0.5989,  0.3905,  0.3902,  0.0509,  0.4649,  0.0375, -0.4915,  0.4835,\n",
      "         -0.1848,  0.4407,  0.4011,  0.0575,  0.1110,  0.4521, -0.1087,  0.5126,\n",
      "         -0.0708,  0.0345, -0.3513,  0.5392]], requires_grad=True)\n",
      "Parameter containing:\n",
      "tensor([ 0.0787, -0.0284,  0.1049, -0.0910,  0.0847,  0.0353,  0.0706,  0.0169,\n",
      "        -0.0914, -0.0454], requires_grad=True)\n",
      "Parameter containing:\n",
      "tensor([[[[ 0.2251,  0.2326,  0.2320, -0.0765, -0.3672],\n",
      "          [ 0.7372,  0.9352,  0.8193,  0.2548, -0.2375],\n",
      "          [ 0.9756,  1.0778,  0.6039,  0.0594, -0.3410],\n",
      "          [ 0.8394,  0.6937,  0.3516,  0.0095, -0.2682],\n",
      "          [ 0.3961,  0.2539, -0.2452, -0.4023, -0.4935]]],\n",
      "\n",
      "\n",
      "        [[[-0.2919, -0.8070, -1.0781, -0.9570, -0.4508],\n",
      "          [-0.5307, -1.4128, -1.1329, -0.6410, -0.2779],\n",
      "          [-0.5944, -0.9978, -0.7163, -0.2880, -0.0312],\n",
      "          [-0.3903, -0.4780, -0.2246,  0.1388,  0.6960],\n",
      "          [ 0.2206,  0.4049,  0.6846,  1.0102,  1.1895]]],\n",
      "\n",
      "\n",
      "        [[[ 0.0077, -0.1290, -0.1942, -0.6041, -0.6166],\n",
      "          [-0.6428, -0.6762, -1.1552, -1.1588, -0.5332],\n",
      "          [-0.4122, -1.1208, -1.0030, -0.6547, -0.2094],\n",
      "          [-0.3764, -0.7941, -0.9212, -0.2245,  0.0860],\n",
      "          [-0.0602, -0.4151, -0.2715,  0.3081,  0.7625]]],\n",
      "\n",
      "\n",
      "        [[[-0.3199, -0.4944, -0.8423, -0.9922, -1.0280],\n",
      "          [-0.3000, -0.6538, -1.2384, -1.0308, -0.8721],\n",
      "          [-0.0037, -0.6058, -0.8578, -0.7702, -0.3451],\n",
      "          [ 0.3763, -0.0731, -0.2339,  0.0810,  0.5603],\n",
      "          [ 0.8916,  0.7321,  0.6554,  0.8242,  1.2073]]],\n",
      "\n",
      "\n",
      "        [[[ 0.8398,  0.6738,  0.4932,  0.5182,  0.3687],\n",
      "          [-0.0738, -0.1698, -0.3117, -0.3410, -0.4907],\n",
      "          [-0.3758, -0.9479, -1.1515, -1.3610, -0.9436],\n",
      "          [-0.3026, -0.9038, -1.2810, -0.8356, -0.4332],\n",
      "          [-0.2671, -0.6697, -0.5631, -0.2485,  0.0355]]],\n",
      "\n",
      "\n",
      "        [[[ 0.3038,  0.2005, -0.0257, -0.5108, -0.7222],\n",
      "          [ 0.0518, -0.5381, -0.7888, -1.2576, -0.9473],\n",
      "          [-0.1534, -0.8152, -1.0631, -1.0733, -0.3085],\n",
      "          [-0.1037, -0.9022, -1.0696, -0.4562,  0.2087],\n",
      "          [ 0.0989, -0.7933, -0.8320, -0.0627,  0.5372]]]], requires_grad=True)\n",
      "Parameter containing:\n",
      "tensor([-0.3239,  0.5229,  0.6591,  0.9428,  0.5796,  0.4834],\n",
      "       requires_grad=True)\n",
      "Parameter containing:\n",
      "tensor([[[[ 1.7234e-01,  1.8481e-01,  2.7777e-01,  3.4489e-01,  2.5312e-01],\n",
      "          [ 1.6393e-01,  1.3580e-01,  4.1426e-01,  3.0809e-01,  1.6195e-01],\n",
      "          [ 6.8639e-02,  5.5266e-02,  3.6360e-01,  3.7648e-01,  2.2889e-01],\n",
      "          [ 1.2670e-01,  7.1372e-02,  3.9378e-01,  4.5655e-01,  4.0792e-01],\n",
      "          [ 3.8434e-02,  1.6478e-01,  3.5112e-01,  3.8255e-01,  2.8213e-01]],\n",
      "\n",
      "         [[ 1.0884e-01, -1.0042e-01, -2.6231e-01, -1.9787e-01,  1.2058e-01],\n",
      "          [ 8.7845e-02, -2.2451e-01, -8.5133e-01, -5.7359e-01,  1.0888e-01],\n",
      "          [ 2.5119e-01, -2.5877e-01, -8.3208e-01, -4.3737e-01,  3.4653e-01],\n",
      "          [ 2.6005e-01, -3.2066e-01, -1.0190e+00, -4.7765e-01,  1.6366e-01],\n",
      "          [ 1.5035e-01, -2.7272e-01, -5.4955e-01, -1.9603e-01,  3.7309e-02]],\n",
      "\n",
      "         [[ 1.2771e-01,  3.5561e-02, -2.5407e-01, -2.0833e-01,  2.0366e-01],\n",
      "          [ 2.6243e-01, -2.2531e-01, -8.7742e-01, -1.4792e-01,  2.7408e-01],\n",
      "          [ 2.8189e-01, -1.6692e-01, -8.7112e-01, -2.1767e-01,  1.4040e-01],\n",
      "          [ 2.2428e-01, -2.9327e-01, -8.8844e-01, -3.9646e-01, -1.5524e-02],\n",
      "          [ 5.8747e-02, -9.7798e-02, -3.0608e-01, -4.2410e-02,  1.1623e-01]],\n",
      "\n",
      "         [[-1.5764e-02, -1.4360e-01, -1.6454e-01,  1.9723e-02,  4.2590e-02],\n",
      "          [-1.3412e-01, -4.9018e-01, -6.0979e-01, -1.3614e-01,  1.8505e-01],\n",
      "          [ 1.6870e-01, -4.3103e-01, -5.1524e-01,  1.8722e-01,  4.0313e-01],\n",
      "          [ 8.1454e-02, -3.9010e-01, -6.5700e-01, -2.5142e-02,  2.2788e-01],\n",
      "          [ 3.8944e-02, -2.8799e-01, -3.4665e-01, -6.7363e-02,  1.3335e-01]],\n",
      "\n",
      "         [[ 9.6283e-03, -5.1228e-01, -7.8550e-01, -2.7030e-01,  9.9459e-02],\n",
      "          [ 9.7418e-02, -6.2855e-01, -1.0731e+00, -2.1904e-01,  1.6872e-01],\n",
      "          [ 6.6741e-02, -5.5201e-01, -1.0837e+00, -3.1879e-01,  5.5774e-02],\n",
      "          [ 9.4364e-02, -4.9767e-01, -7.7591e-01, -3.2462e-01,  5.4716e-02],\n",
      "          [ 7.6327e-02, -1.0303e-01, -3.4731e-02,  1.1696e-01, -8.6890e-03]],\n",
      "\n",
      "         [[ 1.7204e-01,  3.1891e-02, -3.0392e-01,  2.9131e-02,  2.4469e-01],\n",
      "          [ 2.4666e-01, -2.5226e-01, -6.9175e-01,  1.7329e-02,  3.0282e-01],\n",
      "          [ 3.4403e-01, -3.2621e-01, -6.4366e-01, -2.6693e-02, -9.1430e-04],\n",
      "          [ 2.3988e-01, -4.4215e-01, -8.1996e-01, -3.1691e-01,  4.8442e-02],\n",
      "          [ 7.9944e-02, -2.3259e-01, -3.3317e-01,  2.1108e-02, -2.3845e-02]]],\n",
      "\n",
      "\n",
      "        [[[-1.1138e-01, -8.6967e-02,  1.1384e-01,  2.9634e-01,  2.5785e-01],\n",
      "          [-1.6083e-01,  1.0846e-01,  3.7609e-01,  4.0620e-01,  2.0878e-01],\n",
      "          [ 5.4694e-02,  2.3113e-01,  4.1907e-01,  2.3604e-01,  1.6514e-01],\n",
      "          [ 4.9931e-02,  2.3184e-01,  1.0716e-01,  1.7185e-01,  1.6489e-01],\n",
      "          [ 1.2833e-01,  1.0274e-01, -3.6288e-02, -4.3786e-02,  7.6574e-02]],\n",
      "\n",
      "         [[ 3.0856e-01,  1.2657e-01, -5.4076e-02, -1.2934e-01,  9.5155e-02],\n",
      "          [ 2.3237e-01, -2.1833e-01, -4.3637e-01, -3.2683e-01,  1.1930e-01],\n",
      "          [ 1.0110e-02, -6.0142e-01, -8.3862e-01, -3.4658e-01,  7.2770e-02],\n",
      "          [-2.8413e-01, -6.2178e-01, -3.8421e-01,  4.1232e-03,  3.3840e-02],\n",
      "          [-1.5747e-01,  2.2835e-02,  2.4787e-01,  2.4674e-01,  7.0352e-02]],\n",
      "\n",
      "         [[ 3.0317e-01,  1.0510e-01, -9.6533e-02, -1.3566e-01,  2.4426e-01],\n",
      "          [ 9.7818e-02, -1.6490e-01, -4.5427e-01, -3.2749e-01,  1.2857e-01],\n",
      "          [-6.4025e-02, -4.5143e-01, -5.9740e-01, -2.6425e-01,  7.7136e-02],\n",
      "          [-2.0056e-01, -3.8935e-01, -1.9194e-01,  8.6956e-02, -8.9962e-02],\n",
      "          [ 1.7658e-01,  1.3925e-01,  3.3625e-01,  2.2826e-01,  1.0894e-01]],\n",
      "\n",
      "         [[ 2.4228e-01,  1.3460e-01, -8.3675e-02, -9.8396e-02,  2.7516e-01],\n",
      "          [ 1.8416e-01, -2.1193e-01, -4.1363e-01, -1.1635e-01,  1.5746e-01],\n",
      "          [-4.3816e-02, -7.3374e-01, -5.7781e-01, -3.5053e-02,  1.9337e-01],\n",
      "          [-1.6695e-01, -4.4190e-01, -2.4533e-01,  1.4470e-01,  1.3018e-01],\n",
      "          [-7.1596e-04,  1.7671e-01,  3.8630e-01,  1.2801e-01,  1.3746e-01]],\n",
      "\n",
      "         [[ 2.1687e-01, -2.1637e-01, -4.8376e-01, -2.1387e-01,  1.5734e-01],\n",
      "          [-4.7608e-03, -4.9791e-01, -6.5451e-01, -2.6038e-01,  5.0148e-02],\n",
      "          [-2.0626e-01, -7.0221e-01, -4.3711e-01, -4.1857e-02,  7.0450e-02],\n",
      "          [-1.4413e-01, -1.3875e-01,  6.2225e-02,  2.3101e-01,  1.1164e-02],\n",
      "          [ 2.7229e-01,  2.8390e-01,  2.4847e-01,  1.5929e-01,  2.6620e-02]],\n",
      "\n",
      "         [[ 2.1190e-01, -1.6276e-03, -2.6261e-01,  9.0869e-03,  1.5207e-01],\n",
      "          [ 1.3415e-01, -2.4418e-01, -5.4711e-01, -2.6480e-01, -5.7479e-03],\n",
      "          [-1.9616e-01, -6.5510e-01, -5.4389e-01, -1.6838e-01,  1.1834e-03],\n",
      "          [-2.5077e-01, -3.7541e-01, -7.9321e-02, -3.4645e-02, -5.3484e-02],\n",
      "          [ 7.5107e-02,  1.8800e-01,  1.9655e-01,  1.5679e-01,  3.3416e-02]]],\n",
      "\n",
      "\n",
      "        [[[-1.2936e-01,  3.8604e-02, -1.0620e-01, -1.0521e-01, -6.5738e-02],\n",
      "          [-1.4394e-01, -4.9516e-02, -1.9204e-01, -2.8393e-01, -3.6574e-01],\n",
      "          [-6.8258e-02, -1.4216e-01, -2.6346e-01, -4.2408e-01, -3.9661e-01],\n",
      "          [-2.0500e-03, -2.8435e-01, -2.3937e-01, -4.1381e-01, -2.1228e-01],\n",
      "          [ 5.7700e-02, -5.6898e-02, -2.5833e-01, -1.9047e-01, -5.1254e-03]],\n",
      "\n",
      "         [[-2.6157e-01, -1.4037e-01, -2.9192e-02, -5.0581e-02,  1.7870e-02],\n",
      "          [-2.3680e-01, -3.5174e-02, -7.4588e-03,  2.0336e-01,  1.2960e-01],\n",
      "          [-9.8735e-02,  1.5030e-01,  3.9844e-01,  4.6347e-01,  1.8853e-01],\n",
      "          [ 1.0791e-03,  3.3323e-01,  5.2951e-01,  3.7775e-01,  4.8749e-02],\n",
      "          [-1.1278e-01,  2.0938e-01,  2.4308e-01, -2.8748e-02, -2.3959e-01]],\n",
      "\n",
      "         [[-2.2998e-01, -1.2279e-01, -2.2420e-02, -8.6692e-02, -1.0536e-01],\n",
      "          [-1.0101e-01, -1.0099e-02,  1.9686e-01,  1.8583e-01,  8.4431e-02],\n",
      "          [-1.0374e-03,  2.3695e-01,  4.0838e-01,  4.3481e-01,  7.7627e-03],\n",
      "          [ 9.9333e-02,  2.0967e-01,  3.9579e-01,  2.4579e-01, -1.2662e-01],\n",
      "          [-9.2288e-02,  1.3584e-01,  4.3654e-02, -2.2358e-01, -2.3510e-01]],\n",
      "\n",
      "         [[-1.8446e-01, -1.5575e-01, -1.9897e-01, -1.3812e-01, -1.3706e-01],\n",
      "          [-2.4751e-01, -1.3839e-01,  3.7165e-02, -9.4225e-02, -2.3435e-01],\n",
      "          [-1.3518e-01,  7.0167e-02,  2.3339e-01,  7.6132e-02,  2.2089e-02],\n",
      "          [ 2.3528e-02,  1.9723e-01,  4.0303e-01,  4.7742e-02, -1.9097e-01],\n",
      "          [ 8.1294e-02,  9.7595e-02,  8.1485e-03, -1.3076e-01, -2.7849e-01]],\n",
      "\n",
      "         [[-1.5696e-01, -5.0336e-02,  6.9327e-02,  4.4051e-02, -1.0608e-01],\n",
      "          [-3.6819e-02,  2.1517e-01,  4.8296e-01,  3.1316e-01,  1.5752e-01],\n",
      "          [ 1.5984e-01,  3.0984e-01,  5.5586e-01,  2.5607e-01, -1.6688e-02],\n",
      "          [ 4.0517e-03,  3.3934e-01,  1.5203e-01, -1.1097e-01, -3.1284e-01],\n",
      "          [ 1.8301e-02, -1.9490e-02, -1.0856e-01, -2.3364e-01, -1.8823e-01]],\n",
      "\n",
      "         [[-2.1171e-01, -7.3161e-02,  5.4400e-02,  1.1871e-01, -1.5450e-01],\n",
      "          [-1.0005e-01,  2.0068e-01,  2.3168e-01,  3.5036e-01,  1.0068e-03],\n",
      "          [-4.6168e-02,  3.7251e-01,  5.4160e-01,  2.5803e-01,  1.7509e-03],\n",
      "          [ 1.8803e-02,  2.6523e-01,  2.9724e-01,  9.1427e-03, -1.5632e-01],\n",
      "          [-4.1875e-02, -1.8141e-02,  2.3920e-02, -2.4881e-01, -2.4797e-01]]],\n",
      "\n",
      "\n",
      "        ...,\n",
      "\n",
      "\n",
      "        [[[ 3.5726e-01,  4.6150e-02,  1.0502e-01,  4.9856e-02,  5.2638e-02],\n",
      "          [ 2.3585e-01, -1.5373e-02,  3.0432e-01,  4.1485e-01,  8.0646e-02],\n",
      "          [ 8.2278e-02,  1.5613e-01,  3.9584e-01,  4.5634e-01,  2.7631e-01],\n",
      "          [ 9.8029e-02,  9.5365e-02,  2.9289e-01,  3.0435e-01,  3.1768e-01],\n",
      "          [ 1.1634e-01,  5.7872e-02,  1.4169e-01,  1.1357e-01,  2.4416e-01]],\n",
      "\n",
      "         [[ 1.4342e-01,  4.3035e-01,  2.5755e-01, -1.8207e-02,  1.2714e-01],\n",
      "          [ 4.1808e-04,  2.8809e-02, -1.9051e-01, -1.6375e-01,  2.6261e-01],\n",
      "          [-1.1311e-02, -2.0409e-01, -6.1256e-01, -3.2086e-01,  1.2677e-01],\n",
      "          [-2.0738e-01, -6.5927e-01, -9.6754e-01, -5.6110e-01, -6.4426e-02],\n",
      "          [-1.2549e-01, -1.6358e-01, -3.3757e-01, -1.3464e-01, -1.4925e-01]],\n",
      "\n",
      "         [[ 2.0942e-01,  2.8415e-01,  3.1182e-01,  9.8260e-02,  2.8814e-01],\n",
      "          [-1.5318e-02,  2.2460e-02, -3.0203e-01, -1.2300e-01,  2.4489e-01],\n",
      "          [-2.7500e-02, -3.5043e-01, -6.3549e-01, -4.2989e-01,  5.4098e-03],\n",
      "          [-1.9310e-01, -5.2695e-01, -6.9827e-01, -3.9580e-01, -1.8301e-01],\n",
      "          [-1.3329e-02,  6.3213e-02, -1.0935e-01, -1.2720e-01, -1.2202e-01]],\n",
      "\n",
      "         [[ 1.7572e-01,  4.3823e-01,  3.4280e-01,  2.1338e-01,  2.6645e-01],\n",
      "          [ 8.7103e-02,  2.1676e-01,  2.9159e-02,  1.5466e-01,  2.7880e-01],\n",
      "          [-8.0514e-02, -2.1661e-01, -4.2128e-01, -3.8268e-02,  2.8429e-01],\n",
      "          [-2.3868e-01, -6.3207e-01, -6.5057e-01, -6.1386e-02,  1.7109e-01],\n",
      "          [-1.1483e-01, -1.4442e-01, -1.7228e-01,  8.0411e-02, -3.1782e-02]],\n",
      "\n",
      "         [[ 1.7235e-01,  4.7011e-02, -9.0298e-02, -5.9764e-02,  1.9048e-01],\n",
      "          [-3.4891e-02, -3.0377e-01, -5.7558e-01, -2.6177e-01,  1.2506e-01],\n",
      "          [-2.7482e-01, -5.9876e-01, -9.0504e-01, -4.4553e-01, -1.2264e-01],\n",
      "          [-2.0286e-01, -4.4462e-01, -4.8156e-01, -3.0901e-01, -1.9478e-01],\n",
      "          [ 2.6051e-01,  3.2549e-01,  2.0693e-01,  2.8535e-02,  5.6312e-02]],\n",
      "\n",
      "         [[ 1.6404e-01,  2.8379e-01,  1.0418e-01,  6.8210e-02,  2.8442e-01],\n",
      "          [ 2.3291e-02, -2.0359e-01, -2.2188e-01, -1.2867e-01,  1.8293e-01],\n",
      "          [-2.8661e-01, -4.1231e-01, -6.7606e-01, -3.4435e-01, -7.6118e-02],\n",
      "          [-2.7802e-01, -4.8496e-01, -5.6014e-01, -3.8760e-01, -1.4237e-01],\n",
      "          [ 3.8329e-02,  3.7540e-04, -1.2367e-01, -1.0321e-01, -1.3394e-01]]],\n",
      "\n",
      "\n",
      "        [[[ 2.0402e-01,  1.7752e-01,  1.2359e-01, -1.1128e-02, -8.0936e-02],\n",
      "          [ 1.3692e-01,  2.6247e-01,  2.7309e-01,  2.8597e-01,  1.3092e-01],\n",
      "          [ 2.2775e-01,  2.0790e-01,  1.1997e-01,  3.7595e-01,  3.4181e-01],\n",
      "          [ 3.5996e-02,  1.8068e-02, -1.6891e-02,  5.8480e-02,  7.6788e-02],\n",
      "          [ 1.5514e-02, -1.1790e-01, -2.9310e-01, -7.3663e-02,  4.1419e-02]],\n",
      "\n",
      "         [[ 8.6953e-02,  1.6915e-02,  1.5282e-01,  1.1413e-01,  3.0760e-01],\n",
      "          [-2.8775e-01, -4.1412e-01, -3.2527e-01, -1.6969e-01,  1.8201e-01],\n",
      "          [-3.4524e-01, -5.8862e-01, -8.1391e-01, -7.0334e-01, -3.2939e-01],\n",
      "          [-4.5774e-02, -1.6023e-01, -4.0171e-01, -4.2079e-01, -2.9964e-01],\n",
      "          [ 2.7419e-01,  2.6825e-01,  2.9149e-01,  9.5880e-02, -8.8473e-02]],\n",
      "\n",
      "         [[ 3.9732e-02,  1.1446e-02,  1.7893e-01,  3.2452e-01,  2.6585e-01],\n",
      "          [-2.0190e-01, -4.0558e-01, -4.5402e-01, -2.5012e-01,  3.2083e-02],\n",
      "          [-2.6911e-01, -3.4740e-01, -6.8176e-01, -6.9408e-01, -4.0978e-01],\n",
      "          [ 1.0104e-01,  1.6144e-01, -1.1448e-01, -1.4916e-01, -2.6953e-01],\n",
      "          [ 3.2702e-01,  4.8671e-01,  4.0888e-01,  2.6218e-01,  2.4811e-03]],\n",
      "\n",
      "         [[ 2.4309e-02,  2.7161e-01,  2.8276e-01,  3.1908e-01,  3.7473e-01],\n",
      "          [-2.0198e-01, -1.0941e-01, -7.2980e-02,  1.7868e-01,  4.0675e-01],\n",
      "          [-1.7992e-01, -4.5368e-01, -6.5106e-01, -3.3703e-01, -7.2377e-02],\n",
      "          [ 4.5190e-02, -1.6163e-01, -4.0709e-01, -3.5999e-01, -2.2187e-01],\n",
      "          [ 4.1812e-01,  5.6584e-01,  3.6712e-01,  1.9453e-01, -3.8776e-02]],\n",
      "\n",
      "         [[-8.2598e-02, -1.9659e-01, -5.8870e-02,  7.1885e-02,  1.9512e-01],\n",
      "          [-1.7530e-01, -4.2868e-01, -6.2347e-01, -5.6361e-01, -3.0169e-01],\n",
      "          [ 1.4766e-02, -5.4547e-02, -4.5564e-01, -5.9115e-01, -3.6249e-01],\n",
      "          [ 3.4776e-01,  4.2224e-01,  1.8436e-01,  8.7506e-03, -8.1671e-02],\n",
      "          [ 3.3920e-01,  3.2327e-01,  2.7859e-01,  1.6674e-01,  1.4366e-01]],\n",
      "\n",
      "         [[-1.0242e-01, -1.2036e-01,  1.5258e-01,  1.5654e-01,  2.6994e-01],\n",
      "          [-2.7109e-01, -3.9356e-01, -5.9764e-01, -3.6834e-01, -6.8173e-02],\n",
      "          [-2.9525e-01, -4.1736e-01, -7.6764e-01, -6.9181e-01, -3.8145e-01],\n",
      "          [-1.8941e-02,  3.6116e-02,  6.7050e-04, -2.9286e-01, -1.6390e-01],\n",
      "          [ 2.7001e-01,  4.1335e-01,  2.7139e-01,  1.4882e-01, -4.5829e-02]]],\n",
      "\n",
      "\n",
      "        [[[ 2.3134e-01,  1.5442e-01, -4.0058e-02,  2.2289e-02,  2.0761e-01],\n",
      "          [ 1.8590e-01,  1.6486e-01,  2.4640e-01,  3.1358e-01,  2.3180e-01],\n",
      "          [ 6.9170e-02,  6.4934e-02,  1.5632e-01,  4.7728e-01,  1.2430e-01],\n",
      "          [-3.8840e-02, -1.6689e-01,  4.7288e-02,  3.4890e-01,  3.2907e-01],\n",
      "          [-4.8814e-03, -1.1849e-01,  7.7604e-02,  3.9969e-01,  3.6696e-01]],\n",
      "\n",
      "         [[ 4.5487e-02,  1.1403e-01,  2.0308e-01, -7.1536e-03, -1.3476e-01],\n",
      "          [-9.0754e-02,  3.1098e-02, -3.9193e-02, -3.3682e-01, -1.0352e-01],\n",
      "          [-2.9731e-02, -1.3770e-01, -4.7607e-01, -6.2840e-01,  7.6899e-02],\n",
      "          [ 1.1841e-01, -1.5630e-01, -7.4937e-01, -1.0249e+00,  2.8794e-02],\n",
      "          [ 2.0952e-01, -6.8969e-02, -6.8310e-01, -8.2189e-01, -1.6954e-01]],\n",
      "\n",
      "         [[ 7.5675e-02,  1.5277e-01,  1.5008e-01, -8.0328e-02, -6.2653e-02],\n",
      "          [ 8.9486e-02, -9.0770e-02, -2.1097e-01, -2.3598e-01,  5.5133e-02],\n",
      "          [ 6.1350e-02, -9.8796e-02, -6.2031e-01, -3.7312e-01,  2.8453e-01],\n",
      "          [ 1.6112e-01,  6.2573e-02, -5.5380e-01, -4.6754e-01,  1.8890e-01],\n",
      "          [ 2.8082e-01,  1.5571e-01, -4.6877e-01, -5.3935e-01, -2.1630e-01]],\n",
      "\n",
      "         [[ 5.7034e-02,  1.6431e-01,  8.8035e-02,  1.1211e-01, -1.1580e-01],\n",
      "          [-3.1343e-02, -1.2147e-01, -6.4805e-02, -1.1031e-01, -1.7076e-01],\n",
      "          [-1.1777e-01, -2.9738e-01, -5.9845e-01, -8.5475e-02,  4.0255e-01],\n",
      "          [ 1.6836e-01, -3.7023e-01, -9.2452e-01, -1.7039e-01,  6.0385e-01],\n",
      "          [ 3.1559e-01, -8.9787e-02, -8.9412e-01, -4.7935e-01,  1.2662e-01]],\n",
      "\n",
      "         [[ 3.8462e-02, -2.7705e-02, -5.0716e-02, -1.3047e-01, -4.0074e-03],\n",
      "          [-1.4886e-02, -1.9216e-01, -5.9698e-01, -3.5104e-01,  1.7233e-01],\n",
      "          [ 2.6141e-01, -2.0126e-01, -9.7093e-01, -4.7907e-01,  3.7108e-01],\n",
      "          [ 3.3481e-01, -1.4132e-01, -8.2850e-01, -7.5776e-01, -1.3866e-01],\n",
      "          [ 2.5794e-01,  4.3425e-02, -3.3106e-01, -3.0235e-01, -1.9095e-01]],\n",
      "\n",
      "         [[ 4.6930e-02,  1.2063e-01,  1.9745e-01,  3.1662e-02,  1.4344e-01],\n",
      "          [ 8.1663e-02, -1.1233e-01, -1.6815e-01, -2.1078e-01,  1.8564e-01],\n",
      "          [ 1.1870e-01, -4.0997e-02, -5.7335e-01, -2.6458e-01,  3.7582e-01],\n",
      "          [ 2.0893e-01,  2.5003e-02, -6.3426e-01, -3.8689e-01,  1.7338e-01],\n",
      "          [ 3.0479e-01,  1.3727e-02, -5.3377e-01, -4.6025e-01, -7.3790e-02]]]],\n",
      "       requires_grad=True)\n",
      "Parameter containing:\n",
      "tensor([ 0.1958,  0.0690, -0.1341, -0.1220, -0.1255,  0.0628,  0.0693, -0.1048,\n",
      "         0.0104,  0.0768,  0.1174,  0.0414,  0.0644,  0.1797, -0.0162,  0.0969],\n",
      "       requires_grad=True)\n",
      "Parameter containing:\n",
      "tensor([[ 0.0016, -0.0252,  0.0860,  ..., -0.1051, -0.0317, -0.0150],\n",
      "        [-0.0090, -0.0073,  0.0496,  ...,  0.0603, -0.0567, -0.0024],\n",
      "        [-0.0197, -0.2835, -0.2973,  ...,  0.2073, -0.0480,  0.0228],\n",
      "        ...,\n",
      "        [-0.0054, -0.2391, -0.1210,  ...,  0.2730, -0.2144, -0.1739],\n",
      "        [ 0.0294,  0.1843, -0.0186,  ..., -0.3507, -0.1897, -0.0390],\n",
      "        [ 0.0290, -0.0702,  0.1077,  ..., -0.3406, -0.3336, -0.0752]],\n",
      "       requires_grad=True)\n",
      "Parameter containing:\n",
      "tensor([-0.0208, -0.0349, -0.0577, -0.0248,  0.0023, -0.0626,  0.0605, -0.0420,\n",
      "        -0.0864, -0.0415, -0.0240, -0.0003, -0.0005, -0.0912,  0.0560, -0.0971,\n",
      "         0.0340, -0.0464, -0.0427, -0.0447, -0.0308, -0.0101,  0.0421, -0.0334,\n",
      "        -0.1012, -0.0373,  0.0482, -0.0383, -0.0163, -0.0512, -0.0609, -0.0319,\n",
      "        -0.0094, -0.0985,  0.0455,  0.0384,  0.1291, -0.0661,  0.0316, -0.0407,\n",
      "        -0.1388, -0.0191,  0.0789,  0.0019, -0.0392, -0.0296, -0.0152,  0.0108,\n",
      "        -0.1443, -0.0669, -0.0480, -0.0220, -0.0250,  0.1016, -0.0900, -0.0228,\n",
      "        -0.0436, -0.0069, -0.0549, -0.0789, -0.0761, -0.1067, -0.0604, -0.0389,\n",
      "        -0.0592,  0.0790, -0.0365, -0.0792, -0.0196, -0.0643, -0.0170, -0.0527,\n",
      "        -0.0750, -0.0464, -0.0477,  0.0151,  0.0808, -0.1108, -0.1016, -0.0985,\n",
      "         0.0602, -0.0439, -0.0282,  0.0992, -0.0289,  0.0491, -0.0005,  0.0129,\n",
      "        -0.0036, -0.0098, -0.0263, -0.0004, -0.0345, -0.0566, -0.0478,  0.0849,\n",
      "        -0.0170, -0.1003, -0.0185, -0.1073,  0.0118, -0.0985, -0.0127, -0.1071,\n",
      "        -0.1092, -0.0989,  0.0268, -0.0030, -0.0061, -0.0705, -0.0065, -0.0036,\n",
      "        -0.0368,  0.0989, -0.0913,  0.0040,  0.0808, -0.0296, -0.0774, -0.0514],\n",
      "       requires_grad=True)\n",
      "Parameter containing:\n",
      "tensor([[-3.0287e-01,  5.5411e-02,  2.1041e-01,  ...,  5.2588e-02,\n",
      "          4.0032e-01,  2.9139e-01],\n",
      "        [ 2.1124e-01, -6.7442e-02,  1.2232e-01,  ...,  1.9983e-01,\n",
      "          2.0261e-01,  1.1735e-01],\n",
      "        [-1.0765e-01,  3.9674e-02, -2.7577e-01,  ...,  1.8559e-02,\n",
      "         -1.6428e-01,  2.9040e-01],\n",
      "        ...,\n",
      "        [-2.8291e-01, -1.5487e-02,  4.4132e-04,  ..., -1.9552e-02,\n",
      "         -2.6351e-01, -2.1985e-01],\n",
      "        [-7.3267e-02,  5.8503e-02, -4.6021e-02,  ...,  1.3212e-01,\n",
      "         -1.3179e-01,  5.4102e-01],\n",
      "        [-4.2524e-03, -2.7300e-02,  5.0433e-01,  ...,  1.7137e-01,\n",
      "         -2.5890e-01, -3.8852e-01]], requires_grad=True)\n",
      "Parameter containing:\n",
      "tensor([-0.0607,  0.0868, -0.0106,  0.0092, -0.0162, -0.0562,  0.0592, -0.0774,\n",
      "        -0.0455,  0.1029,  0.0864,  0.0870, -0.0543,  0.0085, -0.1146,  0.1847,\n",
      "        -0.0913,  0.0358, -0.1161, -0.0187, -0.0518, -0.0287,  0.0460,  0.0147,\n",
      "        -0.0738,  0.0640, -0.1359,  0.0449,  0.0265, -0.0390,  0.0530,  0.0297,\n",
      "        -0.0328, -0.0016, -0.1199, -0.0457,  0.0080,  0.1174, -0.0397,  0.0696,\n",
      "        -0.0454, -0.0078, -0.1278,  0.0864,  0.0930,  0.0155,  0.0165, -0.0308,\n",
      "         0.0331, -0.0674, -0.0048,  0.0144, -0.0009, -0.0146,  0.0375,  0.0217,\n",
      "        -0.1026, -0.0265, -0.0930, -0.0087, -0.0575,  0.0870,  0.0783,  0.0844,\n",
      "        -0.0236,  0.0772,  0.0335,  0.0177, -0.0432, -0.0876, -0.0593,  0.0660,\n",
      "         0.0647,  0.0219,  0.0050, -0.0037, -0.1170,  0.1191,  0.0149,  0.0372,\n",
      "        -0.0331, -0.1251, -0.0569,  0.1032], requires_grad=True)\n",
      "Parameter containing:\n",
      "tensor([[-0.0028, -0.1947,  0.3200, -0.1900, -0.1306, -0.4831,  0.1724,  0.2436,\n",
      "         -0.6301, -0.7231, -0.2871,  0.4943, -0.2564, -0.2147,  0.5382, -0.7279,\n",
      "          0.0449, -0.2762,  0.5096,  0.4179, -0.3648, -0.1442,  0.4602, -0.5154,\n",
      "          0.4124, -0.5356,  0.5189,  0.1932, -0.1561, -0.3581, -0.5297, -0.3353,\n",
      "         -0.5088, -0.0605,  0.4189,  0.4833,  0.2971, -0.3882,  0.5198, -0.1358,\n",
      "          0.3861, -0.4773,  0.2574, -0.5771,  0.4641,  0.4628, -0.2231, -0.6436,\n",
      "         -0.8069,  0.2744,  0.3515, -0.6646, -0.1148, -0.8341, -0.2436, -0.7491,\n",
      "         -0.3092,  0.5558,  0.4598, -0.3612,  0.4981, -0.2950,  0.0769, -0.6148,\n",
      "         -0.3375, -0.4404, -0.2811,  0.2587,  0.2665,  0.5287,  0.0854, -0.6038,\n",
      "         -0.1096,  0.5176, -0.4285, -0.4012,  0.3462, -0.5045,  0.5423, -0.2250,\n",
      "         -0.3678, -0.2093, -0.4837, -0.3968],\n",
      "        [-0.4363,  0.0265,  0.2380,  0.4652,  0.2059,  0.4744, -0.3752, -0.3652,\n",
      "          0.3185,  0.5589, -0.4831, -0.1444,  0.3439, -0.5706,  0.4313, -0.6735,\n",
      "          0.1295, -0.4625,  0.1718,  0.0717,  0.0720,  0.0446, -0.1026,  0.4885,\n",
      "         -0.3984,  0.5585, -0.4493, -0.2725,  0.0458, -0.1780,  0.4117, -0.1533,\n",
      "          0.5327,  0.3486, -0.4986, -0.4752,  0.2818, -0.3522, -0.3266, -0.3546,\n",
      "         -0.4531,  0.6015,  0.2108, -0.2406,  0.2087, -0.5907,  0.5457,  0.1659,\n",
      "          0.6726, -0.3780, -0.7125,  0.3321,  0.4639,  0.4327,  0.1717,  0.4018,\n",
      "         -0.2759, -0.4881, -0.4411, -0.6335,  0.1315,  0.0572,  0.4455,  0.3772,\n",
      "         -0.4188,  0.4778, -0.4723, -0.0521, -0.3601, -0.2667, -0.3418,  0.1828,\n",
      "          0.3734, -0.6047,  0.3324, -0.1544, -0.2120,  0.0066, -0.4965, -0.1541,\n",
      "         -0.1946, -0.1857,  0.2534, -0.3505],\n",
      "        [ 0.3424, -0.1032,  0.2959, -0.1737, -0.3167,  0.6727,  0.4951, -0.3676,\n",
      "         -0.5057,  0.1561, -0.4194, -0.5432,  0.6205,  0.2860,  0.5017, -0.5226,\n",
      "         -0.1469, -0.6564,  0.2997,  0.0587,  0.0315,  0.2825,  0.2438, -0.7382,\n",
      "          0.0694,  0.4945,  0.2344,  0.2426,  0.4452,  0.4829, -0.4867, -0.3033,\n",
      "          0.4357, -0.3701,  0.1744,  0.1053, -0.8446, -0.4160,  0.3238,  0.2701,\n",
      "         -0.6017, -0.5449,  0.1189,  0.0810,  0.1480, -0.9084,  0.0231,  0.0797,\n",
      "         -0.3084,  0.4893, -0.0543, -0.7986, -0.2198,  0.6204, -0.2379, -0.1896,\n",
      "          0.4911, -0.2844, -0.0856, -0.3350,  0.2028, -0.4827,  0.3188,  0.5112,\n",
      "          0.0265, -0.3089, -0.4420,  0.4268,  0.0284, -0.3295,  0.4373, -0.4825,\n",
      "          0.5331, -0.5316, -0.5854,  0.0306, -0.3333, -0.0202,  0.1103, -0.2441,\n",
      "          0.3934, -0.1519,  0.1343, -0.3280],\n",
      "        [-0.1643,  0.4494, -0.1762,  0.5444,  0.5468, -0.1310,  0.2853, -0.0560,\n",
      "         -0.5762, -0.2988,  0.2732, -0.5832,  0.1848, -0.4672, -0.5975,  0.2303,\n",
      "         -0.0483, -0.0129, -0.0712,  0.2005,  0.4682,  0.0857, -0.0375, -0.5153,\n",
      "          0.1018, -0.5487,  0.2529,  0.1565,  0.5057,  0.1554, -0.2762,  0.0530,\n",
      "          0.3824,  0.1731,  0.0104,  0.4549,  0.1642,  0.7097, -0.5559, -0.2943,\n",
      "         -0.1716, -0.3137, -0.5457,  0.5218, -0.0081,  0.1408, -0.5994,  0.5430,\n",
      "         -0.2667,  0.2185, -0.4174, -0.3014, -0.1321, -0.2944, -0.1991,  0.1843,\n",
      "         -0.2723, -0.6300,  0.5561,  0.6639,  0.4274, -0.6651, -0.5102,  0.4625,\n",
      "         -0.1629, -0.4080, -0.2348,  0.0960,  0.1530, -0.5177, -0.2694, -0.4437,\n",
      "         -0.4164, -0.4033,  0.3754, -0.1821,  0.3095, -0.3859,  0.2415,  0.0274,\n",
      "          0.5464, -0.0973, -0.2669,  0.6104],\n",
      "        [-0.1694, -0.7778, -0.3008, -0.3479, -0.3704,  0.5623, -0.4752,  0.2091,\n",
      "          0.1603,  0.4285,  0.3173,  0.0711, -0.4436,  0.6124, -0.3831,  0.4892,\n",
      "         -0.5469, -0.1898, -0.1027,  0.2649, -0.3584, -0.3652, -0.5711,  0.6359,\n",
      "         -0.4022, -0.4742,  0.2042,  0.1708, -0.4151,  0.5482,  0.0784,  0.0389,\n",
      "         -0.4496, -0.4656,  0.0332, -0.6498, -0.6645,  0.1647,  0.0413, -0.4871,\n",
      "          0.2638,  0.3794,  0.1783, -0.5298, -0.7599, -0.1295, -0.5280, -0.2019,\n",
      "          0.4948,  0.0919,  0.2845, -0.1027,  0.4349,  0.2103, -0.3522, -0.2537,\n",
      "          0.3389,  0.2010, -0.5953, -0.7083, -0.2295,  0.4553, -0.5680,  0.3556,\n",
      "          0.4271,  0.3259,  0.3095, -0.2555, -0.0408, -0.3257,  0.3429,  0.2778,\n",
      "          0.3682,  0.0894,  0.2162,  0.4480, -0.3035,  0.6107,  0.1778,  0.5837,\n",
      "          0.4516, -0.3063, -0.0601, -0.7586],\n",
      "        [ 0.2440,  0.0447, -0.0243, -0.2738,  0.5330, -0.6011, -0.7385,  0.4400,\n",
      "          0.4711,  0.7188,  0.2453,  0.3464, -0.4675, -0.1592, -0.5497, -0.3576,\n",
      "          0.4167,  0.0946, -0.3048,  0.0071,  0.4197, -0.1849,  0.2574,  0.8201,\n",
      "          0.3291,  0.1386, -0.3025,  0.0176, -0.0327, -0.2982,  0.3353,  0.3153,\n",
      "         -0.3509,  0.2273,  0.2030,  0.3107,  0.2991, -0.3208,  0.0765, -0.7118,\n",
      "         -0.0830,  0.6539,  0.2679, -0.6454, -0.3518,  0.1468, -0.1135,  0.4335,\n",
      "          0.2483, -0.6249,  0.1318,  0.2535, -0.0662, -0.4682, -0.5019,  0.5490,\n",
      "         -0.4138,  0.3662,  0.1661,  0.0132, -0.3127, -0.1409, -0.6018, -0.6830,\n",
      "          0.2542,  0.0273, -0.1130, -0.0662,  0.1812,  0.4225, -0.1376,  0.2961,\n",
      "         -0.2278, -0.4255, -0.3129, -0.6756,  0.3531, -0.4118, -0.3854, -0.3794,\n",
      "         -0.3466,  0.0908, -0.5394, -0.5348],\n",
      "        [ 0.2634, -0.0480, -0.5507, -0.4983, -0.3285,  0.3350,  0.7186, -0.5430,\n",
      "          0.2753,  0.5143, -0.7872,  0.3769, -0.6920,  0.5704, -0.4293, -0.5030,\n",
      "         -0.5959,  0.6592,  0.5067, -0.2654, -0.7282,  0.5009,  0.4043,  0.5263,\n",
      "         -0.4366,  0.0999, -0.2939,  0.2866,  0.2978,  0.6302, -0.3757, -0.6116,\n",
      "         -0.3814, -0.5871, -0.5652, -0.4331,  0.2972, -0.3740,  0.3119, -0.1161,\n",
      "          0.0371,  0.5797,  0.2496, -0.7301, -0.4298, -0.5791, -0.3240, -0.4278,\n",
      "          0.5205, -0.0489,  0.2893,  0.6029,  0.6008, -0.6146, -0.2024, -0.9066,\n",
      "         -0.0659,  0.1411, -0.6253, -0.7431, -0.1541, -0.7547,  0.5127, -0.5510,\n",
      "         -0.5989, -0.0977, -0.6520,  0.3444, -0.1455,  0.5587,  0.5303,  0.5178,\n",
      "          0.5332,  0.3471, -0.7012, -0.4918, -0.0970,  0.5583, -0.6481, -0.1792,\n",
      "         -0.4541, -0.2145, -0.1846, -0.4186],\n",
      "        [-0.0651, -0.4429,  0.2168,  0.0739,  0.4300, -0.2972, -0.7304,  0.2832,\n",
      "          0.5417, -0.1494,  0.2034, -0.6768,  0.2805, -0.1761,  0.3162,  0.2548,\n",
      "         -0.3338, -1.0743, -0.1597, -0.1102,  0.2298, -0.4194,  0.1917, -0.4908,\n",
      "         -0.0595, -0.1336, -0.1764, -0.9245, -0.6553, -0.2927,  0.2598,  0.0656,\n",
      "          0.5733,  0.3639,  0.2245, -0.6416, -0.6752,  0.5048, -0.3624,  0.1627,\n",
      "         -0.5091, -0.2040, -0.3751, -0.2619,  0.3504, -0.5495, -0.3161, -0.3727,\n",
      "         -0.5979,  0.1454, -0.6721, -0.7747, -0.3006,  0.4445,  0.3703,  0.3933,\n",
      "         -0.1668,  0.2847, -0.3051,  0.3126,  0.4503,  0.3002,  0.4998,  0.4953,\n",
      "         -0.0547,  0.0764,  0.4862,  0.4019, -0.6268, -0.2034,  0.1533, -0.0743,\n",
      "         -0.3635, -0.3782, -0.1270,  0.5980, -0.1624, -0.2825,  0.2463, -0.4834,\n",
      "          0.3421,  0.7644,  0.5683,  0.4833],\n",
      "        [-0.0806,  0.2560, -0.3419, -0.2792, -0.4711, -0.2609,  0.3962, -0.4134,\n",
      "         -0.5909, -0.4097,  0.0412,  0.1453,  0.6966, -0.3795,  0.0064,  0.6241,\n",
      "          0.1923,  0.5050, -0.1704, -0.4847, -0.1960, -0.3264, -0.0292, -0.1923,\n",
      "          0.2620,  0.6988, -0.4470,  0.1690,  0.1838, -0.1216, -0.0609, -0.5159,\n",
      "         -0.5161,  0.1367, -0.1413,  0.2940,  0.3172, -0.4499, -0.0731,  0.4886,\n",
      "          0.1189,  0.1262, -0.4330,  0.8319,  0.1939,  0.3272,  0.8885, -0.3264,\n",
      "          0.4975, -0.0211,  0.3550,  0.5584,  0.2971, -0.1879,  0.4129, -0.0146,\n",
      "         -0.1991, -0.3450, -0.3005,  0.3491, -0.3745,  0.3556, -0.2917, -0.7811,\n",
      "          0.0751,  0.0615, -0.4306, -0.5440,  0.2154, -0.0684, -0.2204, -0.5447,\n",
      "         -0.3519,  0.4940,  0.2964,  0.0622, -0.4652, -0.4255,  0.1104, -0.4317,\n",
      "          0.1349, -0.2824,  0.5331,  0.1152],\n",
      "        [ 0.2410, -0.3223, -0.5089,  0.2177, -0.0777, -0.5098, -0.4586,  0.3255,\n",
      "          0.2646, -0.7039,  0.0939,  0.4121, -0.6359,  0.1260, -0.4957,  0.3582,\n",
      "          0.1156,  0.3928, -0.0445, -0.3369, -0.4285, -0.0214, -0.4303, -0.6063,\n",
      "         -0.0269, -0.7631, -0.0353, -0.3856, -0.5603, -0.2593,  0.2456,  0.4081,\n",
      "         -0.6962, -0.0191, -0.0507,  0.3867,  0.4194,  0.4365, -0.0588,  0.5224,\n",
      "          0.6176, -0.9926, -0.1596, -0.5650,  0.3551,  0.4832, -0.3194, -0.6115,\n",
      "         -0.9495, -0.2880,  0.0719,  0.3005, -0.6241,  0.1722,  0.3586, -0.5293,\n",
      "          0.0311,  0.2261, -0.4099,  0.0563, -0.3941,  0.2330,  0.3113,  0.1449,\n",
      "          0.5989,  0.3905,  0.3902,  0.0509,  0.4649,  0.0375, -0.4915,  0.4835,\n",
      "         -0.1848,  0.4407,  0.4011,  0.0575,  0.1110,  0.4521, -0.1087,  0.5126,\n",
      "         -0.0708,  0.0345, -0.3513,  0.5392]], requires_grad=True)\n",
      "Parameter containing:\n",
      "tensor([ 0.0787, -0.0284,  0.1049, -0.0910,  0.0847,  0.0353,  0.0706,  0.0169,\n",
      "        -0.0914, -0.0454], requires_grad=True)\n",
      "Parameter containing:\n",
      "tensor([[[[ 0.2251,  0.2326,  0.2320, -0.0765, -0.3672],\n",
      "          [ 0.7372,  0.9352,  0.8193,  0.2548, -0.2375],\n",
      "          [ 0.9756,  1.0778,  0.6039,  0.0594, -0.3410],\n",
      "          [ 0.8394,  0.6937,  0.3516,  0.0095, -0.2682],\n",
      "          [ 0.3961,  0.2539, -0.2452, -0.4023, -0.4935]]],\n",
      "\n",
      "\n",
      "        [[[-0.2919, -0.8070, -1.0781, -0.9570, -0.4508],\n",
      "          [-0.5307, -1.4128, -1.1329, -0.6410, -0.2779],\n",
      "          [-0.5944, -0.9978, -0.7163, -0.2880, -0.0312],\n",
      "          [-0.3903, -0.4780, -0.2246,  0.1388,  0.6960],\n",
      "          [ 0.2206,  0.4049,  0.6846,  1.0102,  1.1895]]],\n",
      "\n",
      "\n",
      "        [[[ 0.0077, -0.1290, -0.1942, -0.6041, -0.6166],\n",
      "          [-0.6428, -0.6762, -1.1552, -1.1588, -0.5332],\n",
      "          [-0.4122, -1.1208, -1.0030, -0.6547, -0.2094],\n",
      "          [-0.3764, -0.7941, -0.9212, -0.2245,  0.0860],\n",
      "          [-0.0602, -0.4151, -0.2715,  0.3081,  0.7625]]],\n",
      "\n",
      "\n",
      "        [[[-0.3199, -0.4944, -0.8423, -0.9922, -1.0280],\n",
      "          [-0.3000, -0.6538, -1.2384, -1.0308, -0.8721],\n",
      "          [-0.0037, -0.6058, -0.8578, -0.7702, -0.3451],\n",
      "          [ 0.3763, -0.0731, -0.2339,  0.0810,  0.5603],\n",
      "          [ 0.8916,  0.7321,  0.6554,  0.8242,  1.2073]]],\n",
      "\n",
      "\n",
      "        [[[ 0.8398,  0.6738,  0.4932,  0.5182,  0.3687],\n",
      "          [-0.0738, -0.1698, -0.3117, -0.3410, -0.4907],\n",
      "          [-0.3758, -0.9479, -1.1515, -1.3610, -0.9436],\n",
      "          [-0.3026, -0.9038, -1.2810, -0.8356, -0.4332],\n",
      "          [-0.2671, -0.6697, -0.5631, -0.2485,  0.0355]]],\n",
      "\n",
      "\n",
      "        [[[ 0.3038,  0.2005, -0.0257, -0.5108, -0.7222],\n",
      "          [ 0.0518, -0.5381, -0.7888, -1.2576, -0.9473],\n",
      "          [-0.1534, -0.8152, -1.0631, -1.0733, -0.3085],\n",
      "          [-0.1037, -0.9022, -1.0696, -0.4562,  0.2087],\n",
      "          [ 0.0989, -0.7933, -0.8320, -0.0627,  0.5372]]]], requires_grad=True)\n",
      "Parameter containing:\n",
      "tensor([-0.3239,  0.5229,  0.6591,  0.9428,  0.5796,  0.4834],\n",
      "       requires_grad=True)\n",
      "Parameter containing:\n",
      "tensor([[[[ 1.7234e-01,  1.8481e-01,  2.7777e-01,  3.4489e-01,  2.5312e-01],\n",
      "          [ 1.6393e-01,  1.3580e-01,  4.1426e-01,  3.0809e-01,  1.6195e-01],\n",
      "          [ 6.8639e-02,  5.5266e-02,  3.6360e-01,  3.7648e-01,  2.2889e-01],\n",
      "          [ 1.2670e-01,  7.1372e-02,  3.9378e-01,  4.5655e-01,  4.0792e-01],\n",
      "          [ 3.8434e-02,  1.6478e-01,  3.5112e-01,  3.8255e-01,  2.8213e-01]],\n",
      "\n",
      "         [[ 1.0884e-01, -1.0042e-01, -2.6231e-01, -1.9787e-01,  1.2058e-01],\n",
      "          [ 8.7845e-02, -2.2451e-01, -8.5133e-01, -5.7359e-01,  1.0888e-01],\n",
      "          [ 2.5119e-01, -2.5877e-01, -8.3208e-01, -4.3737e-01,  3.4653e-01],\n",
      "          [ 2.6005e-01, -3.2066e-01, -1.0190e+00, -4.7765e-01,  1.6366e-01],\n",
      "          [ 1.5035e-01, -2.7272e-01, -5.4955e-01, -1.9603e-01,  3.7309e-02]],\n",
      "\n",
      "         [[ 1.2771e-01,  3.5561e-02, -2.5407e-01, -2.0833e-01,  2.0366e-01],\n",
      "          [ 2.6243e-01, -2.2531e-01, -8.7742e-01, -1.4792e-01,  2.7408e-01],\n",
      "          [ 2.8189e-01, -1.6692e-01, -8.7112e-01, -2.1767e-01,  1.4040e-01],\n",
      "          [ 2.2428e-01, -2.9327e-01, -8.8844e-01, -3.9646e-01, -1.5524e-02],\n",
      "          [ 5.8747e-02, -9.7798e-02, -3.0608e-01, -4.2410e-02,  1.1623e-01]],\n",
      "\n",
      "         [[-1.5764e-02, -1.4360e-01, -1.6454e-01,  1.9723e-02,  4.2590e-02],\n",
      "          [-1.3412e-01, -4.9018e-01, -6.0979e-01, -1.3614e-01,  1.8505e-01],\n",
      "          [ 1.6870e-01, -4.3103e-01, -5.1524e-01,  1.8722e-01,  4.0313e-01],\n",
      "          [ 8.1454e-02, -3.9010e-01, -6.5700e-01, -2.5142e-02,  2.2788e-01],\n",
      "          [ 3.8944e-02, -2.8799e-01, -3.4665e-01, -6.7363e-02,  1.3335e-01]],\n",
      "\n",
      "         [[ 9.6283e-03, -5.1228e-01, -7.8550e-01, -2.7030e-01,  9.9459e-02],\n",
      "          [ 9.7418e-02, -6.2855e-01, -1.0731e+00, -2.1904e-01,  1.6872e-01],\n",
      "          [ 6.6741e-02, -5.5201e-01, -1.0837e+00, -3.1879e-01,  5.5774e-02],\n",
      "          [ 9.4364e-02, -4.9767e-01, -7.7591e-01, -3.2462e-01,  5.4716e-02],\n",
      "          [ 7.6327e-02, -1.0303e-01, -3.4731e-02,  1.1696e-01, -8.6890e-03]],\n",
      "\n",
      "         [[ 1.7204e-01,  3.1891e-02, -3.0392e-01,  2.9131e-02,  2.4469e-01],\n",
      "          [ 2.4666e-01, -2.5226e-01, -6.9175e-01,  1.7329e-02,  3.0282e-01],\n",
      "          [ 3.4403e-01, -3.2621e-01, -6.4366e-01, -2.6693e-02, -9.1430e-04],\n",
      "          [ 2.3988e-01, -4.4215e-01, -8.1996e-01, -3.1691e-01,  4.8442e-02],\n",
      "          [ 7.9944e-02, -2.3259e-01, -3.3317e-01,  2.1108e-02, -2.3845e-02]]],\n",
      "\n",
      "\n",
      "        [[[-1.1138e-01, -8.6967e-02,  1.1384e-01,  2.9634e-01,  2.5785e-01],\n",
      "          [-1.6083e-01,  1.0846e-01,  3.7609e-01,  4.0620e-01,  2.0878e-01],\n",
      "          [ 5.4694e-02,  2.3113e-01,  4.1907e-01,  2.3604e-01,  1.6514e-01],\n",
      "          [ 4.9931e-02,  2.3184e-01,  1.0716e-01,  1.7185e-01,  1.6489e-01],\n",
      "          [ 1.2833e-01,  1.0274e-01, -3.6288e-02, -4.3786e-02,  7.6574e-02]],\n",
      "\n",
      "         [[ 3.0856e-01,  1.2657e-01, -5.4076e-02, -1.2934e-01,  9.5155e-02],\n",
      "          [ 2.3237e-01, -2.1833e-01, -4.3637e-01, -3.2683e-01,  1.1930e-01],\n",
      "          [ 1.0110e-02, -6.0142e-01, -8.3862e-01, -3.4658e-01,  7.2770e-02],\n",
      "          [-2.8413e-01, -6.2178e-01, -3.8421e-01,  4.1232e-03,  3.3840e-02],\n",
      "          [-1.5747e-01,  2.2835e-02,  2.4787e-01,  2.4674e-01,  7.0352e-02]],\n",
      "\n",
      "         [[ 3.0317e-01,  1.0510e-01, -9.6533e-02, -1.3566e-01,  2.4426e-01],\n",
      "          [ 9.7818e-02, -1.6490e-01, -4.5427e-01, -3.2749e-01,  1.2857e-01],\n",
      "          [-6.4025e-02, -4.5143e-01, -5.9740e-01, -2.6425e-01,  7.7136e-02],\n",
      "          [-2.0056e-01, -3.8935e-01, -1.9194e-01,  8.6956e-02, -8.9962e-02],\n",
      "          [ 1.7658e-01,  1.3925e-01,  3.3625e-01,  2.2826e-01,  1.0894e-01]],\n",
      "\n",
      "         [[ 2.4228e-01,  1.3460e-01, -8.3675e-02, -9.8396e-02,  2.7516e-01],\n",
      "          [ 1.8416e-01, -2.1193e-01, -4.1363e-01, -1.1635e-01,  1.5746e-01],\n",
      "          [-4.3816e-02, -7.3374e-01, -5.7781e-01, -3.5053e-02,  1.9337e-01],\n",
      "          [-1.6695e-01, -4.4190e-01, -2.4533e-01,  1.4470e-01,  1.3018e-01],\n",
      "          [-7.1596e-04,  1.7671e-01,  3.8630e-01,  1.2801e-01,  1.3746e-01]],\n",
      "\n",
      "         [[ 2.1687e-01, -2.1637e-01, -4.8376e-01, -2.1387e-01,  1.5734e-01],\n",
      "          [-4.7608e-03, -4.9791e-01, -6.5451e-01, -2.6038e-01,  5.0148e-02],\n",
      "          [-2.0626e-01, -7.0221e-01, -4.3711e-01, -4.1857e-02,  7.0450e-02],\n",
      "          [-1.4413e-01, -1.3875e-01,  6.2225e-02,  2.3101e-01,  1.1164e-02],\n",
      "          [ 2.7229e-01,  2.8390e-01,  2.4847e-01,  1.5929e-01,  2.6620e-02]],\n",
      "\n",
      "         [[ 2.1190e-01, -1.6276e-03, -2.6261e-01,  9.0869e-03,  1.5207e-01],\n",
      "          [ 1.3415e-01, -2.4418e-01, -5.4711e-01, -2.6480e-01, -5.7479e-03],\n",
      "          [-1.9616e-01, -6.5510e-01, -5.4389e-01, -1.6838e-01,  1.1834e-03],\n",
      "          [-2.5077e-01, -3.7541e-01, -7.9321e-02, -3.4645e-02, -5.3484e-02],\n",
      "          [ 7.5107e-02,  1.8800e-01,  1.9655e-01,  1.5679e-01,  3.3416e-02]]],\n",
      "\n",
      "\n",
      "        [[[-1.2936e-01,  3.8604e-02, -1.0620e-01, -1.0521e-01, -6.5738e-02],\n",
      "          [-1.4394e-01, -4.9516e-02, -1.9204e-01, -2.8393e-01, -3.6574e-01],\n",
      "          [-6.8258e-02, -1.4216e-01, -2.6346e-01, -4.2408e-01, -3.9661e-01],\n",
      "          [-2.0500e-03, -2.8435e-01, -2.3937e-01, -4.1381e-01, -2.1228e-01],\n",
      "          [ 5.7700e-02, -5.6898e-02, -2.5833e-01, -1.9047e-01, -5.1254e-03]],\n",
      "\n",
      "         [[-2.6157e-01, -1.4037e-01, -2.9192e-02, -5.0581e-02,  1.7870e-02],\n",
      "          [-2.3680e-01, -3.5174e-02, -7.4588e-03,  2.0336e-01,  1.2960e-01],\n",
      "          [-9.8735e-02,  1.5030e-01,  3.9844e-01,  4.6347e-01,  1.8853e-01],\n",
      "          [ 1.0791e-03,  3.3323e-01,  5.2951e-01,  3.7775e-01,  4.8749e-02],\n",
      "          [-1.1278e-01,  2.0938e-01,  2.4308e-01, -2.8748e-02, -2.3959e-01]],\n",
      "\n",
      "         [[-2.2998e-01, -1.2279e-01, -2.2420e-02, -8.6692e-02, -1.0536e-01],\n",
      "          [-1.0101e-01, -1.0099e-02,  1.9686e-01,  1.8583e-01,  8.4431e-02],\n",
      "          [-1.0374e-03,  2.3695e-01,  4.0838e-01,  4.3481e-01,  7.7627e-03],\n",
      "          [ 9.9333e-02,  2.0967e-01,  3.9579e-01,  2.4579e-01, -1.2662e-01],\n",
      "          [-9.2288e-02,  1.3584e-01,  4.3654e-02, -2.2358e-01, -2.3510e-01]],\n",
      "\n",
      "         [[-1.8446e-01, -1.5575e-01, -1.9897e-01, -1.3812e-01, -1.3706e-01],\n",
      "          [-2.4751e-01, -1.3839e-01,  3.7165e-02, -9.4225e-02, -2.3435e-01],\n",
      "          [-1.3518e-01,  7.0167e-02,  2.3339e-01,  7.6132e-02,  2.2089e-02],\n",
      "          [ 2.3528e-02,  1.9723e-01,  4.0303e-01,  4.7742e-02, -1.9097e-01],\n",
      "          [ 8.1294e-02,  9.7595e-02,  8.1485e-03, -1.3076e-01, -2.7849e-01]],\n",
      "\n",
      "         [[-1.5696e-01, -5.0336e-02,  6.9327e-02,  4.4051e-02, -1.0608e-01],\n",
      "          [-3.6819e-02,  2.1517e-01,  4.8296e-01,  3.1316e-01,  1.5752e-01],\n",
      "          [ 1.5984e-01,  3.0984e-01,  5.5586e-01,  2.5607e-01, -1.6688e-02],\n",
      "          [ 4.0517e-03,  3.3934e-01,  1.5203e-01, -1.1097e-01, -3.1284e-01],\n",
      "          [ 1.8301e-02, -1.9490e-02, -1.0856e-01, -2.3364e-01, -1.8823e-01]],\n",
      "\n",
      "         [[-2.1171e-01, -7.3161e-02,  5.4400e-02,  1.1871e-01, -1.5450e-01],\n",
      "          [-1.0005e-01,  2.0068e-01,  2.3168e-01,  3.5036e-01,  1.0068e-03],\n",
      "          [-4.6168e-02,  3.7251e-01,  5.4160e-01,  2.5803e-01,  1.7509e-03],\n",
      "          [ 1.8803e-02,  2.6523e-01,  2.9724e-01,  9.1427e-03, -1.5632e-01],\n",
      "          [-4.1875e-02, -1.8141e-02,  2.3920e-02, -2.4881e-01, -2.4797e-01]]],\n",
      "\n",
      "\n",
      "        ...,\n",
      "\n",
      "\n",
      "        [[[ 3.5726e-01,  4.6150e-02,  1.0502e-01,  4.9856e-02,  5.2638e-02],\n",
      "          [ 2.3585e-01, -1.5373e-02,  3.0432e-01,  4.1485e-01,  8.0646e-02],\n",
      "          [ 8.2278e-02,  1.5613e-01,  3.9584e-01,  4.5634e-01,  2.7631e-01],\n",
      "          [ 9.8029e-02,  9.5365e-02,  2.9289e-01,  3.0435e-01,  3.1768e-01],\n",
      "          [ 1.1634e-01,  5.7872e-02,  1.4169e-01,  1.1357e-01,  2.4416e-01]],\n",
      "\n",
      "         [[ 1.4342e-01,  4.3035e-01,  2.5755e-01, -1.8207e-02,  1.2714e-01],\n",
      "          [ 4.1808e-04,  2.8809e-02, -1.9051e-01, -1.6375e-01,  2.6261e-01],\n",
      "          [-1.1311e-02, -2.0409e-01, -6.1256e-01, -3.2086e-01,  1.2677e-01],\n",
      "          [-2.0738e-01, -6.5927e-01, -9.6754e-01, -5.6110e-01, -6.4426e-02],\n",
      "          [-1.2549e-01, -1.6358e-01, -3.3757e-01, -1.3464e-01, -1.4925e-01]],\n",
      "\n",
      "         [[ 2.0942e-01,  2.8415e-01,  3.1182e-01,  9.8260e-02,  2.8814e-01],\n",
      "          [-1.5318e-02,  2.2460e-02, -3.0203e-01, -1.2300e-01,  2.4489e-01],\n",
      "          [-2.7500e-02, -3.5043e-01, -6.3549e-01, -4.2989e-01,  5.4098e-03],\n",
      "          [-1.9310e-01, -5.2695e-01, -6.9827e-01, -3.9580e-01, -1.8301e-01],\n",
      "          [-1.3329e-02,  6.3213e-02, -1.0935e-01, -1.2720e-01, -1.2202e-01]],\n",
      "\n",
      "         [[ 1.7572e-01,  4.3823e-01,  3.4280e-01,  2.1338e-01,  2.6645e-01],\n",
      "          [ 8.7103e-02,  2.1676e-01,  2.9159e-02,  1.5466e-01,  2.7880e-01],\n",
      "          [-8.0514e-02, -2.1661e-01, -4.2128e-01, -3.8268e-02,  2.8429e-01],\n",
      "          [-2.3868e-01, -6.3207e-01, -6.5057e-01, -6.1386e-02,  1.7109e-01],\n",
      "          [-1.1483e-01, -1.4442e-01, -1.7228e-01,  8.0411e-02, -3.1782e-02]],\n",
      "\n",
      "         [[ 1.7235e-01,  4.7011e-02, -9.0298e-02, -5.9764e-02,  1.9048e-01],\n",
      "          [-3.4891e-02, -3.0377e-01, -5.7558e-01, -2.6177e-01,  1.2506e-01],\n",
      "          [-2.7482e-01, -5.9876e-01, -9.0504e-01, -4.4553e-01, -1.2264e-01],\n",
      "          [-2.0286e-01, -4.4462e-01, -4.8156e-01, -3.0901e-01, -1.9478e-01],\n",
      "          [ 2.6051e-01,  3.2549e-01,  2.0693e-01,  2.8535e-02,  5.6312e-02]],\n",
      "\n",
      "         [[ 1.6404e-01,  2.8379e-01,  1.0418e-01,  6.8210e-02,  2.8442e-01],\n",
      "          [ 2.3291e-02, -2.0359e-01, -2.2188e-01, -1.2867e-01,  1.8293e-01],\n",
      "          [-2.8661e-01, -4.1231e-01, -6.7606e-01, -3.4435e-01, -7.6118e-02],\n",
      "          [-2.7802e-01, -4.8496e-01, -5.6014e-01, -3.8760e-01, -1.4237e-01],\n",
      "          [ 3.8329e-02,  3.7540e-04, -1.2367e-01, -1.0321e-01, -1.3394e-01]]],\n",
      "\n",
      "\n",
      "        [[[ 2.0402e-01,  1.7752e-01,  1.2359e-01, -1.1128e-02, -8.0936e-02],\n",
      "          [ 1.3692e-01,  2.6247e-01,  2.7309e-01,  2.8597e-01,  1.3092e-01],\n",
      "          [ 2.2775e-01,  2.0790e-01,  1.1997e-01,  3.7595e-01,  3.4181e-01],\n",
      "          [ 3.5996e-02,  1.8068e-02, -1.6891e-02,  5.8480e-02,  7.6788e-02],\n",
      "          [ 1.5514e-02, -1.1790e-01, -2.9310e-01, -7.3663e-02,  4.1419e-02]],\n",
      "\n",
      "         [[ 8.6953e-02,  1.6915e-02,  1.5282e-01,  1.1413e-01,  3.0760e-01],\n",
      "          [-2.8775e-01, -4.1412e-01, -3.2527e-01, -1.6969e-01,  1.8201e-01],\n",
      "          [-3.4524e-01, -5.8862e-01, -8.1391e-01, -7.0334e-01, -3.2939e-01],\n",
      "          [-4.5774e-02, -1.6023e-01, -4.0171e-01, -4.2079e-01, -2.9964e-01],\n",
      "          [ 2.7419e-01,  2.6825e-01,  2.9149e-01,  9.5880e-02, -8.8473e-02]],\n",
      "\n",
      "         [[ 3.9732e-02,  1.1446e-02,  1.7893e-01,  3.2452e-01,  2.6585e-01],\n",
      "          [-2.0190e-01, -4.0558e-01, -4.5402e-01, -2.5012e-01,  3.2083e-02],\n",
      "          [-2.6911e-01, -3.4740e-01, -6.8176e-01, -6.9408e-01, -4.0978e-01],\n",
      "          [ 1.0104e-01,  1.6144e-01, -1.1448e-01, -1.4916e-01, -2.6953e-01],\n",
      "          [ 3.2702e-01,  4.8671e-01,  4.0888e-01,  2.6218e-01,  2.4811e-03]],\n",
      "\n",
      "         [[ 2.4309e-02,  2.7161e-01,  2.8276e-01,  3.1908e-01,  3.7473e-01],\n",
      "          [-2.0198e-01, -1.0941e-01, -7.2980e-02,  1.7868e-01,  4.0675e-01],\n",
      "          [-1.7992e-01, -4.5368e-01, -6.5106e-01, -3.3703e-01, -7.2377e-02],\n",
      "          [ 4.5190e-02, -1.6163e-01, -4.0709e-01, -3.5999e-01, -2.2187e-01],\n",
      "          [ 4.1812e-01,  5.6584e-01,  3.6712e-01,  1.9453e-01, -3.8776e-02]],\n",
      "\n",
      "         [[-8.2598e-02, -1.9659e-01, -5.8870e-02,  7.1885e-02,  1.9512e-01],\n",
      "          [-1.7530e-01, -4.2868e-01, -6.2347e-01, -5.6361e-01, -3.0169e-01],\n",
      "          [ 1.4766e-02, -5.4547e-02, -4.5564e-01, -5.9115e-01, -3.6249e-01],\n",
      "          [ 3.4776e-01,  4.2224e-01,  1.8436e-01,  8.7506e-03, -8.1671e-02],\n",
      "          [ 3.3920e-01,  3.2327e-01,  2.7859e-01,  1.6674e-01,  1.4366e-01]],\n",
      "\n",
      "         [[-1.0242e-01, -1.2036e-01,  1.5258e-01,  1.5654e-01,  2.6994e-01],\n",
      "          [-2.7109e-01, -3.9356e-01, -5.9764e-01, -3.6834e-01, -6.8173e-02],\n",
      "          [-2.9525e-01, -4.1736e-01, -7.6764e-01, -6.9181e-01, -3.8145e-01],\n",
      "          [-1.8941e-02,  3.6116e-02,  6.7050e-04, -2.9286e-01, -1.6390e-01],\n",
      "          [ 2.7001e-01,  4.1335e-01,  2.7139e-01,  1.4882e-01, -4.5829e-02]]],\n",
      "\n",
      "\n",
      "        [[[ 2.3134e-01,  1.5442e-01, -4.0058e-02,  2.2289e-02,  2.0761e-01],\n",
      "          [ 1.8590e-01,  1.6486e-01,  2.4640e-01,  3.1358e-01,  2.3180e-01],\n",
      "          [ 6.9170e-02,  6.4934e-02,  1.5632e-01,  4.7728e-01,  1.2430e-01],\n",
      "          [-3.8840e-02, -1.6689e-01,  4.7288e-02,  3.4890e-01,  3.2907e-01],\n",
      "          [-4.8814e-03, -1.1849e-01,  7.7604e-02,  3.9969e-01,  3.6696e-01]],\n",
      "\n",
      "         [[ 4.5487e-02,  1.1403e-01,  2.0308e-01, -7.1536e-03, -1.3476e-01],\n",
      "          [-9.0754e-02,  3.1098e-02, -3.9193e-02, -3.3682e-01, -1.0352e-01],\n",
      "          [-2.9731e-02, -1.3770e-01, -4.7607e-01, -6.2840e-01,  7.6899e-02],\n",
      "          [ 1.1841e-01, -1.5630e-01, -7.4937e-01, -1.0249e+00,  2.8794e-02],\n",
      "          [ 2.0952e-01, -6.8969e-02, -6.8310e-01, -8.2189e-01, -1.6954e-01]],\n",
      "\n",
      "         [[ 7.5675e-02,  1.5277e-01,  1.5008e-01, -8.0328e-02, -6.2653e-02],\n",
      "          [ 8.9486e-02, -9.0770e-02, -2.1097e-01, -2.3598e-01,  5.5133e-02],\n",
      "          [ 6.1350e-02, -9.8796e-02, -6.2031e-01, -3.7312e-01,  2.8453e-01],\n",
      "          [ 1.6112e-01,  6.2573e-02, -5.5380e-01, -4.6754e-01,  1.8890e-01],\n",
      "          [ 2.8082e-01,  1.5571e-01, -4.6877e-01, -5.3935e-01, -2.1630e-01]],\n",
      "\n",
      "         [[ 5.7034e-02,  1.6431e-01,  8.8035e-02,  1.1211e-01, -1.1580e-01],\n",
      "          [-3.1343e-02, -1.2147e-01, -6.4805e-02, -1.1031e-01, -1.7076e-01],\n",
      "          [-1.1777e-01, -2.9738e-01, -5.9845e-01, -8.5475e-02,  4.0255e-01],\n",
      "          [ 1.6836e-01, -3.7023e-01, -9.2452e-01, -1.7039e-01,  6.0385e-01],\n",
      "          [ 3.1559e-01, -8.9787e-02, -8.9412e-01, -4.7935e-01,  1.2662e-01]],\n",
      "\n",
      "         [[ 3.8462e-02, -2.7705e-02, -5.0716e-02, -1.3047e-01, -4.0074e-03],\n",
      "          [-1.4886e-02, -1.9216e-01, -5.9698e-01, -3.5104e-01,  1.7233e-01],\n",
      "          [ 2.6141e-01, -2.0126e-01, -9.7093e-01, -4.7907e-01,  3.7108e-01],\n",
      "          [ 3.3481e-01, -1.4132e-01, -8.2850e-01, -7.5776e-01, -1.3866e-01],\n",
      "          [ 2.5794e-01,  4.3425e-02, -3.3106e-01, -3.0235e-01, -1.9095e-01]],\n",
      "\n",
      "         [[ 4.6930e-02,  1.2063e-01,  1.9745e-01,  3.1662e-02,  1.4344e-01],\n",
      "          [ 8.1663e-02, -1.1233e-01, -1.6815e-01, -2.1078e-01,  1.8564e-01],\n",
      "          [ 1.1870e-01, -4.0997e-02, -5.7335e-01, -2.6458e-01,  3.7582e-01],\n",
      "          [ 2.0893e-01,  2.5003e-02, -6.3426e-01, -3.8689e-01,  1.7338e-01],\n",
      "          [ 3.0479e-01,  1.3727e-02, -5.3377e-01, -4.6025e-01, -7.3790e-02]]]],\n",
      "       requires_grad=True)\n",
      "Parameter containing:\n",
      "tensor([ 0.1958,  0.0690, -0.1341, -0.1220, -0.1255,  0.0628,  0.0693, -0.1048,\n",
      "         0.0104,  0.0768,  0.1174,  0.0414,  0.0644,  0.1797, -0.0162,  0.0969],\n",
      "       requires_grad=True)\n",
      "Parameter containing:\n",
      "tensor([[ 0.0016, -0.0252,  0.0860,  ..., -0.1051, -0.0317, -0.0150],\n",
      "        [-0.0090, -0.0073,  0.0496,  ...,  0.0603, -0.0567, -0.0024],\n",
      "        [-0.0197, -0.2835, -0.2973,  ...,  0.2073, -0.0480,  0.0228],\n",
      "        ...,\n",
      "        [-0.0054, -0.2391, -0.1210,  ...,  0.2730, -0.2144, -0.1739],\n",
      "        [ 0.0294,  0.1843, -0.0186,  ..., -0.3507, -0.1897, -0.0390],\n",
      "        [ 0.0290, -0.0702,  0.1077,  ..., -0.3406, -0.3336, -0.0752]],\n",
      "       requires_grad=True)\n",
      "Parameter containing:\n",
      "tensor([-0.0208, -0.0349, -0.0577, -0.0248,  0.0023, -0.0626,  0.0605, -0.0420,\n",
      "        -0.0864, -0.0415, -0.0240, -0.0003, -0.0005, -0.0912,  0.0560, -0.0971,\n",
      "         0.0340, -0.0464, -0.0427, -0.0447, -0.0308, -0.0101,  0.0421, -0.0334,\n",
      "        -0.1012, -0.0373,  0.0482, -0.0383, -0.0163, -0.0512, -0.0609, -0.0319,\n",
      "        -0.0094, -0.0985,  0.0455,  0.0384,  0.1291, -0.0661,  0.0316, -0.0407,\n",
      "        -0.1388, -0.0191,  0.0789,  0.0019, -0.0392, -0.0296, -0.0152,  0.0108,\n",
      "        -0.1443, -0.0669, -0.0480, -0.0220, -0.0250,  0.1016, -0.0900, -0.0228,\n",
      "        -0.0436, -0.0069, -0.0549, -0.0789, -0.0761, -0.1067, -0.0604, -0.0389,\n",
      "        -0.0592,  0.0790, -0.0365, -0.0792, -0.0196, -0.0643, -0.0170, -0.0527,\n",
      "        -0.0750, -0.0464, -0.0477,  0.0151,  0.0808, -0.1108, -0.1016, -0.0985,\n",
      "         0.0602, -0.0439, -0.0282,  0.0992, -0.0289,  0.0491, -0.0005,  0.0129,\n",
      "        -0.0036, -0.0098, -0.0263, -0.0004, -0.0345, -0.0566, -0.0478,  0.0849,\n",
      "        -0.0170, -0.1003, -0.0185, -0.1073,  0.0118, -0.0985, -0.0127, -0.1071,\n",
      "        -0.1092, -0.0989,  0.0268, -0.0030, -0.0061, -0.0705, -0.0065, -0.0036,\n",
      "        -0.0368,  0.0989, -0.0913,  0.0040,  0.0808, -0.0296, -0.0774, -0.0514],\n",
      "       requires_grad=True)\n",
      "Parameter containing:\n",
      "tensor([[-3.0287e-01,  5.5411e-02,  2.1041e-01,  ...,  5.2588e-02,\n",
      "          4.0032e-01,  2.9139e-01],\n",
      "        [ 2.1124e-01, -6.7442e-02,  1.2232e-01,  ...,  1.9983e-01,\n",
      "          2.0261e-01,  1.1735e-01],\n",
      "        [-1.0765e-01,  3.9674e-02, -2.7577e-01,  ...,  1.8559e-02,\n",
      "         -1.6428e-01,  2.9040e-01],\n",
      "        ...,\n",
      "        [-2.8291e-01, -1.5487e-02,  4.4132e-04,  ..., -1.9552e-02,\n",
      "         -2.6351e-01, -2.1985e-01],\n",
      "        [-7.3267e-02,  5.8503e-02, -4.6021e-02,  ...,  1.3212e-01,\n",
      "         -1.3179e-01,  5.4102e-01],\n",
      "        [-4.2524e-03, -2.7300e-02,  5.0433e-01,  ...,  1.7137e-01,\n",
      "         -2.5890e-01, -3.8852e-01]], requires_grad=True)\n",
      "Parameter containing:\n",
      "tensor([-0.0607,  0.0868, -0.0106,  0.0092, -0.0162, -0.0562,  0.0592, -0.0774,\n",
      "        -0.0455,  0.1029,  0.0864,  0.0870, -0.0543,  0.0085, -0.1146,  0.1847,\n",
      "        -0.0913,  0.0358, -0.1161, -0.0187, -0.0518, -0.0287,  0.0460,  0.0147,\n",
      "        -0.0738,  0.0640, -0.1359,  0.0449,  0.0265, -0.0390,  0.0530,  0.0297,\n",
      "        -0.0328, -0.0016, -0.1199, -0.0457,  0.0080,  0.1174, -0.0397,  0.0696,\n",
      "        -0.0454, -0.0078, -0.1278,  0.0864,  0.0930,  0.0155,  0.0165, -0.0308,\n",
      "         0.0331, -0.0674, -0.0048,  0.0144, -0.0009, -0.0146,  0.0375,  0.0217,\n",
      "        -0.1026, -0.0265, -0.0930, -0.0087, -0.0575,  0.0870,  0.0783,  0.0844,\n",
      "        -0.0236,  0.0772,  0.0335,  0.0177, -0.0432, -0.0876, -0.0593,  0.0660,\n",
      "         0.0647,  0.0219,  0.0050, -0.0037, -0.1170,  0.1191,  0.0149,  0.0372,\n",
      "        -0.0331, -0.1251, -0.0569,  0.1032], requires_grad=True)\n",
      "Parameter containing:\n",
      "tensor([[-0.0028, -0.1947,  0.3200, -0.1900, -0.1306, -0.4831,  0.1724,  0.2436,\n",
      "         -0.6301, -0.7231, -0.2871,  0.4943, -0.2564, -0.2147,  0.5382, -0.7279,\n",
      "          0.0449, -0.2762,  0.5096,  0.4179, -0.3648, -0.1442,  0.4602, -0.5154,\n",
      "          0.4124, -0.5356,  0.5189,  0.1932, -0.1561, -0.3581, -0.5297, -0.3353,\n",
      "         -0.5088, -0.0605,  0.4189,  0.4833,  0.2971, -0.3882,  0.5198, -0.1358,\n",
      "          0.3861, -0.4773,  0.2574, -0.5771,  0.4641,  0.4628, -0.2231, -0.6436,\n",
      "         -0.8069,  0.2744,  0.3515, -0.6646, -0.1148, -0.8341, -0.2436, -0.7491,\n",
      "         -0.3092,  0.5558,  0.4598, -0.3612,  0.4981, -0.2950,  0.0769, -0.6148,\n",
      "         -0.3375, -0.4404, -0.2811,  0.2587,  0.2665,  0.5287,  0.0854, -0.6038,\n",
      "         -0.1096,  0.5176, -0.4285, -0.4012,  0.3462, -0.5045,  0.5423, -0.2250,\n",
      "         -0.3678, -0.2093, -0.4837, -0.3968],\n",
      "        [-0.4363,  0.0265,  0.2380,  0.4652,  0.2059,  0.4744, -0.3752, -0.3652,\n",
      "          0.3185,  0.5589, -0.4831, -0.1444,  0.3439, -0.5706,  0.4313, -0.6735,\n",
      "          0.1295, -0.4625,  0.1718,  0.0717,  0.0720,  0.0446, -0.1026,  0.4885,\n",
      "         -0.3984,  0.5585, -0.4493, -0.2725,  0.0458, -0.1780,  0.4117, -0.1533,\n",
      "          0.5327,  0.3486, -0.4986, -0.4752,  0.2818, -0.3522, -0.3266, -0.3546,\n",
      "         -0.4531,  0.6015,  0.2108, -0.2406,  0.2087, -0.5907,  0.5457,  0.1659,\n",
      "          0.6726, -0.3780, -0.7125,  0.3321,  0.4639,  0.4327,  0.1717,  0.4018,\n",
      "         -0.2759, -0.4881, -0.4411, -0.6335,  0.1315,  0.0572,  0.4455,  0.3772,\n",
      "         -0.4188,  0.4778, -0.4723, -0.0521, -0.3601, -0.2667, -0.3418,  0.1828,\n",
      "          0.3734, -0.6047,  0.3324, -0.1544, -0.2120,  0.0066, -0.4965, -0.1541,\n",
      "         -0.1946, -0.1857,  0.2534, -0.3505],\n",
      "        [ 0.3424, -0.1032,  0.2959, -0.1737, -0.3167,  0.6727,  0.4951, -0.3676,\n",
      "         -0.5057,  0.1561, -0.4194, -0.5432,  0.6205,  0.2860,  0.5017, -0.5226,\n",
      "         -0.1469, -0.6564,  0.2997,  0.0587,  0.0315,  0.2825,  0.2438, -0.7382,\n",
      "          0.0694,  0.4945,  0.2344,  0.2426,  0.4452,  0.4829, -0.4867, -0.3033,\n",
      "          0.4357, -0.3701,  0.1744,  0.1053, -0.8446, -0.4160,  0.3238,  0.2701,\n",
      "         -0.6017, -0.5449,  0.1189,  0.0810,  0.1480, -0.9084,  0.0231,  0.0797,\n",
      "         -0.3084,  0.4893, -0.0543, -0.7986, -0.2198,  0.6204, -0.2379, -0.1896,\n",
      "          0.4911, -0.2844, -0.0856, -0.3350,  0.2028, -0.4827,  0.3188,  0.5112,\n",
      "          0.0265, -0.3089, -0.4420,  0.4268,  0.0284, -0.3295,  0.4373, -0.4825,\n",
      "          0.5331, -0.5316, -0.5854,  0.0306, -0.3333, -0.0202,  0.1103, -0.2441,\n",
      "          0.3934, -0.1519,  0.1343, -0.3280],\n",
      "        [-0.1643,  0.4494, -0.1762,  0.5444,  0.5468, -0.1310,  0.2853, -0.0560,\n",
      "         -0.5762, -0.2988,  0.2732, -0.5832,  0.1848, -0.4672, -0.5975,  0.2303,\n",
      "         -0.0483, -0.0129, -0.0712,  0.2005,  0.4682,  0.0857, -0.0375, -0.5153,\n",
      "          0.1018, -0.5487,  0.2529,  0.1565,  0.5057,  0.1554, -0.2762,  0.0530,\n",
      "          0.3824,  0.1731,  0.0104,  0.4549,  0.1642,  0.7097, -0.5559, -0.2943,\n",
      "         -0.1716, -0.3137, -0.5457,  0.5218, -0.0081,  0.1408, -0.5994,  0.5430,\n",
      "         -0.2667,  0.2185, -0.4174, -0.3014, -0.1321, -0.2944, -0.1991,  0.1843,\n",
      "         -0.2723, -0.6300,  0.5561,  0.6639,  0.4274, -0.6651, -0.5102,  0.4625,\n",
      "         -0.1629, -0.4080, -0.2348,  0.0960,  0.1530, -0.5177, -0.2694, -0.4437,\n",
      "         -0.4164, -0.4033,  0.3754, -0.1821,  0.3095, -0.3859,  0.2415,  0.0274,\n",
      "          0.5464, -0.0973, -0.2669,  0.6104],\n",
      "        [-0.1694, -0.7778, -0.3008, -0.3479, -0.3704,  0.5623, -0.4752,  0.2091,\n",
      "          0.1603,  0.4285,  0.3173,  0.0711, -0.4436,  0.6124, -0.3831,  0.4892,\n",
      "         -0.5469, -0.1898, -0.1027,  0.2649, -0.3584, -0.3652, -0.5711,  0.6359,\n",
      "         -0.4022, -0.4742,  0.2042,  0.1708, -0.4151,  0.5482,  0.0784,  0.0389,\n",
      "         -0.4496, -0.4656,  0.0332, -0.6498, -0.6645,  0.1647,  0.0413, -0.4871,\n",
      "          0.2638,  0.3794,  0.1783, -0.5298, -0.7599, -0.1295, -0.5280, -0.2019,\n",
      "          0.4948,  0.0919,  0.2845, -0.1027,  0.4349,  0.2103, -0.3522, -0.2537,\n",
      "          0.3389,  0.2010, -0.5953, -0.7083, -0.2295,  0.4553, -0.5680,  0.3556,\n",
      "          0.4271,  0.3259,  0.3095, -0.2555, -0.0408, -0.3257,  0.3429,  0.2778,\n",
      "          0.3682,  0.0894,  0.2162,  0.4480, -0.3035,  0.6107,  0.1778,  0.5837,\n",
      "          0.4516, -0.3063, -0.0601, -0.7586],\n",
      "        [ 0.2440,  0.0447, -0.0243, -0.2738,  0.5330, -0.6011, -0.7385,  0.4400,\n",
      "          0.4711,  0.7188,  0.2453,  0.3464, -0.4675, -0.1592, -0.5497, -0.3576,\n",
      "          0.4167,  0.0946, -0.3048,  0.0071,  0.4197, -0.1849,  0.2574,  0.8201,\n",
      "          0.3291,  0.1386, -0.3025,  0.0176, -0.0327, -0.2982,  0.3353,  0.3153,\n",
      "         -0.3509,  0.2273,  0.2030,  0.3107,  0.2991, -0.3208,  0.0765, -0.7118,\n",
      "         -0.0830,  0.6539,  0.2679, -0.6454, -0.3518,  0.1468, -0.1135,  0.4335,\n",
      "          0.2483, -0.6249,  0.1318,  0.2535, -0.0662, -0.4682, -0.5019,  0.5490,\n",
      "         -0.4138,  0.3662,  0.1661,  0.0132, -0.3127, -0.1409, -0.6018, -0.6830,\n",
      "          0.2542,  0.0273, -0.1130, -0.0662,  0.1812,  0.4225, -0.1376,  0.2961,\n",
      "         -0.2278, -0.4255, -0.3129, -0.6756,  0.3531, -0.4118, -0.3854, -0.3794,\n",
      "         -0.3466,  0.0908, -0.5394, -0.5348],\n",
      "        [ 0.2634, -0.0480, -0.5507, -0.4983, -0.3285,  0.3350,  0.7186, -0.5430,\n",
      "          0.2753,  0.5143, -0.7872,  0.3769, -0.6920,  0.5704, -0.4293, -0.5030,\n",
      "         -0.5959,  0.6592,  0.5067, -0.2654, -0.7282,  0.5009,  0.4043,  0.5263,\n",
      "         -0.4366,  0.0999, -0.2939,  0.2866,  0.2978,  0.6302, -0.3757, -0.6116,\n",
      "         -0.3814, -0.5871, -0.5652, -0.4331,  0.2972, -0.3740,  0.3119, -0.1161,\n",
      "          0.0371,  0.5797,  0.2496, -0.7301, -0.4298, -0.5791, -0.3240, -0.4278,\n",
      "          0.5205, -0.0489,  0.2893,  0.6029,  0.6008, -0.6146, -0.2024, -0.9066,\n",
      "         -0.0659,  0.1411, -0.6253, -0.7431, -0.1541, -0.7547,  0.5127, -0.5510,\n",
      "         -0.5989, -0.0977, -0.6520,  0.3444, -0.1455,  0.5587,  0.5303,  0.5178,\n",
      "          0.5332,  0.3471, -0.7012, -0.4918, -0.0970,  0.5583, -0.6481, -0.1792,\n",
      "         -0.4541, -0.2145, -0.1846, -0.4186],\n",
      "        [-0.0651, -0.4429,  0.2168,  0.0739,  0.4300, -0.2972, -0.7304,  0.2832,\n",
      "          0.5417, -0.1494,  0.2034, -0.6768,  0.2805, -0.1761,  0.3162,  0.2548,\n",
      "         -0.3338, -1.0743, -0.1597, -0.1102,  0.2298, -0.4194,  0.1917, -0.4908,\n",
      "         -0.0595, -0.1336, -0.1764, -0.9245, -0.6553, -0.2927,  0.2598,  0.0656,\n",
      "          0.5733,  0.3639,  0.2245, -0.6416, -0.6752,  0.5048, -0.3624,  0.1627,\n",
      "         -0.5091, -0.2040, -0.3751, -0.2619,  0.3504, -0.5495, -0.3161, -0.3727,\n",
      "         -0.5979,  0.1454, -0.6721, -0.7747, -0.3006,  0.4445,  0.3703,  0.3933,\n",
      "         -0.1668,  0.2847, -0.3051,  0.3126,  0.4503,  0.3002,  0.4998,  0.4953,\n",
      "         -0.0547,  0.0764,  0.4862,  0.4019, -0.6268, -0.2034,  0.1533, -0.0743,\n",
      "         -0.3635, -0.3782, -0.1270,  0.5980, -0.1624, -0.2825,  0.2463, -0.4834,\n",
      "          0.3421,  0.7644,  0.5683,  0.4833],\n",
      "        [-0.0806,  0.2560, -0.3419, -0.2792, -0.4711, -0.2609,  0.3962, -0.4134,\n",
      "         -0.5909, -0.4097,  0.0412,  0.1453,  0.6966, -0.3795,  0.0064,  0.6241,\n",
      "          0.1923,  0.5050, -0.1704, -0.4847, -0.1960, -0.3264, -0.0292, -0.1923,\n",
      "          0.2620,  0.6988, -0.4470,  0.1690,  0.1838, -0.1216, -0.0609, -0.5159,\n",
      "         -0.5161,  0.1367, -0.1413,  0.2940,  0.3172, -0.4499, -0.0731,  0.4886,\n",
      "          0.1189,  0.1262, -0.4330,  0.8319,  0.1939,  0.3272,  0.8885, -0.3264,\n",
      "          0.4975, -0.0211,  0.3550,  0.5584,  0.2971, -0.1879,  0.4129, -0.0146,\n",
      "         -0.1991, -0.3450, -0.3005,  0.3491, -0.3745,  0.3556, -0.2917, -0.7811,\n",
      "          0.0751,  0.0615, -0.4306, -0.5440,  0.2154, -0.0684, -0.2204, -0.5447,\n",
      "         -0.3519,  0.4940,  0.2964,  0.0622, -0.4652, -0.4255,  0.1104, -0.4317,\n",
      "          0.1349, -0.2824,  0.5331,  0.1152],\n",
      "        [ 0.2410, -0.3223, -0.5089,  0.2177, -0.0777, -0.5098, -0.4586,  0.3255,\n",
      "          0.2646, -0.7039,  0.0939,  0.4121, -0.6359,  0.1260, -0.4957,  0.3582,\n",
      "          0.1156,  0.3928, -0.0445, -0.3369, -0.4285, -0.0214, -0.4303, -0.6063,\n",
      "         -0.0269, -0.7631, -0.0353, -0.3856, -0.5603, -0.2593,  0.2456,  0.4081,\n",
      "         -0.6962, -0.0191, -0.0507,  0.3867,  0.4194,  0.4365, -0.0588,  0.5224,\n",
      "          0.6176, -0.9926, -0.1596, -0.5650,  0.3551,  0.4832, -0.3194, -0.6115,\n",
      "         -0.9495, -0.2880,  0.0719,  0.3005, -0.6241,  0.1722,  0.3586, -0.5293,\n",
      "          0.0311,  0.2261, -0.4099,  0.0563, -0.3941,  0.2330,  0.3113,  0.1449,\n",
      "          0.5989,  0.3905,  0.3902,  0.0509,  0.4649,  0.0375, -0.4915,  0.4835,\n",
      "         -0.1848,  0.4407,  0.4011,  0.0575,  0.1110,  0.4521, -0.1087,  0.5126,\n",
      "         -0.0708,  0.0345, -0.3513,  0.5392]], requires_grad=True)\n",
      "Parameter containing:\n",
      "tensor([ 0.0787, -0.0284,  0.1049, -0.0910,  0.0847,  0.0353,  0.0706,  0.0169,\n",
      "        -0.0914, -0.0454], requires_grad=True)\n"
     ]
    }
   ],
   "source": [
    "for n in swag_net.modules():\n",
    "    for p in n.parameters():\n",
    "        print(p)"
   ]
  },
  {
   "cell_type": "code",
   "execution_count": null,
   "metadata": {},
   "outputs": [],
   "source": [
    "### Run SWAG\n",
    "\n",
    "def swag(net,lr,epochs):\n",
    "    return"
   ]
  },
  {
   "cell_type": "code",
   "execution_count": 20,
   "metadata": {},
   "outputs": [],
   "source": [
    "import torchmetrics\n",
    "### Compare metrics\n",
    "test_x,test_y = next(iter(test_dataloader))\n",
    "\n",
    "# Accuracy\n",
    "acc_ntk = torchmetrics.functional.accuracy(y_pred_ntk,test_y,task='multiclass',num_classes=N_OUTPUT)\n",
    "acc_ntk_posterior = torchmetrics.functional.accuracy(y_post_pred_ntk,test_y,task='multiclass',num_classes=N_OUTPUT)\n",
    "\n",
    "acc_ensemble = torchmetrics.functional.accuracy(ensemble_pred_avg,test_y,task='multiclass',num_classes=N_OUTPUT)\n",
    "\n",
    "acc_dropout = torchmetrics.functional.accuracy(dropout_pred,test_y,task='multiclass',num_classes=N_OUTPUT)\n",
    "\n",
    "acc_temp_scale = torchmetrics.functional.accuracy(scaled_model_preds,test_y,task='multiclass',num_classes=N_OUTPUT)\n",
    "\n",
    "# NLL\n",
    "nll_ntk = loss_fn(y_pred_ntk,test_y)\n",
    "nll_ntk_posterior = loss_fn(y_post_pred_ntk,test_y)\n",
    "\n",
    "nll_ensemble = loss_fn(ensemble_pred_avg,test_y)\n",
    "\n",
    "nll_dropout = loss_fn(dropout_pred,test_y)\n",
    "\n",
    "nll_temp_scale = loss_fn(scaled_model_preds,test_y)\n",
    "\n",
    "# ECE\n",
    "ece_ntk = torchmetrics.functional.calibration_error(y_pred_ntk.softmax(dim=1),test_y,task='multiclass',num_classes=N_OUTPUT)\n",
    "ece_ntk_posterior = torchmetrics.functional.calibration_error(y_post_pred_ntk.softmax(dim=1),test_y,task='multiclass',num_classes=N_OUTPUT)\n",
    "\n",
    "ece_ensemble = torchmetrics.functional.calibration_error(ensemble_pred_avg.softmax(dim=1),test_y,task='multiclass',num_classes=N_OUTPUT)\n",
    "\n",
    "ece_dropout = torchmetrics.functional.calibration_error(dropout_pred.softmax(dim=1),test_y,task='multiclass',num_classes=N_OUTPUT)\n",
    "\n",
    "ece_temp_scale = torchmetrics.functional.calibration_error(scaled_model_preds.softmax(dim=1),test_y,task='multiclass',num_classes=N_OUTPUT)"
   ]
  },
  {
   "cell_type": "code",
   "execution_count": 21,
   "metadata": {},
   "outputs": [
    {
     "name": "stdout",
     "output_type": "stream",
     "text": [
      "Method: NTK \n",
      " Acc: 97.0%, NLL: 0.104, ECE: 0.038\n",
      "Method: NTK Posterior Predictive \n",
      " Acc: 94.0%, NLL: 0.200, ECE: 0.059\n",
      "Method: Deep Ensemble \n",
      " Acc: 98.0%, NLL: 0.086, ECE: 0.017\n",
      "Method: MC-Dropout \n",
      " Acc: 95.0%, NLL: 0.140, ECE: 0.036\n",
      "Method: Temp-Scaling \n",
      " Acc: 97.0%, NLL: 0.127, ECE: 0.045\n"
     ]
    }
   ],
   "source": [
    "#Print metrics\n",
    "\n",
    "torch.set_printoptions(precision=4,sci_mode=False)\n",
    "print(\"Method: NTK \\n Acc: {:.1f}%, NLL: {:.3f}, ECE: {:.3f}\".format(\n",
    "    100*acc_ntk, nll_ntk, ece_ntk\n",
    "))\n",
    "print(\"Method: NTK Posterior Predictive \\n Acc: {:.1f}%, NLL: {:.3f}, ECE: {:.3f}\".format(\n",
    "    100*acc_ntk_posterior, nll_ntk_posterior, ece_ntk_posterior\n",
    "))\n",
    "print(\"Method: Deep Ensemble \\n Acc: {:.1f}%, NLL: {:.3f}, ECE: {:.3f}\".format(\n",
    "    100*acc_ensemble, nll_ensemble, ece_ensemble\n",
    "))\n",
    "print(\"Method: MC-Dropout \\n Acc: {:.1f}%, NLL: {:.3f}, ECE: {:.3f}\".format(\n",
    "    100*acc_dropout, nll_dropout, ece_dropout\n",
    "))\n",
    "print(\"Method: Temp-Scaling \\n Acc: {:.1f}%, NLL: {:.3f}, ECE: {:.3f}\".format(\n",
    "    100*acc_temp_scale, nll_temp_scale, ece_temp_scale\n",
    "))"
   ]
  },
  {
   "cell_type": "code",
   "execution_count": 22,
   "metadata": {},
   "outputs": [
    {
     "data": {
      "image/png": "[encoded data removed]",
      "text/plain": [
       "<Figure size 640x480 with 1 Axes>"
      ]
     },
     "metadata": {},
     "output_type": "display_data"
    }
   ],
   "source": [
    "### Calibration curve\n",
    "models = ['ntk','ntk sampled','deep ensemble','mc-dropout']\n",
    "colours = ['b','g','y','m']\n",
    "predictions = [y_pred_ntk,y_post_pred_ntk,ensemble_pred_avg,dropout_pred]\n",
    "n_bins = 10\n",
    "\n",
    "torch.set_printoptions(precision=4,sci_mode=False)\n",
    "def calibration_curve_values(preds, target, n_bins, model='None'):\n",
    "    '''\n",
    "    INPUTS:\n",
    "        - preds :: (n x c) torch.tensor\n",
    "        - targets :: (n) torch.tensor\n",
    "\n",
    "    OUTPUTS:\n",
    "        - xs :: (n_bins) torch.tensor\n",
    "            average confidence of prediction in each bin, given by softmax probability\n",
    "        - ys :: (n_bins) torch.tensor\n",
    "            average accuracy of predictions in each bin\n",
    "    '''\n",
    "\n",
    "    confidences, predictions = preds.softmax(dim=1).max(1)\n",
    "    step = (confidences.shape[0] + n_bins -1) // n_bins\n",
    "    bins = torch.sort(confidences)[0][::step]\n",
    "    if confidences.shape[0] % step != 1:\n",
    "        bins = torch.cat((bins, confidences.max().reshape(1)),dim=0)\n",
    "    bin_lowers = bins[:-1]\n",
    "    bin_uppers = bins[1:]\n",
    "    accuracies = predictions == target\n",
    "    xs = []\n",
    "    ys = []\n",
    "    for bin_lower_conf,bin_upper_conf in zip(bin_lowers,bin_uppers):\n",
    "        in_bin = (confidences > bin_lower_conf) * (confidences < bin_upper_conf)\n",
    "        prop_in_bin = in_bin.double().mean(dtype=torch.double)\n",
    "        if prop_in_bin > 0:\n",
    "            accuracy_in_bin = accuracies[in_bin].double().mean(dtype=torch.double)\n",
    "            confidence_in_bin = confidences[in_bin].double().mean(dtype=torch.double)\n",
    "            xs.append(confidence_in_bin)\n",
    "            ys.append(accuracy_in_bin)\n",
    "    xs = torch.tensor(xs)\n",
    "    ys = torch.tensor(ys)\n",
    "\n",
    "    return xs, ys\n",
    "\n",
    "min_x = 1\n",
    "fig1,ax1 = plt.subplots()\n",
    "for i,m in enumerate(models):\n",
    "    xs,ys = calibration_curve_values(predictions[i],test_y,n_bins,m)\n",
    "    if xs.cpu().detach().numpy()[0] < min_x:\n",
    "        min_x = xs.cpu().detach().numpy()[0]\n",
    "    ax1.plot(xs.cpu().detach().numpy(),(xs - ys).cpu().detach().numpy(),\n",
    "             '{}-o'.format(colours[i]),\n",
    "             label=m)\n",
    "ax1.plot(np.linspace(min_x,1,1000),np.zeros(1000),'--k')\n",
    "ax1.set_xlabel('Confidence (Max Probability)')\n",
    "ax1.set_ylabel('Confidence - Accuracy')\n",
    "ax1.set_title('LeNet5 MNIST')\n",
    "ax1.grid()\n",
    "ax1.legend()\n",
    "plt.show()"
   ]
  },
  {
   "cell_type": "code",
   "execution_count": 23,
   "metadata": {},
   "outputs": [],
   "source": [
    "### Entropy Experiment - OOD Dataset - FashionMNIST\n",
    "\n",
    "fmnist_dataset = datasets.FashionMNIST(\n",
    "    root='data\\FashionMNIST',\n",
    "    train=False,\n",
    "    download=True,\n",
    "    transform=ToTensor()\n",
    ")\n",
    "\n",
    "ood_n = N_TEST\n",
    "ood_test = torch.utils.data.Subset(\n",
    "    fmnist_dataset,\n",
    "    range(ood_n)\n",
    ")"
   ]
  },
  {
   "cell_type": "code",
   "execution_count": 7,
   "metadata": {},
   "outputs": [
    {
     "name": "stderr",
     "output_type": "stream",
     "text": [
      "C:\\Users\\s4531973\\AppData\\Local\\Packages\\PythonSoftwareFoundation.Python.3.11_qbz5n2kfra8p0\\LocalCache\\local-packages\\Python311\\site-packages\\torch\\_functorch\\deprecated.py:97: UserWarning: We've integrated functorch into PyTorch. As the final step of the integration, functorch.make_functional is deprecated as of PyTorch 2.0 and will be deleted in a future version of PyTorch >= 2.3. Please use torch.func.functional_call instead; see the PyTorch 2.0 release notes and/or the torch.func migration guide for more details https://pytorch.org/docs/master/func.migrating.html\n",
      "  warn_deprecated('make_functional', 'torch.func.functional_call')\n",
      "  4%|▎         | 37/1000 [00:18<08:05,  1.98it/s]\n"
     ]
    },
    {
     "ename": "KeyboardInterrupt",
     "evalue": "",
     "output_type": "error",
     "traceback": [
      "\u001b[1;31m---------------------------------------------------------------------------\u001b[0m",
      "\u001b[1;31mKeyboardInterrupt\u001b[0m                         Traceback (most recent call last)",
      "Cell \u001b[1;32mIn[7], line 8\u001b[0m\n\u001b[0;32m      5\u001b[0m rtol_solve \u001b[38;5;241m=\u001b[39m \u001b[38;5;241m1e-10\u001b[39m\n\u001b[0;32m      6\u001b[0m maxit_solve \u001b[38;5;241m=\u001b[39m \u001b[38;5;241m200\u001b[39m\n\u001b[1;32m----> 8\u001b[0m id_unc_ntk, _ \u001b[38;5;241m=\u001b[39m \u001b[43mdf\u001b[49m\u001b[38;5;241;43m.\u001b[39;49m\u001b[43mntk_uncertainty_explicit_class\u001b[49m\u001b[43m(\u001b[49m\n\u001b[0;32m      9\u001b[0m \u001b[43m    \u001b[49m\u001b[43mtrain_dataset\u001b[49m\u001b[38;5;241;43m=\u001b[39;49m\u001b[43mtraining_data\u001b[49m\u001b[43m,\u001b[49m\n\u001b[0;32m     10\u001b[0m \u001b[43m    \u001b[49m\u001b[43mtest_dataset\u001b[49m\u001b[38;5;241;43m=\u001b[39;49m\u001b[43mtest_data\u001b[49m\u001b[43m,\u001b[49m\n\u001b[0;32m     11\u001b[0m \u001b[43m    \u001b[49m\u001b[43mmodel\u001b[49m\u001b[38;5;241;43m=\u001b[39;49m\u001b[43mntk_net\u001b[49m\u001b[43m,\u001b[49m\n\u001b[0;32m     12\u001b[0m \u001b[43m    \u001b[49m\u001b[43mnum_classes\u001b[49m\u001b[38;5;241;43m=\u001b[39;49m\u001b[38;5;241;43m10\u001b[39;49m\u001b[43m,\u001b[49m\n\u001b[0;32m     13\u001b[0m \u001b[43m    \u001b[49m\u001b[38;5;28;43mtype\u001b[39;49m\u001b[38;5;241;43m=\u001b[39;49m\u001b[38;5;124;43m'\u001b[39;49m\u001b[38;5;124;43miterative\u001b[39;49m\u001b[38;5;124;43m'\u001b[39;49m\u001b[43m,\u001b[49m\n\u001b[0;32m     14\u001b[0m \u001b[43m    \u001b[49m\u001b[43mrtol\u001b[49m\u001b[38;5;241;43m=\u001b[39;49m\u001b[43mrtol_solve\u001b[49m\u001b[43m,\u001b[49m\n\u001b[0;32m     15\u001b[0m \u001b[43m    \u001b[49m\u001b[43mmaxit\u001b[49m\u001b[38;5;241;43m=\u001b[39;49m\u001b[43mmaxit_solve\u001b[49m\u001b[43m)\u001b[49m\n\u001b[0;32m     17\u001b[0m \u001b[38;5;66;03m# Uncertainty for OOD\u001b[39;00m\n\u001b[0;32m     18\u001b[0m rtol_solve \u001b[38;5;241m=\u001b[39m \u001b[38;5;241m1e-10\u001b[39m\n",
      "File \u001b[1;32mc:\\Users\\s4531973\\Documents\\PhD\\Code\\Uncertainty Quantification\\definitions.py:863\u001b[0m, in \u001b[0;36mntk_uncertainty_explicit_class\u001b[1;34m(train_dataset, test_dataset, model, num_classes, type, rtol, maxit, softmax)\u001b[0m\n\u001b[0;32m    856\u001b[0m \u001b[38;5;28;01mfor\u001b[39;00m i,(x_test,_) \u001b[38;5;129;01min\u001b[39;00m \u001b[38;5;28menumerate\u001b[39m(test_dataloader):\n\u001b[0;32m    857\u001b[0m     kappa_xx \u001b[38;5;241m=\u001b[39m empirical_ntk_jacobian_contraction(\n\u001b[0;32m    858\u001b[0m         fnet_single\u001b[38;5;241m=\u001b[39mfnet_single,\n\u001b[0;32m    859\u001b[0m         params\u001b[38;5;241m=\u001b[39mparams,\n\u001b[0;32m    860\u001b[0m         x1\u001b[38;5;241m=\u001b[39mx_test,\n\u001b[0;32m    861\u001b[0m         x2\u001b[38;5;241m=\u001b[39mx_test\n\u001b[0;32m    862\u001b[0m         )\u001b[38;5;241m.\u001b[39mdetach()\u001b[38;5;241m.\u001b[39mnumpy()\u001b[38;5;241m.\u001b[39msqueeze((\u001b[38;5;241m2\u001b[39m,\u001b[38;5;241m3\u001b[39m))\n\u001b[1;32m--> 863\u001b[0m     kappa_xX \u001b[38;5;241m=\u001b[39m \u001b[43mempirical_ntk_jacobian_contraction\u001b[49m\u001b[43m(\u001b[49m\n\u001b[0;32m    864\u001b[0m \u001b[43m        \u001b[49m\u001b[43mfnet_single\u001b[49m\u001b[38;5;241;43m=\u001b[39;49m\u001b[43mfnet_single\u001b[49m\u001b[43m,\u001b[49m\n\u001b[0;32m    865\u001b[0m \u001b[43m        \u001b[49m\u001b[43mparams\u001b[49m\u001b[38;5;241;43m=\u001b[39;49m\u001b[43mparams\u001b[49m\u001b[43m,\u001b[49m\n\u001b[0;32m    866\u001b[0m \u001b[43m        \u001b[49m\u001b[43mx1\u001b[49m\u001b[38;5;241;43m=\u001b[39;49m\u001b[43mx_test\u001b[49m\u001b[43m,\u001b[49m\n\u001b[0;32m    867\u001b[0m \u001b[43m        \u001b[49m\u001b[43mx2\u001b[49m\u001b[38;5;241;43m=\u001b[39;49m\u001b[43mX_train\u001b[49m\n\u001b[0;32m    868\u001b[0m \u001b[43m        \u001b[49m\u001b[43m)\u001b[49m\u001b[38;5;241m.\u001b[39mdetach()\u001b[38;5;241m.\u001b[39mnumpy()\u001b[38;5;241m.\u001b[39msqueeze((\u001b[38;5;241m2\u001b[39m,\u001b[38;5;241m3\u001b[39m))\n\u001b[0;32m    869\u001b[0m     \u001b[38;5;28;01mif\u001b[39;00m \u001b[38;5;28mtype\u001b[39m\u001b[38;5;241m==\u001b[39m\u001b[38;5;124m'\u001b[39m\u001b[38;5;124mdirect\u001b[39m\u001b[38;5;124m'\u001b[39m:\n\u001b[0;32m    870\u001b[0m         uncertainty_estimate \u001b[38;5;241m=\u001b[39m kappa_xx \u001b[38;5;241m-\u001b[39m kappa_xX \u001b[38;5;241m@\u001b[39m np\u001b[38;5;241m.\u001b[39mlinalg\u001b[38;5;241m.\u001b[39msolve(Kappa,kappa_xX\u001b[38;5;241m.\u001b[39mtranspose())\n",
      "File \u001b[1;32mc:\\Users\\s4531973\\Documents\\PhD\\Code\\Uncertainty Quantification\\definitions.py:935\u001b[0m, in \u001b[0;36mempirical_ntk_jacobian_contraction\u001b[1;34m(fnet_single, params, x1, x2)\u001b[0m\n\u001b[0;32m    932\u001b[0m jac1 \u001b[38;5;241m=\u001b[39m [j\u001b[38;5;241m.\u001b[39mflatten(\u001b[38;5;241m2\u001b[39m) \u001b[38;5;28;01mfor\u001b[39;00m j \u001b[38;5;129;01min\u001b[39;00m jac1]\n\u001b[0;32m    934\u001b[0m \u001b[38;5;66;03m# Compute J(x2)\u001b[39;00m\n\u001b[1;32m--> 935\u001b[0m jac2 \u001b[38;5;241m=\u001b[39m \u001b[43mvmap\u001b[49m\u001b[43m(\u001b[49m\u001b[43mjacrev\u001b[49m\u001b[43m(\u001b[49m\u001b[43mfnet_single\u001b[49m\u001b[43m)\u001b[49m\u001b[43m,\u001b[49m\u001b[43m \u001b[49m\u001b[43m(\u001b[49m\u001b[38;5;28;43;01mNone\u001b[39;49;00m\u001b[43m,\u001b[49m\u001b[43m \u001b[49m\u001b[38;5;241;43m0\u001b[39;49m\u001b[43m)\u001b[49m\u001b[43m)\u001b[49m\u001b[43m(\u001b[49m\u001b[43mparams\u001b[49m\u001b[43m,\u001b[49m\u001b[43m \u001b[49m\u001b[43mx2\u001b[49m\u001b[43m)\u001b[49m\n\u001b[0;32m    936\u001b[0m jac2 \u001b[38;5;241m=\u001b[39m [j\u001b[38;5;241m.\u001b[39mflatten(\u001b[38;5;241m2\u001b[39m) \u001b[38;5;28;01mfor\u001b[39;00m j \u001b[38;5;129;01min\u001b[39;00m jac2]\n\u001b[0;32m    938\u001b[0m \u001b[38;5;66;03m# Compute J(x1) @ J(x2).T\u001b[39;00m\n",
      "File \u001b[1;32m~\\AppData\\Local\\Packages\\PythonSoftwareFoundation.Python.3.11_qbz5n2kfra8p0\\LocalCache\\local-packages\\Python311\\site-packages\\torch\\_functorch\\vmap.py:434\u001b[0m, in \u001b[0;36mvmap.<locals>.wrapped\u001b[1;34m(*args, **kwargs)\u001b[0m\n\u001b[0;32m    430\u001b[0m     \u001b[38;5;28;01mreturn\u001b[39;00m _chunked_vmap(func, flat_in_dims, chunks_flat_args,\n\u001b[0;32m    431\u001b[0m                          args_spec, out_dims, randomness, \u001b[38;5;241m*\u001b[39m\u001b[38;5;241m*\u001b[39mkwargs)\n\u001b[0;32m    433\u001b[0m \u001b[38;5;66;03m# If chunk_size is not specified.\u001b[39;00m\n\u001b[1;32m--> 434\u001b[0m \u001b[38;5;28;01mreturn\u001b[39;00m \u001b[43m_flat_vmap\u001b[49m\u001b[43m(\u001b[49m\n\u001b[0;32m    435\u001b[0m \u001b[43m    \u001b[49m\u001b[43mfunc\u001b[49m\u001b[43m,\u001b[49m\u001b[43m \u001b[49m\u001b[43mbatch_size\u001b[49m\u001b[43m,\u001b[49m\u001b[43m \u001b[49m\u001b[43mflat_in_dims\u001b[49m\u001b[43m,\u001b[49m\u001b[43m \u001b[49m\u001b[43mflat_args\u001b[49m\u001b[43m,\u001b[49m\u001b[43m \u001b[49m\u001b[43margs_spec\u001b[49m\u001b[43m,\u001b[49m\u001b[43m \u001b[49m\u001b[43mout_dims\u001b[49m\u001b[43m,\u001b[49m\u001b[43m \u001b[49m\u001b[43mrandomness\u001b[49m\u001b[43m,\u001b[49m\u001b[43m \u001b[49m\u001b[38;5;241;43m*\u001b[39;49m\u001b[38;5;241;43m*\u001b[39;49m\u001b[43mkwargs\u001b[49m\n\u001b[0;32m    436\u001b[0m \u001b[43m\u001b[49m\u001b[43m)\u001b[49m\n",
      "File \u001b[1;32m~\\AppData\\Local\\Packages\\PythonSoftwareFoundation.Python.3.11_qbz5n2kfra8p0\\LocalCache\\local-packages\\Python311\\site-packages\\torch\\_functorch\\vmap.py:39\u001b[0m, in \u001b[0;36mdoesnt_support_saved_tensors_hooks.<locals>.fn\u001b[1;34m(*args, **kwargs)\u001b[0m\n\u001b[0;32m     36\u001b[0m \u001b[38;5;129m@functools\u001b[39m\u001b[38;5;241m.\u001b[39mwraps(f)\n\u001b[0;32m     37\u001b[0m \u001b[38;5;28;01mdef\u001b[39;00m \u001b[38;5;21mfn\u001b[39m(\u001b[38;5;241m*\u001b[39margs, \u001b[38;5;241m*\u001b[39m\u001b[38;5;241m*\u001b[39mkwargs):\n\u001b[0;32m     38\u001b[0m     \u001b[38;5;28;01mwith\u001b[39;00m torch\u001b[38;5;241m.\u001b[39mautograd\u001b[38;5;241m.\u001b[39mgraph\u001b[38;5;241m.\u001b[39mdisable_saved_tensors_hooks(message):\n\u001b[1;32m---> 39\u001b[0m         \u001b[38;5;28;01mreturn\u001b[39;00m \u001b[43mf\u001b[49m\u001b[43m(\u001b[49m\u001b[38;5;241;43m*\u001b[39;49m\u001b[43margs\u001b[49m\u001b[43m,\u001b[49m\u001b[43m \u001b[49m\u001b[38;5;241;43m*\u001b[39;49m\u001b[38;5;241;43m*\u001b[39;49m\u001b[43mkwargs\u001b[49m\u001b[43m)\u001b[49m\n",
      "File \u001b[1;32m~\\AppData\\Local\\Packages\\PythonSoftwareFoundation.Python.3.11_qbz5n2kfra8p0\\LocalCache\\local-packages\\Python311\\site-packages\\torch\\_functorch\\vmap.py:619\u001b[0m, in \u001b[0;36m_flat_vmap\u001b[1;34m(func, batch_size, flat_in_dims, flat_args, args_spec, out_dims, randomness, **kwargs)\u001b[0m\n\u001b[0;32m    617\u001b[0m \u001b[38;5;28;01mtry\u001b[39;00m:\n\u001b[0;32m    618\u001b[0m     batched_inputs \u001b[38;5;241m=\u001b[39m _create_batched_inputs(flat_in_dims, flat_args, vmap_level, args_spec)\n\u001b[1;32m--> 619\u001b[0m     batched_outputs \u001b[38;5;241m=\u001b[39m \u001b[43mfunc\u001b[49m\u001b[43m(\u001b[49m\u001b[38;5;241;43m*\u001b[39;49m\u001b[43mbatched_inputs\u001b[49m\u001b[43m,\u001b[49m\u001b[43m \u001b[49m\u001b[38;5;241;43m*\u001b[39;49m\u001b[38;5;241;43m*\u001b[39;49m\u001b[43mkwargs\u001b[49m\u001b[43m)\u001b[49m\n\u001b[0;32m    620\u001b[0m     \u001b[38;5;28;01mreturn\u001b[39;00m _unwrap_batched(batched_outputs, out_dims, vmap_level, batch_size, func)\n\u001b[0;32m    621\u001b[0m \u001b[38;5;28;01mfinally\u001b[39;00m:\n",
      "File \u001b[1;32m~\\AppData\\Local\\Packages\\PythonSoftwareFoundation.Python.3.11_qbz5n2kfra8p0\\LocalCache\\local-packages\\Python311\\site-packages\\torch\\_functorch\\eager_transforms.py:489\u001b[0m, in \u001b[0;36mjacrev.<locals>.wrapper_fn\u001b[1;34m(*args)\u001b[0m\n\u001b[0;32m    486\u001b[0m \u001b[38;5;129m@wraps\u001b[39m(func)\n\u001b[0;32m    487\u001b[0m \u001b[38;5;28;01mdef\u001b[39;00m \u001b[38;5;21mwrapper_fn\u001b[39m(\u001b[38;5;241m*\u001b[39margs):\n\u001b[0;32m    488\u001b[0m     error_if_complex(\u001b[38;5;124m\"\u001b[39m\u001b[38;5;124mjacrev\u001b[39m\u001b[38;5;124m\"\u001b[39m, args, is_input\u001b[38;5;241m=\u001b[39m\u001b[38;5;28;01mTrue\u001b[39;00m)\n\u001b[1;32m--> 489\u001b[0m     vjp_out \u001b[38;5;241m=\u001b[39m \u001b[43m_vjp_with_argnums\u001b[49m\u001b[43m(\u001b[49m\u001b[43mfunc\u001b[49m\u001b[43m,\u001b[49m\u001b[43m \u001b[49m\u001b[38;5;241;43m*\u001b[39;49m\u001b[43margs\u001b[49m\u001b[43m,\u001b[49m\u001b[43m \u001b[49m\u001b[43margnums\u001b[49m\u001b[38;5;241;43m=\u001b[39;49m\u001b[43margnums\u001b[49m\u001b[43m,\u001b[49m\u001b[43m \u001b[49m\u001b[43mhas_aux\u001b[49m\u001b[38;5;241;43m=\u001b[39;49m\u001b[43mhas_aux\u001b[49m\u001b[43m)\u001b[49m\n\u001b[0;32m    490\u001b[0m     \u001b[38;5;28;01mif\u001b[39;00m has_aux:\n\u001b[0;32m    491\u001b[0m         output, vjp_fn, aux \u001b[38;5;241m=\u001b[39m vjp_out\n",
      "File \u001b[1;32m~\\AppData\\Local\\Packages\\PythonSoftwareFoundation.Python.3.11_qbz5n2kfra8p0\\LocalCache\\local-packages\\Python311\\site-packages\\torch\\_functorch\\vmap.py:39\u001b[0m, in \u001b[0;36mdoesnt_support_saved_tensors_hooks.<locals>.fn\u001b[1;34m(*args, **kwargs)\u001b[0m\n\u001b[0;32m     36\u001b[0m \u001b[38;5;129m@functools\u001b[39m\u001b[38;5;241m.\u001b[39mwraps(f)\n\u001b[0;32m     37\u001b[0m \u001b[38;5;28;01mdef\u001b[39;00m \u001b[38;5;21mfn\u001b[39m(\u001b[38;5;241m*\u001b[39margs, \u001b[38;5;241m*\u001b[39m\u001b[38;5;241m*\u001b[39mkwargs):\n\u001b[0;32m     38\u001b[0m     \u001b[38;5;28;01mwith\u001b[39;00m torch\u001b[38;5;241m.\u001b[39mautograd\u001b[38;5;241m.\u001b[39mgraph\u001b[38;5;241m.\u001b[39mdisable_saved_tensors_hooks(message):\n\u001b[1;32m---> 39\u001b[0m         \u001b[38;5;28;01mreturn\u001b[39;00m \u001b[43mf\u001b[49m\u001b[43m(\u001b[49m\u001b[38;5;241;43m*\u001b[39;49m\u001b[43margs\u001b[49m\u001b[43m,\u001b[49m\u001b[43m \u001b[49m\u001b[38;5;241;43m*\u001b[39;49m\u001b[38;5;241;43m*\u001b[39;49m\u001b[43mkwargs\u001b[49m\u001b[43m)\u001b[49m\n",
      "File \u001b[1;32m~\\AppData\\Local\\Packages\\PythonSoftwareFoundation.Python.3.11_qbz5n2kfra8p0\\LocalCache\\local-packages\\Python311\\site-packages\\torch\\_functorch\\eager_transforms.py:291\u001b[0m, in \u001b[0;36m_vjp_with_argnums\u001b[1;34m(func, argnums, has_aux, *primals)\u001b[0m\n\u001b[0;32m    289\u001b[0m     diff_primals \u001b[38;5;241m=\u001b[39m _slice_argnums(primals, argnums, as_tuple\u001b[38;5;241m=\u001b[39m\u001b[38;5;28;01mFalse\u001b[39;00m)\n\u001b[0;32m    290\u001b[0m     tree_map_(partial(_create_differentiable, level\u001b[38;5;241m=\u001b[39mlevel), diff_primals)\n\u001b[1;32m--> 291\u001b[0m primals_out \u001b[38;5;241m=\u001b[39m \u001b[43mfunc\u001b[49m\u001b[43m(\u001b[49m\u001b[38;5;241;43m*\u001b[39;49m\u001b[43mprimals\u001b[49m\u001b[43m)\u001b[49m\n\u001b[0;32m    293\u001b[0m \u001b[38;5;28;01mif\u001b[39;00m has_aux:\n\u001b[0;32m    294\u001b[0m     \u001b[38;5;28;01mif\u001b[39;00m \u001b[38;5;129;01mnot\u001b[39;00m (\u001b[38;5;28misinstance\u001b[39m(primals_out, \u001b[38;5;28mtuple\u001b[39m) \u001b[38;5;129;01mand\u001b[39;00m \u001b[38;5;28mlen\u001b[39m(primals_out) \u001b[38;5;241m==\u001b[39m \u001b[38;5;241m2\u001b[39m):\n",
      "File \u001b[1;32mc:\\Users\\s4531973\\Documents\\PhD\\Code\\Uncertainty Quantification\\definitions.py:846\u001b[0m, in \u001b[0;36mntk_uncertainty_explicit_class.<locals>.fnet_single\u001b[1;34m(params, x)\u001b[0m\n\u001b[0;32m    844\u001b[0m     f \u001b[38;5;241m=\u001b[39m fnet(params, x\u001b[38;5;241m.\u001b[39munsqueeze(\u001b[38;5;241m0\u001b[39m))\u001b[38;5;241m.\u001b[39msqueeze(\u001b[38;5;241m0\u001b[39m)\u001b[38;5;241m.\u001b[39msoftmax(dim\u001b[38;5;241m=\u001b[39m\u001b[38;5;241m0\u001b[39m)[c]\u001b[38;5;241m.\u001b[39mreshape(\u001b[38;5;241m1\u001b[39m) \n\u001b[0;32m    845\u001b[0m \u001b[38;5;28;01melse\u001b[39;00m:\n\u001b[1;32m--> 846\u001b[0m     f \u001b[38;5;241m=\u001b[39m \u001b[43mfnet\u001b[49m\u001b[43m(\u001b[49m\u001b[43mparams\u001b[49m\u001b[43m,\u001b[49m\u001b[43m \u001b[49m\u001b[43mx\u001b[49m\u001b[38;5;241;43m.\u001b[39;49m\u001b[43munsqueeze\u001b[49m\u001b[43m(\u001b[49m\u001b[38;5;241;43m0\u001b[39;49m\u001b[43m)\u001b[49m\u001b[43m)\u001b[49m\u001b[38;5;241m.\u001b[39msqueeze(\u001b[38;5;241m0\u001b[39m)[c]\u001b[38;5;241m.\u001b[39mreshape(\u001b[38;5;241m1\u001b[39m) \n\u001b[0;32m    847\u001b[0m \u001b[38;5;28;01mreturn\u001b[39;00m f\n",
      "File \u001b[1;32m~\\AppData\\Local\\Packages\\PythonSoftwareFoundation.Python.3.11_qbz5n2kfra8p0\\LocalCache\\local-packages\\Python311\\site-packages\\torch\\nn\\modules\\module.py:1501\u001b[0m, in \u001b[0;36mModule._call_impl\u001b[1;34m(self, *args, **kwargs)\u001b[0m\n\u001b[0;32m   1496\u001b[0m \u001b[38;5;66;03m# If we don't have any hooks, we want to skip the rest of the logic in\u001b[39;00m\n\u001b[0;32m   1497\u001b[0m \u001b[38;5;66;03m# this function, and just call forward.\u001b[39;00m\n\u001b[0;32m   1498\u001b[0m \u001b[38;5;28;01mif\u001b[39;00m \u001b[38;5;129;01mnot\u001b[39;00m (\u001b[38;5;28mself\u001b[39m\u001b[38;5;241m.\u001b[39m_backward_hooks \u001b[38;5;129;01mor\u001b[39;00m \u001b[38;5;28mself\u001b[39m\u001b[38;5;241m.\u001b[39m_backward_pre_hooks \u001b[38;5;129;01mor\u001b[39;00m \u001b[38;5;28mself\u001b[39m\u001b[38;5;241m.\u001b[39m_forward_hooks \u001b[38;5;129;01mor\u001b[39;00m \u001b[38;5;28mself\u001b[39m\u001b[38;5;241m.\u001b[39m_forward_pre_hooks\n\u001b[0;32m   1499\u001b[0m         \u001b[38;5;129;01mor\u001b[39;00m _global_backward_pre_hooks \u001b[38;5;129;01mor\u001b[39;00m _global_backward_hooks\n\u001b[0;32m   1500\u001b[0m         \u001b[38;5;129;01mor\u001b[39;00m _global_forward_hooks \u001b[38;5;129;01mor\u001b[39;00m _global_forward_pre_hooks):\n\u001b[1;32m-> 1501\u001b[0m     \u001b[38;5;28;01mreturn\u001b[39;00m \u001b[43mforward_call\u001b[49m\u001b[43m(\u001b[49m\u001b[38;5;241;43m*\u001b[39;49m\u001b[43margs\u001b[49m\u001b[43m,\u001b[49m\u001b[43m \u001b[49m\u001b[38;5;241;43m*\u001b[39;49m\u001b[38;5;241;43m*\u001b[39;49m\u001b[43mkwargs\u001b[49m\u001b[43m)\u001b[49m\n\u001b[0;32m   1502\u001b[0m \u001b[38;5;66;03m# Do not call functions when jit is used\u001b[39;00m\n\u001b[0;32m   1503\u001b[0m full_backward_hooks, non_full_backward_hooks \u001b[38;5;241m=\u001b[39m [], []\n",
      "File \u001b[1;32m~\\AppData\\Local\\Packages\\PythonSoftwareFoundation.Python.3.11_qbz5n2kfra8p0\\LocalCache\\local-packages\\Python311\\site-packages\\torch\\_functorch\\make_functional.py:342\u001b[0m, in \u001b[0;36mFunctionalModule.forward\u001b[1;34m(self, params, *args, **kwargs)\u001b[0m\n\u001b[0;32m    340\u001b[0m old_state \u001b[38;5;241m=\u001b[39m _swap_state(\u001b[38;5;28mself\u001b[39m\u001b[38;5;241m.\u001b[39mstateless_model, \u001b[38;5;28mself\u001b[39m\u001b[38;5;241m.\u001b[39mnames_map, params)\n\u001b[0;32m    341\u001b[0m \u001b[38;5;28;01mtry\u001b[39;00m:\n\u001b[1;32m--> 342\u001b[0m     \u001b[38;5;28;01mreturn\u001b[39;00m \u001b[38;5;28;43mself\u001b[39;49m\u001b[38;5;241;43m.\u001b[39;49m\u001b[43mstateless_model\u001b[49m\u001b[43m(\u001b[49m\u001b[38;5;241;43m*\u001b[39;49m\u001b[43margs\u001b[49m\u001b[43m,\u001b[49m\u001b[43m \u001b[49m\u001b[38;5;241;43m*\u001b[39;49m\u001b[38;5;241;43m*\u001b[39;49m\u001b[43mkwargs\u001b[49m\u001b[43m)\u001b[49m\n\u001b[0;32m    343\u001b[0m \u001b[38;5;28;01mfinally\u001b[39;00m:\n\u001b[0;32m    344\u001b[0m     \u001b[38;5;66;03m# Remove the loaded state on self.stateless_model\u001b[39;00m\n\u001b[0;32m    345\u001b[0m     _swap_state(\u001b[38;5;28mself\u001b[39m\u001b[38;5;241m.\u001b[39mstateless_model, \u001b[38;5;28mself\u001b[39m\u001b[38;5;241m.\u001b[39mnames_map, old_state)\n",
      "File \u001b[1;32m~\\AppData\\Local\\Packages\\PythonSoftwareFoundation.Python.3.11_qbz5n2kfra8p0\\LocalCache\\local-packages\\Python311\\site-packages\\torch\\nn\\modules\\module.py:1501\u001b[0m, in \u001b[0;36mModule._call_impl\u001b[1;34m(self, *args, **kwargs)\u001b[0m\n\u001b[0;32m   1496\u001b[0m \u001b[38;5;66;03m# If we don't have any hooks, we want to skip the rest of the logic in\u001b[39;00m\n\u001b[0;32m   1497\u001b[0m \u001b[38;5;66;03m# this function, and just call forward.\u001b[39;00m\n\u001b[0;32m   1498\u001b[0m \u001b[38;5;28;01mif\u001b[39;00m \u001b[38;5;129;01mnot\u001b[39;00m (\u001b[38;5;28mself\u001b[39m\u001b[38;5;241m.\u001b[39m_backward_hooks \u001b[38;5;129;01mor\u001b[39;00m \u001b[38;5;28mself\u001b[39m\u001b[38;5;241m.\u001b[39m_backward_pre_hooks \u001b[38;5;129;01mor\u001b[39;00m \u001b[38;5;28mself\u001b[39m\u001b[38;5;241m.\u001b[39m_forward_hooks \u001b[38;5;129;01mor\u001b[39;00m \u001b[38;5;28mself\u001b[39m\u001b[38;5;241m.\u001b[39m_forward_pre_hooks\n\u001b[0;32m   1499\u001b[0m         \u001b[38;5;129;01mor\u001b[39;00m _global_backward_pre_hooks \u001b[38;5;129;01mor\u001b[39;00m _global_backward_hooks\n\u001b[0;32m   1500\u001b[0m         \u001b[38;5;129;01mor\u001b[39;00m _global_forward_hooks \u001b[38;5;129;01mor\u001b[39;00m _global_forward_pre_hooks):\n\u001b[1;32m-> 1501\u001b[0m     \u001b[38;5;28;01mreturn\u001b[39;00m \u001b[43mforward_call\u001b[49m\u001b[43m(\u001b[49m\u001b[38;5;241;43m*\u001b[39;49m\u001b[43margs\u001b[49m\u001b[43m,\u001b[49m\u001b[43m \u001b[49m\u001b[38;5;241;43m*\u001b[39;49m\u001b[38;5;241;43m*\u001b[39;49m\u001b[43mkwargs\u001b[49m\u001b[43m)\u001b[49m\n\u001b[0;32m   1502\u001b[0m \u001b[38;5;66;03m# Do not call functions when jit is used\u001b[39;00m\n\u001b[0;32m   1503\u001b[0m full_backward_hooks, non_full_backward_hooks \u001b[38;5;241m=\u001b[39m [], []\n",
      "Cell \u001b[1;32mIn[1], line 72\u001b[0m, in \u001b[0;36mLeNet5.forward\u001b[1;34m(self, x)\u001b[0m\n\u001b[0;32m     71\u001b[0m \u001b[38;5;28;01mdef\u001b[39;00m \u001b[38;5;21mforward\u001b[39m(\u001b[38;5;28mself\u001b[39m,x):\n\u001b[1;32m---> 72\u001b[0m     \u001b[38;5;28;01mreturn\u001b[39;00m \u001b[38;5;28;43mself\u001b[39;49m\u001b[38;5;241;43m.\u001b[39;49m\u001b[43mnet\u001b[49m\u001b[43m(\u001b[49m\u001b[43mx\u001b[49m\u001b[43m)\u001b[49m\n",
      "File \u001b[1;32m~\\AppData\\Local\\Packages\\PythonSoftwareFoundation.Python.3.11_qbz5n2kfra8p0\\LocalCache\\local-packages\\Python311\\site-packages\\torch\\nn\\modules\\module.py:1501\u001b[0m, in \u001b[0;36mModule._call_impl\u001b[1;34m(self, *args, **kwargs)\u001b[0m\n\u001b[0;32m   1496\u001b[0m \u001b[38;5;66;03m# If we don't have any hooks, we want to skip the rest of the logic in\u001b[39;00m\n\u001b[0;32m   1497\u001b[0m \u001b[38;5;66;03m# this function, and just call forward.\u001b[39;00m\n\u001b[0;32m   1498\u001b[0m \u001b[38;5;28;01mif\u001b[39;00m \u001b[38;5;129;01mnot\u001b[39;00m (\u001b[38;5;28mself\u001b[39m\u001b[38;5;241m.\u001b[39m_backward_hooks \u001b[38;5;129;01mor\u001b[39;00m \u001b[38;5;28mself\u001b[39m\u001b[38;5;241m.\u001b[39m_backward_pre_hooks \u001b[38;5;129;01mor\u001b[39;00m \u001b[38;5;28mself\u001b[39m\u001b[38;5;241m.\u001b[39m_forward_hooks \u001b[38;5;129;01mor\u001b[39;00m \u001b[38;5;28mself\u001b[39m\u001b[38;5;241m.\u001b[39m_forward_pre_hooks\n\u001b[0;32m   1499\u001b[0m         \u001b[38;5;129;01mor\u001b[39;00m _global_backward_pre_hooks \u001b[38;5;129;01mor\u001b[39;00m _global_backward_hooks\n\u001b[0;32m   1500\u001b[0m         \u001b[38;5;129;01mor\u001b[39;00m _global_forward_hooks \u001b[38;5;129;01mor\u001b[39;00m _global_forward_pre_hooks):\n\u001b[1;32m-> 1501\u001b[0m     \u001b[38;5;28;01mreturn\u001b[39;00m \u001b[43mforward_call\u001b[49m\u001b[43m(\u001b[49m\u001b[38;5;241;43m*\u001b[39;49m\u001b[43margs\u001b[49m\u001b[43m,\u001b[49m\u001b[43m \u001b[49m\u001b[38;5;241;43m*\u001b[39;49m\u001b[38;5;241;43m*\u001b[39;49m\u001b[43mkwargs\u001b[49m\u001b[43m)\u001b[49m\n\u001b[0;32m   1502\u001b[0m \u001b[38;5;66;03m# Do not call functions when jit is used\u001b[39;00m\n\u001b[0;32m   1503\u001b[0m full_backward_hooks, non_full_backward_hooks \u001b[38;5;241m=\u001b[39m [], []\n",
      "File \u001b[1;32m~\\AppData\\Local\\Packages\\PythonSoftwareFoundation.Python.3.11_qbz5n2kfra8p0\\LocalCache\\local-packages\\Python311\\site-packages\\torch\\nn\\modules\\container.py:217\u001b[0m, in \u001b[0;36mSequential.forward\u001b[1;34m(self, input)\u001b[0m\n\u001b[0;32m    215\u001b[0m \u001b[38;5;28;01mdef\u001b[39;00m \u001b[38;5;21mforward\u001b[39m(\u001b[38;5;28mself\u001b[39m, \u001b[38;5;28minput\u001b[39m):\n\u001b[0;32m    216\u001b[0m     \u001b[38;5;28;01mfor\u001b[39;00m module \u001b[38;5;129;01min\u001b[39;00m \u001b[38;5;28mself\u001b[39m:\n\u001b[1;32m--> 217\u001b[0m         \u001b[38;5;28minput\u001b[39m \u001b[38;5;241m=\u001b[39m \u001b[43mmodule\u001b[49m\u001b[43m(\u001b[49m\u001b[38;5;28;43minput\u001b[39;49m\u001b[43m)\u001b[49m\n\u001b[0;32m    218\u001b[0m     \u001b[38;5;28;01mreturn\u001b[39;00m \u001b[38;5;28minput\u001b[39m\n",
      "File \u001b[1;32m~\\AppData\\Local\\Packages\\PythonSoftwareFoundation.Python.3.11_qbz5n2kfra8p0\\LocalCache\\local-packages\\Python311\\site-packages\\torch\\nn\\modules\\module.py:1501\u001b[0m, in \u001b[0;36mModule._call_impl\u001b[1;34m(self, *args, **kwargs)\u001b[0m\n\u001b[0;32m   1496\u001b[0m \u001b[38;5;66;03m# If we don't have any hooks, we want to skip the rest of the logic in\u001b[39;00m\n\u001b[0;32m   1497\u001b[0m \u001b[38;5;66;03m# this function, and just call forward.\u001b[39;00m\n\u001b[0;32m   1498\u001b[0m \u001b[38;5;28;01mif\u001b[39;00m \u001b[38;5;129;01mnot\u001b[39;00m (\u001b[38;5;28mself\u001b[39m\u001b[38;5;241m.\u001b[39m_backward_hooks \u001b[38;5;129;01mor\u001b[39;00m \u001b[38;5;28mself\u001b[39m\u001b[38;5;241m.\u001b[39m_backward_pre_hooks \u001b[38;5;129;01mor\u001b[39;00m \u001b[38;5;28mself\u001b[39m\u001b[38;5;241m.\u001b[39m_forward_hooks \u001b[38;5;129;01mor\u001b[39;00m \u001b[38;5;28mself\u001b[39m\u001b[38;5;241m.\u001b[39m_forward_pre_hooks\n\u001b[0;32m   1499\u001b[0m         \u001b[38;5;129;01mor\u001b[39;00m _global_backward_pre_hooks \u001b[38;5;129;01mor\u001b[39;00m _global_backward_hooks\n\u001b[0;32m   1500\u001b[0m         \u001b[38;5;129;01mor\u001b[39;00m _global_forward_hooks \u001b[38;5;129;01mor\u001b[39;00m _global_forward_pre_hooks):\n\u001b[1;32m-> 1501\u001b[0m     \u001b[38;5;28;01mreturn\u001b[39;00m \u001b[43mforward_call\u001b[49m\u001b[43m(\u001b[49m\u001b[38;5;241;43m*\u001b[39;49m\u001b[43margs\u001b[49m\u001b[43m,\u001b[49m\u001b[43m \u001b[49m\u001b[38;5;241;43m*\u001b[39;49m\u001b[38;5;241;43m*\u001b[39;49m\u001b[43mkwargs\u001b[49m\u001b[43m)\u001b[49m\n\u001b[0;32m   1502\u001b[0m \u001b[38;5;66;03m# Do not call functions when jit is used\u001b[39;00m\n\u001b[0;32m   1503\u001b[0m full_backward_hooks, non_full_backward_hooks \u001b[38;5;241m=\u001b[39m [], []\n",
      "File \u001b[1;32m~\\AppData\\Local\\Packages\\PythonSoftwareFoundation.Python.3.11_qbz5n2kfra8p0\\LocalCache\\local-packages\\Python311\\site-packages\\torch\\nn\\modules\\conv.py:463\u001b[0m, in \u001b[0;36mConv2d.forward\u001b[1;34m(self, input)\u001b[0m\n\u001b[0;32m    462\u001b[0m \u001b[38;5;28;01mdef\u001b[39;00m \u001b[38;5;21mforward\u001b[39m(\u001b[38;5;28mself\u001b[39m, \u001b[38;5;28minput\u001b[39m: Tensor) \u001b[38;5;241m-\u001b[39m\u001b[38;5;241m>\u001b[39m Tensor:\n\u001b[1;32m--> 463\u001b[0m     \u001b[38;5;28;01mreturn\u001b[39;00m \u001b[38;5;28;43mself\u001b[39;49m\u001b[38;5;241;43m.\u001b[39;49m\u001b[43m_conv_forward\u001b[49m\u001b[43m(\u001b[49m\u001b[38;5;28;43minput\u001b[39;49m\u001b[43m,\u001b[49m\u001b[43m \u001b[49m\u001b[38;5;28;43mself\u001b[39;49m\u001b[38;5;241;43m.\u001b[39;49m\u001b[43mweight\u001b[49m\u001b[43m,\u001b[49m\u001b[43m \u001b[49m\u001b[38;5;28;43mself\u001b[39;49m\u001b[38;5;241;43m.\u001b[39;49m\u001b[43mbias\u001b[49m\u001b[43m)\u001b[49m\n",
      "File \u001b[1;32m~\\AppData\\Local\\Packages\\PythonSoftwareFoundation.Python.3.11_qbz5n2kfra8p0\\LocalCache\\local-packages\\Python311\\site-packages\\torch\\nn\\modules\\conv.py:459\u001b[0m, in \u001b[0;36mConv2d._conv_forward\u001b[1;34m(self, input, weight, bias)\u001b[0m\n\u001b[0;32m    455\u001b[0m \u001b[38;5;28;01mif\u001b[39;00m \u001b[38;5;28mself\u001b[39m\u001b[38;5;241m.\u001b[39mpadding_mode \u001b[38;5;241m!=\u001b[39m \u001b[38;5;124m'\u001b[39m\u001b[38;5;124mzeros\u001b[39m\u001b[38;5;124m'\u001b[39m:\n\u001b[0;32m    456\u001b[0m     \u001b[38;5;28;01mreturn\u001b[39;00m F\u001b[38;5;241m.\u001b[39mconv2d(F\u001b[38;5;241m.\u001b[39mpad(\u001b[38;5;28minput\u001b[39m, \u001b[38;5;28mself\u001b[39m\u001b[38;5;241m.\u001b[39m_reversed_padding_repeated_twice, mode\u001b[38;5;241m=\u001b[39m\u001b[38;5;28mself\u001b[39m\u001b[38;5;241m.\u001b[39mpadding_mode),\n\u001b[0;32m    457\u001b[0m                     weight, bias, \u001b[38;5;28mself\u001b[39m\u001b[38;5;241m.\u001b[39mstride,\n\u001b[0;32m    458\u001b[0m                     _pair(\u001b[38;5;241m0\u001b[39m), \u001b[38;5;28mself\u001b[39m\u001b[38;5;241m.\u001b[39mdilation, \u001b[38;5;28mself\u001b[39m\u001b[38;5;241m.\u001b[39mgroups)\n\u001b[1;32m--> 459\u001b[0m \u001b[38;5;28;01mreturn\u001b[39;00m \u001b[43mF\u001b[49m\u001b[38;5;241;43m.\u001b[39;49m\u001b[43mconv2d\u001b[49m\u001b[43m(\u001b[49m\u001b[38;5;28;43minput\u001b[39;49m\u001b[43m,\u001b[49m\u001b[43m \u001b[49m\u001b[43mweight\u001b[49m\u001b[43m,\u001b[49m\u001b[43m \u001b[49m\u001b[43mbias\u001b[49m\u001b[43m,\u001b[49m\u001b[43m \u001b[49m\u001b[38;5;28;43mself\u001b[39;49m\u001b[38;5;241;43m.\u001b[39;49m\u001b[43mstride\u001b[49m\u001b[43m,\u001b[49m\n\u001b[0;32m    460\u001b[0m \u001b[43m                \u001b[49m\u001b[38;5;28;43mself\u001b[39;49m\u001b[38;5;241;43m.\u001b[39;49m\u001b[43mpadding\u001b[49m\u001b[43m,\u001b[49m\u001b[43m \u001b[49m\u001b[38;5;28;43mself\u001b[39;49m\u001b[38;5;241;43m.\u001b[39;49m\u001b[43mdilation\u001b[49m\u001b[43m,\u001b[49m\u001b[43m \u001b[49m\u001b[38;5;28;43mself\u001b[39;49m\u001b[38;5;241;43m.\u001b[39;49m\u001b[43mgroups\u001b[49m\u001b[43m)\u001b[49m\n",
      "\u001b[1;31mKeyboardInterrupt\u001b[0m: "
     ]
    }
   ],
   "source": [
    "### Entropy Experiment - NTK\n",
    "reload(df)\n",
    "\n",
    "# Uncertainty for In-Distribution\n",
    "rtol_solve = 1e-10\n",
    "maxit_solve = 200\n",
    "\n",
    "id_unc_ntk, _ = df.ntk_uncertainty_explicit_class(\n",
    "    train_dataset=training_data,\n",
    "    test_dataset=test_data,\n",
    "    model=ntk_net,\n",
    "    num_classes=10,\n",
    "    type='iterative',\n",
    "    rtol=rtol_solve,\n",
    "    maxit=maxit_solve)\n",
    "\n",
    "# Uncertainty for OOD\n",
    "rtol_solve = 1e-10\n",
    "maxit_solve = 200\n",
    "\n",
    "ood_unc_ntk, _ = df.ntk_uncertainty_explicit_class(\n",
    "    train_dataset=training_data,\n",
    "    test_dataset=ood_test,\n",
    "    model=ntk_net,\n",
    "    num_classes=10,\n",
    "    type='iterative',\n",
    "    rtol=rtol_solve,\n",
    "    maxit=maxit_solve)"
   ]
  },
  {
   "cell_type": "code",
   "execution_count": 28,
   "metadata": {},
   "outputs": [
    {
     "name": "stdout",
     "output_type": "stream",
     "text": [
      "50.13156671540935\n"
     ]
    }
   ],
   "source": [
    "print(np.max(ood_unc_ntk))"
   ]
  },
  {
   "cell_type": "code",
   "execution_count": 20,
   "metadata": {},
   "outputs": [],
   "source": [
    "### Entropy Experiment - MC-Dropout\n",
    "\n",
    "T = 30\n",
    "\n",
    "## MNIST\n",
    "id_dropout_pred, id_dropout_pred_var = dropout_sampler(test_x,T)\n",
    "\n",
    "## FashionMNIST\n",
    "FashionMNIST_loader = DataLoader(ood_test,len(ood_test))\n",
    "FashionMNIST_set,_ = next(iter(FashionMNIST_loader))\n",
    "ood_dropout_pred, ood_dropout_pred_var = dropout_sampler(FashionMNIST_set,T)"
   ]
  },
  {
   "cell_type": "code",
   "execution_count": 22,
   "metadata": {},
   "outputs": [],
   "source": [
    "### Entropy Experiment - Deep Ensembles\n",
    "\n",
    "## MNIST\n",
    "id_ensemble_pred, id_ensemble_var = ensemble_sampler(test_x,ensemble_M)\n",
    "\n",
    "## FashionMNIST\n",
    "ood_ensemble_pred, ood_ensemble_pred_var = ensemble_sampler(FashionMNIST_set,ensemble_M)"
   ]
  },
  {
   "cell_type": "code",
   "execution_count": 26,
   "metadata": {},
   "outputs": [
    {
     "data": {
      "image/png": "[encoded data removed]",
      "text/plain": [
       "<Figure size 1200x1200 with 4 Axes>"
      ]
     },
     "metadata": {},
     "output_type": "display_data"
    }
   ],
   "source": [
    "### Histogram of uncertainty values\n",
    "\n",
    "fig2,((ax1,ax2),(ax3,_)) = plt.subplots(2,2)\n",
    "\n",
    "fig2.set_figwidth(12)\n",
    "fig2.set_figheight(12)\n",
    "\n",
    "ax1.hist(id_unc_ntk.reshape(-1,1),bins=10,stacked=True,alpha=1,density=True,color='r',label='MNIST')\n",
    "ax1.hist(ood_unc_ntk.reshape(-1,1),bins=10,stacked=True,alpha=0.5,density=True,color='b',label='FashionMNIST')\n",
    "ax1.set_xlabel(\"Uncertainty $\\sigma^2$\")\n",
    "ax1.set_ylabel(\"Density\")\n",
    "ax1.set_title(\"NTK Method\")\n",
    "ax1.legend()\n",
    "# ax1.set_xlim(-0.2,np.max(ood_unc_ntk.reshape(-1,1)))\n",
    "\n",
    "ax2.hist(id_dropout_pred_var.cpu().detach().numpy().reshape(-1,1),bins=10,stacked=True,alpha=1,density=True,color='r',label='MNIST')\n",
    "ax2.hist(ood_dropout_pred_var.cpu().detach().numpy().reshape(-1,1),bins=10,stacked=True,alpha=0.5,density=True,color='b',label='FashionMNIST')\n",
    "ax2.set_xlabel(\"Uncertainty $\\sigma^2$\")\n",
    "ax2.set_ylabel(\"Density\")\n",
    "ax2.set_title(\"MC-Dropout\")\n",
    "ax2.legend()\n",
    "# ax2.set_xlim(-0.2,np.max(ood_unc_ntk.reshape(-1,1)))\n",
    "\n",
    "ax3.hist(id_ensemble_var.cpu().detach().numpy().reshape(-1,1),bins=10,stacked=True,alpha=1,density=True,color='r',label='MNIST')\n",
    "ax3.hist(ood_ensemble_pred_var.cpu().detach().numpy().reshape(-1,1),bins=10,stacked=True,alpha=0.5,density=True,color='b',label='FashionMNIST')\n",
    "ax3.set_xlabel(\"Uncertainty $\\sigma^2$\")\n",
    "ax3.set_ylabel(\"Density\")\n",
    "ax3.set_title(\"Deep Ensemble\")\n",
    "ax3.legend()\n",
    "# ax3.set_xlim(-0.2,np.max(ood_unc_ntk.reshape(-1,1)))\n",
    "plt.show()"
   ]
  }
 ],
 "metadata": {
  "kernelspec": {
   "display_name": "Python 3",
   "language": "python",
   "name": "python3"
  },
  "language_info": {
   "codemirror_mode": {
    "name": "ipython",
    "version": 3
   },
   "file_extension": ".py",
   "mimetype": "text/x-python",
   "name": "python",
   "nbconvert_exporter": "python",
   "pygments_lexer": "ipython3",
   "version": "3.11.5"
  }
 },
 "nbformat": 4,
 "nbformat_minor": 2
}
