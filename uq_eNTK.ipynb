{
 "cells": [
  {
   "cell_type": "markdown",
   "metadata": {},
   "source": [
    "# Regression"
   ]
  },
  {
   "cell_type": "code",
   "execution_count": 1,
   "metadata": {},
   "outputs": [
    {
     "name": "stdout",
     "output_type": "stream",
     "text": [
      "--- Loading dataset concrete --- \n",
      "\n",
      "Number of data points = 1030\n",
      "Number of coloumns = 9\n",
      "Number of features = 8\n",
      "training set has shape (927, 9) \n",
      "\n",
      "test set has shape (103, 9)\n",
      "\n",
      " Sample training point \n",
      " X: tensor([-1.2141,  1.2486, -0.8539,  0.5443,  0.4627, -1.2265,  1.1706, -0.2827]), \n",
      " y: -0.7315451263100062 \n",
      "\n",
      "Sample test point \n",
      " X: tensor([-1.3464,  1.5825, -0.8539,  1.0358, -1.0584, -0.0058, -0.3174,  0.6897]), \n",
      " y: 39.6621069 \n"
     ]
    }
   ],
   "source": [
    "### --- Dependencies --- ###\n",
    "from importlib import reload\n",
    "import definitions as df\n",
    "import torch\n",
    "from tqdm import tqdm\n",
    "import datetime\n",
    "import importlib\n",
    "import numpy as np\n",
    "from torch import nn, optim\n",
    "from torch.utils.data import DataLoader, Dataset, Subset\n",
    "import pandas as pd\n",
    "import matplotlib.pyplot as plt\n",
    "import torch.nn.functional as F\n",
    "import time\n",
    "import datetime\n",
    "import os\n",
    "import solvers\n",
    "importlib.reload(solvers)\n",
    "\n",
    "torch.set_default_dtype(torch.float64)\n",
    "\n",
    "reload(df)\n",
    "\n",
    "\n",
    "# parser = argparse.ArgumentParser(description='PyTorch NTK Uncertainty Estimate Experiment')\n",
    "# parser.add_argument('--dataset',default='cifar',type=str,help='dataset (cifar or imagenet)')\n",
    "# args = parser.parse_args()\n",
    "\n",
    "### --- CONSTANTS --- ###\n",
    "dataset_str = 'concrete'\n",
    "TRAIN_RATIO = 0.9\n",
    "BATCH_SIZE = 100\n",
    "NORMALIZE_X = True\n",
    "NORMALIZE_Y = True\n",
    "LAYER_WIDTH = 150\n",
    "NTK_WEIGHT_INIT = True\n",
    "\n",
    "NTK_MODEL_PATH = \"./model_chkpt/ntk_network.pt\"\n",
    "ENSEMBLE_MODEL_PATH = \"./model_chkpt/ensemble_networks.pt\"\n",
    "\n",
    "ensemble_M = 5\n",
    "\n",
    "FIND_MAN_KAPPA = False\n",
    "REPORT_KAPPA = False\n",
    "FIND_FUNC_JAX_KAPPA = True\n",
    "KAPPA_COMPARISON = FIND_MAN_KAPPA and FIND_FUNC_JAX_KAPPA\n",
    "\n",
    "### --- INPUT DATA HERE AS WELL AS DATASET NAME --- ###\n",
    "if dataset_str == 'energy':\n",
    "    data = pd.read_excel('.\\data\\Energy\\ENB2012_data.xlsx')\n",
    "    num_features = 8\n",
    "elif dataset_str == 'concrete':\n",
    "    data = pd.read_excel('.\\data\\Concrete\\Concrete_Data.xls')\n",
    "    num_features = 8\n",
    "\n",
    "# print(data.shape)\n",
    "print(\"--- Loading dataset {} --- \\n\".format(dataset_str))\n",
    "print(\"Number of data points = {}\".format(len(data)))\n",
    "print(\"Number of coloumns = {}\".format(len(data.columns)))\n",
    "print(\"Number of features = {}\".format(num_features))\n",
    "\n",
    "training_set, test_set = df.data_split(data,TRAIN_RATIO)\n",
    "\n",
    "if NORMALIZE_X:\n",
    "    train_mX = training_set[:,:num_features].mean(axis=0)\n",
    "    train_sX = training_set[:,:num_features].std(axis=0)\n",
    "    train_sX[train_sX==0]=1\n",
    "else:\n",
    "    train_mX = 0\n",
    "    train_sX = 1\n",
    "\n",
    "if NORMALIZE_Y:\n",
    "    train_my = training_set[:,num_features].mean(axis=0)\n",
    "    train_sy = training_set[:,num_features].std(axis=0)\n",
    "    if train_sy==0:\n",
    "        train_sy=1\n",
    "else:\n",
    "    train_my = 0\n",
    "    train_sy = 1\n",
    "\n",
    "train_dataset = df.RegressionDataset(training_set, input_dim=num_features, mX=train_mX, sX=train_sX, my=train_my, sy=train_sy)\n",
    "test_dataset = df.RegressionDataset(test_set, input_dim=num_features, mX=train_mX, sX=train_sX)\n",
    "\n",
    "train_loader = DataLoader(train_dataset, batch_size=BATCH_SIZE, shuffle=True)\n",
    "test_loader = DataLoader(test_dataset, batch_size=len(test_set), shuffle=False)\n",
    "\n",
    "np.set_printoptions(suppress=True, precision=4)\n",
    "print(\"\\n Sample training point \\n X: {}, \\n y: {} \\n\".format(train_dataset.__getitem__(0)[0], train_dataset.__getitem__(0)[1]))\n",
    "print(\"Sample test point \\n X: {}, \\n y: {} \".format(test_dataset.__getitem__(0)[0], test_dataset.__getitem__(0)[1]))"
   ]
  },
  {
   "cell_type": "code",
   "execution_count": 45,
   "metadata": {},
   "outputs": [
    {
     "data": {
      "text/plain": [
       "<module 'definitions' from 'c:\\\\Users\\\\s4531973\\\\Documents\\\\PhD\\\\Code\\\\Uncertainty Quantification\\\\definitions.py'>"
      ]
     },
     "execution_count": 45,
     "metadata": {},
     "output_type": "execute_result"
    }
   ],
   "source": [
    "from importlib import reload\n",
    "reload(df)"
   ]
  },
  {
   "cell_type": "code",
   "execution_count": 9,
   "metadata": {},
   "outputs": [
    {
     "name": "stdout",
     "output_type": "stream",
     "text": [
      "Using cpu device\n",
      "Number of parameters in NTK network = 92101\n",
      "\n",
      " Training NTK network \n",
      "\n"
     ]
    },
    {
     "name": "stderr",
     "output_type": "stream",
     "text": [
      "  0%|          | 3/4000 [00:00<03:03, 21.83it/s]"
     ]
    },
    {
     "name": "stdout",
     "output_type": "stream",
     "text": [
      "Epoch 0 of 4000\n",
      "Training MSE = 1.368\n",
      "Test MSE = 240.15\n"
     ]
    },
    {
     "name": "stderr",
     "output_type": "stream",
     "text": [
      " 25%|██▌       | 1002/4000 [00:46<03:04, 16.28it/s]"
     ]
    },
    {
     "name": "stdout",
     "output_type": "stream",
     "text": [
      "Epoch 1000 of 4000\n",
      "Training MSE = 0.016\n",
      "Test MSE = 13.88\n"
     ]
    },
    {
     "name": "stderr",
     "output_type": "stream",
     "text": [
      " 50%|█████     | 2004/4000 [01:52<02:15, 14.77it/s]"
     ]
    },
    {
     "name": "stdout",
     "output_type": "stream",
     "text": [
      "Epoch 2000 of 4000\n",
      "Training MSE = 0.017\n",
      "Test MSE = 13.53\n"
     ]
    },
    {
     "name": "stderr",
     "output_type": "stream",
     "text": [
      " 75%|███████▌  | 3002/4000 [03:02<01:12, 13.74it/s]"
     ]
    },
    {
     "name": "stdout",
     "output_type": "stream",
     "text": [
      "Epoch 3000 of 4000\n",
      "Training MSE = 0.007\n",
      "Test MSE = 13.85\n"
     ]
    },
    {
     "name": "stderr",
     "output_type": "stream",
     "text": [
      "100%|██████████| 4000/4000 [04:13<00:00, 15.80it/s]\n"
     ]
    },
    {
     "name": "stdout",
     "output_type": "stream",
     "text": [
      "\n",
      " NTK Training process has finished.\n",
      "Final training MSE = 0.006\n",
      "Final test MSE = 13.91\n",
      "Final epoch = 3999\n",
      "\n",
      " Training ensemble 1 \n"
     ]
    },
    {
     "name": "stderr",
     "output_type": "stream",
     "text": [
      "  0%|          | 3/4000 [00:00<02:44, 24.27it/s]"
     ]
    },
    {
     "name": "stdout",
     "output_type": "stream",
     "text": [
      "Epoch 0 of 4000\n",
      "Training MSE = 0.706\n",
      "Test MSE = 117.22\n",
      "Learning rate = [0.01]\n"
     ]
    },
    {
     "name": "stderr",
     "output_type": "stream",
     "text": [
      " 25%|██▌       | 1004/4000 [00:35<01:57, 25.54it/s]"
     ]
    },
    {
     "name": "stdout",
     "output_type": "stream",
     "text": [
      "Epoch 1000 of 4000\n",
      "Training MSE = 0.035\n",
      "Test MSE = 23.26\n",
      "Learning rate = [0.005]\n"
     ]
    },
    {
     "name": "stderr",
     "output_type": "stream",
     "text": [
      " 50%|█████     | 2003/4000 [01:16<01:22, 24.34it/s]"
     ]
    },
    {
     "name": "stdout",
     "output_type": "stream",
     "text": [
      "Epoch 2000 of 4000\n",
      "Training MSE = 0.016\n",
      "Test MSE = 15.31\n",
      "Learning rate = [0.0025]\n"
     ]
    },
    {
     "name": "stderr",
     "output_type": "stream",
     "text": [
      " 75%|███████▌  | 3005/4000 [01:58<00:40, 24.52it/s]"
     ]
    },
    {
     "name": "stdout",
     "output_type": "stream",
     "text": [
      "Epoch 3000 of 4000\n",
      "Training MSE = 0.007\n",
      "Test MSE = 13.29\n",
      "Learning rate = [0.00125]\n"
     ]
    },
    {
     "name": "stderr",
     "output_type": "stream",
     "text": [
      "100%|██████████| 4000/4000 [02:39<00:00, 25.05it/s]\n"
     ]
    },
    {
     "name": "stdout",
     "output_type": "stream",
     "text": [
      "Done!\n",
      "\n",
      " Training ensemble 2 \n"
     ]
    },
    {
     "name": "stderr",
     "output_type": "stream",
     "text": [
      "  0%|          | 6/4000 [00:00<02:21, 28.30it/s]"
     ]
    },
    {
     "name": "stdout",
     "output_type": "stream",
     "text": [
      "Epoch 0 of 4000\n",
      "Training MSE = 0.847\n",
      "Test MSE = 111.31\n",
      "Learning rate = [0.01]\n"
     ]
    },
    {
     "name": "stderr",
     "output_type": "stream",
     "text": [
      " 25%|██▌       | 1003/4000 [00:35<01:55, 25.86it/s]"
     ]
    },
    {
     "name": "stdout",
     "output_type": "stream",
     "text": [
      "Epoch 1000 of 4000\n",
      "Training MSE = 0.023\n",
      "Test MSE = 24.40\n",
      "Learning rate = [0.005]\n"
     ]
    },
    {
     "name": "stderr",
     "output_type": "stream",
     "text": [
      " 50%|█████     | 2005/4000 [01:15<01:19, 25.18it/s]"
     ]
    },
    {
     "name": "stdout",
     "output_type": "stream",
     "text": [
      "Epoch 2000 of 4000\n",
      "Training MSE = 0.047\n",
      "Test MSE = 26.19\n",
      "Learning rate = [0.0025]\n"
     ]
    },
    {
     "name": "stderr",
     "output_type": "stream",
     "text": [
      " 75%|███████▌  | 3004/4000 [01:56<00:40, 24.70it/s]"
     ]
    },
    {
     "name": "stdout",
     "output_type": "stream",
     "text": [
      "Epoch 3000 of 4000\n",
      "Training MSE = 0.062\n",
      "Test MSE = 36.54\n",
      "Learning rate = [0.00125]\n"
     ]
    },
    {
     "name": "stderr",
     "output_type": "stream",
     "text": [
      "100%|██████████| 4000/4000 [02:37<00:00, 25.42it/s]\n"
     ]
    },
    {
     "name": "stdout",
     "output_type": "stream",
     "text": [
      "Done!\n",
      "\n",
      " Training ensemble 3 \n"
     ]
    },
    {
     "name": "stderr",
     "output_type": "stream",
     "text": [
      "  0%|          | 3/4000 [00:00<02:25, 27.47it/s]"
     ]
    },
    {
     "name": "stdout",
     "output_type": "stream",
     "text": [
      "Epoch 0 of 4000\n",
      "Training MSE = 0.701\n",
      "Test MSE = 175.28\n",
      "Learning rate = [0.01]\n"
     ]
    },
    {
     "name": "stderr",
     "output_type": "stream",
     "text": [
      " 25%|██▌       | 1006/4000 [00:35<02:00, 24.75it/s]"
     ]
    },
    {
     "name": "stdout",
     "output_type": "stream",
     "text": [
      "Epoch 1000 of 4000\n",
      "Training MSE = 0.033\n",
      "Test MSE = 21.57\n",
      "Learning rate = [0.005]\n"
     ]
    },
    {
     "name": "stderr",
     "output_type": "stream",
     "text": [
      " 50%|█████     | 2005/4000 [01:16<01:22, 24.13it/s]"
     ]
    },
    {
     "name": "stdout",
     "output_type": "stream",
     "text": [
      "Epoch 2000 of 4000\n",
      "Training MSE = 0.033\n",
      "Test MSE = 28.20\n",
      "Learning rate = [0.0025]\n"
     ]
    },
    {
     "name": "stderr",
     "output_type": "stream",
     "text": [
      " 75%|███████▌  | 3004/4000 [01:57<00:41, 23.96it/s]"
     ]
    },
    {
     "name": "stdout",
     "output_type": "stream",
     "text": [
      "Epoch 3000 of 4000\n",
      "Training MSE = 0.011\n",
      "Test MSE = 17.95\n",
      "Learning rate = [0.00125]\n"
     ]
    },
    {
     "name": "stderr",
     "output_type": "stream",
     "text": [
      "100%|██████████| 4000/4000 [02:38<00:00, 25.20it/s]\n"
     ]
    },
    {
     "name": "stdout",
     "output_type": "stream",
     "text": [
      "Done!\n",
      "\n",
      " Training ensemble 4 \n"
     ]
    },
    {
     "name": "stderr",
     "output_type": "stream",
     "text": [
      "  0%|          | 3/4000 [00:00<02:24, 27.69it/s]"
     ]
    },
    {
     "name": "stdout",
     "output_type": "stream",
     "text": [
      "Epoch 0 of 4000\n",
      "Training MSE = 0.749\n",
      "Test MSE = 126.74\n",
      "Learning rate = [0.01]\n"
     ]
    },
    {
     "name": "stderr",
     "output_type": "stream",
     "text": [
      " 25%|██▌       | 1004/4000 [00:36<02:02, 24.44it/s]"
     ]
    },
    {
     "name": "stdout",
     "output_type": "stream",
     "text": [
      "Epoch 1000 of 4000\n",
      "Training MSE = 0.027\n",
      "Test MSE = 20.56\n",
      "Learning rate = [0.005]\n"
     ]
    },
    {
     "name": "stderr",
     "output_type": "stream",
     "text": [
      " 50%|█████     | 2006/4000 [01:18<01:22, 24.21it/s]"
     ]
    },
    {
     "name": "stdout",
     "output_type": "stream",
     "text": [
      "Epoch 2000 of 4000\n",
      "Training MSE = 0.017\n",
      "Test MSE = 14.45\n",
      "Learning rate = [0.0025]\n"
     ]
    },
    {
     "name": "stderr",
     "output_type": "stream",
     "text": [
      " 75%|███████▌  | 3005/4000 [01:59<00:41, 23.83it/s]"
     ]
    },
    {
     "name": "stdout",
     "output_type": "stream",
     "text": [
      "Epoch 3000 of 4000\n",
      "Training MSE = 0.012\n",
      "Test MSE = 19.03\n",
      "Learning rate = [0.00125]\n"
     ]
    },
    {
     "name": "stderr",
     "output_type": "stream",
     "text": [
      "100%|██████████| 4000/4000 [02:39<00:00, 25.00it/s]\n"
     ]
    },
    {
     "name": "stdout",
     "output_type": "stream",
     "text": [
      "Done!\n",
      "\n",
      " Training ensemble 5 \n"
     ]
    },
    {
     "name": "stderr",
     "output_type": "stream",
     "text": [
      "  0%|          | 3/4000 [00:00<02:21, 28.16it/s]"
     ]
    },
    {
     "name": "stdout",
     "output_type": "stream",
     "text": [
      "Epoch 0 of 4000\n",
      "Training MSE = 0.708\n",
      "Test MSE = 129.64\n",
      "Learning rate = [0.01]\n"
     ]
    },
    {
     "name": "stderr",
     "output_type": "stream",
     "text": [
      " 25%|██▌       | 1005/4000 [00:35<01:57, 25.58it/s]"
     ]
    },
    {
     "name": "stdout",
     "output_type": "stream",
     "text": [
      "Epoch 1000 of 4000\n",
      "Training MSE = 0.021\n",
      "Test MSE = 20.23\n",
      "Learning rate = [0.005]\n"
     ]
    },
    {
     "name": "stderr",
     "output_type": "stream",
     "text": [
      " 50%|█████     | 2004/4000 [01:15<01:19, 25.12it/s]"
     ]
    },
    {
     "name": "stdout",
     "output_type": "stream",
     "text": [
      "Epoch 2000 of 4000\n",
      "Training MSE = 0.008\n",
      "Test MSE = 12.12\n",
      "Learning rate = [0.0025]\n"
     ]
    },
    {
     "name": "stderr",
     "output_type": "stream",
     "text": [
      " 75%|███████▌  | 3006/4000 [01:55<00:39, 25.03it/s]"
     ]
    },
    {
     "name": "stdout",
     "output_type": "stream",
     "text": [
      "Epoch 3000 of 4000\n",
      "Training MSE = 0.013\n",
      "Test MSE = 19.72\n",
      "Learning rate = [0.00125]\n"
     ]
    },
    {
     "name": "stderr",
     "output_type": "stream",
     "text": [
      "100%|██████████| 4000/4000 [02:36<00:00, 25.63it/s]"
     ]
    },
    {
     "name": "stdout",
     "output_type": "stream",
     "text": [
      "Done!\n",
      "\n",
      " Ensemble training process has finished.\n",
      "Final ntk training MSE = 0.0061\n",
      "Final ntk test MSE = 13.91\n",
      "Final ensemble training MSE = [0.0085 0.024  0.0082 0.0207 0.0069]\n",
      "Final ensemble test MSE = [12.1334 27.7479 17.825  21.99   18.8367]\n",
      "Model saved!\n"
     ]
    },
    {
     "name": "stderr",
     "output_type": "stream",
     "text": [
      "\n"
     ]
    }
   ],
   "source": [
    "learning_rate = 1e-2\n",
    "epochs = 4000\n",
    "train_ensemble = True\n",
    "\n",
    "## Create Model\n",
    "# Get cpu, gpu or mps device for training.\n",
    "device = (\n",
    "    \"cuda\"\n",
    "    if torch.cuda.is_available()\n",
    "    else \"mps\"\n",
    "    if torch.backends.mps.is_available()\n",
    "    else \"cpu\"\n",
    ")\n",
    "print(f\"Using {device} device\")\n",
    "\n",
    "ntk_network = df.MLP(input_d=num_features,width=LAYER_WIDTH).to(device=device, dtype=torch.float64)\n",
    "if NTK_WEIGHT_INIT:\n",
    "    ntk_network.apply(df.weights_init)\n",
    "print(\"Number of parameters in NTK network = {}\".format(sum(p.numel() for p in ntk_network.parameters() if p.requires_grad)))\n",
    "\n",
    "## Train NTK network\n",
    "mse_loss = nn.MSELoss(reduction='mean')\n",
    "ntk_optimizer = df.optimizer_shared(ntk_network, type='adam', learning_rate=learning_rate)\n",
    "# early_stopper = df.EarlyStopper(patience=50,min_delta=5)\n",
    "# ntk_scheduler = optim.lr_scheduler.StepLR(ntk_optimizer,epochs/4,gamma=0.1)\n",
    "# ntk_plateau_sched = optim.lr_scheduler.ReduceLROnPlateau(ntk_optimizer,'min',factor=0.5)\n",
    "# ntk_scheduler = optim.lr_scheduler.PolynomialLR(ntk_optimizer,total_iters=4000)\n",
    "# ntk_scheduler = optim.lr_scheduler.CosineAnnealingWarmRestarts(\n",
    "#     ntk_optimizer,\n",
    "#     int(epochs/8),\n",
    "#     eta_min=1e-2\n",
    "# )\n",
    "\n",
    "# Run the training loop\n",
    "print(\"\\n Training NTK network \\n\")\n",
    "for epoch in tqdm(range(epochs)):\n",
    "    ntk_train_mse  = df.training_loop_ntk(\n",
    "        dataloader=train_loader,\n",
    "        model=ntk_network, \n",
    "        optimizer=ntk_optimizer,\n",
    "        loss_function=mse_loss,\n",
    "        verbose=False)\n",
    "    \n",
    "    ntk_test_mse, ntk_test_rel_error = df.test_loop_ntk(\n",
    "        dataloader=test_loader,\n",
    "        model = ntk_network,\n",
    "        my=train_my,\n",
    "        sy=train_sy,\n",
    "        loss_function=mse_loss)\n",
    "    \n",
    "    # ntk_plateau_sched.step(ntk_test_mse)\n",
    "    # ntk_scheduler.step()\n",
    "\n",
    "    # if early_stopper.early_stop(ntk_test_mse):\n",
    "    #     break\n",
    "\n",
    "    if epoch % int(epochs/4) == 0:\n",
    "        print(\"Epoch {} of {}\".format(epoch,epochs))\n",
    "        print(\"Training MSE = {:.3f}\".format(ntk_train_mse))\n",
    "        print(\"Test MSE = {:.2f}\".format(ntk_test_mse))\n",
    "        # print(\"Learning rate = {}\".format(ntk_scheduler.get_last_lr()))\n",
    "    \n",
    "# Process is complete.\n",
    "print('\\n NTK Training process has finished.')\n",
    "print(\"Final training MSE = {:.3f}\".format(ntk_train_mse))\n",
    "print(\"Final test MSE = {:.2f}\".format(ntk_test_mse))\n",
    "print(\"Final epoch = {}\".format(epoch))\n",
    "\n",
    "torch.save({\n",
    "    'model': ntk_network.state_dict(),\n",
    "    'train_mse': ntk_train_mse,\n",
    "    'test_mse': ntk_test_mse,\n",
    "    'test_rel_err': ntk_test_rel_error\n",
    "    },\n",
    "    NTK_MODEL_PATH)\n",
    "\n",
    "## \n",
    "\n",
    "ensemble_model_list = []\n",
    "ensemble_model_state_list = []\n",
    "ensemble_opt_list = []\n",
    "ensemble_sched_list = []\n",
    "ensemble_mse_training_list = np.empty(ensemble_M)\n",
    "ensemble_mse_test_list = np.empty(ensemble_M)\n",
    "ensemble_nll_list = np.empty(ensemble_M)\n",
    "ensemble_rel_err_test_list = np.empty((ensemble_M,len(test_dataset)))\n",
    "\n",
    "NLL = df.CustomNLL()\n",
    "for i in range(ensemble_M):\n",
    "    ensemble_model_list.append(df.EnsembleNetwork(input_d=num_features, width=LAYER_WIDTH).to(device=device,dtype=torch.float64))\n",
    "    ensemble_opt_list.append(df.optimizer_shared(ensemble_model_list[i], type='adam', learning_rate=learning_rate))\n",
    "    ensemble_sched_list.append(optim.lr_scheduler.StepLR(ensemble_opt_list[i],epochs/4,gamma=0.5))\n",
    "\n",
    "for i in range(ensemble_M):\n",
    "    print(f\"\\n Training ensemble {i+1} \")\n",
    "    for epoch in tqdm(range(epochs)):\n",
    "        ensemble_train_mse = df.training_loop_ensemble(\n",
    "            dataloader=train_loader, \n",
    "            model=ensemble_model_list[i], \n",
    "            optimizer=ensemble_opt_list[i], \n",
    "            loss_function=NLL,\n",
    "            mse_loss= mse_loss,\n",
    "            verbose=False)\n",
    "        \n",
    "        ensemble_test_mse, ensemble_test_nll, ensemble_test_rel_err = df.test_loop_ensemble(\n",
    "            dataloader=test_loader, \n",
    "            model=ensemble_model_list[i], \n",
    "            my=train_my, \n",
    "            sy=train_sy, \n",
    "            mse_loss=mse_loss,\n",
    "            loss_function=NLL)\n",
    "        \n",
    "        ensemble_sched_list[i].step()\n",
    "        \n",
    "        if epoch % (epochs/4) == 0:\n",
    "            print(\"Epoch {} of {}\".format(epoch,epochs))\n",
    "            print(\"Training MSE = {:.3f}\".format(ensemble_train_mse))\n",
    "            print(\"Test MSE = {:.2f}\".format(ensemble_test_mse))\n",
    "            print(\"Learning rate = {}\".format(ensemble_sched_list[i].get_last_lr()))\n",
    "\n",
    "    print(\"Done!\")\n",
    "    ensemble_mse_training_list[i] = ensemble_train_mse\n",
    "    ensemble_mse_test_list[i] = ensemble_test_mse\n",
    "    ensemble_nll_list[i] = ensemble_test_nll\n",
    "    ensemble_rel_err_test_list[i,:] = ensemble_test_rel_err.detach().numpy().squeeze(1)\n",
    "print('\\n Ensemble training process has finished.')\n",
    "\n",
    "## Print training metrics\n",
    "print(\"Final ntk training MSE = {:.4f}\".format(ntk_train_mse))\n",
    "print(\"Final ntk test MSE = {:.2f}\".format(ntk_test_mse))\n",
    "print(\"Final ensemble training MSE = {}\".format(ensemble_mse_training_list))\n",
    "print(\"Final ensemble test MSE = {}\".format(ensemble_mse_test_list))\n",
    "\n",
    "for i in range(ensemble_M):\n",
    "    ensemble_model_state_list.append(ensemble_model_list[i].state_dict())\n",
    "\n",
    "torch.save({\n",
    "    'models': ensemble_model_state_list,\n",
    "    'train_mse': ensemble_mse_training_list,\n",
    "    'test_mse': ensemble_mse_test_list,\n",
    "    'test_nll': ensemble_nll_list,\n",
    "    'test_rel_err': ensemble_rel_err_test_list\n",
    "    },\n",
    "    ENSEMBLE_MODEL_PATH)\n",
    "\n",
    "print(\"Model saved!\")"
   ]
  },
  {
   "cell_type": "code",
   "execution_count": 10,
   "metadata": {},
   "outputs": [
    {
     "name": "stdout",
     "output_type": "stream",
     "text": [
      "Using cpu device\n",
      "Loading models:\n",
      "Models loaded.\n"
     ]
    },
    {
     "name": "stderr",
     "output_type": "stream",
     "text": [
      "C:\\Users\\s4531973\\AppData\\Local\\Packages\\PythonSoftwareFoundation.Python.3.11_qbz5n2kfra8p0\\LocalCache\\local-packages\\Python311\\site-packages\\torch\\_functorch\\deprecated.py:97: UserWarning: We've integrated functorch into PyTorch. As the final step of the integration, functorch.make_functional is deprecated as of PyTorch 2.0 and will be deleted in a future version of PyTorch >= 2.3. Please use torch.func.functional_call instead; see the PyTorch 2.0 release notes and/or the torch.func migration guide for more details https://pytorch.org/docs/master/func.migrating.html\n",
      "  warn_deprecated('make_functional', 'torch.func.functional_call')\n",
      "C:\\Users\\s4531973\\AppData\\Local\\Packages\\PythonSoftwareFoundation.Python.3.11_qbz5n2kfra8p0\\LocalCache\\local-packages\\Python311\\site-packages\\torch\\_functorch\\deprecated.py:80: UserWarning: We've integrated functorch into PyTorch. As the final step of the integration, functorch.jacrev is deprecated as of PyTorch 2.0 and will be deleted in a future version of PyTorch >= 2.3. Please use torch.func.jacrev instead; see the PyTorch 2.0 release notes and/or the torch.func migration guide for more details https://pytorch.org/docs/master/func.migrating.html\n",
      "  warn_deprecated('jacrev')\n",
      "C:\\Users\\s4531973\\AppData\\Local\\Packages\\PythonSoftwareFoundation.Python.3.11_qbz5n2kfra8p0\\LocalCache\\local-packages\\Python311\\site-packages\\torch\\_functorch\\deprecated.py:58: UserWarning: We've integrated functorch into PyTorch. As the final step of the integration, functorch.vmap is deprecated as of PyTorch 2.0 and will be deleted in a future version of PyTorch >= 2.3. Please use torch.vmap instead; see the PyTorch 2.0 release notes and/or the torch.func migration guide for more details https://pytorch.org/docs/master/func.migrating.html\n",
      "  warn_deprecated('vmap', 'torch.vmap')\n"
     ]
    },
    {
     "name": "stdout",
     "output_type": "stream",
     "text": [
      "\n",
      " --- Finding uncertainty estimates --- \n",
      "\n",
      "Norm of residual array (y-f) = 2.2411588500322015\n",
      "Norm of resid_solve = 46542.925714868856\n"
     ]
    },
    {
     "name": "stderr",
     "output_type": "stream",
     "text": [
      "100%|██████████| 103/103 [00:18<00:00,  5.54it/s]\n"
     ]
    },
    {
     "name": "stdout",
     "output_type": "stream",
     "text": [
      "Finished! \n",
      "\n",
      "Number of zero values uncertainty array: 0\n",
      "Number of negative values for full rank: 0\n",
      "\n",
      " --- Plotting Results --- \n",
      "\n"
     ]
    },
    {
     "data": {
      "image/png": "[encoded data removed]",
      "text/plain": [
       "<Figure size 640x480 with 1 Axes>"
      ]
     },
     "metadata": {},
     "output_type": "display_data"
    },
    {
     "data": {
      "image/png": "[encoded data removed]",
      "text/plain": [
       "<Figure size 640x480 with 1 Axes>"
      ]
     },
     "metadata": {},
     "output_type": "display_data"
    },
    {
     "data": {
      "image/png": "[encoded data removed]",
      "text/plain": [
       "<Figure size 640x480 with 1 Axes>"
      ]
     },
     "metadata": {},
     "output_type": "display_data"
    },
    {
     "data": {
      "image/png": "[encoded data removed]",
      "text/plain": [
       "<Figure size 640x480 with 1 Axes>"
      ]
     },
     "metadata": {},
     "output_type": "display_data"
    },
    {
     "data": {
      "image/png": "[encoded data removed]",
      "text/plain": [
       "<Figure size 640x480 with 1 Axes>"
      ]
     },
     "metadata": {},
     "output_type": "display_data"
    },
    {
     "name": "stdout",
     "output_type": "stream",
     "text": [
      "Final ntk training MSE = 0.006\n",
      "Final ntk test MSE = 13.91\n",
      "Final ensemble training MSE = [0.0085 0.024  0.0082 0.0207 0.0069]\n",
      "Final ensemble test MSE = [12.1334 27.7479 17.825  21.99   18.8367]\n"
     ]
    }
   ],
   "source": [
    "type_solve = 'iterative'\n",
    "rtol_solve = 1e-9\n",
    "maxit_solve = 2000\n",
    "\n",
    "# Get cpu, gpu or mps device for training.\n",
    "device = (\n",
    "    \"cuda\"\n",
    "    if torch.cuda.is_available()\n",
    "    else \"mps\"\n",
    "    if torch.backends.mps.is_available()\n",
    "    else \"cpu\"\n",
    ")\n",
    "print(f\"Using {device} device\")\n",
    "\n",
    "## load models\n",
    "print(\"Loading models:\")\n",
    "\n",
    "# Load NTK Model\n",
    "ntk_saved_model = torch.load(NTK_MODEL_PATH)\n",
    "\n",
    "ntk_network = df.MLP(input_d=num_features,width=LAYER_WIDTH).to(device=device, dtype=torch.float64)\n",
    "if NTK_WEIGHT_INIT:\n",
    "    ntk_network.apply(df.weights_init)\n",
    "ntk_network.load_state_dict(ntk_saved_model['model'])\n",
    "ntk_network.eval()\n",
    "\n",
    "ntk_train_mse = ntk_saved_model['train_mse']\n",
    "ntk_test_mse = ntk_saved_model['test_mse']\n",
    "ntk_test_rel_error = ntk_saved_model['test_rel_err']\n",
    "\n",
    "# Load Ensemble Models\n",
    "ensemble_saved_models = torch.load(ENSEMBLE_MODEL_PATH)\n",
    "\n",
    "ensemble_model_list = []\n",
    "for i in range(ensemble_M):\n",
    "    ensemble_model_list.append(df.EnsembleNetwork(input_d=num_features, width=LAYER_WIDTH).to(device=device,dtype=torch.float64))\n",
    "    ensemble_model_list[i].load_state_dict(ensemble_saved_models['models'][i])\n",
    "    ensemble_model_list[i].eval()\n",
    "\n",
    "ensemble_mse_training_list = ensemble_saved_models['train_mse']\n",
    "ensemble_mse_test_list = ensemble_saved_models['test_mse']\n",
    "ensemble_nll_list = ensemble_saved_models['test_nll']\n",
    "ensemble_rel_err_test_list = ensemble_saved_models['test_rel_err']\n",
    "\n",
    "print(\"Models loaded.\")\n",
    "\n",
    "### --- NTK --- ###\n",
    "if FIND_MAN_KAPPA:\n",
    "    EPSILON = 0\n",
    "    print(\"\\n --- Finding Kappa --- \\n\")\n",
    "    kappa_man_time_start = time.time()\n",
    "    Kappa_man = df.ntk_matrix(train_dataset,train_dataset,model=ntk_network,optimizer=ntk_optimizer)\n",
    "    kappa_man_time_end = time.time()\n",
    "    kappa_man_time = kappa_man_time_end - kappa_man_time_start\n",
    "    eigvals = np.linalg.eigvalsh(Kappa_man)\n",
    "\n",
    "if FIND_FUNC_JAX_KAPPA:\n",
    "    kappa_jax_time_start = time.time()\n",
    "    Kappa = df.empirical_ntk(\n",
    "        model=ntk_network,\n",
    "        dataset1=train_dataset,\n",
    "        dataset2=train_dataset\n",
    "    )\n",
    "    Kappa_jax = Kappa.detach().numpy().squeeze((2,3))\n",
    "    kappa_jax_time_end = time.time()\n",
    "    kappa_jax_time = kappa_jax_time_end - kappa_jax_time_start\n",
    "    eigvals = np.linalg.eigvalsh(Kappa_jax)\n",
    "\n",
    "if REPORT_KAPPA:\n",
    "    print(\"\\n--- Kappa (Manual) Summary --- \\n\")\n",
    "    print(\"Condition number of Kappa = {:.2f}\".format(np.linalg.cond(Kappa)))\n",
    "    eigvals = np.linalg.eigvalsh(Kappa)\n",
    "    print(\"Number of negative eigenvalues of Kappa = {}\".format(eigvals[eigvals<0].size))\n",
    "    print(\"Number of zero eigenvalues of Kappa = {}\".format(eigvals[eigvals==0].size))\n",
    "    print(\"Smallest eigenvalue is = {}\".format(sorted(eigvals)[0]))\n",
    "\n",
    "if KAPPA_COMPARISON:\n",
    "\n",
    "    man_eigvals = np.linalg.eigvalsh(Kappa_man)\n",
    "    jax_eigvals = np.linalg.eigvalsh(Kappa_jax)\n",
    "\n",
    "    plot_dir = \"./ntk_conditioning_results/\"\n",
    "    results_name = \"results.txt\"\n",
    "    with open(plot_dir+results_name,'w') as results:\n",
    "        results.write(\"{} \\n\".format(datetime.datetime.now()))\n",
    "        results.write(\"Manual method: \\n\\\n",
    "                    Method time elapsed = {} seconds\\n \\\n",
    "                    Condition number = {}, \\n\\\n",
    "                    Num negative eigvals = {} \\n\\\n",
    "                    Smallest eigval = {}. \\n\".format(kappa_man_time,\n",
    "                                                     np.linalg.cond(Kappa_man),\n",
    "                                                        man_eigvals[man_eigvals<0].size,\n",
    "                                                        sorted(man_eigvals)[0])\n",
    "        )\n",
    "        results.write(\"\\n PyTorch JAX method: \\n\\\n",
    "                    Method time elapsed = {} seconds\\n \\\n",
    "                    Condition number = {} \\n\\\n",
    "                    Num negative eigvals = {} \\n\\\n",
    "                    Smallest eigval = {}. \\n\".format(kappa_jax_time,\n",
    "                                                     np.linalg.cond(Kappa_jax),\n",
    "                                                        jax_eigvals[jax_eigvals<0].size,\n",
    "                                                        sorted(jax_eigvals)[0])\n",
    "        )\n",
    "        results.write(\"Frobenius norm difference between two methods = {}\".format(\n",
    "            np.linalg.norm(Kappa_man-Kappa_jax)\n",
    "        ))\n",
    "\n",
    "### --- Current Kappa --- ###\n",
    "        \n",
    "Kappa = Kappa_jax\n",
    "\n",
    "## Uncertainty Quantification\n",
    "print(\"\\n --- Finding uncertainty estimates --- \\n\")\n",
    "uncert_time_start = time.time()\n",
    "uncertainty_array, solver_info, uncertainty_array_lifted, mu = df.ntk_uncertainty_explicit(\n",
    "    Kappa=Kappa, \n",
    "    train_dataset=train_dataset,\n",
    "    test_dataset=test_dataset,\n",
    "    model=ntk_network,\n",
    "    type=type_solve,\n",
    "    rtol=rtol_solve,\n",
    "    maxit=maxit_solve)\n",
    "uncert_time_end = time.time()\n",
    "uncert_time = uncert_time_end-uncert_time_start # (seconds)\n",
    "solver_info_mean = np.mean(solver_info,axis=1)\n",
    "print(\"Finished! \\n\")\n",
    "print(\"Number of zero values uncertainty array: {}\".format(uncertainty_array[uncertainty_array==0].size))\n",
    "print(\"Number of negative values for full rank: {}\".format(uncertainty_array[uncertainty_array<0].size))\n",
    "\n",
    "# uncertainty_array = uncertainty_array / np.sqrt(sum(p.numel() for p in ntk_network.parameters() if p.requires_grad))\n",
    "# uncertainty_array[(uncertainty_array*(train_sy**2))>1000] = 0.1\n",
    "\n",
    "mu_mean, sigma_mean = df.ensemble_result(\n",
    "    test_loader=test_loader,\n",
    "    ensemble_M=ensemble_M,\n",
    "    model_list=ensemble_model_list,\n",
    "    sy=train_sy,\n",
    "    my=train_my\n",
    ")\n",
    "ensemble_rel_err_test_list = np.mean(ensemble_rel_err_test_list,axis=0)\n",
    "\n",
    "### --- Plot results --- ###\n",
    "param_ntk = sum(p.numel() for p in ntk_network.parameters() if p.requires_grad)\n",
    "\n",
    "print(\"\\n --- Plotting Results --- \\n\")\n",
    "today = datetime.date.today()\n",
    "now = datetime.datetime.now()\n",
    "# plot_dir = \"./data/{}/{}/plot/\".format(dataset_str, today.strftime(\"%d_%m_%Y\"))\n",
    "# plot_dir = \"./data/{}/{}/plot/\".format(dataset_str, now.strftime(\"%d_%m_%Y__%H_%M_%S\"))\n",
    "plot_dir = \"./data/{}/early_stop_p_2_{}/plot/\".format(dataset_str,param_ntk)\n",
    "if not os.path.isdir(plot_dir):\n",
    "    os.makedirs(plot_dir)\n",
    "\n",
    "## NTK Scatter\n",
    "plot_name = \"ntk_scatter.pdf\"\n",
    "plt.scatter(ntk_test_rel_error, uncertainty_array*(train_sy**2))\n",
    "plt.xlabel(\"Relative squared error\")\n",
    "plt.ylabel(\"Uncertainty\")\n",
    "plt.title(\"NTK Method\")\n",
    "plt.savefig(plot_dir + plot_name, format=\"pdf\", bbox_inches=\"tight\")\n",
    "plt.show()\n",
    "\n",
    "# ## NTK Lifted Scatter\n",
    "# plot_name = \"ntk_lifted_scatter.pdf\"\n",
    "# plt.scatter(ntk_test_rel_error, uncertainty_array_lifted*(train_sy**2))\n",
    "# plt.xlabel(\"Relative squared error\")\n",
    "# plt.ylabel(\"Uncertainty\")\n",
    "# plt.title(\"NTK Lifted Method\")\n",
    "# plt.savefig(plot_dir + plot_name, format=\"pdf\", bbox_inches=\"tight\")\n",
    "# plt.show()\n",
    "\n",
    "## Deep Ensemble scatter\n",
    "plot_name = \"ensemble_scatter.pdf\"\n",
    "plt.scatter(ensemble_rel_err_test_list, sigma_mean)\n",
    "plt.xlabel(\"Relative squared error\")\n",
    "plt.ylabel(\"Uncertainty\")\n",
    "plt.title(\"Deep Ensemble\")\n",
    "plt.savefig(plot_dir + plot_name, format=\"pdf\", bbox_inches=\"tight\")\n",
    "plt.show()\n",
    "\n",
    "## NTK Histogram\n",
    "plot_name = \"ntk_hist.pdf\"\n",
    "plt.hist(sorted((train_sy**2)*uncertainty_array.squeeze(0)), bins='auto')\n",
    "plt.xlabel(\"$\\sigma^2$\")\n",
    "plt.ylabel(\"Frequency\")\n",
    "plt.title(\"Histogram of NTK uncertainty estimates\")\n",
    "plt.savefig(plot_dir + plot_name, format=\"pdf\", bbox_inches=\"tight\")\n",
    "plt.show()\n",
    "\n",
    "# ## NTK Lifted Histogram\n",
    "# plot_name = \"ntk_lifted_hist.pdf\"\n",
    "# plt.hist(sorted((train_sy**2)*uncertainty_array_lifted.squeeze(0)), bins='auto')\n",
    "# plt.xlabel(\"$\\sigma^2$\")\n",
    "# plt.ylabel(\"Frequency\")\n",
    "# plt.title(\"Histogram of NTK Lifted uncertainty estimates\")\n",
    "# plt.savefig(plot_dir + plot_name, format=\"pdf\", bbox_inches=\"tight\")\n",
    "# plt.show()\n",
    "\n",
    "## Deep Ensemble Histogram\n",
    "plot_name = \"ensemble_hist.pdf\"\n",
    "plt.hist(sorted(sigma_mean), bins='auto')\n",
    "plt.xlabel(\"$\\sigma^2$\")\n",
    "plt.ylabel(\"Frequency\")\n",
    "plt.title(\"Histogram of Deep Ensemble uncertainty estimates\")\n",
    "plt.savefig(plot_dir + plot_name.format(dataset_str), format=\"pdf\", bbox_inches=\"tight\")\n",
    "plt.show()\n",
    "\n",
    "### --- Plot calibration curve --- ###\n",
    "\n",
    "plot_name = \"calibration_curve.pdf\"\n",
    "observed_true_ntk = df.calibration_curve_ntk(\n",
    "    testloader=test_loader, \n",
    "    uncertainties=uncertainty_array, \n",
    "    model=ntk_network, \n",
    "    num_c=11, \n",
    "    my=train_my, \n",
    "    sy=train_sy)\n",
    "observed_true_ensemble = df.calibration_curve_ensemble(\n",
    "    testloader=test_loader, \n",
    "    mu=mu_mean, \n",
    "    sigma2=sigma_mean, \n",
    "    num_c=11)\n",
    "df.plot_calibration(\n",
    "    observed_true_ntk=observed_true_ntk, \n",
    "    observed_true_ensemble=observed_true_ensemble, \n",
    "    dataset_str=dataset_str, \n",
    "    dir_name=plot_dir, \n",
    "    plot_name=plot_name)\n",
    "\n",
    "# ### --- Plot calibration curve (lifted) --- ###\n",
    "\n",
    "# plot_name = \"calibration_curve_lifted.pdf\"\n",
    "# observed_true_ntk = df.calibration_curve_ntk(\n",
    "#     testloader=test_loader, \n",
    "#     uncertainties=uncertainty_array_lifted, \n",
    "#     model=ntk_network, \n",
    "#     num_c=11, \n",
    "#     my=train_my, \n",
    "#     sy=train_sy)\n",
    "# observed_true_ensemble = df.calibration_curve_ensemble(\n",
    "#     testloader=test_loader, \n",
    "#     mu=mu_mean, \n",
    "#     sigma2=sigma_mean, \n",
    "#     num_c=11)\n",
    "# df.plot_calibration(\n",
    "#     observed_true_ntk=observed_true_ntk, \n",
    "#     observed_true_ensemble=observed_true_ensemble, \n",
    "#     dataset_str=dataset_str, \n",
    "#     dir_name=plot_dir, \n",
    "#     plot_name=plot_name)\n",
    "\n",
    "# result_dir = \"./data/{}/{}/result/\".format(dataset_str, now.strftime(\"%d_%m_%Y__%H_%M_%S\"))\n",
    "result_dir = \"./data/{}/early_stop_p_2_{}/result/\".format(dataset_str,param_ntk)\n",
    "if not os.path.isdir(result_dir):\n",
    "    os.makedirs(result_dir)\n",
    "\n",
    "print(\"Final ntk training MSE = {:.3f}\".format(ntk_train_mse))\n",
    "print(\"Final ntk test MSE = {:.2f}\".format(ntk_test_mse))\n",
    "print(\"Final ensemble training MSE = {}\".format(ensemble_mse_training_list))\n",
    "print(\"Final ensemble test MSE = {}\".format(ensemble_mse_test_list))\n",
    "\n",
    "results_name = \"results.txt\"\n",
    "with open(result_dir+results_name,'w') as results:\n",
    "    results.write(\"--- Dataset & Model --- \\n\")\n",
    "    results.write(\"Number of training points = {} \\n\".format(len(training_set)))\n",
    "    results.write(\"Number of test points = {} \\n\".format(len(test_set)))\n",
    "    results.write(\"Number of features = {} \\n\".format(num_features))\n",
    "    results.write(\"Number of hidden layers = {} \\n\".format(3))\n",
    "    results.write(\"Width of hidden layer = {} \\n\".format(LAYER_WIDTH))\n",
    "    results.write(\"Number of parameters in NTK network = {} \\n\".format(\n",
    "        sum(p.numel() for p in ntk_network.parameters() if p.requires_grad)))\n",
    "\n",
    "    results.write(\"\\n --- Results --- \\n\")\n",
    "    results.write(\"Final ntk training mse = {:.3f} \\n\".format(ntk_train_mse))\n",
    "    results.write(\"Final ntk test mse = {:.2f} \\n\".format(ntk_test_mse))\n",
    "    results.write(\"Deep Ensemble training mse: mean = {:.2f}, std = {:.2f} \\n\".format(np.mean(ensemble_mse_training_list),np.std(ensemble_mse_training_list)))\n",
    "    results.write(\"Deep Ensemble test mse: mean = {:.2f}, std = {:.2f} \\n\".format(np.mean(ensemble_mse_test_list),np.std(ensemble_mse_test_list)))\n",
    "    results.write(\"Deep Ensemble NLL: mean = {:.2f}, std {:.2f} \\n\".format(np.mean(ensemble_nll_list),np.std(ensemble_nll_list)))\n",
    "    results.write(\"\\n --- Training Details --- \\n\")\n",
    "    results.write(\"Learning Rate = {} \\n\".format(learning_rate))\n",
    "    results.write(\"Training Epochs = {} \\n\".format(epochs))\n",
    "    results.write(\"Number of ensembles = {} \\n\".format(ensemble_M))\n",
    "\n",
    "    results.write(\"\\n --- NTK Method Details --- \\n\")\n",
    "    results.write(\"Condition number of Kappa = {:.2f} \\n\".format(np.linalg.cond(Kappa)))\n",
    "    results.write(\"Number of negative eigenvalues of Kappa = {} \\n\".format(eigvals[eigvals<0].size))\n",
    "    results.write(\"Number of zero eigenvalues of Kappa = {} \\n\".format(eigvals[eigvals==0].size))\n",
    "\n",
    "    results.write(\"\\n --- Uncertainty Solution Details --- \\n\")\n",
    "    results.write(\"Type of linear solver = {} \\n\".format(type_solve))\n",
    "    if type_solve=='iterative':\n",
    "        results.write(\"Time to solve all test examples = {:.2f} seconds \\n\".format(uncert_time))\n",
    "        results.write(\"Tolerance of solver = {} \\n\".format(rtol_solve))\n",
    "        results.write(\"Max iteration of solver = {} \\n\".format(maxit_solve))\n",
    "        results.write(\"Average solver iter = {} \\n\".format(solver_info_mean[0]))\n",
    "        results.write(\"Average solver resid error = {} \\n\".format(solver_info_mean[1]))\n",
    "        results.write(\"Average solver matrix resid error = {} \\n\".format(solver_info_mean[2]))\n",
    "    results.write(\"\\n Number of negative values in NTK uncertainties array: {} \\n\".format(uncertainty_array[uncertainty_array<0].size))\n",
    "    results.write(\"Number of zero values in NTK uncertainties array: {} \\n\".format(uncertainty_array[uncertainty_array==0].size))\n"
   ]
  },
  {
   "cell_type": "code",
   "execution_count": 4,
   "metadata": {},
   "outputs": [],
   "source": [
    "test_dataloader = DataLoader(test_dataset,len(test_dataset))\n",
    "X_test,y_test = next(iter(test_dataloader))\n",
    "x_hat = ntk_network(X_test)"
   ]
  },
  {
   "cell_type": "code",
   "execution_count": 8,
   "metadata": {},
   "outputs": [
    {
     "name": "stdout",
     "output_type": "stream",
     "text": [
      "Sizes are torch.Size([103, 1]),torch.Size([103, 1]),torch.Size([103, 1])\n",
      "MSE loss from model = 18.30758420922314\n",
      "MSE loss from ntk mean = 756.6575746895506\n",
      "Norm difference between ntk mean and model pred = 16.427187756919864\n"
     ]
    }
   ],
   "source": [
    "mu_t = torch.from_numpy(mu).reshape(-1,1)\n",
    "x_hat = x_hat\n",
    "y_test = y_test.reshape(-1,1)\n",
    "print(\"Sizes are {},{},{}\".format(mu_t.shape,x_hat.shape,y_test.shape))\n",
    "mse_loss = nn.MSELoss(reduction='mean')\n",
    "print(\"MSE loss from model = {}\".format(mse_loss(x_hat*train_sy+train_my,y_test)))\n",
    "print(\"MSE loss from ntk mean = {}\".format(mse_loss(mu_t*train_sy+train_my,y_test)))\n",
    "print(\"Norm difference between ntk mean and model pred = {}\".format(torch.norm(mu_t-x_hat)))\n",
    "# print(mu_t*train_sy+train_my)\n",
    "# print(x_hat*train_sy+train_my)\n"
   ]
  },
  {
   "cell_type": "markdown",
   "metadata": {},
   "source": [
    "# Classification"
   ]
  },
  {
   "cell_type": "code",
   "execution_count": 1,
   "metadata": {},
   "outputs": [
    {
     "name": "stdout",
     "output_type": "stream",
     "text": [
      "Number of parameters p = 1301\n"
     ]
    },
    {
     "name": "stderr",
     "output_type": "stream",
     "text": [
      "  2%|▏         | 1/50 [00:00<00:13,  3.69it/s]"
     ]
    },
    {
     "name": "stdout",
     "output_type": "stream",
     "text": [
      "Epoch 0 of 50\n",
      "Training CE = 2.300\n",
      "Test CE = 2.29\n",
      "Test accuracy = 16.0%\n"
     ]
    },
    {
     "name": "stderr",
     "output_type": "stream",
     "text": [
      "  4%|▍         | 2/50 [00:00<00:12,  3.77it/s]"
     ]
    },
    {
     "name": "stdout",
     "output_type": "stream",
     "text": [
      "Epoch 1 of 50\n",
      "Training CE = 2.275\n",
      "Test CE = 2.24\n",
      "Test accuracy = 30.0%\n"
     ]
    },
    {
     "name": "stderr",
     "output_type": "stream",
     "text": [
      "  6%|▌         | 3/50 [00:00<00:11,  3.92it/s]"
     ]
    },
    {
     "name": "stdout",
     "output_type": "stream",
     "text": [
      "Epoch 2 of 50\n",
      "Training CE = 2.176\n",
      "Test CE = 1.99\n",
      "Test accuracy = 37.0%\n",
      "Epoch 3 of 50\n",
      "Training CE = 1.582\n",
      "Test CE = 1.21\n",
      "Test accuracy = 55.0%\n"
     ]
    },
    {
     "name": "stderr",
     "output_type": "stream",
     "text": [
      " 10%|█         | 5/50 [00:01<00:10,  4.25it/s]"
     ]
    },
    {
     "name": "stdout",
     "output_type": "stream",
     "text": [
      "Epoch 4 of 50\n",
      "Training CE = 0.993\n",
      "Test CE = 0.91\n",
      "Test accuracy = 66.0%\n"
     ]
    },
    {
     "name": "stderr",
     "output_type": "stream",
     "text": [
      " 12%|█▏        | 6/50 [00:01<00:09,  4.41it/s]"
     ]
    },
    {
     "name": "stdout",
     "output_type": "stream",
     "text": [
      "Epoch 5 of 50\n",
      "Training CE = 0.724\n",
      "Test CE = 0.68\n",
      "Test accuracy = 74.0%\n",
      "Epoch 6 of 50\n",
      "Training CE = 0.571\n",
      "Test CE = 0.52\n",
      "Test accuracy = 82.0%\n"
     ]
    },
    {
     "name": "stderr",
     "output_type": "stream",
     "text": [
      " 18%|█▊        | 9/50 [00:02<00:08,  4.87it/s]"
     ]
    },
    {
     "name": "stdout",
     "output_type": "stream",
     "text": [
      "Epoch 7 of 50\n",
      "Training CE = 0.480\n",
      "Test CE = 0.43\n",
      "Test accuracy = 85.0%\n",
      "Epoch 8 of 50\n",
      "Training CE = 0.413\n",
      "Test CE = 0.37\n",
      "Test accuracy = 87.0%\n"
     ]
    },
    {
     "name": "stderr",
     "output_type": "stream",
     "text": [
      " 22%|██▏       | 11/50 [00:02<00:07,  4.92it/s]"
     ]
    },
    {
     "name": "stdout",
     "output_type": "stream",
     "text": [
      "Epoch 9 of 50\n",
      "Training CE = 0.363\n",
      "Test CE = 0.35\n",
      "Test accuracy = 87.0%\n",
      "Epoch 10 of 50\n",
      "Training CE = 0.327\n",
      "Test CE = 0.32\n",
      "Test accuracy = 89.0%\n"
     ]
    },
    {
     "name": "stderr",
     "output_type": "stream",
     "text": [
      " 24%|██▍       | 12/50 [00:02<00:07,  4.97it/s]"
     ]
    },
    {
     "name": "stdout",
     "output_type": "stream",
     "text": [
      "Epoch 11 of 50\n",
      "Training CE = 0.299\n",
      "Test CE = 0.31\n",
      "Test accuracy = 89.0%\n",
      "Epoch 12 of 50\n",
      "Training CE = 0.277\n",
      "Test CE = 0.29\n",
      "Test accuracy = 90.0%\n"
     ]
    },
    {
     "name": "stderr",
     "output_type": "stream",
     "text": [
      " 28%|██▊       | 14/50 [00:03<00:07,  4.95it/s]"
     ]
    },
    {
     "name": "stdout",
     "output_type": "stream",
     "text": [
      "Epoch 13 of 50\n",
      "Training CE = 0.257\n",
      "Test CE = 0.28\n",
      "Test accuracy = 90.0%\n"
     ]
    },
    {
     "name": "stderr",
     "output_type": "stream",
     "text": [
      " 32%|███▏      | 16/50 [00:03<00:06,  4.86it/s]"
     ]
    },
    {
     "name": "stdout",
     "output_type": "stream",
     "text": [
      "Epoch 14 of 50\n",
      "Training CE = 0.241\n",
      "Test CE = 0.27\n",
      "Test accuracy = 91.0%\n",
      "Epoch 15 of 50\n",
      "Training CE = 0.227\n",
      "Test CE = 0.26\n",
      "Test accuracy = 91.0%\n"
     ]
    },
    {
     "name": "stderr",
     "output_type": "stream",
     "text": [
      " 34%|███▍      | 17/50 [00:03<00:06,  4.90it/s]"
     ]
    },
    {
     "name": "stdout",
     "output_type": "stream",
     "text": [
      "Epoch 16 of 50\n",
      "Training CE = 0.214\n",
      "Test CE = 0.25\n",
      "Test accuracy = 92.0%\n",
      "Epoch 17 of 50\n",
      "Training CE = 0.203\n",
      "Test CE = 0.24\n",
      "Test accuracy = 92.0%\n"
     ]
    },
    {
     "name": "stderr",
     "output_type": "stream",
     "text": [
      " 38%|███▊      | 19/50 [00:04<00:06,  4.94it/s]"
     ]
    },
    {
     "name": "stdout",
     "output_type": "stream",
     "text": [
      "Epoch 18 of 50\n",
      "Training CE = 0.193\n",
      "Test CE = 0.23\n",
      "Test accuracy = 92.0%\n"
     ]
    },
    {
     "name": "stderr",
     "output_type": "stream",
     "text": [
      " 40%|████      | 20/50 [00:04<00:06,  4.70it/s]"
     ]
    },
    {
     "name": "stdout",
     "output_type": "stream",
     "text": [
      "Epoch 19 of 50\n",
      "Training CE = 0.183\n",
      "Test CE = 0.23\n",
      "Test accuracy = 92.0%\n"
     ]
    },
    {
     "name": "stderr",
     "output_type": "stream",
     "text": [
      " 42%|████▏     | 21/50 [00:04<00:06,  4.47it/s]"
     ]
    },
    {
     "name": "stdout",
     "output_type": "stream",
     "text": [
      "Epoch 20 of 50\n",
      "Training CE = 0.175\n",
      "Test CE = 0.22\n",
      "Test accuracy = 92.0%\n"
     ]
    },
    {
     "name": "stderr",
     "output_type": "stream",
     "text": [
      " 46%|████▌     | 23/50 [00:04<00:05,  4.80it/s]"
     ]
    },
    {
     "name": "stdout",
     "output_type": "stream",
     "text": [
      "Epoch 21 of 50\n",
      "Training CE = 0.167\n",
      "Test CE = 0.22\n",
      "Test accuracy = 92.0%\n",
      "Epoch 22 of 50\n",
      "Training CE = 0.159\n",
      "Test CE = 0.22\n",
      "Test accuracy = 92.0%\n"
     ]
    },
    {
     "name": "stderr",
     "output_type": "stream",
     "text": [
      " 50%|█████     | 25/50 [00:05<00:05,  4.83it/s]"
     ]
    },
    {
     "name": "stdout",
     "output_type": "stream",
     "text": [
      "Epoch 23 of 50\n",
      "Training CE = 0.151\n",
      "Test CE = 0.21\n",
      "Test accuracy = 92.0%\n",
      "Epoch 24 of 50\n",
      "Training CE = 0.142\n",
      "Test CE = 0.21\n",
      "Test accuracy = 91.0%\n"
     ]
    },
    {
     "name": "stderr",
     "output_type": "stream",
     "text": [
      " 52%|█████▏    | 26/50 [00:05<00:04,  4.81it/s]"
     ]
    },
    {
     "name": "stdout",
     "output_type": "stream",
     "text": [
      "Epoch 25 of 50\n",
      "Training CE = 0.135\n",
      "Test CE = 0.20\n",
      "Test accuracy = 92.0%\n",
      "Epoch 26 of 50\n",
      "Training CE = 0.129\n",
      "Test CE = 0.20\n",
      "Test accuracy = 92.0%\n"
     ]
    },
    {
     "name": "stderr",
     "output_type": "stream",
     "text": [
      " 58%|█████▊    | 29/50 [00:06<00:04,  4.99it/s]"
     ]
    },
    {
     "name": "stdout",
     "output_type": "stream",
     "text": [
      "Epoch 27 of 50\n",
      "Training CE = 0.122\n",
      "Test CE = 0.19\n",
      "Test accuracy = 94.0%\n",
      "Epoch 28 of 50\n",
      "Training CE = 0.117\n",
      "Test CE = 0.19\n",
      "Test accuracy = 94.0%\n"
     ]
    },
    {
     "name": "stderr",
     "output_type": "stream",
     "text": [
      " 60%|██████    | 30/50 [00:06<00:04,  4.96it/s]"
     ]
    },
    {
     "name": "stdout",
     "output_type": "stream",
     "text": [
      "Epoch 29 of 50\n",
      "Training CE = 0.110\n",
      "Test CE = 0.19\n",
      "Test accuracy = 94.0%\n"
     ]
    },
    {
     "name": "stderr",
     "output_type": "stream",
     "text": [
      " 62%|██████▏   | 31/50 [00:06<00:03,  4.81it/s]"
     ]
    },
    {
     "name": "stdout",
     "output_type": "stream",
     "text": [
      "Epoch 30 of 50\n",
      "Training CE = 0.105\n",
      "Test CE = 0.18\n",
      "Test accuracy = 93.0%\n"
     ]
    },
    {
     "name": "stderr",
     "output_type": "stream",
     "text": [
      " 64%|██████▍   | 32/50 [00:06<00:03,  4.70it/s]"
     ]
    },
    {
     "name": "stdout",
     "output_type": "stream",
     "text": [
      "Epoch 31 of 50\n",
      "Training CE = 0.100\n",
      "Test CE = 0.18\n",
      "Test accuracy = 93.0%\n"
     ]
    },
    {
     "name": "stderr",
     "output_type": "stream",
     "text": [
      " 68%|██████▊   | 34/50 [00:07<00:03,  4.76it/s]"
     ]
    },
    {
     "name": "stdout",
     "output_type": "stream",
     "text": [
      "Epoch 32 of 50\n",
      "Training CE = 0.095\n",
      "Test CE = 0.19\n",
      "Test accuracy = 93.0%\n",
      "Epoch 33 of 50\n",
      "Training CE = 0.091\n",
      "Test CE = 0.18\n",
      "Test accuracy = 94.0%\n"
     ]
    },
    {
     "name": "stderr",
     "output_type": "stream",
     "text": [
      " 70%|███████   | 35/50 [00:07<00:03,  4.65it/s]"
     ]
    },
    {
     "name": "stdout",
     "output_type": "stream",
     "text": [
      "Epoch 34 of 50\n",
      "Training CE = 0.087\n",
      "Test CE = 0.18\n",
      "Test accuracy = 94.0%\n"
     ]
    },
    {
     "name": "stderr",
     "output_type": "stream",
     "text": [
      "\n"
     ]
    },
    {
     "ename": "KeyboardInterrupt",
     "evalue": "",
     "output_type": "error",
     "traceback": [
      "\u001b[1;31m---------------------------------------------------------------------------\u001b[0m",
      "\u001b[1;31mKeyboardInterrupt\u001b[0m                         Traceback (most recent call last)",
      "Cell \u001b[1;32mIn[1], line 55\u001b[0m\n\u001b[0;32m     52\u001b[0m optimizer \u001b[38;5;241m=\u001b[39m torch\u001b[38;5;241m.\u001b[39moptim\u001b[38;5;241m.\u001b[39mSGD(cnn\u001b[38;5;241m.\u001b[39mparameters(), lr\u001b[38;5;241m=\u001b[39mlearning_rate)\n\u001b[0;32m     54\u001b[0m \u001b[38;5;28;01mfor\u001b[39;00m epoch \u001b[38;5;129;01min\u001b[39;00m tqdm(\u001b[38;5;28mrange\u001b[39m(epochs)):\n\u001b[1;32m---> 55\u001b[0m     cnn_train_ce \u001b[38;5;241m=\u001b[39m \u001b[43mdf\u001b[49m\u001b[38;5;241;43m.\u001b[39;49m\u001b[43mtrain_loop\u001b[49m\u001b[43m(\u001b[49m\u001b[43mtrain_dataloader\u001b[49m\u001b[43m,\u001b[49m\u001b[43m \u001b[49m\u001b[43mcnn\u001b[49m\u001b[43m,\u001b[49m\u001b[43m \u001b[49m\u001b[43mloss_fn\u001b[49m\u001b[43m,\u001b[49m\u001b[43m \u001b[49m\u001b[43moptimizer\u001b[49m\u001b[43m)\u001b[49m\n\u001b[0;32m     56\u001b[0m     cnn_test_ce, cnn_test_acc \u001b[38;5;241m=\u001b[39m df\u001b[38;5;241m.\u001b[39mtest_loop(test_dataloader, cnn, loss_fn)\n\u001b[0;32m     57\u001b[0m     \u001b[38;5;28;01mif\u001b[39;00m epoch \u001b[38;5;241m%\u001b[39m \u001b[38;5;28mint\u001b[39m(epochs\u001b[38;5;241m/\u001b[39m\u001b[38;5;241m50\u001b[39m) \u001b[38;5;241m==\u001b[39m \u001b[38;5;241m0\u001b[39m:\n",
      "File \u001b[1;32mc:\\Users\\s4531973\\Documents\\PhD\\Code\\Uncertainty Quantification\\definitions.py:422\u001b[0m, in \u001b[0;36mtrain_loop\u001b[1;34m(dataloader, model, loss_fn, optimizer, verbose)\u001b[0m\n\u001b[0;32m    419\u001b[0m loss \u001b[38;5;241m=\u001b[39m loss_fn(pred, y)\n\u001b[0;32m    421\u001b[0m \u001b[38;5;66;03m# Backpropagation\u001b[39;00m\n\u001b[1;32m--> 422\u001b[0m \u001b[43mloss\u001b[49m\u001b[38;5;241;43m.\u001b[39;49m\u001b[43mbackward\u001b[49m\u001b[43m(\u001b[49m\u001b[43m)\u001b[49m\n\u001b[0;32m    423\u001b[0m optimizer\u001b[38;5;241m.\u001b[39mstep()\n\u001b[0;32m    424\u001b[0m optimizer\u001b[38;5;241m.\u001b[39mzero_grad()\n",
      "File \u001b[1;32m~\\AppData\\Local\\Packages\\PythonSoftwareFoundation.Python.3.11_qbz5n2kfra8p0\\LocalCache\\local-packages\\Python311\\site-packages\\torch\\_tensor.py:487\u001b[0m, in \u001b[0;36mTensor.backward\u001b[1;34m(self, gradient, retain_graph, create_graph, inputs)\u001b[0m\n\u001b[0;32m    477\u001b[0m \u001b[38;5;28;01mif\u001b[39;00m has_torch_function_unary(\u001b[38;5;28mself\u001b[39m):\n\u001b[0;32m    478\u001b[0m     \u001b[38;5;28;01mreturn\u001b[39;00m handle_torch_function(\n\u001b[0;32m    479\u001b[0m         Tensor\u001b[38;5;241m.\u001b[39mbackward,\n\u001b[0;32m    480\u001b[0m         (\u001b[38;5;28mself\u001b[39m,),\n\u001b[1;32m   (...)\u001b[0m\n\u001b[0;32m    485\u001b[0m         inputs\u001b[38;5;241m=\u001b[39minputs,\n\u001b[0;32m    486\u001b[0m     )\n\u001b[1;32m--> 487\u001b[0m \u001b[43mtorch\u001b[49m\u001b[38;5;241;43m.\u001b[39;49m\u001b[43mautograd\u001b[49m\u001b[38;5;241;43m.\u001b[39;49m\u001b[43mbackward\u001b[49m\u001b[43m(\u001b[49m\n\u001b[0;32m    488\u001b[0m \u001b[43m    \u001b[49m\u001b[38;5;28;43mself\u001b[39;49m\u001b[43m,\u001b[49m\u001b[43m \u001b[49m\u001b[43mgradient\u001b[49m\u001b[43m,\u001b[49m\u001b[43m \u001b[49m\u001b[43mretain_graph\u001b[49m\u001b[43m,\u001b[49m\u001b[43m \u001b[49m\u001b[43mcreate_graph\u001b[49m\u001b[43m,\u001b[49m\u001b[43m \u001b[49m\u001b[43minputs\u001b[49m\u001b[38;5;241;43m=\u001b[39;49m\u001b[43minputs\u001b[49m\n\u001b[0;32m    489\u001b[0m \u001b[43m\u001b[49m\u001b[43m)\u001b[49m\n",
      "File \u001b[1;32m~\\AppData\\Local\\Packages\\PythonSoftwareFoundation.Python.3.11_qbz5n2kfra8p0\\LocalCache\\local-packages\\Python311\\site-packages\\torch\\autograd\\__init__.py:200\u001b[0m, in \u001b[0;36mbackward\u001b[1;34m(tensors, grad_tensors, retain_graph, create_graph, grad_variables, inputs)\u001b[0m\n\u001b[0;32m    195\u001b[0m     retain_graph \u001b[38;5;241m=\u001b[39m create_graph\n\u001b[0;32m    197\u001b[0m \u001b[38;5;66;03m# The reason we repeat same the comment below is that\u001b[39;00m\n\u001b[0;32m    198\u001b[0m \u001b[38;5;66;03m# some Python versions print out the first line of a multi-line function\u001b[39;00m\n\u001b[0;32m    199\u001b[0m \u001b[38;5;66;03m# calls in the traceback and some print out the last line\u001b[39;00m\n\u001b[1;32m--> 200\u001b[0m \u001b[43mVariable\u001b[49m\u001b[38;5;241;43m.\u001b[39;49m\u001b[43m_execution_engine\u001b[49m\u001b[38;5;241;43m.\u001b[39;49m\u001b[43mrun_backward\u001b[49m\u001b[43m(\u001b[49m\u001b[43m  \u001b[49m\u001b[38;5;66;43;03m# Calls into the C++ engine to run the backward pass\u001b[39;49;00m\n\u001b[0;32m    201\u001b[0m \u001b[43m    \u001b[49m\u001b[43mtensors\u001b[49m\u001b[43m,\u001b[49m\u001b[43m \u001b[49m\u001b[43mgrad_tensors_\u001b[49m\u001b[43m,\u001b[49m\u001b[43m \u001b[49m\u001b[43mretain_graph\u001b[49m\u001b[43m,\u001b[49m\u001b[43m \u001b[49m\u001b[43mcreate_graph\u001b[49m\u001b[43m,\u001b[49m\u001b[43m \u001b[49m\u001b[43minputs\u001b[49m\u001b[43m,\u001b[49m\n\u001b[0;32m    202\u001b[0m \u001b[43m    \u001b[49m\u001b[43mallow_unreachable\u001b[49m\u001b[38;5;241;43m=\u001b[39;49m\u001b[38;5;28;43;01mTrue\u001b[39;49;00m\u001b[43m,\u001b[49m\u001b[43m \u001b[49m\u001b[43maccumulate_grad\u001b[49m\u001b[38;5;241;43m=\u001b[39;49m\u001b[38;5;28;43;01mTrue\u001b[39;49;00m\u001b[43m)\u001b[49m\n",
      "\u001b[1;31mKeyboardInterrupt\u001b[0m: "
     ]
    }
   ],
   "source": [
    "import torch\n",
    "from torchvision.transforms import ToTensor\n",
    "from torchvision import datasets\n",
    "from tqdm import tqdm\n",
    "import definitions as df\n",
    "from importlib import reload\n",
    "import definitions as df\n",
    "import torch\n",
    "from tqdm import tqdm\n",
    "import importlib\n",
    "import numpy as np\n",
    "from torch import nn\n",
    "from torch.utils.data import DataLoader\n",
    "import solvers\n",
    "importlib.reload(solvers)\n",
    "\n",
    "torch.set_default_dtype(torch.float64)\n",
    "\n",
    "reload(df)\n",
    "\n",
    "N_TRAIN = 1000\n",
    "N_TEST = 100\n",
    "N_OUTPUT = 10\n",
    "learning_rate = 1e-1\n",
    "batch_size = 50\n",
    "epochs = 50\n",
    "\n",
    "training_data = datasets.MNIST(\n",
    "    root=\"data/MNIST\",\n",
    "    train=True,\n",
    "    download=True,\n",
    "    transform=ToTensor()\n",
    ")\n",
    "\n",
    "test_data = datasets.MNIST(\n",
    "    root=\"data/MNIST\",\n",
    "    train=False,\n",
    "    download=True,\n",
    "    transform=ToTensor()\n",
    ")\n",
    "\n",
    "training_data = torch.utils.data.Subset(training_data,range(N_TRAIN))\n",
    "test_data = torch.utils.data.Subset(test_data,range(N_TEST))\n",
    " \n",
    "cnn = df.CNN()\n",
    "print(\"Number of parameters p = {}\".format(sum(p.numel() for p in cnn.parameters() if p.requires_grad)))\n",
    "\n",
    "train_dataloader = DataLoader(training_data, batch_size)\n",
    "test_dataloader = DataLoader(test_data, N_TEST)\n",
    "\n",
    "loss_fn = nn.CrossEntropyLoss()\n",
    "optimizer = torch.optim.SGD(cnn.parameters(), lr=learning_rate)\n",
    "\n",
    "for epoch in tqdm(range(epochs)):\n",
    "    cnn_train_ce = df.train_loop(train_dataloader, cnn, loss_fn, optimizer)\n",
    "    cnn_test_ce, cnn_test_acc = df.test_loop(test_dataloader, cnn, loss_fn)\n",
    "    if epoch % int(epochs/50) == 0:\n",
    "        print(\"Epoch {} of {}\".format(epoch,epochs))\n",
    "        print(\"Training CE = {:.3f}\".format(cnn_train_ce))\n",
    "        print(\"Test CE = {:.2f}\".format(cnn_test_ce))\n",
    "        print(\"Test accuracy = {:.1f}%\".format(100*cnn_test_acc))\n",
    "print(\"Done!\")\n",
    "print(\"Final cnn training cross-entropy = {:.3f}\".format(cnn_train_ce))\n",
    "print(\"Final cnn test cross-entropy = {:.2f}\".format(cnn_test_ce))\n",
    "print(\"Final cnn test accuracy = {:.1f}%\".format(100*cnn_test_acc))\n",
    "\n",
    "ensemble_M = 5\n",
    "\n",
    "ensemble_model_list = []\n",
    "ensemble_opt_list = []\n",
    "ensemble_ce_training_list = np.empty(ensemble_M)\n",
    "ensemble_ce_test_list = np.empty(ensemble_M)\n",
    "ensemble_ce_acc_list = np.empty(ensemble_M)\n",
    "\n",
    "\n",
    "for i in range(ensemble_M):\n",
    "    ensemble_model_list.append(df.CNN())\n",
    "    ensemble_opt_list.append(torch.optim.SGD(ensemble_model_list[i].parameters(), lr=learning_rate))\n",
    "\n",
    "for i in range(ensemble_M):\n",
    "    print(f\"\\n Training ensemble {i+1} \")\n",
    "    for epoch in tqdm(range(epochs)):\n",
    "        cnn_train_ce = df.train_loop(train_dataloader, ensemble_model_list[i], loss_fn, ensemble_opt_list[i])\n",
    "        cnn_test_ce, cnn_test_acc = df.test_loop(test_dataloader, ensemble_model_list[i], loss_fn)\n",
    "        if epoch % int(epochs/5) == 0:\n",
    "            print(\"Epoch {} of {}\".format(epoch,epochs))\n",
    "            print(\"Training CE = {:.3f}\".format(cnn_train_ce))\n",
    "            print(\"Test CE = {:.2f}\".format(cnn_test_ce))\n",
    "            print(\"Test accuracy = {:.1f}%\".format(100*cnn_test_acc))\n",
    "    print(\"Done!\")\n",
    "    print(\"Final cnn training cross-entropy = {:.3f}\".format(cnn_train_ce))\n",
    "    print(\"Final cnn test cross-entropy = {:.2f}\".format(cnn_test_ce))\n",
    "    print(\"Final cnn test accuracy = {:.1f}%\".format(100*cnn_test_acc))\n",
    "    ensemble_ce_training_list[i] = cnn_train_ce\n",
    "    ensemble_ce_test_list[i] = cnn_test_ce\n",
    "    ensemble_ce_acc_list[i] = cnn_test_acc\n",
    "print('\\n Ensemble training process has finished.')\n"
   ]
  },
  {
   "cell_type": "code",
   "execution_count": 90,
   "metadata": {},
   "outputs": [
    {
     "name": "stdout",
     "output_type": "stream",
     "text": [
      "fnet shape is torch.Size([1])\n",
      "fnet is tensor([0.2641], grad_fn=<ReshapeAliasBackward0>)\n",
      "torch.Size([1000, 1000, 1, 1])\n",
      "torch.Size([100, 1000, 1, 1])\n"
     ]
    }
   ],
   "source": [
    "from functorch import make_functional\n",
    "reload(df)\n",
    "\n",
    "fnet, params = make_functional(cnn)     \n",
    "\n",
    "def fnet_single(params, x):\n",
    "    return fnet(params, x.unsqueeze(0)).squeeze(0)[1].reshape(1)\n",
    "\n",
    "dataset1_ntk = DataLoader(training_data,len(training_data))\n",
    "x1_ntk,_ = next(iter(dataset1_ntk))\n",
    "dataset1_single = DataLoader(training_data,1)\n",
    "x1_single,_ = next(iter(dataset1_single))\n",
    "dataset2_ntk = DataLoader(training_data,len(training_data))\n",
    "x2_ntk,_ = next(iter(dataset2_ntk))\n",
    "test_dataloader = DataLoader(test_data,len(test_data))\n",
    "x1_test,_ = next(iter(test_dataloader))\n",
    "\n",
    "# print(\"Test shape is {}\".format(x1_test.shape))\n",
    "for x1_single in x1_ntk:\n",
    "    y = fnet_single(params,x1_single)\n",
    "print(\"fnet shape is {}\".format(y.shape))\n",
    "print(\"fnet is {}\".format(y))\n",
    "\n",
    "# # Kappa_c = df.empirical_ntk_jacobian_contraction_c(fnet_single, params, x1_ntk, x2_ntk,c=1)\n",
    "Kappa = df.empirical_ntk_jacobian_contraction(fnet_single, params, x1_ntk, x2_ntk)\n",
    "# # kappa_xx = df.empirical_ntk_jacobian_contraction_c(fnet_single=fnet_single,params=params,x1=x1_test,x2=x1_test,c=0)\n",
    "# # kappa_xX_c = df.empirical_ntk_jacobian_contraction_c(fnet_single=fnet_single,params=params,x1=x1_test,x2=x2_ntk,c=0)\n",
    "kappa_xX = df.empirical_ntk_jacobian_contraction(fnet_single=fnet_single,params=params,x1=x1_test,x2=x2_ntk)\n",
    "print(Kappa.shape)\n",
    "print(kappa_xX.shape)\n",
    "# # print(kappa_xx.shape)\n",
    "# # print(kappa_xX.shape)"
   ]
  },
  {
   "cell_type": "code",
   "execution_count": 16,
   "metadata": {},
   "outputs": [
    {
     "name": "stdout",
     "output_type": "stream",
     "text": [
      "tensor(6.7744e-12, grad_fn=<LinalgVectorNormBackward0>)\n"
     ]
    }
   ],
   "source": [
    "print(torch.norm(kappa_xX[:,:,0,0]-kappa_xX_c))"
   ]
  },
  {
   "cell_type": "code",
   "execution_count": 2,
   "metadata": {},
   "outputs": [
    {
     "name": "stderr",
     "output_type": "stream",
     "text": [
      "C:\\Users\\s4531973\\AppData\\Local\\Packages\\PythonSoftwareFoundation.Python.3.11_qbz5n2kfra8p0\\LocalCache\\local-packages\\Python311\\site-packages\\torch\\_functorch\\deprecated.py:97: UserWarning: We've integrated functorch into PyTorch. As the final step of the integration, functorch.make_functional is deprecated as of PyTorch 2.0 and will be deleted in a future version of PyTorch >= 2.3. Please use torch.func.functional_call instead; see the PyTorch 2.0 release notes and/or the torch.func migration guide for more details https://pytorch.org/docs/master/func.migrating.html\n",
      "  warn_deprecated('make_functional', 'torch.func.functional_call')\n",
      "  0%|          | 0/1000 [00:00<?, ?it/s]C:\\Users\\s4531973\\AppData\\Local\\Packages\\PythonSoftwareFoundation.Python.3.11_qbz5n2kfra8p0\\LocalCache\\local-packages\\Python311\\site-packages\\torch\\_functorch\\deprecated.py:80: UserWarning: We've integrated functorch into PyTorch. As the final step of the integration, functorch.jacrev is deprecated as of PyTorch 2.0 and will be deleted in a future version of PyTorch >= 2.3. Please use torch.func.jacrev instead; see the PyTorch 2.0 release notes and/or the torch.func migration guide for more details https://pytorch.org/docs/master/func.migrating.html\n",
      "  warn_deprecated('jacrev')\n",
      "C:\\Users\\s4531973\\AppData\\Local\\Packages\\PythonSoftwareFoundation.Python.3.11_qbz5n2kfra8p0\\LocalCache\\local-packages\\Python311\\site-packages\\torch\\_functorch\\deprecated.py:58: UserWarning: We've integrated functorch into PyTorch. As the final step of the integration, functorch.vmap is deprecated as of PyTorch 2.0 and will be deleted in a future version of PyTorch >= 2.3. Please use torch.vmap instead; see the PyTorch 2.0 release notes and/or the torch.func migration guide for more details https://pytorch.org/docs/master/func.migrating.html\n",
      "  warn_deprecated('vmap', 'torch.vmap')\n",
      "100%|██████████| 1000/1000 [04:54<00:00,  3.39it/s]\n"
     ]
    }
   ],
   "source": [
    "reload(df)\n",
    "\n",
    "rtol_solve = 1e-5\n",
    "maxit_solve = 50\n",
    "\n",
    "uncertainty_array = df.ntk_uncertainty_explicit_class(\n",
    "    train_dataset=training_data,\n",
    "    test_dataset=test_data,\n",
    "    model=cnn,\n",
    "    num_classes=10,\n",
    "    type='iterative',\n",
    "    rtol=rtol_solve,\n",
    "    maxit=maxit_solve)"
   ]
  },
  {
   "cell_type": "code",
   "execution_count": 30,
   "metadata": {},
   "outputs": [
    {
     "name": "stdout",
     "output_type": "stream",
     "text": [
      "Number of negative sigma^2 values = 0\n",
      "Mean shape is (10, 100)\n",
      "Uncertainty shape is (10, 100)\n",
      "[0.00050003 0.03312013 0.96602234 0.00000002 0.         0.\n",
      " 0.00035747 0.         0.00000001 0.        ]\n",
      "[0.07477791 0.18413325 0.60342894 0.01018522 0.00211324 0.0009437\n",
      " 0.11075764 0.00000091 0.01007075 0.00358844]\n",
      "[0.         0.         0.         0.00000014 0.         0.\n",
      " 0.         0.99999986 0.         0.        ]\n"
     ]
    }
   ],
   "source": [
    "import scipy\n",
    "np.set_printoptions(suppress=True, precision=8)\n",
    "test_dataloader = DataLoader(test_data,len(test_data))\n",
    "X_test,_ = next(iter(test_dataloader))\n",
    "mean = cnn(X_test).detach().numpy().transpose()\n",
    "n = uncertainty_array[uncertainty_array<0].size\n",
    "print(\"Number of negative sigma^2 values = {}\".format(n))\n",
    "print(\"Mean shape is {}\".format(mean.shape))\n",
    "print(\"Uncertainty shape is {}\".format(uncertainty_array.shape))\n",
    "probit_approx = df.general_probit_approx(mean,uncertainty_array)\n",
    "print(scipy.special.softmax(mean[:,1]))\n",
    "# print(probit_approx[:,1])\n",
    "# print(uncertainty_array[:,1])\n",
    "print(scipy.special.softmax(probit_approx[:,1]))\n",
    "ensemble_mean = np.empty((10,ensemble_M))\n",
    "for i in range(ensemble_M):\n",
    "    ensemble_mean[:,i] = ensemble_model_list[i](X_test).detach().numpy().transpose()[:,0]\n",
    "print(scipy.special.softmax(np.mean(ensemble_mean,axis=1)))"
   ]
  },
  {
   "cell_type": "code",
   "execution_count": 18,
   "metadata": {},
   "outputs": [
    {
     "name": "stdout",
     "output_type": "stream",
     "text": [
      "torch.Size([1000, 1, 28, 28])\n",
      "torch.Size([1000])\n"
     ]
    }
   ],
   "source": [
    "dataset = DataLoader(training_data,len(training_data))\n",
    "x,y = next(iter(dataset))\n",
    "print(x.shape)\n",
    "print(y.shape)"
   ]
  },
  {
   "cell_type": "code",
   "execution_count": null,
   "metadata": {},
   "outputs": [],
   "source": [
    "ood_data = datasets.FashionMNIST(\n",
    "    root = \"data\",\n",
    "    train=False,\n",
    "    download=True,\n",
    "    transform=ToTensor()\n",
    ")\n",
    "ood_test_point = ood_data.__getitem__(1)\n",
    "ood_uncertainty_array=ntk_uncertainty_classification_single(training_data,ood_test_point[0],model=cnn,optimizer=optimizer,num_c=10,mode='max')\n",
    "test_point = test_data.__getitem__(1)[0]\n",
    "uncertainty_array=ntk_uncertainty_classification_single(training_data,test_point,model=cnn,optimizer=optimizer,num_c=10,mode='max')\n",
    "print(uncertainty_array)\n",
    "print(ood_uncertainty_array)\n",
    "print(torch.argmax(cnn(ood_test_point[0])).item())\n",
    "print(ood_test_point[1])"
   ]
  },
  {
   "cell_type": "code",
   "execution_count": 4,
   "metadata": {},
   "outputs": [
    {
     "name": "stdout",
     "output_type": "stream",
     "text": [
      "torch.Size([4, 4])\n"
     ]
    }
   ],
   "source": [
    "x = torch.ones((4,4,4,4))\n",
    "print(x[:,:,1,1].shape)"
   ]
  }
 ],
 "metadata": {
  "kernelspec": {
   "display_name": "Python 3",
   "language": "python",
   "name": "python3"
  },
  "language_info": {
   "codemirror_mode": {
    "name": "ipython",
    "version": 3
   },
   "file_extension": ".py",
   "mimetype": "text/x-python",
   "name": "python",
   "nbconvert_exporter": "python",
   "pygments_lexer": "ipython3",
   "version": "3.11.8"
  }
 },
 "nbformat": 4,
 "nbformat_minor": 2
}
