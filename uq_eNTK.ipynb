{
 "cells": [
  {
   "cell_type": "markdown",
   "metadata": {},
   "source": [
    "# Regression"
   ]
  },
  {
   "cell_type": "code",
   "execution_count": 4,
   "metadata": {},
   "outputs": [
    {
     "name": "stdout",
     "output_type": "stream",
     "text": [
      "--- Loading dataset concrete --- \n",
      "\n",
      "Number of data points = 1030\n",
      "Number of coloumns = 9\n",
      "Number of features = 8\n",
      "training set has shape (927, 9) \n",
      "\n",
      "test set has shape (103, 9)\n",
      "\n",
      " Sample training point \n",
      " X: tensor([ 0.6513, -0.8635, -0.8516,  0.4790, -1.0481,  0.9385,  0.4240,  4.9267]), \n",
      " y: 0.3623727955207817 \n",
      "\n",
      "Sample test point \n",
      " X: tensor([ 0.0656,  1.3639, -0.8516,  0.4790, -1.0481, -0.5261, -0.6713, -0.2809]), \n",
      " y: 38.804398756000005 \n"
     ]
    }
   ],
   "source": [
    "### --- Dependencies --- ###\n",
    "from importlib import reload\n",
    "import definitions as df\n",
    "import torch\n",
    "from tqdm import tqdm\n",
    "import datetime\n",
    "import importlib\n",
    "import numpy as np\n",
    "from torch import nn, optim\n",
    "from torch.utils.data import DataLoader, Dataset, Subset\n",
    "import pandas as pd\n",
    "import matplotlib.pyplot as plt\n",
    "import torch.nn.functional as F\n",
    "import time\n",
    "import datetime\n",
    "import os\n",
    "import solvers\n",
    "importlib.reload(solvers)\n",
    "\n",
    "torch.set_default_dtype(torch.float64)\n",
    "\n",
    "reload(df)\n",
    "\n",
    "\n",
    "# parser = argparse.ArgumentParser(description='PyTorch NTK Uncertainty Estimate Experiment')\n",
    "# parser.add_argument('--dataset',default='cifar',type=str,help='dataset (cifar or imagenet)')\n",
    "# args = parser.parse_args()\n",
    "\n",
    "### --- CONSTANTS --- ###\n",
    "dataset_str = 'concrete'\n",
    "TRAIN_RATIO = 0.9\n",
    "BATCH_SIZE = 100\n",
    "NORMALIZE_X = True\n",
    "NORMALIZE_Y = True\n",
    "LAYER_WIDTH = 150\n",
    "NTK_WEIGHT_INIT = True\n",
    "\n",
    "NTK_MODEL_PATH = \"./model_chkpt/ntk_network.pt\"\n",
    "ENSEMBLE_MODEL_PATH = \"./model_chkpt/ensemble_networks.pt\"\n",
    "\n",
    "learning_rate = 1e-2\n",
    "epochs = 4000\n",
    "\n",
    "ensemble_M = 5\n",
    "\n",
    "FIND_MAN_KAPPA = False\n",
    "REPORT_KAPPA = False\n",
    "FIND_FUNC_JAX_KAPPA = True\n",
    "KAPPA_COMPARISON = FIND_MAN_KAPPA and FIND_FUNC_JAX_KAPPA\n",
    "\n",
    "type_solve = 'iterative'\n",
    "rtol_solve = 1e-15\n",
    "maxit_solve = 10000\n",
    "\n",
    "### --- INPUT DATA HERE AS WELL AS DATASET NAME --- ###\n",
    "if dataset_str == 'energy':\n",
    "    data = pd.read_excel('.\\data\\Energy\\ENB2012_data.xlsx')\n",
    "    num_features = 8\n",
    "elif dataset_str == 'concrete':\n",
    "    data = pd.read_excel('.\\data\\Concrete\\Concrete_Data.xls')\n",
    "    num_features = 8\n",
    "\n",
    "# print(data.shape)\n",
    "print(\"--- Loading dataset {} --- \\n\".format(dataset_str))\n",
    "print(\"Number of data points = {}\".format(len(data)))\n",
    "print(\"Number of coloumns = {}\".format(len(data.columns)))\n",
    "print(\"Number of features = {}\".format(num_features))\n",
    "\n",
    "training_set, test_set = df.data_split(data,TRAIN_RATIO)\n",
    "\n",
    "if NORMALIZE_X:\n",
    "    train_mX = training_set[:,:num_features].mean(axis=0)\n",
    "    train_sX = training_set[:,:num_features].std(axis=0)\n",
    "    train_sX[train_sX==0]=1\n",
    "else:\n",
    "    train_mX = 0\n",
    "    train_sX = 1\n",
    "\n",
    "if NORMALIZE_Y:\n",
    "    train_my = training_set[:,num_features].mean(axis=0)\n",
    "    train_sy = training_set[:,num_features].std(axis=0)\n",
    "    if train_sy==0:\n",
    "        train_sy=1\n",
    "else:\n",
    "    train_my = 0\n",
    "    train_sy = 1\n",
    "\n",
    "train_dataset = df.RegressionDataset(training_set, input_dim=num_features, mX=train_mX, sX=train_sX, my=train_my, sy=train_sy)\n",
    "test_dataset = df.RegressionDataset(test_set, input_dim=num_features, mX=train_mX, sX=train_sX)\n",
    "\n",
    "train_loader = DataLoader(train_dataset, batch_size=BATCH_SIZE, shuffle=True)\n",
    "test_loader = DataLoader(test_dataset, batch_size=len(test_set), shuffle=False)\n",
    "\n",
    "np.set_printoptions(suppress=True, precision=4)\n",
    "print(\"\\n Sample training point \\n X: {}, \\n y: {} \\n\".format(train_dataset.__getitem__(0)[0], train_dataset.__getitem__(0)[1]))\n",
    "print(\"Sample test point \\n X: {}, \\n y: {} \".format(test_dataset.__getitem__(0)[0], test_dataset.__getitem__(0)[1]))"
   ]
  },
  {
   "cell_type": "code",
   "execution_count": 5,
   "metadata": {},
   "outputs": [
    {
     "name": "stdout",
     "output_type": "stream",
     "text": [
      "Using cpu device\n",
      "Number of parameters in NTK network = 92101\n",
      "\n",
      " Training NTK network \n",
      "\n"
     ]
    },
    {
     "name": "stderr",
     "output_type": "stream",
     "text": [
      "  1%|          | 3/400 [00:00<00:16, 24.21it/s]"
     ]
    },
    {
     "name": "stdout",
     "output_type": "stream",
     "text": [
      "Epoch 0 of 400\n",
      "Training MSE = 1.480\n",
      "Test MSE = 194.67\n",
      "Learning rate = [0.01]\n"
     ]
    },
    {
     "name": "stderr",
     "output_type": "stream",
     "text": [
      " 26%|██▌       | 103/400 [00:03<00:10, 27.53it/s]"
     ]
    },
    {
     "name": "stdout",
     "output_type": "stream",
     "text": [
      "Epoch 100 of 400\n",
      "Training MSE = 0.024\n",
      "Test MSE = 11.76\n",
      "Learning rate = [0.005]\n"
     ]
    },
    {
     "name": "stderr",
     "output_type": "stream",
     "text": [
      " 51%|█████▏    | 205/400 [00:07<00:07, 27.57it/s]"
     ]
    },
    {
     "name": "stdout",
     "output_type": "stream",
     "text": [
      "Epoch 200 of 400\n",
      "Training MSE = 0.014\n",
      "Test MSE = 10.98\n",
      "Learning rate = [0.0025]\n"
     ]
    },
    {
     "name": "stderr",
     "output_type": "stream",
     "text": [
      " 76%|███████▌  | 304/400 [00:11<00:03, 27.45it/s]"
     ]
    },
    {
     "name": "stdout",
     "output_type": "stream",
     "text": [
      "Epoch 300 of 400\n",
      "Training MSE = 0.008\n",
      "Test MSE = 10.11\n",
      "Learning rate = [0.00125]\n"
     ]
    },
    {
     "name": "stderr",
     "output_type": "stream",
     "text": [
      "100%|██████████| 400/400 [00:14<00:00, 26.81it/s]\n"
     ]
    },
    {
     "name": "stdout",
     "output_type": "stream",
     "text": [
      "\n",
      " NTK Training process has finished.\n",
      "Final training MSE = 0.007\n",
      "Final test MSE = 11.27\n",
      "\n",
      " Training ensemble 1 \n"
     ]
    },
    {
     "name": "stderr",
     "output_type": "stream",
     "text": [
      "  1%|          | 3/400 [00:00<00:14, 27.92it/s]"
     ]
    },
    {
     "name": "stdout",
     "output_type": "stream",
     "text": [
      "Epoch 0 of 400\n",
      "Training MSE = 0.683\n",
      "Test MSE = 115.99\n",
      "Learning rate = [0.01]\n"
     ]
    },
    {
     "name": "stderr",
     "output_type": "stream",
     "text": [
      " 26%|██▋       | 105/400 [00:03<00:09, 30.59it/s]"
     ]
    },
    {
     "name": "stdout",
     "output_type": "stream",
     "text": [
      "Epoch 100 of 400\n",
      "Training MSE = 0.037\n",
      "Test MSE = 13.62\n",
      "Learning rate = [0.005]\n"
     ]
    },
    {
     "name": "stderr",
     "output_type": "stream",
     "text": [
      " 52%|█████▏    | 206/400 [00:06<00:06, 29.88it/s]"
     ]
    },
    {
     "name": "stdout",
     "output_type": "stream",
     "text": [
      "Epoch 200 of 400\n",
      "Training MSE = 0.019\n",
      "Test MSE = 11.69\n",
      "Learning rate = [0.0025]\n"
     ]
    },
    {
     "name": "stderr",
     "output_type": "stream",
     "text": [
      " 77%|███████▋  | 307/400 [00:10<00:03, 30.38it/s]"
     ]
    },
    {
     "name": "stdout",
     "output_type": "stream",
     "text": [
      "Epoch 300 of 400\n",
      "Training MSE = 0.010\n",
      "Test MSE = 11.09\n",
      "Learning rate = [0.00125]\n"
     ]
    },
    {
     "name": "stderr",
     "output_type": "stream",
     "text": [
      "100%|██████████| 400/400 [00:13<00:00, 30.01it/s]\n"
     ]
    },
    {
     "name": "stdout",
     "output_type": "stream",
     "text": [
      "Done!\n",
      "\n",
      " Training ensemble 2 \n"
     ]
    },
    {
     "name": "stderr",
     "output_type": "stream",
     "text": [
      "  1%|          | 3/400 [00:00<00:13, 28.52it/s]"
     ]
    },
    {
     "name": "stdout",
     "output_type": "stream",
     "text": [
      "Epoch 0 of 400\n",
      "Training MSE = 0.778\n",
      "Test MSE = 124.05\n",
      "Learning rate = [0.01]\n"
     ]
    },
    {
     "name": "stderr",
     "output_type": "stream",
     "text": [
      " 26%|██▌       | 104/400 [00:03<00:09, 30.51it/s]"
     ]
    },
    {
     "name": "stdout",
     "output_type": "stream",
     "text": [
      "Epoch 100 of 400\n",
      "Training MSE = 0.031\n",
      "Test MSE = 10.81\n",
      "Learning rate = [0.005]\n"
     ]
    },
    {
     "name": "stderr",
     "output_type": "stream",
     "text": [
      " 51%|█████     | 204/400 [00:06<00:06, 30.65it/s]"
     ]
    },
    {
     "name": "stdout",
     "output_type": "stream",
     "text": [
      "Epoch 200 of 400\n",
      "Training MSE = 0.015\n",
      "Test MSE = 11.95\n",
      "Learning rate = [0.0025]\n"
     ]
    },
    {
     "name": "stderr",
     "output_type": "stream",
     "text": [
      " 76%|███████▋  | 306/400 [00:10<00:03, 30.52it/s]"
     ]
    },
    {
     "name": "stdout",
     "output_type": "stream",
     "text": [
      "Epoch 300 of 400\n",
      "Training MSE = 0.010\n",
      "Test MSE = 11.93\n",
      "Learning rate = [0.00125]\n"
     ]
    },
    {
     "name": "stderr",
     "output_type": "stream",
     "text": [
      "100%|██████████| 400/400 [00:13<00:00, 30.12it/s]\n"
     ]
    },
    {
     "name": "stdout",
     "output_type": "stream",
     "text": [
      "Done!\n",
      "\n",
      " Training ensemble 3 \n"
     ]
    },
    {
     "name": "stderr",
     "output_type": "stream",
     "text": [
      "  1%|          | 3/400 [00:00<00:13, 29.18it/s]"
     ]
    },
    {
     "name": "stdout",
     "output_type": "stream",
     "text": [
      "Epoch 0 of 400\n",
      "Training MSE = 0.668\n",
      "Test MSE = 98.79\n",
      "Learning rate = [0.01]\n"
     ]
    },
    {
     "name": "stderr",
     "output_type": "stream",
     "text": [
      " 26%|██▌       | 104/400 [00:03<00:09, 30.28it/s]"
     ]
    },
    {
     "name": "stdout",
     "output_type": "stream",
     "text": [
      "Epoch 100 of 400\n",
      "Training MSE = 0.040\n",
      "Test MSE = 15.89\n",
      "Learning rate = [0.005]\n"
     ]
    },
    {
     "name": "stderr",
     "output_type": "stream",
     "text": [
      " 51%|█████     | 204/400 [00:06<00:06, 30.69it/s]"
     ]
    },
    {
     "name": "stdout",
     "output_type": "stream",
     "text": [
      "Epoch 200 of 400\n",
      "Training MSE = 0.018\n",
      "Test MSE = 10.41\n",
      "Learning rate = [0.0025]\n"
     ]
    },
    {
     "name": "stderr",
     "output_type": "stream",
     "text": [
      " 77%|███████▋  | 307/400 [00:10<00:03, 30.69it/s]"
     ]
    },
    {
     "name": "stdout",
     "output_type": "stream",
     "text": [
      "Epoch 300 of 400\n",
      "Training MSE = 0.010\n",
      "Test MSE = 12.12\n",
      "Learning rate = [0.00125]\n"
     ]
    },
    {
     "name": "stderr",
     "output_type": "stream",
     "text": [
      "100%|██████████| 400/400 [00:13<00:00, 30.18it/s]\n"
     ]
    },
    {
     "name": "stdout",
     "output_type": "stream",
     "text": [
      "Done!\n",
      "\n",
      " Training ensemble 4 \n"
     ]
    },
    {
     "name": "stderr",
     "output_type": "stream",
     "text": [
      "  1%|          | 3/400 [00:00<00:13, 28.55it/s]"
     ]
    },
    {
     "name": "stdout",
     "output_type": "stream",
     "text": [
      "Epoch 0 of 400\n",
      "Training MSE = 0.912\n",
      "Test MSE = 170.62\n",
      "Learning rate = [0.01]\n"
     ]
    },
    {
     "name": "stderr",
     "output_type": "stream",
     "text": [
      " 27%|██▋       | 107/400 [00:03<00:09, 29.62it/s]"
     ]
    },
    {
     "name": "stdout",
     "output_type": "stream",
     "text": [
      "Epoch 100 of 400\n",
      "Training MSE = 0.033\n",
      "Test MSE = 13.05\n",
      "Learning rate = [0.005]\n"
     ]
    },
    {
     "name": "stderr",
     "output_type": "stream",
     "text": [
      " 52%|█████▏    | 207/400 [00:06<00:06, 30.61it/s]"
     ]
    },
    {
     "name": "stdout",
     "output_type": "stream",
     "text": [
      "Epoch 200 of 400\n",
      "Training MSE = 0.017\n",
      "Test MSE = 10.83\n",
      "Learning rate = [0.0025]\n"
     ]
    },
    {
     "name": "stderr",
     "output_type": "stream",
     "text": [
      " 77%|███████▋  | 307/400 [00:10<00:03, 30.42it/s]"
     ]
    },
    {
     "name": "stdout",
     "output_type": "stream",
     "text": [
      "Epoch 300 of 400\n",
      "Training MSE = 0.010\n",
      "Test MSE = 9.27\n",
      "Learning rate = [0.00125]\n"
     ]
    },
    {
     "name": "stderr",
     "output_type": "stream",
     "text": [
      "100%|██████████| 400/400 [00:13<00:00, 30.25it/s]\n"
     ]
    },
    {
     "name": "stdout",
     "output_type": "stream",
     "text": [
      "Done!\n",
      "\n",
      " Training ensemble 5 \n"
     ]
    },
    {
     "name": "stderr",
     "output_type": "stream",
     "text": [
      "  1%|          | 3/400 [00:00<00:13, 29.11it/s]"
     ]
    },
    {
     "name": "stdout",
     "output_type": "stream",
     "text": [
      "Epoch 0 of 400\n",
      "Training MSE = 0.908\n",
      "Test MSE = 135.99\n",
      "Learning rate = [0.01]\n"
     ]
    },
    {
     "name": "stderr",
     "output_type": "stream",
     "text": [
      " 26%|██▌       | 104/400 [00:03<00:09, 30.19it/s]"
     ]
    },
    {
     "name": "stdout",
     "output_type": "stream",
     "text": [
      "Epoch 100 of 400\n",
      "Training MSE = 0.053\n",
      "Test MSE = 17.89\n",
      "Learning rate = [0.005]\n"
     ]
    },
    {
     "name": "stderr",
     "output_type": "stream",
     "text": [
      " 51%|█████     | 204/400 [00:06<00:06, 30.60it/s]"
     ]
    },
    {
     "name": "stdout",
     "output_type": "stream",
     "text": [
      "Epoch 200 of 400\n",
      "Training MSE = 0.019\n",
      "Test MSE = 11.68\n",
      "Learning rate = [0.0025]\n"
     ]
    },
    {
     "name": "stderr",
     "output_type": "stream",
     "text": [
      " 76%|███████▋  | 305/400 [00:10<00:03, 30.02it/s]"
     ]
    },
    {
     "name": "stdout",
     "output_type": "stream",
     "text": [
      "Epoch 300 of 400\n",
      "Training MSE = 0.012\n",
      "Test MSE = 11.88\n",
      "Learning rate = [0.00125]\n"
     ]
    },
    {
     "name": "stderr",
     "output_type": "stream",
     "text": [
      "100%|██████████| 400/400 [00:13<00:00, 30.01it/s]"
     ]
    },
    {
     "name": "stdout",
     "output_type": "stream",
     "text": [
      "Done!\n",
      "\n",
      " Ensemble training process has finished.\n",
      "Final ntk training MSE = 0.0071\n",
      "Final ntk test MSE = 11.27\n",
      "Final ensemble training MSE = [0.0085 0.009  0.0141 0.01   0.0109]\n",
      "Final ensemble test MSE = [11.0753 12.0966 12.4361  9.2624 11.4245]\n",
      "Model saved!\n"
     ]
    },
    {
     "name": "stderr",
     "output_type": "stream",
     "text": [
      "\n"
     ]
    }
   ],
   "source": [
    "learning_rate = 1e-2\n",
    "epochs = 400\n",
    "\n",
    "## Create Model\n",
    "# Get cpu, gpu or mps device for training.\n",
    "device = (\n",
    "    \"cuda\"\n",
    "    if torch.cuda.is_available()\n",
    "    else \"mps\"\n",
    "    if torch.backends.mps.is_available()\n",
    "    else \"cpu\"\n",
    ")\n",
    "print(f\"Using {device} device\")\n",
    "\n",
    "ntk_network = df.MLP(input_d=num_features,width=LAYER_WIDTH).to(device=device, dtype=torch.float64)\n",
    "if NTK_WEIGHT_INIT:\n",
    "    ntk_network.apply(df.weights_init)\n",
    "print(\"Number of parameters in NTK network = {}\".format(sum(p.numel() for p in ntk_network.parameters() if p.requires_grad)))\n",
    "\n",
    "## Train NTK network\n",
    "mse_loss = nn.MSELoss(reduction='mean')\n",
    "ntk_optimizer = df.optimizer_shared(ntk_network, type='adam', learning_rate=learning_rate)\n",
    "ntk_scheduler = optim.lr_scheduler.StepLR(ntk_optimizer,epochs/4,gamma=0.5)\n",
    "\n",
    "# Run the training loop\n",
    "print(\"\\n Training NTK network \\n\")\n",
    "for epoch in tqdm(range(epochs)):\n",
    "    ntk_train_mse  = df.training_loop_ntk(\n",
    "        dataloader=train_loader,\n",
    "        model=ntk_network, \n",
    "        optimizer=ntk_optimizer,\n",
    "        loss_function=mse_loss,\n",
    "        verbose=False)\n",
    "    \n",
    "    ntk_test_mse, ntk_test_rel_error = df.test_loop_ntk(\n",
    "        dataloader=test_loader,\n",
    "        model = ntk_network,\n",
    "        my=train_my,\n",
    "        sy=train_sy,\n",
    "        loss_function=mse_loss)\n",
    "    \n",
    "    ntk_scheduler.step()\n",
    "\n",
    "    if epoch % int(epochs/4) == 0:\n",
    "        print(\"Epoch {} of {}\".format(epoch,epochs))\n",
    "        print(\"Training MSE = {:.3f}\".format(ntk_train_mse))\n",
    "        print(\"Test MSE = {:.2f}\".format(ntk_test_mse))\n",
    "        print(\"Learning rate = {}\".format(ntk_scheduler.get_last_lr()))\n",
    "    \n",
    "# Process is complete.\n",
    "print('\\n NTK Training process has finished.')\n",
    "print(\"Final training MSE = {:.3f}\".format(ntk_train_mse))\n",
    "print(\"Final test MSE = {:.2f}\".format(ntk_test_mse))\n",
    "\n",
    "torch.save({\n",
    "    'model': ntk_network.state_dict(),\n",
    "    'train_mse': ntk_train_mse,\n",
    "    'test_mse': ntk_test_mse,\n",
    "    'test_rel_err': ntk_test_rel_error\n",
    "    },\n",
    "    NTK_MODEL_PATH)\n",
    "\n",
    "## \n",
    "ensemble_model_list = []\n",
    "ensemble_model_state_list = []\n",
    "ensemble_opt_list = []\n",
    "ensemble_sched_list = []\n",
    "ensemble_mse_training_list = np.empty(ensemble_M)\n",
    "ensemble_mse_test_list = np.empty(ensemble_M)\n",
    "ensemble_nll_list = np.empty(ensemble_M)\n",
    "ensemble_rel_err_test_list = np.empty((ensemble_M,len(test_dataset)))\n",
    "\n",
    "NLL = df.CustomNLL()\n",
    "for i in range(ensemble_M):\n",
    "    ensemble_model_list.append(df.EnsembleNetwork(input_d=num_features, width=LAYER_WIDTH).to(device=device,dtype=torch.float64))\n",
    "    ensemble_opt_list.append(df.optimizer_shared(ensemble_model_list[i], type='adam', learning_rate=learning_rate))\n",
    "    ensemble_sched_list.append(optim.lr_scheduler.StepLR(ensemble_opt_list[i],epochs/4,gamma=0.5))\n",
    "\n",
    "for i in range(ensemble_M):\n",
    "    print(f\"\\n Training ensemble {i+1} \")\n",
    "    for epoch in tqdm(range(epochs)):\n",
    "        ensemble_train_mse = df.training_loop_ensemble(\n",
    "            dataloader=train_loader, \n",
    "            model=ensemble_model_list[i], \n",
    "            optimizer=ensemble_opt_list[i], \n",
    "            loss_function=NLL,\n",
    "            mse_loss= mse_loss,\n",
    "            verbose=False)\n",
    "        \n",
    "        ensemble_test_mse, ensemble_test_nll, ensemble_test_rel_err = df.test_loop_ensemble(\n",
    "            dataloader=test_loader, \n",
    "            model=ensemble_model_list[i], \n",
    "            my=train_my, \n",
    "            sy=train_sy, \n",
    "            mse_loss=mse_loss,\n",
    "            loss_function=NLL)\n",
    "        \n",
    "        ensemble_sched_list[i].step()\n",
    "        \n",
    "        if epoch % (epochs/4) == 0:\n",
    "            print(\"Epoch {} of {}\".format(epoch,epochs))\n",
    "            print(\"Training MSE = {:.3f}\".format(ensemble_train_mse))\n",
    "            print(\"Test MSE = {:.2f}\".format(ensemble_test_mse))\n",
    "            print(\"Learning rate = {}\".format(ensemble_sched_list[i].get_last_lr()))\n",
    "\n",
    "    print(\"Done!\")\n",
    "    ensemble_mse_training_list[i] = ensemble_train_mse\n",
    "    ensemble_mse_test_list[i] = ensemble_test_mse\n",
    "    ensemble_nll_list[i] = ensemble_test_nll\n",
    "    ensemble_rel_err_test_list[i,:] = ensemble_test_rel_err.detach().numpy().squeeze(1)\n",
    "print('\\n Ensemble training process has finished.')\n",
    "\n",
    "## Print training metrics\n",
    "print(\"Final ntk training MSE = {:.4f}\".format(ntk_train_mse))\n",
    "print(\"Final ntk test MSE = {:.2f}\".format(ntk_test_mse))\n",
    "print(\"Final ensemble training MSE = {}\".format(ensemble_mse_training_list))\n",
    "print(\"Final ensemble test MSE = {}\".format(ensemble_mse_test_list))\n",
    "\n",
    "for i in range(ensemble_M):\n",
    "    ensemble_model_state_list.append(ensemble_model_list[i].state_dict())\n",
    "\n",
    "torch.save({\n",
    "    'models': ensemble_model_state_list,\n",
    "    'train_mse': ensemble_mse_training_list,\n",
    "    'test_mse': ensemble_mse_test_list,\n",
    "    'test_nll': ensemble_nll_list,\n",
    "    'test_rel_err': ensemble_rel_err_test_list\n",
    "    },\n",
    "    ENSEMBLE_MODEL_PATH)\n",
    "\n",
    "print(\"Model saved!\")"
   ]
  },
  {
   "cell_type": "code",
   "execution_count": 9,
   "metadata": {},
   "outputs": [
    {
     "name": "stdout",
     "output_type": "stream",
     "text": [
      "Using cpu device\n",
      "Loading models:\n",
      "Models loaded.\n"
     ]
    },
    {
     "name": "stderr",
     "output_type": "stream",
     "text": [
      "C:\\Users\\s4531973\\AppData\\Local\\Packages\\PythonSoftwareFoundation.Python.3.11_qbz5n2kfra8p0\\LocalCache\\local-packages\\Python311\\site-packages\\torch\\_functorch\\deprecated.py:97: UserWarning: We've integrated functorch into PyTorch. As the final step of the integration, functorch.make_functional is deprecated as of PyTorch 2.0 and will be deleted in a future version of PyTorch >= 2.3. Please use torch.func.functional_call instead; see the PyTorch 2.0 release notes and/or the torch.func migration guide for more details https://pytorch.org/docs/master/func.migrating.html\n",
      "  warn_deprecated('make_functional', 'torch.func.functional_call')\n",
      "C:\\Users\\s4531973\\AppData\\Local\\Packages\\PythonSoftwareFoundation.Python.3.11_qbz5n2kfra8p0\\LocalCache\\local-packages\\Python311\\site-packages\\torch\\_functorch\\deprecated.py:80: UserWarning: We've integrated functorch into PyTorch. As the final step of the integration, functorch.jacrev is deprecated as of PyTorch 2.0 and will be deleted in a future version of PyTorch >= 2.3. Please use torch.func.jacrev instead; see the PyTorch 2.0 release notes and/or the torch.func migration guide for more details https://pytorch.org/docs/master/func.migrating.html\n",
      "  warn_deprecated('jacrev')\n",
      "C:\\Users\\s4531973\\AppData\\Local\\Packages\\PythonSoftwareFoundation.Python.3.11_qbz5n2kfra8p0\\LocalCache\\local-packages\\Python311\\site-packages\\torch\\_functorch\\deprecated.py:58: UserWarning: We've integrated functorch into PyTorch. As the final step of the integration, functorch.vmap is deprecated as of PyTorch 2.0 and will be deleted in a future version of PyTorch >= 2.3. Please use torch.vmap instead; see the PyTorch 2.0 release notes and/or the torch.func migration guide for more details https://pytorch.org/docs/master/func.migrating.html\n",
      "  warn_deprecated('vmap', 'torch.vmap')\n"
     ]
    },
    {
     "name": "stdout",
     "output_type": "stream",
     "text": [
      "\n",
      " --- Finding uncertainty estimates --- \n",
      "\n",
      "Norm of residual array (y-f) = 2.4799994944998165\n",
      "Norm of resid_solve = 62879.9195620328\n"
     ]
    },
    {
     "name": "stderr",
     "output_type": "stream",
     "text": [
      "100%|██████████| 103/103 [01:12<00:00,  1.43it/s]"
     ]
    },
    {
     "name": "stdout",
     "output_type": "stream",
     "text": [
      "Finished! \n",
      "\n",
      "Number of zero values uncertainty array: 0\n",
      "Number of negative values for full rank: 2\n",
      "\n",
      " --- Plotting Results --- \n",
      "\n"
     ]
    },
    {
     "name": "stderr",
     "output_type": "stream",
     "text": [
      "\n"
     ]
    },
    {
     "data": {
      "image/png": "[encoded data removed]",
      "text/plain": [
       "<Figure size 640x480 with 1 Axes>"
      ]
     },
     "metadata": {},
     "output_type": "display_data"
    },
    {
     "data": {
      "image/png": "[encoded data removed]",
      "text/plain": [
       "<Figure size 640x480 with 1 Axes>"
      ]
     },
     "metadata": {},
     "output_type": "display_data"
    },
    {
     "data": {
      "image/png": "[encoded data removed]",
      "text/plain": [
       "<Figure size 640x480 with 1 Axes>"
      ]
     },
     "metadata": {},
     "output_type": "display_data"
    },
    {
     "data": {
      "image/png": "[encoded data removed]",
      "text/plain": [
       "<Figure size 640x480 with 1 Axes>"
      ]
     },
     "metadata": {},
     "output_type": "display_data"
    },
    {
     "name": "stderr",
     "output_type": "stream",
     "text": [
      "c:\\Users\\s4531973\\Documents\\PhD\\Code\\Uncertainty Quantification\\definitions.py:332: RuntimeWarning: invalid value encountered in sqrt\n",
      "  ci_c = z * np.sqrt(uncertainties*(sy**2))\n"
     ]
    },
    {
     "data": {
      "image/png": "[encoded data removed]",
      "text/plain": [
       "<Figure size 640x480 with 1 Axes>"
      ]
     },
     "metadata": {},
     "output_type": "display_data"
    },
    {
     "name": "stdout",
     "output_type": "stream",
     "text": [
      "Final ntk training MSE = 0.007\n",
      "Final ntk test MSE = 11.27\n",
      "Final ensemble training MSE = [0.0085 0.009  0.0141 0.01   0.0109]\n",
      "Final ensemble test MSE = [11.0753 12.0966 12.4361  9.2624 11.4245]\n"
     ]
    }
   ],
   "source": [
    "type_solve = 'iterative'\n",
    "rtol_solve = 1e-13\n",
    "maxit_solve = 4000\n",
    "\n",
    "\n",
    "\n",
    "# Get cpu, gpu or mps device for training.\n",
    "device = (\n",
    "    \"cuda\"\n",
    "    if torch.cuda.is_available()\n",
    "    else \"mps\"\n",
    "    if torch.backends.mps.is_available()\n",
    "    else \"cpu\"\n",
    ")\n",
    "print(f\"Using {device} device\")\n",
    "\n",
    "## load models\n",
    "print(\"Loading models:\")\n",
    "\n",
    "# Load NTK Model\n",
    "ntk_saved_model = torch.load(NTK_MODEL_PATH)\n",
    "\n",
    "ntk_network = df.MLP(input_d=num_features,width=LAYER_WIDTH).to(device=device, dtype=torch.float64)\n",
    "if NTK_WEIGHT_INIT:\n",
    "    ntk_network.apply(df.weights_init)\n",
    "ntk_network.load_state_dict(ntk_saved_model['model'])\n",
    "ntk_network.eval()\n",
    "\n",
    "ntk_train_mse = ntk_saved_model['train_mse']\n",
    "ntk_test_mse = ntk_saved_model['test_mse']\n",
    "ntk_test_rel_error = ntk_saved_model['test_rel_err']\n",
    "\n",
    "# Load Ensemble Models\n",
    "ensemble_saved_models = torch.load(ENSEMBLE_MODEL_PATH)\n",
    "\n",
    "ensemble_model_list = []\n",
    "for i in range(ensemble_M):\n",
    "    ensemble_model_list.append(df.EnsembleNetwork(input_d=num_features, width=LAYER_WIDTH).to(device=device,dtype=torch.float64))\n",
    "    ensemble_model_list[i].load_state_dict(ensemble_saved_models['models'][i])\n",
    "    ensemble_model_list[i].eval()\n",
    "\n",
    "ensemble_mse_training_list = ensemble_saved_models['train_mse']\n",
    "ensemble_mse_test_list = ensemble_saved_models['test_mse']\n",
    "ensemble_nll_list = ensemble_saved_models['test_nll']\n",
    "ensemble_rel_err_test_list = ensemble_saved_models['test_rel_err']\n",
    "\n",
    "print(\"Models loaded.\")\n",
    "\n",
    "### --- NTK --- ###\n",
    "if FIND_MAN_KAPPA:\n",
    "    EPSILON = 0\n",
    "    print(\"\\n --- Finding Kappa --- \\n\")\n",
    "    kappa_man_time_start = time.time()\n",
    "    Kappa_man = df.ntk_matrix(train_dataset,train_dataset,model=ntk_network,optimizer=ntk_optimizer)\n",
    "    kappa_man_time_end = time.time()\n",
    "    kappa_man_time = kappa_man_time_end - kappa_man_time_start\n",
    "    eigvals = np.linalg.eigvalsh(Kappa_man)\n",
    "\n",
    "if FIND_FUNC_JAX_KAPPA:\n",
    "    kappa_jax_time_start = time.time()\n",
    "    Kappa = df.empirical_ntk(\n",
    "        model=ntk_network,\n",
    "        dataset1=train_dataset,\n",
    "        dataset2=train_dataset\n",
    "    )\n",
    "    Kappa_jax = Kappa.detach().numpy().squeeze((2,3))\n",
    "    kappa_jax_time_end = time.time()\n",
    "    kappa_jax_time = kappa_jax_time_end - kappa_jax_time_start\n",
    "    eigvals = np.linalg.eigvalsh(Kappa_jax)\n",
    "\n",
    "if REPORT_KAPPA:\n",
    "    print(\"\\n--- Kappa (Manual) Summary --- \\n\")\n",
    "    print(\"Condition number of Kappa = {:.2f}\".format(np.linalg.cond(Kappa)))\n",
    "    eigvals = np.linalg.eigvalsh(Kappa)\n",
    "    print(\"Number of negative eigenvalues of Kappa = {}\".format(eigvals[eigvals<0].size))\n",
    "    print(\"Number of zero eigenvalues of Kappa = {}\".format(eigvals[eigvals==0].size))\n",
    "    print(\"Smallest eigenvalue is = {}\".format(sorted(eigvals)[0]))\n",
    "\n",
    "if KAPPA_COMPARISON:\n",
    "\n",
    "    man_eigvals = np.linalg.eigvalsh(Kappa_man)\n",
    "    jax_eigvals = np.linalg.eigvalsh(Kappa_jax)\n",
    "\n",
    "    plot_dir = \"./ntk_conditioning_results/\"\n",
    "    results_name = \"results.txt\"\n",
    "    with open(plot_dir+results_name,'w') as results:\n",
    "        results.write(\"{} \\n\".format(datetime.datetime.now()))\n",
    "        results.write(\"Manual method: \\n\\\n",
    "                    Method time elapsed = {} seconds\\n \\\n",
    "                    Condition number = {}, \\n\\\n",
    "                    Num negative eigvals = {} \\n\\\n",
    "                    Smallest eigval = {}. \\n\".format(kappa_man_time,\n",
    "                                                     np.linalg.cond(Kappa_man),\n",
    "                                                        man_eigvals[man_eigvals<0].size,\n",
    "                                                        sorted(man_eigvals)[0])\n",
    "        )\n",
    "        results.write(\"\\n PyTorch JAX method: \\n\\\n",
    "                    Method time elapsed = {} seconds\\n \\\n",
    "                    Condition number = {} \\n\\\n",
    "                    Num negative eigvals = {} \\n\\\n",
    "                    Smallest eigval = {}. \\n\".format(kappa_jax_time,\n",
    "                                                     np.linalg.cond(Kappa_jax),\n",
    "                                                        jax_eigvals[jax_eigvals<0].size,\n",
    "                                                        sorted(jax_eigvals)[0])\n",
    "        )\n",
    "        results.write(\"Frobenius norm difference between two methods = {}\".format(\n",
    "            np.linalg.norm(Kappa_man-Kappa_jax)\n",
    "        ))\n",
    "\n",
    "### --- Current Kappa --- ###\n",
    "        \n",
    "Kappa = Kappa_jax\n",
    "\n",
    "## Uncertainty Quantification\n",
    "print(\"\\n --- Finding uncertainty estimates --- \\n\")\n",
    "uncert_time_start = time.time()\n",
    "uncertainty_array, solver_info, uncertainty_array_lifted, mu = df.ntk_uncertainty_explicit(\n",
    "    Kappa=Kappa, \n",
    "    train_dataset=train_dataset,\n",
    "    test_dataset=test_dataset,\n",
    "    model=ntk_network,\n",
    "    type=type_solve,\n",
    "    rtol=rtol_solve,\n",
    "    maxit=maxit_solve,\n",
    "    epsilon=0.000001)\n",
    "uncert_time_end = time.time()\n",
    "uncert_time = uncert_time_end-uncert_time_start # (seconds)\n",
    "solver_info_mean = np.mean(solver_info,axis=1)\n",
    "print(\"Finished! \\n\")\n",
    "print(\"Number of zero values uncertainty array: {}\".format(uncertainty_array[uncertainty_array==0].size))\n",
    "print(\"Number of negative values for full rank: {}\".format(uncertainty_array[uncertainty_array<0].size))\n",
    "\n",
    "uncertainty_array = uncertainty_array / np.sqrt(sum(p.numel() for p in ntk_network.parameters() if p.requires_grad))\n",
    "\n",
    "mu_mean, sigma_mean = df.ensemble_result(\n",
    "    test_loader=test_loader,\n",
    "    ensemble_M=ensemble_M,\n",
    "    model_list=ensemble_model_list,\n",
    "    sy=train_sy,\n",
    "    my=train_my\n",
    ")\n",
    "ensemble_rel_err_test_list = np.mean(ensemble_rel_err_test_list,axis=0)\n",
    "\n",
    "### --- Plot results --- ###\n",
    "print(\"\\n --- Plotting Results --- \\n\")\n",
    "today = datetime.date.today()\n",
    "now = datetime.datetime.now()\n",
    "# plot_dir = \"./data/{}/{}/plot/\".format(dataset_str, today.strftime(\"%d_%m_%Y\"))\n",
    "plot_dir = \"./data/{}/{}/plot/\".format(dataset_str, now.strftime(\"%d_%m_%Y__%H_%M_%S\"))\n",
    "if not os.path.isdir(plot_dir):\n",
    "    os.makedirs(plot_dir)\n",
    "\n",
    "## NTK Scatter\n",
    "plot_name = \"ntk_scatter.pdf\"\n",
    "plt.scatter(ntk_test_rel_error, uncertainty_array*(train_sy**2))\n",
    "plt.xlabel(\"Relative squared error\")\n",
    "plt.ylabel(\"Uncertainty\")\n",
    "plt.title(\"NTK Method\")\n",
    "plt.savefig(plot_dir + plot_name, format=\"pdf\", bbox_inches=\"tight\")\n",
    "plt.show()\n",
    "\n",
    "# ## NTK Lifted Scatter\n",
    "# plot_name = \"ntk_lifted_scatter.pdf\"\n",
    "# plt.scatter(ntk_test_rel_error, uncertainty_array_lifted*(train_sy**2))\n",
    "# plt.xlabel(\"Relative squared error\")\n",
    "# plt.ylabel(\"Uncertainty\")\n",
    "# plt.title(\"NTK Lifted Method\")\n",
    "# plt.savefig(plot_dir + plot_name, format=\"pdf\", bbox_inches=\"tight\")\n",
    "# plt.show()\n",
    "\n",
    "## Deep Ensemble scatter\n",
    "plot_name = \"ensemble_scatter.pdf\"\n",
    "plt.scatter(ensemble_rel_err_test_list, sigma_mean)\n",
    "plt.xlabel(\"Relative squared error\")\n",
    "plt.ylabel(\"Uncertainty\")\n",
    "plt.title(\"Deep Ensemble\")\n",
    "plt.savefig(plot_dir + plot_name, format=\"pdf\", bbox_inches=\"tight\")\n",
    "plt.show()\n",
    "\n",
    "## NTK Histogram\n",
    "plot_name = \"ntk_hist.pdf\"\n",
    "plt.hist(sorted((train_sy**2)*uncertainty_array.squeeze(0)), bins='auto')\n",
    "plt.xlabel(\"$\\sigma^2$\")\n",
    "plt.ylabel(\"Frequency\")\n",
    "plt.title(\"Histogram of NTK uncertainty estimates\")\n",
    "plt.savefig(plot_dir + plot_name, format=\"pdf\", bbox_inches=\"tight\")\n",
    "plt.show()\n",
    "\n",
    "# ## NTK Lifted Histogram\n",
    "# plot_name = \"ntk_lifted_hist.pdf\"\n",
    "# plt.hist(sorted((train_sy**2)*uncertainty_array_lifted.squeeze(0)), bins='auto')\n",
    "# plt.xlabel(\"$\\sigma^2$\")\n",
    "# plt.ylabel(\"Frequency\")\n",
    "# plt.title(\"Histogram of NTK Lifted uncertainty estimates\")\n",
    "# plt.savefig(plot_dir + plot_name, format=\"pdf\", bbox_inches=\"tight\")\n",
    "# plt.show()\n",
    "\n",
    "## Deep Ensemble Histogram\n",
    "plot_name = \"ensemble_hist.pdf\"\n",
    "plt.hist(sorted(sigma_mean), bins='auto')\n",
    "plt.xlabel(\"$\\sigma^2$\")\n",
    "plt.ylabel(\"Frequency\")\n",
    "plt.title(\"Histogram of Deep Ensemble uncertainty estimates\")\n",
    "plt.savefig(plot_dir + plot_name.format(dataset_str), format=\"pdf\", bbox_inches=\"tight\")\n",
    "plt.show()\n",
    "\n",
    "### --- Plot calibration curve --- ###\n",
    "\n",
    "plot_name = \"calibration_curve.pdf\"\n",
    "observed_true_ntk = df.calibration_curve_ntk(\n",
    "    testloader=test_loader, \n",
    "    uncertainties=uncertainty_array, \n",
    "    model=ntk_network, \n",
    "    num_c=11, \n",
    "    my=train_my, \n",
    "    sy=train_sy)\n",
    "observed_true_ensemble = df.calibration_curve_ensemble(\n",
    "    testloader=test_loader, \n",
    "    mu=mu_mean, \n",
    "    sigma2=sigma_mean, \n",
    "    num_c=11)\n",
    "df.plot_calibration(\n",
    "    observed_true_ntk=observed_true_ntk, \n",
    "    observed_true_ensemble=observed_true_ensemble, \n",
    "    dataset_str=dataset_str, \n",
    "    dir_name=plot_dir, \n",
    "    plot_name=plot_name)\n",
    "\n",
    "# ### --- Plot calibration curve (lifted) --- ###\n",
    "\n",
    "# plot_name = \"calibration_curve_lifted.pdf\"\n",
    "# observed_true_ntk = df.calibration_curve_ntk(\n",
    "#     testloader=test_loader, \n",
    "#     uncertainties=uncertainty_array_lifted, \n",
    "#     model=ntk_network, \n",
    "#     num_c=11, \n",
    "#     my=train_my, \n",
    "#     sy=train_sy)\n",
    "# observed_true_ensemble = df.calibration_curve_ensemble(\n",
    "#     testloader=test_loader, \n",
    "#     mu=mu_mean, \n",
    "#     sigma2=sigma_mean, \n",
    "#     num_c=11)\n",
    "# df.plot_calibration(\n",
    "#     observed_true_ntk=observed_true_ntk, \n",
    "#     observed_true_ensemble=observed_true_ensemble, \n",
    "#     dataset_str=dataset_str, \n",
    "#     dir_name=plot_dir, \n",
    "#     plot_name=plot_name)\n",
    "\n",
    "result_dir = \"./data/{}/{}/result/\".format(dataset_str, now.strftime(\"%d_%m_%Y__%H_%M_%S\"))\n",
    "if not os.path.isdir(result_dir):\n",
    "    os.makedirs(result_dir)\n",
    "\n",
    "print(\"Final ntk training MSE = {:.3f}\".format(ntk_train_mse))\n",
    "print(\"Final ntk test MSE = {:.2f}\".format(ntk_test_mse))\n",
    "print(\"Final ensemble training MSE = {}\".format(ensemble_mse_training_list))\n",
    "print(\"Final ensemble test MSE = {}\".format(ensemble_mse_test_list))\n",
    "\n",
    "results_name = \"results.txt\"\n",
    "with open(result_dir+results_name,'w') as results:\n",
    "    results.write(\"--- Dataset & Model --- \\n\")\n",
    "    results.write(\"Number of training points = {} \\n\".format(len(training_set)))\n",
    "    results.write(\"Number of test points = {} \\n\".format(len(test_set)))\n",
    "    results.write(\"Number of features = {} \\n\".format(num_features))\n",
    "    results.write(\"Number of hidden layers = {} \\n\".format(4))\n",
    "    results.write(\"Width of hidden layer = {} \\n\".format(LAYER_WIDTH))\n",
    "    results.write(\"Number of parameters in NTK network = {} \\n\".format(\n",
    "        sum(p.numel() for p in ntk_network.parameters() if p.requires_grad)))\n",
    "\n",
    "    results.write(\"\\n --- Results --- \\n\")\n",
    "    results.write(\"Final ntk training mse = {:.3f} \\n\".format(ntk_train_mse))\n",
    "    results.write(\"Final ntk test mse = {:.2f} \\n\".format(ntk_test_mse))\n",
    "    results.write(\"Deep Ensemble training mse: mean = {:.2f}, std = {:.2f} \\n\".format(np.mean(ensemble_mse_training_list),np.std(ensemble_mse_training_list)))\n",
    "    results.write(\"Deep Ensemble test mse: mean = {:.2f}, std = {:.2f} \\n\".format(np.mean(ensemble_mse_test_list),np.std(ensemble_mse_test_list)))\n",
    "    results.write(\"Deep Ensemble NLL: mean = {:.2f}, std {:.2f} \\n\".format(np.mean(ensemble_nll_list),np.std(ensemble_nll_list)))\n",
    "    results.write(\"\\n --- Training Details --- \\n\")\n",
    "    results.write(\"Learning Rate = {} \\n\".format(learning_rate))\n",
    "    results.write(\"Training Epochs = {} \\n\".format(epochs))\n",
    "    results.write(\"Number of ensembles = {} \\n\".format(ensemble_M))\n",
    "\n",
    "    results.write(\"\\n --- NTK Method Details --- \\n\")\n",
    "    results.write(\"Condition number of Kappa = {:.2f} \\n\".format(np.linalg.cond(Kappa)))\n",
    "    results.write(\"Number of negative eigenvalues of Kappa = {} \\n\".format(eigvals[eigvals<0].size))\n",
    "    results.write(\"Number of zero eigenvalues of Kappa = {} \\n\".format(eigvals[eigvals==0].size))\n",
    "\n",
    "    results.write(\"\\n --- Uncertainty Solution Details --- \\n\")\n",
    "    results.write(\"Type of linear solver = {} \\n\".format(type_solve))\n",
    "    if type_solve=='iterative':\n",
    "        results.write(\"Time to solve all test examples = {:.2f} seconds \\n\".format(uncert_time))\n",
    "        results.write(\"Tolerance of solver = {} \\n\".format(rtol_solve))\n",
    "        results.write(\"Max iteration of solver = {} \\n\".format(maxit_solve))\n",
    "        results.write(\"Average solver iter = {} \\n\".format(solver_info_mean[0]))\n",
    "        results.write(\"Average solver resid error = {} \\n\".format(solver_info_mean[1]))\n",
    "        results.write(\"Average solver matrix resid error = {} \\n\".format(solver_info_mean[2]))\n",
    "    results.write(\"\\n Number of negative values in NTK uncertainties array: {} \\n\".format(uncertainty_array[uncertainty_array<0].size))\n",
    "    results.write(\"Number of zero values in NTK uncertainties array: {} \\n\".format(uncertainty_array[uncertainty_array==0].size))\n"
   ]
  },
  {
   "cell_type": "code",
   "execution_count": 8,
   "metadata": {},
   "outputs": [],
   "source": [
    "test_dataloader = DataLoader(test_dataset,len(test_dataset))\n",
    "X_test,y_test = next(iter(test_dataloader))\n",
    "x_hat = ntk_network(X_test)"
   ]
  },
  {
   "cell_type": "code",
   "execution_count": 9,
   "metadata": {},
   "outputs": [
    {
     "name": "stdout",
     "output_type": "stream",
     "text": [
      "Sizes are torch.Size([77, 1]),torch.Size([77, 1]),torch.Size([77, 1])\n",
      "tensor(0.5901, grad_fn=<MseLossBackward0>)\n",
      "tensor(253.3689)\n",
      "tensor(14.3192, grad_fn=<LinalgVectorNormBackward0>)\n"
     ]
    }
   ],
   "source": [
    "mu_t = torch.from_numpy(mu).reshape(-1,1)\n",
    "x_hat = x_hat\n",
    "y_test = y_test.reshape(-1,1)\n",
    "print(\"Sizes are {},{},{}\".format(mu_t.shape,x_hat.shape,y_test.shape))\n",
    "mse_loss = nn.MSELoss(reduction='mean')\n",
    "print(mse_loss(x_hat*train_sy+train_my,y_test))\n",
    "print(mse_loss(mu_t*train_sy+train_my,y_test))\n",
    "print(torch.norm(mu_t-x_hat))\n",
    "# print(mu_t*train_sy+train_my)\n",
    "# print(x_hat*train_sy+train_my)\n"
   ]
  },
  {
   "cell_type": "markdown",
   "metadata": {},
   "source": [
    "# Classification"
   ]
  },
  {
   "cell_type": "code",
   "execution_count": 1,
   "metadata": {},
   "outputs": [
    {
     "name": "stdout",
     "output_type": "stream",
     "text": [
      "Number of parameters p = 1301\n"
     ]
    },
    {
     "name": "stderr",
     "output_type": "stream",
     "text": [
      "100%|██████████| 50/50 [00:09<00:00,  5.03it/s]"
     ]
    },
    {
     "name": "stdout",
     "output_type": "stream",
     "text": [
      "Done!\n",
      "Final cnn training cross-entropy = 0.061\n",
      "Final cnn test cross-entropy = 0.26\n",
      "Final cnn test accuracy = 91.0%\n"
     ]
    },
    {
     "name": "stderr",
     "output_type": "stream",
     "text": [
      "\n"
     ]
    }
   ],
   "source": [
    "import torch\n",
    "from torchvision.transforms import ToTensor\n",
    "from torchvision import datasets\n",
    "from tqdm import tqdm\n",
    "import definitions as df\n",
    "from importlib import reload\n",
    "import definitions as df\n",
    "import torch\n",
    "from tqdm import tqdm\n",
    "import importlib\n",
    "import numpy as np\n",
    "from torch import nn\n",
    "from torch.utils.data import DataLoader\n",
    "import solvers\n",
    "importlib.reload(solvers)\n",
    "\n",
    "torch.set_default_dtype(torch.float64)\n",
    "\n",
    "reload(df)\n",
    "\n",
    "N_TRAIN = 1000\n",
    "N_TEST = 100\n",
    "N_OUTPUT = 10\n",
    "learning_rate = 1e-1\n",
    "batch_size = 50\n",
    "epochs = 50\n",
    "\n",
    "training_data = datasets.MNIST(\n",
    "    root=\"data/MNIST\",\n",
    "    train=True,\n",
    "    download=True,\n",
    "    transform=ToTensor()\n",
    ")\n",
    "\n",
    "test_data = datasets.MNIST(\n",
    "    root=\"data/MNIST\",\n",
    "    train=False,\n",
    "    download=True,\n",
    "    transform=ToTensor()\n",
    ")\n",
    "\n",
    "training_data = torch.utils.data.Subset(training_data,range(N_TRAIN))\n",
    "test_data = torch.utils.data.Subset(test_data,range(N_TEST))\n",
    " \n",
    "cnn = df.CNN()\n",
    "print(\"Number of parameters p = {}\".format(sum(p.numel() for p in cnn.parameters() if p.requires_grad)))\n",
    "\n",
    "train_dataloader = DataLoader(training_data, batch_size)\n",
    "test_dataloader = DataLoader(test_data, N_TEST)\n",
    "\n",
    "loss_fn = nn.CrossEntropyLoss()\n",
    "optimizer = torch.optim.SGD(cnn.parameters(), lr=learning_rate)\n",
    "\n",
    "for t in tqdm(range(epochs)):\n",
    "    cnn_train_ce = df.train_loop(train_dataloader, cnn, loss_fn, optimizer)\n",
    "    cnn_test_ce, cnn_test_acc = df.test_loop(test_dataloader, cnn, loss_fn)\n",
    "print(\"Done!\")\n",
    "print(\"Final cnn training cross-entropy = {:.3f}\".format(cnn_train_ce))\n",
    "print(\"Final cnn test cross-entropy = {:.2f}\".format(cnn_test_ce))\n",
    "print(\"Final cnn test accuracy = {:.1f}%\".format(100*cnn_test_acc))"
   ]
  },
  {
   "cell_type": "code",
   "execution_count": 2,
   "metadata": {},
   "outputs": [
    {
     "name": "stderr",
     "output_type": "stream",
     "text": [
      "C:\\Users\\s4531973\\AppData\\Local\\Packages\\PythonSoftwareFoundation.Python.3.11_qbz5n2kfra8p0\\LocalCache\\local-packages\\Python311\\site-packages\\torch\\_functorch\\deprecated.py:97: UserWarning: We've integrated functorch into PyTorch. As the final step of the integration, functorch.make_functional is deprecated as of PyTorch 2.0 and will be deleted in a future version of PyTorch >= 2.3. Please use torch.func.functional_call instead; see the PyTorch 2.0 release notes and/or the torch.func migration guide for more details https://pytorch.org/docs/master/func.migrating.html\n",
      "  warn_deprecated('make_functional', 'torch.func.functional_call')\n",
      "C:\\Users\\s4531973\\AppData\\Local\\Packages\\PythonSoftwareFoundation.Python.3.11_qbz5n2kfra8p0\\LocalCache\\local-packages\\Python311\\site-packages\\torch\\_functorch\\deprecated.py:80: UserWarning: We've integrated functorch into PyTorch. As the final step of the integration, functorch.jacrev is deprecated as of PyTorch 2.0 and will be deleted in a future version of PyTorch >= 2.3. Please use torch.func.jacrev instead; see the PyTorch 2.0 release notes and/or the torch.func migration guide for more details https://pytorch.org/docs/master/func.migrating.html\n",
      "  warn_deprecated('jacrev')\n",
      "C:\\Users\\s4531973\\AppData\\Local\\Packages\\PythonSoftwareFoundation.Python.3.11_qbz5n2kfra8p0\\LocalCache\\local-packages\\Python311\\site-packages\\torch\\_functorch\\deprecated.py:58: UserWarning: We've integrated functorch into PyTorch. As the final step of the integration, functorch.vmap is deprecated as of PyTorch 2.0 and will be deleted in a future version of PyTorch >= 2.3. Please use torch.vmap instead; see the PyTorch 2.0 release notes and/or the torch.func migration guide for more details https://pytorch.org/docs/master/func.migrating.html\n",
      "  warn_deprecated('vmap', 'torch.vmap')\n"
     ]
    },
    {
     "name": "stdout",
     "output_type": "stream",
     "text": [
      "Test shape is torch.Size([100, 1, 28, 28])\n",
      "torch.Size([1000, 200])\n",
      "torch.Size([1000, 10, 200])\n",
      "torch.Size([100, 200])\n",
      "torch.Size([100, 10, 200])\n",
      "torch.Size([1000, 1000, 10, 10])\n",
      "torch.Size([1000, 1000])\n"
     ]
    }
   ],
   "source": [
    "from functorch import make_functional\n",
    "\n",
    "fnet, params = make_functional(cnn)     \n",
    "\n",
    "def fnet_single(params, x):\n",
    "    return fnet(params, x.unsqueeze(0)).squeeze(0) \n",
    "\n",
    "dataset1_ntk = DataLoader(training_data,len(training_data))\n",
    "x1_ntk,_ = next(iter(dataset1_ntk))\n",
    "dataset2_ntk = DataLoader(training_data,len(training_data))\n",
    "x2_ntk,_ = next(iter(dataset2_ntk))\n",
    "test_dataloader = DataLoader(test_data,len(test_data))\n",
    "x1_test,_ = next(iter(test_dataloader))\n",
    "\n",
    "print(\"Test shape is {}\".format(x1_test.shape))\n",
    "\n",
    "Kappa_c = df.empirical_ntk_jacobian_contraction_c(fnet_single, params, x1_ntk, x2_ntk,c=1)\n",
    "Kappa = df.empirical_ntk_jacobian_contraction(fnet_single, params, x1_ntk, x2_ntk)\n",
    "# kappa_xx = df.empirical_ntk_jacobian_contraction_c(fnet_single=fnet_single,params=params,x1=x1_test,x2=x1_test,c=0)\n",
    "kappa_xX_c = df.empirical_ntk_jacobian_contraction_c(fnet_single=fnet_single,params=params,x1=x1_test,x2=x2_ntk,c=0)\n",
    "kappa_xX = df.empirical_ntk_jacobian_contraction(fnet_single=fnet_single,params=params,x1=x1_test,x2=x2_ntk)\n",
    "print(Kappa.shape)\n",
    "print(Kappa_c.shape)\n",
    "# print(kappa_xx.shape)\n",
    "# print(kappa_xX.shape)"
   ]
  },
  {
   "cell_type": "code",
   "execution_count": 16,
   "metadata": {},
   "outputs": [
    {
     "name": "stdout",
     "output_type": "stream",
     "text": [
      "tensor(6.7744e-12, grad_fn=<LinalgVectorNormBackward0>)\n"
     ]
    }
   ],
   "source": [
    "print(torch.norm(kappa_xX[:,:,0,0]-kappa_xX_c))"
   ]
  },
  {
   "cell_type": "code",
   "execution_count": 2,
   "metadata": {},
   "outputs": [
    {
     "name": "stdout",
     "output_type": "stream",
     "text": [
      "Test shape is torch.Size([100, 1, 28, 28])\n"
     ]
    },
    {
     "name": "stderr",
     "output_type": "stream",
     "text": [
      "C:\\Users\\s4531973\\AppData\\Local\\Packages\\PythonSoftwareFoundation.Python.3.11_qbz5n2kfra8p0\\LocalCache\\local-packages\\Python311\\site-packages\\torch\\_functorch\\deprecated.py:97: UserWarning: We've integrated functorch into PyTorch. As the final step of the integration, functorch.make_functional is deprecated as of PyTorch 2.0 and will be deleted in a future version of PyTorch >= 2.3. Please use torch.func.functional_call instead; see the PyTorch 2.0 release notes and/or the torch.func migration guide for more details https://pytorch.org/docs/master/func.migrating.html\n",
      "  warn_deprecated('make_functional', 'torch.func.functional_call')\n",
      "C:\\Users\\s4531973\\AppData\\Local\\Packages\\PythonSoftwareFoundation.Python.3.11_qbz5n2kfra8p0\\LocalCache\\local-packages\\Python311\\site-packages\\torch\\_functorch\\deprecated.py:80: UserWarning: We've integrated functorch into PyTorch. As the final step of the integration, functorch.jacrev is deprecated as of PyTorch 2.0 and will be deleted in a future version of PyTorch >= 2.3. Please use torch.func.jacrev instead; see the PyTorch 2.0 release notes and/or the torch.func migration guide for more details https://pytorch.org/docs/master/func.migrating.html\n",
      "  warn_deprecated('jacrev')\n",
      "C:\\Users\\s4531973\\AppData\\Local\\Packages\\PythonSoftwareFoundation.Python.3.11_qbz5n2kfra8p0\\LocalCache\\local-packages\\Python311\\site-packages\\torch\\_functorch\\deprecated.py:58: UserWarning: We've integrated functorch into PyTorch. As the final step of the integration, functorch.vmap is deprecated as of PyTorch 2.0 and will be deleted in a future version of PyTorch >= 2.3. Please use torch.vmap instead; see the PyTorch 2.0 release notes and/or the torch.func migration guide for more details https://pytorch.org/docs/master/func.migrating.html\n",
      "  warn_deprecated('vmap', 'torch.vmap')\n"
     ]
    },
    {
     "name": "stdout",
     "output_type": "stream",
     "text": [
      "torch.Size([1000, 10, 200])\n",
      "torch.Size([1000, 1, 28, 28])\n",
      "Inside loop shape is torch.Size([1, 28, 28])\n",
      "torch.Size([1, 200])\n",
      "torch.Size([1, 200])\n",
      "Before solver kappa torch.Size([1000, 1000])\n",
      "Before solver kappa_xX torch.Size([1000, 1])\n",
      "Avec: \n",
      "\n",
      "A is size torch.Size([1000, 1000])\n",
      "x is size torch.Size([1000])\n",
      "Avec: \n",
      "\n",
      "A is size torch.Size([1000, 1000])\n",
      "x is size torch.Size([1000])\n"
     ]
    },
    {
     "ename": "RuntimeError",
     "evalue": "vmap: It looks like you're attempting to use a Tensor in some data-dependent control flow. We don't support that yet, please shout over at https://github.com/pytorch/functorch/issues/257 .",
     "output_type": "error",
     "traceback": [
      "\u001b[1;31m---------------------------------------------------------------------------\u001b[0m",
      "\u001b[1;31mRuntimeError\u001b[0m                              Traceback (most recent call last)",
      "Cell \u001b[1;32mIn[2], line 4\u001b[0m\n\u001b[0;32m      1\u001b[0m rtol_solve \u001b[38;5;241m=\u001b[39m \u001b[38;5;241m1e-5\u001b[39m\n\u001b[0;32m      2\u001b[0m maxit_solve \u001b[38;5;241m=\u001b[39m \u001b[38;5;241m50\u001b[39m\n\u001b[1;32m----> 4\u001b[0m uncertainty_array \u001b[38;5;241m=\u001b[39m \u001b[43mdf\u001b[49m\u001b[38;5;241;43m.\u001b[39;49m\u001b[43mntk_uncertainty_explicit_class\u001b[49m\u001b[43m(\u001b[49m\n\u001b[0;32m      5\u001b[0m \u001b[43m    \u001b[49m\u001b[43mtrain_dataset\u001b[49m\u001b[38;5;241;43m=\u001b[39;49m\u001b[43mtraining_data\u001b[49m\u001b[43m,\u001b[49m\n\u001b[0;32m      6\u001b[0m \u001b[43m    \u001b[49m\u001b[43mtest_dataset\u001b[49m\u001b[38;5;241;43m=\u001b[39;49m\u001b[43mtest_data\u001b[49m\u001b[43m,\u001b[49m\n\u001b[0;32m      7\u001b[0m \u001b[43m    \u001b[49m\u001b[43mmodel\u001b[49m\u001b[38;5;241;43m=\u001b[39;49m\u001b[43mcnn\u001b[49m\u001b[43m,\u001b[49m\n\u001b[0;32m      8\u001b[0m \u001b[43m    \u001b[49m\u001b[43mnum_classes\u001b[49m\u001b[38;5;241;43m=\u001b[39;49m\u001b[38;5;241;43m10\u001b[39;49m\u001b[43m,\u001b[49m\n\u001b[0;32m      9\u001b[0m \u001b[43m    \u001b[49m\u001b[38;5;28;43mtype\u001b[39;49m\u001b[38;5;241;43m=\u001b[39;49m\u001b[38;5;124;43m'\u001b[39;49m\u001b[38;5;124;43miterative\u001b[39;49m\u001b[38;5;124;43m'\u001b[39;49m\u001b[43m,\u001b[49m\n\u001b[0;32m     10\u001b[0m \u001b[43m    \u001b[49m\u001b[43mrtol\u001b[49m\u001b[38;5;241;43m=\u001b[39;49m\u001b[43mrtol_solve\u001b[49m\u001b[43m,\u001b[49m\n\u001b[0;32m     11\u001b[0m \u001b[43m    \u001b[49m\u001b[43mmaxit\u001b[49m\u001b[38;5;241;43m=\u001b[39;49m\u001b[43mmaxit_solve\u001b[49m\u001b[43m)\u001b[49m\n",
      "File \u001b[1;32mc:\\Users\\s4531973\\Documents\\PhD\\Code\\Uncertainty Quantification\\definitions.py:686\u001b[0m, in \u001b[0;36mntk_uncertainty_explicit_class\u001b[1;34m(train_dataset, test_dataset, model, num_classes, type, rtol, maxit)\u001b[0m\n\u001b[0;32m    683\u001b[0m \u001b[38;5;28mprint\u001b[39m(X_train\u001b[38;5;241m.\u001b[39mshape)\n\u001b[0;32m    685\u001b[0m \u001b[38;5;28;01mfor\u001b[39;00m c \u001b[38;5;129;01min\u001b[39;00m \u001b[38;5;28mrange\u001b[39m(num_classes):\n\u001b[1;32m--> 686\u001b[0m     uncertainty_array \u001b[38;5;241m=\u001b[39m \u001b[43mvmap\u001b[49m\u001b[43m(\u001b[49m\u001b[43muncertainty_class\u001b[49m\u001b[43m,\u001b[49m\u001b[43m(\u001b[49m\u001b[38;5;241;43m0\u001b[39;49m\u001b[43m,\u001b[49m\u001b[38;5;28;43;01mNone\u001b[39;49;00m\u001b[43m)\u001b[49m\u001b[43m)\u001b[49m\u001b[43m(\u001b[49m\u001b[43mX_test\u001b[49m\u001b[43m,\u001b[49m\u001b[43mc\u001b[49m\u001b[43m)\u001b[49m\n\u001b[0;32m    687\u001b[0m     \u001b[38;5;28;01mbreak\u001b[39;00m\n\u001b[0;32m    688\u001b[0m \u001b[38;5;66;03m# with tqdm(total=int(len(test_dataset)*num_classes)) as pbar:\u001b[39;00m\n\u001b[0;32m    689\u001b[0m \u001b[38;5;66;03m#     for i,(x_test,_) in enumerate(test_dataloader):\u001b[39;00m\n\u001b[0;32m    690\u001b[0m \u001b[38;5;66;03m#         for c in range(num_classes):\u001b[39;00m\n\u001b[1;32m   (...)\u001b[0m\n\u001b[0;32m    753\u001b[0m \u001b[38;5;66;03m#             uncertainty_array[c,i] = uncertainty_estimate\u001b[39;00m\n\u001b[0;32m    754\u001b[0m \u001b[38;5;66;03m#         pbar.update(1)\u001b[39;00m\n",
      "File \u001b[1;32m~\\AppData\\Local\\Packages\\PythonSoftwareFoundation.Python.3.11_qbz5n2kfra8p0\\LocalCache\\local-packages\\Python311\\site-packages\\torch\\_functorch\\vmap.py:434\u001b[0m, in \u001b[0;36mvmap.<locals>.wrapped\u001b[1;34m(*args, **kwargs)\u001b[0m\n\u001b[0;32m    430\u001b[0m     \u001b[38;5;28;01mreturn\u001b[39;00m _chunked_vmap(func, flat_in_dims, chunks_flat_args,\n\u001b[0;32m    431\u001b[0m                          args_spec, out_dims, randomness, \u001b[38;5;241m*\u001b[39m\u001b[38;5;241m*\u001b[39mkwargs)\n\u001b[0;32m    433\u001b[0m \u001b[38;5;66;03m# If chunk_size is not specified.\u001b[39;00m\n\u001b[1;32m--> 434\u001b[0m \u001b[38;5;28;01mreturn\u001b[39;00m \u001b[43m_flat_vmap\u001b[49m\u001b[43m(\u001b[49m\n\u001b[0;32m    435\u001b[0m \u001b[43m    \u001b[49m\u001b[43mfunc\u001b[49m\u001b[43m,\u001b[49m\u001b[43m \u001b[49m\u001b[43mbatch_size\u001b[49m\u001b[43m,\u001b[49m\u001b[43m \u001b[49m\u001b[43mflat_in_dims\u001b[49m\u001b[43m,\u001b[49m\u001b[43m \u001b[49m\u001b[43mflat_args\u001b[49m\u001b[43m,\u001b[49m\u001b[43m \u001b[49m\u001b[43margs_spec\u001b[49m\u001b[43m,\u001b[49m\u001b[43m \u001b[49m\u001b[43mout_dims\u001b[49m\u001b[43m,\u001b[49m\u001b[43m \u001b[49m\u001b[43mrandomness\u001b[49m\u001b[43m,\u001b[49m\u001b[43m \u001b[49m\u001b[38;5;241;43m*\u001b[39;49m\u001b[38;5;241;43m*\u001b[39;49m\u001b[43mkwargs\u001b[49m\n\u001b[0;32m    436\u001b[0m \u001b[43m\u001b[49m\u001b[43m)\u001b[49m\n",
      "File \u001b[1;32m~\\AppData\\Local\\Packages\\PythonSoftwareFoundation.Python.3.11_qbz5n2kfra8p0\\LocalCache\\local-packages\\Python311\\site-packages\\torch\\_functorch\\vmap.py:39\u001b[0m, in \u001b[0;36mdoesnt_support_saved_tensors_hooks.<locals>.fn\u001b[1;34m(*args, **kwargs)\u001b[0m\n\u001b[0;32m     36\u001b[0m \u001b[38;5;129m@functools\u001b[39m\u001b[38;5;241m.\u001b[39mwraps(f)\n\u001b[0;32m     37\u001b[0m \u001b[38;5;28;01mdef\u001b[39;00m \u001b[38;5;21mfn\u001b[39m(\u001b[38;5;241m*\u001b[39margs, \u001b[38;5;241m*\u001b[39m\u001b[38;5;241m*\u001b[39mkwargs):\n\u001b[0;32m     38\u001b[0m     \u001b[38;5;28;01mwith\u001b[39;00m torch\u001b[38;5;241m.\u001b[39mautograd\u001b[38;5;241m.\u001b[39mgraph\u001b[38;5;241m.\u001b[39mdisable_saved_tensors_hooks(message):\n\u001b[1;32m---> 39\u001b[0m         \u001b[38;5;28;01mreturn\u001b[39;00m \u001b[43mf\u001b[49m\u001b[43m(\u001b[49m\u001b[38;5;241;43m*\u001b[39;49m\u001b[43margs\u001b[49m\u001b[43m,\u001b[49m\u001b[43m \u001b[49m\u001b[38;5;241;43m*\u001b[39;49m\u001b[38;5;241;43m*\u001b[39;49m\u001b[43mkwargs\u001b[49m\u001b[43m)\u001b[49m\n",
      "File \u001b[1;32m~\\AppData\\Local\\Packages\\PythonSoftwareFoundation.Python.3.11_qbz5n2kfra8p0\\LocalCache\\local-packages\\Python311\\site-packages\\torch\\_functorch\\vmap.py:619\u001b[0m, in \u001b[0;36m_flat_vmap\u001b[1;34m(func, batch_size, flat_in_dims, flat_args, args_spec, out_dims, randomness, **kwargs)\u001b[0m\n\u001b[0;32m    617\u001b[0m \u001b[38;5;28;01mtry\u001b[39;00m:\n\u001b[0;32m    618\u001b[0m     batched_inputs \u001b[38;5;241m=\u001b[39m _create_batched_inputs(flat_in_dims, flat_args, vmap_level, args_spec)\n\u001b[1;32m--> 619\u001b[0m     batched_outputs \u001b[38;5;241m=\u001b[39m \u001b[43mfunc\u001b[49m\u001b[43m(\u001b[49m\u001b[38;5;241;43m*\u001b[39;49m\u001b[43mbatched_inputs\u001b[49m\u001b[43m,\u001b[49m\u001b[43m \u001b[49m\u001b[38;5;241;43m*\u001b[39;49m\u001b[38;5;241;43m*\u001b[39;49m\u001b[43mkwargs\u001b[49m\u001b[43m)\u001b[49m\n\u001b[0;32m    620\u001b[0m     \u001b[38;5;28;01mreturn\u001b[39;00m _unwrap_batched(batched_outputs, out_dims, vmap_level, batch_size, func)\n\u001b[0;32m    621\u001b[0m \u001b[38;5;28;01mfinally\u001b[39;00m:\n",
      "File \u001b[1;32mc:\\Users\\s4531973\\Documents\\PhD\\Code\\Uncertainty Quantification\\definitions.py:679\u001b[0m, in \u001b[0;36mntk_uncertainty_explicit_class.<locals>.uncertainty_class\u001b[1;34m(test_x, c)\u001b[0m\n\u001b[0;32m    678\u001b[0m \u001b[38;5;28;01mdef\u001b[39;00m \u001b[38;5;21muncertainty_class\u001b[39m(test_x,c):\n\u001b[1;32m--> 679\u001b[0m     \u001b[38;5;28;01mreturn\u001b[39;00m \u001b[43mntk_uncertainty_single_class\u001b[49m\u001b[43m(\u001b[49m\u001b[43mKappa\u001b[49m\u001b[43m,\u001b[49m\u001b[43mX_train\u001b[49m\u001b[43m,\u001b[49m\u001b[43mtest_x\u001b[49m\u001b[43m,\u001b[49m\u001b[43mmodel\u001b[49m\u001b[43m,\u001b[49m\u001b[43mc\u001b[49m\u001b[43m,\u001b[49m\u001b[43mrtol\u001b[49m\u001b[43m,\u001b[49m\u001b[43mmaxit\u001b[49m\u001b[43m)\u001b[49m\n",
      "File \u001b[1;32mc:\\Users\\s4531973\\Documents\\PhD\\Code\\Uncertainty Quantification\\definitions.py:648\u001b[0m, in \u001b[0;36mntk_uncertainty_single_class\u001b[1;34m(Kappa, train_dataset, test_x, model, c, rtol, maxit)\u001b[0m\n\u001b[0;32m    645\u001b[0m \u001b[38;5;28mprint\u001b[39m(\u001b[38;5;124m\"\u001b[39m\u001b[38;5;124mBefore solver kappa \u001b[39m\u001b[38;5;132;01m{}\u001b[39;00m\u001b[38;5;124m\"\u001b[39m\u001b[38;5;241m.\u001b[39mformat(Kappa[:,:,c,c]\u001b[38;5;241m.\u001b[39mshape))\n\u001b[0;32m    646\u001b[0m \u001b[38;5;28mprint\u001b[39m(\u001b[38;5;124m\"\u001b[39m\u001b[38;5;124mBefore solver kappa_xX \u001b[39m\u001b[38;5;132;01m{}\u001b[39;00m\u001b[38;5;124m\"\u001b[39m\u001b[38;5;241m.\u001b[39mformat(kappa_xX\u001b[38;5;241m.\u001b[39mtranspose(\u001b[38;5;241m0\u001b[39m,\u001b[38;5;241m1\u001b[39m)\u001b[38;5;241m.\u001b[39mshape))\n\u001b[1;32m--> 648\u001b[0m x_solve, _, resid, _, _ \u001b[38;5;241m=\u001b[39m \u001b[43msolvers\u001b[49m\u001b[38;5;241;43m.\u001b[39;49m\u001b[43mCR_torch\u001b[49m\u001b[43m(\u001b[49m\n\u001b[0;32m    649\u001b[0m \u001b[43m                    \u001b[49m\u001b[43mKappa\u001b[49m\u001b[43m[\u001b[49m\u001b[43m:\u001b[49m\u001b[43m,\u001b[49m\u001b[43m:\u001b[49m\u001b[43m,\u001b[49m\u001b[43mc\u001b[49m\u001b[43m,\u001b[49m\u001b[43mc\u001b[49m\u001b[43m]\u001b[49m\u001b[43m,\u001b[49m\n\u001b[0;32m    650\u001b[0m \u001b[43m                    \u001b[49m\u001b[43mkappa_xX\u001b[49m\u001b[38;5;241;43m.\u001b[39;49m\u001b[43mtranspose\u001b[49m\u001b[43m(\u001b[49m\u001b[38;5;241;43m0\u001b[39;49m\u001b[43m,\u001b[49m\u001b[38;5;241;43m1\u001b[39;49m\u001b[43m)\u001b[49m\u001b[38;5;241;43m.\u001b[39;49m\u001b[43msqueeze\u001b[49m\u001b[43m(\u001b[49m\u001b[38;5;241;43m1\u001b[39;49m\u001b[43m)\u001b[49m\u001b[43m,\u001b[49m\n\u001b[0;32m    651\u001b[0m \u001b[43m                    \u001b[49m\u001b[43mrtol\u001b[49m\u001b[38;5;241;43m=\u001b[39;49m\u001b[43mrtol\u001b[49m\u001b[43m,\u001b[49m\n\u001b[0;32m    652\u001b[0m \u001b[43m                    \u001b[49m\u001b[43minit\u001b[49m\u001b[38;5;241;43m=\u001b[39;49m\u001b[38;5;28;43;01mFalse\u001b[39;49;00m\u001b[43m,\u001b[49m\u001b[43m \u001b[49m\n\u001b[0;32m    653\u001b[0m \u001b[43m                    \u001b[49m\u001b[43mmaxit\u001b[49m\u001b[38;5;241;43m=\u001b[39;49m\u001b[43mmaxit\u001b[49m\u001b[43m,\u001b[49m\u001b[43m \u001b[49m\n\u001b[0;32m    654\u001b[0m \u001b[43m                    \u001b[49m\u001b[43mVERBOSE\u001b[49m\u001b[38;5;241;43m=\u001b[39;49m\u001b[38;5;28;43;01mFalse\u001b[39;49;00m\n\u001b[0;32m    655\u001b[0m \u001b[43m                    \u001b[49m\u001b[43m)\u001b[49m\n\u001b[0;32m    657\u001b[0m x_solve \u001b[38;5;241m=\u001b[39m lifted_solution(x_solve,resid)\n\u001b[0;32m    658\u001b[0m sigma2 \u001b[38;5;241m=\u001b[39m kappa_xx \u001b[38;5;241m-\u001b[39m kappa_xX \u001b[38;5;241m@\u001b[39m x_solve\n",
      "File \u001b[1;32mc:\\Users\\s4531973\\Documents\\PhD\\Code\\Uncertainty Quantification\\solvers.py:238\u001b[0m, in \u001b[0;36mCR_torch\u001b[1;34m(A, b, rtol, init, x0, maxit, reO, VERBOSE)\u001b[0m\n\u001b[0;32m    235\u001b[0m i, beta \u001b[38;5;241m=\u001b[39m \u001b[38;5;241m0\u001b[39m, \u001b[38;5;241m0\u001b[39m\n\u001b[0;32m    237\u001b[0m norm_Ar0 \u001b[38;5;241m=\u001b[39m torch\u001b[38;5;241m.\u001b[39mnorm(Ap)\n\u001b[1;32m--> 238\u001b[0m \u001b[38;5;28;01mwhile\u001b[39;00m i \u001b[38;5;241m<\u001b[39m maxit \u001b[38;5;129;01mand\u001b[39;00m torch\u001b[38;5;241m.\u001b[39mnorm(Ar) \u001b[38;5;241m/\u001b[39m norm_Ar0 \u001b[38;5;241m>\u001b[39m rtol:\n\u001b[0;32m    239\u001b[0m     i \u001b[38;5;241m+\u001b[39m\u001b[38;5;241m=\u001b[39m \u001b[38;5;241m1\u001b[39m\n\u001b[0;32m    240\u001b[0m     \u001b[38;5;66;03m# pAAp = torch.dot(Ap, Ap)\u001b[39;00m\n",
      "\u001b[1;31mRuntimeError\u001b[0m: vmap: It looks like you're attempting to use a Tensor in some data-dependent control flow. We don't support that yet, please shout over at https://github.com/pytorch/functorch/issues/257 ."
     ]
    }
   ],
   "source": [
    "rtol_solve = 1e-5\n",
    "maxit_solve = 50\n",
    "\n",
    "uncertainty_array = df.ntk_uncertainty_explicit_class(\n",
    "    train_dataset=training_data,\n",
    "    test_dataset=test_data,\n",
    "    model=cnn,\n",
    "    num_classes=10,\n",
    "    type='iterative',\n",
    "    rtol=rtol_solve,\n",
    "    maxit=maxit_solve)"
   ]
  },
  {
   "cell_type": "code",
   "execution_count": 7,
   "metadata": {},
   "outputs": [
    {
     "name": "stdout",
     "output_type": "stream",
     "text": [
      "0\n",
      "(10, 100)\n",
      "[ -1.29797173  -2.0192248    1.98270572  12.37689231 -25.45165776\n",
      "   2.89523522 -12.61246286  30.58541631 -14.81237169   4.0202169 ]\n",
      "[-0.42455123 -0.56756162  0.64135255  2.96993679 -5.61178514  0.71591559\n",
      " -3.32863859  7.45800365 -4.00547061  1.22470416]\n",
      "[12.16268319 21.26727831  8.97616181 15.48579645  9.68578379 15.61366513\n",
      " 18.9217423  17.96580616 15.08501339  9.81594651]\n"
     ]
    }
   ],
   "source": [
    "test_dataloader = DataLoader(test_data,len(test_data))\n",
    "X_test,_ = next(iter(test_dataloader))\n",
    "mean = cnn(X_test).detach().numpy().transpose()\n",
    "n = uncertainty_array[uncertainty_array<0].size\n",
    "print(n)\n",
    "print(mean.shape)\n",
    "probit_approx = df.general_probit_approx(mean,uncertainty_array)\n",
    "print(mean[:,0])\n",
    "print(probit_approx[:,0])\n",
    "print(uncertainty_array[:,2])"
   ]
  },
  {
   "cell_type": "code",
   "execution_count": 18,
   "metadata": {},
   "outputs": [
    {
     "name": "stdout",
     "output_type": "stream",
     "text": [
      "torch.Size([1000, 1, 28, 28])\n",
      "torch.Size([1000])\n"
     ]
    }
   ],
   "source": [
    "dataset = DataLoader(training_data,len(training_data))\n",
    "x,y = next(iter(dataset))\n",
    "print(x.shape)\n",
    "print(y.shape)"
   ]
  },
  {
   "cell_type": "code",
   "execution_count": null,
   "metadata": {},
   "outputs": [],
   "source": [
    "ood_data = datasets.FashionMNIST(\n",
    "    root = \"data\",\n",
    "    train=False,\n",
    "    download=True,\n",
    "    transform=ToTensor()\n",
    ")\n",
    "ood_test_point = ood_data.__getitem__(1)\n",
    "ood_uncertainty_array=ntk_uncertainty_classification_single(training_data,ood_test_point[0],model=cnn,optimizer=optimizer,num_c=10,mode='max')\n",
    "test_point = test_data.__getitem__(1)[0]\n",
    "uncertainty_array=ntk_uncertainty_classification_single(training_data,test_point,model=cnn,optimizer=optimizer,num_c=10,mode='max')\n",
    "print(uncertainty_array)\n",
    "print(ood_uncertainty_array)\n",
    "print(torch.argmax(cnn(ood_test_point[0])).item())\n",
    "print(ood_test_point[1])"
   ]
  },
  {
   "cell_type": "code",
   "execution_count": 4,
   "metadata": {},
   "outputs": [
    {
     "name": "stdout",
     "output_type": "stream",
     "text": [
      "torch.Size([4, 4])\n"
     ]
    }
   ],
   "source": [
    "x = torch.ones((4,4,4,4))\n",
    "print(x[:,:,1,1].shape)"
   ]
  }
 ],
 "metadata": {
  "kernelspec": {
   "display_name": "Python 3",
   "language": "python",
   "name": "python3"
  },
  "language_info": {
   "codemirror_mode": {
    "name": "ipython",
    "version": 3
   },
   "file_extension": ".py",
   "mimetype": "text/x-python",
   "name": "python",
   "nbconvert_exporter": "python",
   "pygments_lexer": "ipython3",
   "version": "3.11.8"
  }
 },
 "nbformat": 4,
 "nbformat_minor": 2
}
