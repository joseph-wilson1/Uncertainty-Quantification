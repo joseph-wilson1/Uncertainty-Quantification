{
 "cells": [
  {
   "cell_type": "markdown",
   "metadata": {},
   "source": [
    "# Regression"
   ]
  },
  {
   "cell_type": "code",
   "execution_count": 39,
   "metadata": {},
   "outputs": [
    {
     "name": "stdout",
     "output_type": "stream",
     "text": [
      "--- Loading dataset concrete --- \n",
      "\n",
      "Number of data points = 1030\n",
      "Number of coloumns = 9\n",
      "Number of features = 8\n",
      "training set has shape (927, 9) \n",
      "\n",
      "test set has shape (103, 9)\n",
      "\n",
      " Sample training point \n",
      " X: tensor([-0.5984, -0.2321,  1.0782, -1.9256,  0.9501,  1.3352,  0.2451,  0.1559]), \n",
      " y: 1.5599938380740697 \n",
      "\n",
      "Sample test point \n",
      " X: tensor([ 0.5547,  1.3161, -0.8466, -0.3139,  0.5469, -0.3646, -0.2156, -0.6113]), \n",
      " y: 35.101223159999996 \n"
     ]
    }
   ],
   "source": [
    "### --- Dependencies --- ###\n",
    "from importlib import reload\n",
    "import definitions as df\n",
    "import torch\n",
    "from tqdm import tqdm\n",
    "import datetime\n",
    "import importlib\n",
    "import numpy as np\n",
    "from torch import nn, optim\n",
    "from torch.utils.data import DataLoader, Dataset, Subset\n",
    "import pandas as pd\n",
    "import matplotlib.pyplot as plt\n",
    "import torch.nn.functional as F\n",
    "import time\n",
    "import datetime\n",
    "import os\n",
    "import solvers\n",
    "importlib.reload(solvers)\n",
    "\n",
    "torch.set_default_dtype(torch.float64)\n",
    "\n",
    "reload(df)\n",
    "\n",
    "\n",
    "# parser = argparse.ArgumentParser(description='PyTorch NTK Uncertainty Estimate Experiment')\n",
    "# parser.add_argument('--dataset',default='cifar',type=str,help='dataset (cifar or imagenet)')\n",
    "# args = parser.parse_args()\n",
    "\n",
    "### --- CONSTANTS --- ###\n",
    "dataset_str = 'concrete'\n",
    "TRAIN_RATIO = 0.9\n",
    "BATCH_SIZE = 100\n",
    "NORMALIZE_X = True\n",
    "NORMALIZE_Y = True\n",
    "LAYER_WIDTH = 150\n",
    "NTK_WEIGHT_INIT = True\n",
    "\n",
    "NTK_MODEL_PATH = \"./model_chkpt/ntk_network.pt\"\n",
    "ENSEMBLE_MODEL_PATH = \"./model_chkpt/ensemble_networks.pt\"\n",
    "\n",
    "ensemble_M = 5\n",
    "\n",
    "FIND_MAN_KAPPA = False\n",
    "REPORT_KAPPA = False\n",
    "FIND_FUNC_JAX_KAPPA = True\n",
    "KAPPA_COMPARISON = FIND_MAN_KAPPA and FIND_FUNC_JAX_KAPPA\n",
    "\n",
    "### --- INPUT DATA HERE AS WELL AS DATASET NAME --- ###\n",
    "if dataset_str == 'energy':\n",
    "    data = pd.read_excel('.\\data\\Energy\\ENB2012_data.xlsx')\n",
    "    num_features = 8\n",
    "elif dataset_str == 'concrete':\n",
    "    data = pd.read_excel('.\\data\\Concrete\\Concrete_Data.xls')\n",
    "    num_features = 8\n",
    "\n",
    "# print(data.shape)\n",
    "print(\"--- Loading dataset {} --- \\n\".format(dataset_str))\n",
    "print(\"Number of data points = {}\".format(len(data)))\n",
    "print(\"Number of coloumns = {}\".format(len(data.columns)))\n",
    "print(\"Number of features = {}\".format(num_features))\n",
    "\n",
    "training_set, test_set = df.data_split(data,TRAIN_RATIO)\n",
    "\n",
    "if NORMALIZE_X:\n",
    "    train_mX = training_set[:,:num_features].mean(axis=0)\n",
    "    train_sX = training_set[:,:num_features].std(axis=0)\n",
    "    train_sX[train_sX==0]=1\n",
    "else:\n",
    "    train_mX = 0\n",
    "    train_sX = 1\n",
    "\n",
    "if NORMALIZE_Y:\n",
    "    train_my = training_set[:,num_features].mean(axis=0)\n",
    "    train_sy = training_set[:,num_features].std(axis=0)\n",
    "    if train_sy==0:\n",
    "        train_sy=1\n",
    "else:\n",
    "    train_my = 0\n",
    "    train_sy = 1\n",
    "\n",
    "train_dataset = df.RegressionDataset(training_set, input_dim=num_features, mX=train_mX, sX=train_sX, my=train_my, sy=train_sy)\n",
    "test_dataset = df.RegressionDataset(test_set, input_dim=num_features, mX=train_mX, sX=train_sX)\n",
    "\n",
    "train_loader = DataLoader(train_dataset, batch_size=BATCH_SIZE, shuffle=True)\n",
    "test_loader = DataLoader(test_dataset, batch_size=len(test_set), shuffle=False)\n",
    "\n",
    "np.set_printoptions(suppress=True, precision=4)\n",
    "print(\"\\n Sample training point \\n X: {}, \\n y: {} \\n\".format(train_dataset.__getitem__(0)[0], train_dataset.__getitem__(0)[1]))\n",
    "print(\"Sample test point \\n X: {}, \\n y: {} \".format(test_dataset.__getitem__(0)[0], test_dataset.__getitem__(0)[1]))"
   ]
  },
  {
   "cell_type": "code",
   "execution_count": 45,
   "metadata": {},
   "outputs": [
    {
     "data": {
      "text/plain": [
       "<module 'definitions' from 'c:\\\\Users\\\\s4531973\\\\Documents\\\\PhD\\\\Code\\\\Uncertainty Quantification\\\\definitions.py'>"
      ]
     },
     "execution_count": 45,
     "metadata": {},
     "output_type": "execute_result"
    }
   ],
   "source": [
    "from importlib import reload\n",
    "reload(df)"
   ]
  },
  {
   "cell_type": "code",
   "execution_count": 47,
   "metadata": {},
   "outputs": [
    {
     "name": "stdout",
     "output_type": "stream",
     "text": [
      "Using cpu device\n",
      "Number of parameters in NTK network = 92101\n",
      "\n",
      " Training NTK network \n",
      "\n"
     ]
    },
    {
     "name": "stderr",
     "output_type": "stream",
     "text": [
      "  0%|          | 3/4000 [00:00<02:54, 22.93it/s]"
     ]
    },
    {
     "name": "stdout",
     "output_type": "stream",
     "text": [
      "Epoch 0 of 4000\n",
      "Training MSE = 0.887\n",
      "Test MSE = 127.46\n"
     ]
    },
    {
     "name": "stderr",
     "output_type": "stream",
     "text": [
      " 25%|██▌       | 1003/4000 [00:44<02:59, 16.65it/s]"
     ]
    },
    {
     "name": "stdout",
     "output_type": "stream",
     "text": [
      "Epoch 1000 of 4000\n",
      "Training MSE = 0.009\n",
      "Test MSE = 16.28\n"
     ]
    },
    {
     "name": "stderr",
     "output_type": "stream",
     "text": [
      " 25%|██▌       | 1017/4000 [00:45<02:14, 22.17it/s]"
     ]
    },
    {
     "name": "stdout",
     "output_type": "stream",
     "text": [
      "\n",
      " NTK Training process has finished.\n",
      "Final training MSE = 0.012\n",
      "Final test MSE = 16.42\n",
      "Final epoch = 1017\n"
     ]
    },
    {
     "name": "stderr",
     "output_type": "stream",
     "text": [
      "\n"
     ]
    }
   ],
   "source": [
    "learning_rate = 1e-2\n",
    "epochs = 4000\n",
    "train_ensemble = True\n",
    "\n",
    "## Create Model\n",
    "# Get cpu, gpu or mps device for training.\n",
    "device = (\n",
    "    \"cuda\"\n",
    "    if torch.cuda.is_available()\n",
    "    else \"mps\"\n",
    "    if torch.backends.mps.is_available()\n",
    "    else \"cpu\"\n",
    ")\n",
    "print(f\"Using {device} device\")\n",
    "\n",
    "ntk_network = df.MLP(input_d=num_features,width=LAYER_WIDTH).to(device=device, dtype=torch.float64)\n",
    "if NTK_WEIGHT_INIT:\n",
    "    ntk_network.apply(df.weights_init)\n",
    "print(\"Number of parameters in NTK network = {}\".format(sum(p.numel() for p in ntk_network.parameters() if p.requires_grad)))\n",
    "\n",
    "## Train NTK network\n",
    "mse_loss = nn.MSELoss(reduction='mean')\n",
    "ntk_optimizer = df.optimizer_shared(ntk_network, type='adam', learning_rate=learning_rate)\n",
    "early_stopper = df.EarlyStopper(patience=50,min_delta=5)\n",
    "# ntk_scheduler = optim.lr_scheduler.StepLR(ntk_optimizer,epochs/4,gamma=0.1)\n",
    "# ntk_plateau_sched = optim.lr_scheduler.ReduceLROnPlateau(ntk_optimizer,'min',factor=0.5)\n",
    "# ntk_scheduler = optim.lr_scheduler.CosineAnnealingWarmRestarts(\n",
    "#     ntk_optimizer,\n",
    "#     int(epochs/8),\n",
    "#     eta_min=1e-4\n",
    "# )\n",
    "\n",
    "# Run the training loop\n",
    "print(\"\\n Training NTK network \\n\")\n",
    "for epoch in tqdm(range(epochs)):\n",
    "    ntk_train_mse  = df.training_loop_ntk(\n",
    "        dataloader=train_loader,\n",
    "        model=ntk_network, \n",
    "        optimizer=ntk_optimizer,\n",
    "        loss_function=mse_loss,\n",
    "        verbose=False)\n",
    "    \n",
    "    ntk_test_mse, ntk_test_rel_error = df.test_loop_ntk(\n",
    "        dataloader=test_loader,\n",
    "        model = ntk_network,\n",
    "        my=train_my,\n",
    "        sy=train_sy,\n",
    "        loss_function=mse_loss)\n",
    "    \n",
    "    # ntk_plateau_sched.step(ntk_test_mse)\n",
    "    # ntk_scheduler.step()\n",
    "\n",
    "    if early_stopper.early_stop(ntk_test_mse):\n",
    "        break\n",
    "\n",
    "    if epoch % int(epochs/4) == 0:\n",
    "        print(\"Epoch {} of {}\".format(epoch,epochs))\n",
    "        print(\"Training MSE = {:.3f}\".format(ntk_train_mse))\n",
    "        print(\"Test MSE = {:.2f}\".format(ntk_test_mse))\n",
    "        # print(\"Learning rate = {}\".format(ntk_scheduler.get_last_lr()))\n",
    "    \n",
    "# Process is complete.\n",
    "print('\\n NTK Training process has finished.')\n",
    "print(\"Final training MSE = {:.3f}\".format(ntk_train_mse))\n",
    "print(\"Final test MSE = {:.2f}\".format(ntk_test_mse))\n",
    "print(\"Final epoch = {}\".format(epoch))\n",
    "\n",
    "torch.save({\n",
    "    'model': ntk_network.state_dict(),\n",
    "    'train_mse': ntk_train_mse,\n",
    "    'test_mse': ntk_test_mse,\n",
    "    'test_rel_err': ntk_test_rel_error\n",
    "    },\n",
    "    NTK_MODEL_PATH)\n",
    "\n",
    "# ## \n",
    "\n",
    "# ensemble_model_list = []\n",
    "# ensemble_model_state_list = []\n",
    "# ensemble_opt_list = []\n",
    "# ensemble_sched_list = []\n",
    "# ensemble_mse_training_list = np.empty(ensemble_M)\n",
    "# ensemble_mse_test_list = np.empty(ensemble_M)\n",
    "# ensemble_nll_list = np.empty(ensemble_M)\n",
    "# ensemble_rel_err_test_list = np.empty((ensemble_M,len(test_dataset)))\n",
    "\n",
    "# NLL = df.CustomNLL()\n",
    "# for i in range(ensemble_M):\n",
    "#     ensemble_model_list.append(df.EnsembleNetwork(input_d=num_features, width=LAYER_WIDTH).to(device=device,dtype=torch.float64))\n",
    "#     ensemble_opt_list.append(df.optimizer_shared(ensemble_model_list[i], type='adam', learning_rate=learning_rate))\n",
    "#     ensemble_sched_list.append(optim.lr_scheduler.StepLR(ensemble_opt_list[i],epochs/4,gamma=0.5))\n",
    "\n",
    "# for i in range(ensemble_M):\n",
    "#     print(f\"\\n Training ensemble {i+1} \")\n",
    "#     for epoch in tqdm(range(epochs)):\n",
    "#         ensemble_train_mse = df.training_loop_ensemble(\n",
    "#             dataloader=train_loader, \n",
    "#             model=ensemble_model_list[i], \n",
    "#             optimizer=ensemble_opt_list[i], \n",
    "#             loss_function=NLL,\n",
    "#             mse_loss= mse_loss,\n",
    "#             verbose=False)\n",
    "        \n",
    "#         ensemble_test_mse, ensemble_test_nll, ensemble_test_rel_err = df.test_loop_ensemble(\n",
    "#             dataloader=test_loader, \n",
    "#             model=ensemble_model_list[i], \n",
    "#             my=train_my, \n",
    "#             sy=train_sy, \n",
    "#             mse_loss=mse_loss,\n",
    "#             loss_function=NLL)\n",
    "        \n",
    "#         ensemble_sched_list[i].step()\n",
    "        \n",
    "#         if epoch % (epochs/4) == 0:\n",
    "#             print(\"Epoch {} of {}\".format(epoch,epochs))\n",
    "#             print(\"Training MSE = {:.3f}\".format(ensemble_train_mse))\n",
    "#             print(\"Test MSE = {:.2f}\".format(ensemble_test_mse))\n",
    "#             print(\"Learning rate = {}\".format(ensemble_sched_list[i].get_last_lr()))\n",
    "\n",
    "#     print(\"Done!\")\n",
    "#     ensemble_mse_training_list[i] = ensemble_train_mse\n",
    "#     ensemble_mse_test_list[i] = ensemble_test_mse\n",
    "#     ensemble_nll_list[i] = ensemble_test_nll\n",
    "#     ensemble_rel_err_test_list[i,:] = ensemble_test_rel_err.detach().numpy().squeeze(1)\n",
    "# print('\\n Ensemble training process has finished.')\n",
    "\n",
    "# ## Print training metrics\n",
    "# print(\"Final ntk training MSE = {:.4f}\".format(ntk_train_mse))\n",
    "# print(\"Final ntk test MSE = {:.2f}\".format(ntk_test_mse))\n",
    "# print(\"Final ensemble training MSE = {}\".format(ensemble_mse_training_list))\n",
    "# print(\"Final ensemble test MSE = {}\".format(ensemble_mse_test_list))\n",
    "\n",
    "# for i in range(ensemble_M):\n",
    "#     ensemble_model_state_list.append(ensemble_model_list[i].state_dict())\n",
    "\n",
    "# torch.save({\n",
    "#     'models': ensemble_model_state_list,\n",
    "#     'train_mse': ensemble_mse_training_list,\n",
    "#     'test_mse': ensemble_mse_test_list,\n",
    "#     'test_nll': ensemble_nll_list,\n",
    "#     'test_rel_err': ensemble_rel_err_test_list\n",
    "#     },\n",
    "#     ENSEMBLE_MODEL_PATH)\n",
    "\n",
    "# print(\"Model saved!\")"
   ]
  },
  {
   "cell_type": "code",
   "execution_count": 79,
   "metadata": {},
   "outputs": [
    {
     "name": "stdout",
     "output_type": "stream",
     "text": [
      "Using cpu device\n",
      "Loading models:\n",
      "Models loaded.\n",
      "torch.Size([927, 1, 150, 8])\n",
      "\n",
      " --- Finding uncertainty estimates --- \n",
      "\n",
      "Norm of residual array (y-f) = 2.782936708628986\n",
      "Norm of resid_solve = 24796.404919970508\n"
     ]
    },
    {
     "name": "stderr",
     "output_type": "stream",
     "text": [
      "  1%|          | 1/103 [00:00<00:20,  5.08it/s]"
     ]
    },
    {
     "name": "stdout",
     "output_type": "stream",
     "text": [
      "torch.Size([1, 1, 150, 8])\n",
      "torch.Size([1, 1, 150, 8])\n"
     ]
    },
    {
     "name": "stderr",
     "output_type": "stream",
     "text": [
      "  2%|▏         | 2/103 [00:00<00:18,  5.45it/s]"
     ]
    },
    {
     "name": "stdout",
     "output_type": "stream",
     "text": [
      "torch.Size([1, 1, 150, 8])\n",
      "torch.Size([1, 1, 150, 8])\n",
      "torch.Size([1, 1, 150, 8])\n",
      "torch.Size([1, 1, 150, 8])\n"
     ]
    },
    {
     "name": "stderr",
     "output_type": "stream",
     "text": [
      "  3%|▎         | 3/103 [00:00<00:21,  4.66it/s]"
     ]
    },
    {
     "name": "stdout",
     "output_type": "stream",
     "text": [
      "torch.Size([1, 1, 150, 8])\n",
      "torch.Size([1, 1, 150, 8])\n"
     ]
    },
    {
     "name": "stderr",
     "output_type": "stream",
     "text": [
      "  5%|▍         | 5/103 [00:01<00:20,  4.70it/s]"
     ]
    },
    {
     "name": "stdout",
     "output_type": "stream",
     "text": [
      "torch.Size([1, 1, 150, 8])\n",
      "torch.Size([1, 1, 150, 8])\n"
     ]
    },
    {
     "name": "stderr",
     "output_type": "stream",
     "text": [
      "  6%|▌         | 6/103 [00:01<00:20,  4.84it/s]"
     ]
    },
    {
     "name": "stdout",
     "output_type": "stream",
     "text": [
      "torch.Size([1, 1, 150, 8])\n",
      "torch.Size([1, 1, 150, 8])\n"
     ]
    },
    {
     "name": "stderr",
     "output_type": "stream",
     "text": [
      "  7%|▋         | 7/103 [00:01<00:18,  5.12it/s]"
     ]
    },
    {
     "name": "stdout",
     "output_type": "stream",
     "text": [
      "torch.Size([1, 1, 150, 8])\n",
      "torch.Size([1, 1, 150, 8])\n",
      "torch.Size([1, 1, 150, 8])\n",
      "torch.Size([1, 1, 150, 8])\n"
     ]
    },
    {
     "name": "stderr",
     "output_type": "stream",
     "text": [
      "  8%|▊         | 8/103 [00:01<00:22,  4.29it/s]"
     ]
    },
    {
     "name": "stdout",
     "output_type": "stream",
     "text": [
      "torch.Size([1, 1, 150, 8])\n",
      "torch.Size([1, 1, 150, 8])\n"
     ]
    },
    {
     "name": "stderr",
     "output_type": "stream",
     "text": [
      "  9%|▊         | 9/103 [00:01<00:21,  4.36it/s]"
     ]
    },
    {
     "name": "stdout",
     "output_type": "stream",
     "text": [
      "torch.Size([1, 1, 150, 8])\n",
      "torch.Size([1, 1, 150, 8])\n"
     ]
    },
    {
     "name": "stderr",
     "output_type": "stream",
     "text": [
      " 11%|█         | 11/103 [00:02<00:19,  4.71it/s]"
     ]
    },
    {
     "name": "stdout",
     "output_type": "stream",
     "text": [
      "torch.Size([1, 1, 150, 8])\n",
      "torch.Size([1, 1, 150, 8])\n"
     ]
    },
    {
     "name": "stderr",
     "output_type": "stream",
     "text": [
      " 12%|█▏        | 12/103 [00:02<00:18,  4.90it/s]"
     ]
    },
    {
     "name": "stdout",
     "output_type": "stream",
     "text": [
      "torch.Size([1, 1, 150, 8])\n",
      "torch.Size([1, 1, 150, 8])\n"
     ]
    },
    {
     "name": "stderr",
     "output_type": "stream",
     "text": [
      " 13%|█▎        | 13/103 [00:02<00:18,  4.90it/s]"
     ]
    },
    {
     "name": "stdout",
     "output_type": "stream",
     "text": [
      "torch.Size([1, 1, 150, 8])\n",
      "torch.Size([1, 1, 150, 8])\n"
     ]
    },
    {
     "name": "stderr",
     "output_type": "stream",
     "text": [
      " 14%|█▎        | 14/103 [00:02<00:17,  5.11it/s]"
     ]
    },
    {
     "name": "stdout",
     "output_type": "stream",
     "text": [
      "torch.Size([1, 1, 150, 8])\n",
      "torch.Size([1, 1, 150, 8])\n",
      "torch.Size([1, 1, 150, 8])\n",
      "torch.Size([1, 1, 150, 8])\n"
     ]
    },
    {
     "name": "stderr",
     "output_type": "stream",
     "text": [
      " 16%|█▌        | 16/103 [00:03<00:17,  5.10it/s]"
     ]
    },
    {
     "name": "stdout",
     "output_type": "stream",
     "text": [
      "torch.Size([1, 1, 150, 8])\n",
      "torch.Size([1, 1, 150, 8])\n"
     ]
    },
    {
     "name": "stderr",
     "output_type": "stream",
     "text": [
      " 17%|█▋        | 17/103 [00:03<00:16,  5.09it/s]"
     ]
    },
    {
     "name": "stdout",
     "output_type": "stream",
     "text": [
      "torch.Size([1, 1, 150, 8])\n",
      "torch.Size([1, 1, 150, 8])\n",
      "torch.Size([1, 1, 150, 8])\n",
      "torch.Size([1, 1, 150, 8])\n"
     ]
    },
    {
     "name": "stderr",
     "output_type": "stream",
     "text": [
      " 17%|█▋        | 18/103 [00:03<00:18,  4.63it/s]"
     ]
    },
    {
     "name": "stdout",
     "output_type": "stream",
     "text": [
      "torch.Size([1, 1, 150, 8])\n",
      "torch.Size([1, 1, 150, 8])\n"
     ]
    },
    {
     "name": "stderr",
     "output_type": "stream",
     "text": [
      " 19%|█▉        | 20/103 [00:04<00:17,  4.85it/s]"
     ]
    },
    {
     "name": "stdout",
     "output_type": "stream",
     "text": [
      "torch.Size([1, 1, 150, 8])\n",
      "torch.Size([1, 1, 150, 8])\n"
     ]
    },
    {
     "name": "stderr",
     "output_type": "stream",
     "text": [
      " 20%|██        | 21/103 [00:04<00:16,  4.98it/s]"
     ]
    },
    {
     "name": "stdout",
     "output_type": "stream",
     "text": [
      "torch.Size([1, 1, 150, 8])\n",
      "torch.Size([1, 1, 150, 8])\n"
     ]
    },
    {
     "name": "stderr",
     "output_type": "stream",
     "text": [
      " 21%|██▏       | 22/103 [00:04<00:16,  5.04it/s]"
     ]
    },
    {
     "name": "stdout",
     "output_type": "stream",
     "text": [
      "torch.Size([1, 1, 150, 8])\n",
      "torch.Size([1, 1, 150, 8])\n"
     ]
    },
    {
     "name": "stderr",
     "output_type": "stream",
     "text": [
      " 22%|██▏       | 23/103 [00:04<00:15,  5.11it/s]"
     ]
    },
    {
     "name": "stdout",
     "output_type": "stream",
     "text": [
      "torch.Size([1, 1, 150, 8])\n",
      "torch.Size([1, 1, 150, 8])\n",
      "torch.Size([1, 1, 150, 8])\n",
      "torch.Size([1, 1, 150, 8])\n"
     ]
    },
    {
     "name": "stderr",
     "output_type": "stream",
     "text": [
      " 23%|██▎       | 24/103 [00:04<00:15,  4.94it/s]"
     ]
    },
    {
     "name": "stdout",
     "output_type": "stream",
     "text": [
      "torch.Size([1, 1, 150, 8])\n",
      "torch.Size([1, 1, 150, 8])\n"
     ]
    },
    {
     "name": "stderr",
     "output_type": "stream",
     "text": [
      " 25%|██▌       | 26/103 [00:05<00:15,  4.89it/s]"
     ]
    },
    {
     "name": "stdout",
     "output_type": "stream",
     "text": [
      "torch.Size([1, 1, 150, 8])\n",
      "torch.Size([1, 1, 150, 8])\n",
      "torch.Size([1, 1, 150, 8])\n",
      "torch.Size([1, 1, 150, 8])\n"
     ]
    },
    {
     "name": "stderr",
     "output_type": "stream",
     "text": [
      " 27%|██▋       | 28/103 [00:05<00:15,  4.86it/s]"
     ]
    },
    {
     "name": "stdout",
     "output_type": "stream",
     "text": [
      "torch.Size([1, 1, 150, 8])\n",
      "torch.Size([1, 1, 150, 8])\n"
     ]
    },
    {
     "name": "stderr",
     "output_type": "stream",
     "text": [
      " 28%|██▊       | 29/103 [00:05<00:14,  5.08it/s]"
     ]
    },
    {
     "name": "stdout",
     "output_type": "stream",
     "text": [
      "torch.Size([1, 1, 150, 8])\n",
      "torch.Size([1, 1, 150, 8])\n",
      "torch.Size([1, 1, 150, 8])\n",
      "torch.Size([1, 1, 150, 8])\n"
     ]
    },
    {
     "name": "stderr",
     "output_type": "stream",
     "text": [
      " 30%|███       | 31/103 [00:06<00:14,  5.04it/s]"
     ]
    },
    {
     "name": "stdout",
     "output_type": "stream",
     "text": [
      "torch.Size([1, 1, 150, 8])\n",
      "torch.Size([1, 1, 150, 8])\n",
      "torch.Size([1, 1, 150, 8])\n",
      "torch.Size([1, 1, 150, 8])\n"
     ]
    },
    {
     "name": "stderr",
     "output_type": "stream",
     "text": [
      " 32%|███▏      | 33/103 [00:06<00:13,  5.22it/s]"
     ]
    },
    {
     "name": "stdout",
     "output_type": "stream",
     "text": [
      "torch.Size([1, 1, 150, 8])\n",
      "torch.Size([1, 1, 150, 8])\n",
      "torch.Size([1, 1, 150, 8])\n",
      "torch.Size([1, 1, 150, 8])\n"
     ]
    },
    {
     "name": "stderr",
     "output_type": "stream",
     "text": [
      " 33%|███▎      | 34/103 [00:06<00:13,  5.28it/s]"
     ]
    },
    {
     "name": "stdout",
     "output_type": "stream",
     "text": [
      "torch.Size([1, 1, 150, 8])\n",
      "torch.Size([1, 1, 150, 8])\n"
     ]
    },
    {
     "name": "stderr",
     "output_type": "stream",
     "text": [
      " 34%|███▍      | 35/103 [00:07<00:16,  4.13it/s]"
     ]
    },
    {
     "name": "stdout",
     "output_type": "stream",
     "text": [
      "torch.Size([1, 1, 150, 8])\n",
      "torch.Size([1, 1, 150, 8])\n"
     ]
    },
    {
     "name": "stderr",
     "output_type": "stream",
     "text": [
      " 36%|███▌      | 37/103 [00:07<00:14,  4.54it/s]"
     ]
    },
    {
     "name": "stdout",
     "output_type": "stream",
     "text": [
      "torch.Size([1, 1, 150, 8])\n",
      "torch.Size([1, 1, 150, 8])\n",
      "torch.Size([1, 1, 150, 8])\n",
      "torch.Size([1, 1, 150, 8])\n"
     ]
    },
    {
     "name": "stderr",
     "output_type": "stream",
     "text": [
      " 38%|███▊      | 39/103 [00:08<00:13,  4.86it/s]"
     ]
    },
    {
     "name": "stdout",
     "output_type": "stream",
     "text": [
      "torch.Size([1, 1, 150, 8])\n",
      "torch.Size([1, 1, 150, 8])\n",
      "torch.Size([1, 1, 150, 8])\n",
      "torch.Size([1, 1, 150, 8])\n"
     ]
    },
    {
     "name": "stderr",
     "output_type": "stream",
     "text": [
      " 39%|███▉      | 40/103 [00:08<00:12,  5.00it/s]"
     ]
    },
    {
     "name": "stdout",
     "output_type": "stream",
     "text": [
      "torch.Size([1, 1, 150, 8])\n",
      "torch.Size([1, 1, 150, 8])\n"
     ]
    },
    {
     "name": "stderr",
     "output_type": "stream",
     "text": [
      " 41%|████      | 42/103 [00:08<00:12,  5.04it/s]"
     ]
    },
    {
     "name": "stdout",
     "output_type": "stream",
     "text": [
      "torch.Size([1, 1, 150, 8])\n",
      "torch.Size([1, 1, 150, 8])\n",
      "torch.Size([1, 1, 150, 8])\n",
      "torch.Size([1, 1, 150, 8])\n"
     ]
    },
    {
     "name": "stderr",
     "output_type": "stream",
     "text": [
      " 42%|████▏     | 43/103 [00:08<00:12,  4.76it/s]"
     ]
    },
    {
     "name": "stdout",
     "output_type": "stream",
     "text": [
      "torch.Size([1, 1, 150, 8])\n",
      "torch.Size([1, 1, 150, 8])\n"
     ]
    },
    {
     "name": "stderr",
     "output_type": "stream",
     "text": [
      " 44%|████▎     | 45/103 [00:09<00:13,  4.22it/s]"
     ]
    },
    {
     "name": "stdout",
     "output_type": "stream",
     "text": [
      "torch.Size([1, 1, 150, 8])\n",
      "torch.Size([1, 1, 150, 8])\n"
     ]
    },
    {
     "name": "stderr",
     "output_type": "stream",
     "text": [
      " 45%|████▍     | 46/103 [00:09<00:12,  4.44it/s]"
     ]
    },
    {
     "name": "stdout",
     "output_type": "stream",
     "text": [
      "torch.Size([1, 1, 150, 8])\n",
      "torch.Size([1, 1, 150, 8])\n"
     ]
    },
    {
     "name": "stderr",
     "output_type": "stream",
     "text": [
      " 46%|████▌     | 47/103 [00:09<00:11,  4.75it/s]"
     ]
    },
    {
     "name": "stdout",
     "output_type": "stream",
     "text": [
      "torch.Size([1, 1, 150, 8])\n",
      "torch.Size([1, 1, 150, 8])\n",
      "torch.Size([1, 1, 150, 8])\n",
      "torch.Size([1, 1, 150, 8])\n"
     ]
    },
    {
     "name": "stderr",
     "output_type": "stream",
     "text": [
      " 48%|████▊     | 49/103 [00:10<00:10,  5.19it/s]"
     ]
    },
    {
     "name": "stdout",
     "output_type": "stream",
     "text": [
      "torch.Size([1, 1, 150, 8])\n",
      "torch.Size([1, 1, 150, 8])\n",
      "torch.Size([1, 1, 150, 8])\n",
      "torch.Size([1, 1, 150, 8])\n"
     ]
    },
    {
     "name": "stderr",
     "output_type": "stream",
     "text": [
      " 50%|████▉     | 51/103 [00:10<00:10,  5.05it/s]"
     ]
    },
    {
     "name": "stdout",
     "output_type": "stream",
     "text": [
      "torch.Size([1, 1, 150, 8])\n",
      "torch.Size([1, 1, 150, 8])\n"
     ]
    },
    {
     "name": "stderr",
     "output_type": "stream",
     "text": [
      " 50%|█████     | 52/103 [00:10<00:09,  5.24it/s]"
     ]
    },
    {
     "name": "stdout",
     "output_type": "stream",
     "text": [
      "torch.Size([1, 1, 150, 8])\n",
      "torch.Size([1, 1, 150, 8])\n",
      "torch.Size([1, 1, 150, 8])\n",
      "torch.Size([1, 1, 150, 8])\n"
     ]
    },
    {
     "name": "stderr",
     "output_type": "stream",
     "text": [
      " 52%|█████▏    | 54/103 [00:11<00:09,  5.30it/s]"
     ]
    },
    {
     "name": "stdout",
     "output_type": "stream",
     "text": [
      "torch.Size([1, 1, 150, 8])\n",
      "torch.Size([1, 1, 150, 8])\n",
      "torch.Size([1, 1, 150, 8])\n",
      "torch.Size([1, 1, 150, 8])\n"
     ]
    },
    {
     "name": "stderr",
     "output_type": "stream",
     "text": [
      " 53%|█████▎    | 55/103 [00:11<00:08,  5.43it/s]"
     ]
    },
    {
     "name": "stdout",
     "output_type": "stream",
     "text": [
      "torch.Size([1, 1, 150, 8])\n",
      "torch.Size([1, 1, 150, 8])\n"
     ]
    },
    {
     "name": "stderr",
     "output_type": "stream",
     "text": [
      " 55%|█████▌    | 57/103 [00:11<00:08,  5.30it/s]"
     ]
    },
    {
     "name": "stdout",
     "output_type": "stream",
     "text": [
      "torch.Size([1, 1, 150, 8])\n",
      "torch.Size([1, 1, 150, 8])\n"
     ]
    },
    {
     "name": "stderr",
     "output_type": "stream",
     "text": [
      " 56%|█████▋    | 58/103 [00:11<00:08,  5.37it/s]"
     ]
    },
    {
     "name": "stdout",
     "output_type": "stream",
     "text": [
      "torch.Size([1, 1, 150, 8])\n",
      "torch.Size([1, 1, 150, 8])\n"
     ]
    },
    {
     "name": "stderr",
     "output_type": "stream",
     "text": [
      " 57%|█████▋    | 59/103 [00:12<00:08,  5.37it/s]"
     ]
    },
    {
     "name": "stdout",
     "output_type": "stream",
     "text": [
      "torch.Size([1, 1, 150, 8])\n",
      "torch.Size([1, 1, 150, 8])\n"
     ]
    },
    {
     "name": "stderr",
     "output_type": "stream",
     "text": [
      " 58%|█████▊    | 60/103 [00:12<00:08,  5.34it/s]"
     ]
    },
    {
     "name": "stdout",
     "output_type": "stream",
     "text": [
      "torch.Size([1, 1, 150, 8])\n",
      "torch.Size([1, 1, 150, 8])\n"
     ]
    },
    {
     "name": "stderr",
     "output_type": "stream",
     "text": [
      " 59%|█████▉    | 61/103 [00:12<00:07,  5.27it/s]"
     ]
    },
    {
     "name": "stdout",
     "output_type": "stream",
     "text": [
      "torch.Size([1, 1, 150, 8])\n",
      "torch.Size([1, 1, 150, 8])\n",
      "torch.Size([1, 1, 150, 8])\n",
      "torch.Size([1, 1, 150, 8])\n"
     ]
    },
    {
     "name": "stderr",
     "output_type": "stream",
     "text": [
      " 60%|██████    | 62/103 [00:12<00:07,  5.15it/s]"
     ]
    },
    {
     "name": "stdout",
     "output_type": "stream",
     "text": [
      "torch.Size([1, 1, 150, 8])\n",
      "torch.Size([1, 1, 150, 8])\n"
     ]
    },
    {
     "name": "stderr",
     "output_type": "stream",
     "text": [
      " 62%|██████▏   | 64/103 [00:13<00:07,  4.94it/s]"
     ]
    },
    {
     "name": "stdout",
     "output_type": "stream",
     "text": [
      "torch.Size([1, 1, 150, 8])\n",
      "torch.Size([1, 1, 150, 8])\n",
      "torch.Size([1, 1, 150, 8])\n",
      "torch.Size([1, 1, 150, 8])\n"
     ]
    },
    {
     "name": "stderr",
     "output_type": "stream",
     "text": [
      " 63%|██████▎   | 65/103 [00:13<00:08,  4.71it/s]"
     ]
    },
    {
     "name": "stdout",
     "output_type": "stream",
     "text": [
      "torch.Size([1, 1, 150, 8])\n",
      "torch.Size([1, 1, 150, 8])\n"
     ]
    },
    {
     "name": "stderr",
     "output_type": "stream",
     "text": [
      " 65%|██████▌   | 67/103 [00:13<00:08,  4.39it/s]"
     ]
    },
    {
     "name": "stdout",
     "output_type": "stream",
     "text": [
      "torch.Size([1, 1, 150, 8])\n",
      "torch.Size([1, 1, 150, 8])\n"
     ]
    },
    {
     "name": "stderr",
     "output_type": "stream",
     "text": [
      " 66%|██████▌   | 68/103 [00:14<00:07,  4.75it/s]"
     ]
    },
    {
     "name": "stdout",
     "output_type": "stream",
     "text": [
      "torch.Size([1, 1, 150, 8])\n",
      "torch.Size([1, 1, 150, 8])\n",
      "torch.Size([1, 1, 150, 8])\n",
      "torch.Size([1, 1, 150, 8])\n"
     ]
    },
    {
     "name": "stderr",
     "output_type": "stream",
     "text": [
      " 68%|██████▊   | 70/103 [00:14<00:06,  5.06it/s]"
     ]
    },
    {
     "name": "stdout",
     "output_type": "stream",
     "text": [
      "torch.Size([1, 1, 150, 8])\n",
      "torch.Size([1, 1, 150, 8])\n"
     ]
    },
    {
     "name": "stderr",
     "output_type": "stream",
     "text": [
      " 69%|██████▉   | 71/103 [00:14<00:06,  5.10it/s]"
     ]
    },
    {
     "name": "stdout",
     "output_type": "stream",
     "text": [
      "torch.Size([1, 1, 150, 8])\n",
      "torch.Size([1, 1, 150, 8])\n"
     ]
    },
    {
     "name": "stderr",
     "output_type": "stream",
     "text": [
      " 70%|██████▉   | 72/103 [00:14<00:05,  5.25it/s]"
     ]
    },
    {
     "name": "stdout",
     "output_type": "stream",
     "text": [
      "torch.Size([1, 1, 150, 8])\n",
      "torch.Size([1, 1, 150, 8])\n",
      "torch.Size([1, 1, 150, 8])\n",
      "torch.Size([1, 1, 150, 8])\n"
     ]
    },
    {
     "name": "stderr",
     "output_type": "stream",
     "text": [
      " 71%|███████   | 73/103 [00:14<00:05,  5.29it/s]"
     ]
    },
    {
     "name": "stdout",
     "output_type": "stream",
     "text": [
      "torch.Size([1, 1, 150, 8])\n",
      "torch.Size([1, 1, 150, 8])\n"
     ]
    },
    {
     "name": "stderr",
     "output_type": "stream",
     "text": [
      " 73%|███████▎  | 75/103 [00:15<00:05,  5.12it/s]"
     ]
    },
    {
     "name": "stdout",
     "output_type": "stream",
     "text": [
      "torch.Size([1, 1, 150, 8])\n",
      "torch.Size([1, 1, 150, 8])\n"
     ]
    },
    {
     "name": "stderr",
     "output_type": "stream",
     "text": [
      " 74%|███████▍  | 76/103 [00:15<00:05,  5.27it/s]"
     ]
    },
    {
     "name": "stdout",
     "output_type": "stream",
     "text": [
      "torch.Size([1, 1, 150, 8])\n",
      "torch.Size([1, 1, 150, 8])\n",
      "torch.Size([1, 1, 150, 8])\n",
      "torch.Size([1, 1, 150, 8])\n"
     ]
    },
    {
     "name": "stderr",
     "output_type": "stream",
     "text": [
      " 75%|███████▍  | 77/103 [00:15<00:04,  5.44it/s]"
     ]
    },
    {
     "name": "stdout",
     "output_type": "stream",
     "text": [
      "torch.Size([1, 1, 150, 8])\n",
      "torch.Size([1, 1, 150, 8])\n"
     ]
    },
    {
     "name": "stderr",
     "output_type": "stream",
     "text": [
      " 77%|███████▋  | 79/103 [00:16<00:04,  5.17it/s]"
     ]
    },
    {
     "name": "stdout",
     "output_type": "stream",
     "text": [
      "torch.Size([1, 1, 150, 8])\n",
      "torch.Size([1, 1, 150, 8])\n",
      "torch.Size([1, 1, 150, 8])\n",
      "torch.Size([1, 1, 150, 8])\n"
     ]
    },
    {
     "name": "stderr",
     "output_type": "stream",
     "text": [
      " 79%|███████▊  | 81/103 [00:16<00:03,  5.53it/s]"
     ]
    },
    {
     "name": "stdout",
     "output_type": "stream",
     "text": [
      "torch.Size([1, 1, 150, 8])\n",
      "torch.Size([1, 1, 150, 8])\n",
      "torch.Size([1, 1, 150, 8])\n",
      "torch.Size([1, 1, 150, 8])\n"
     ]
    },
    {
     "name": "stderr",
     "output_type": "stream",
     "text": [
      " 81%|████████  | 83/103 [00:16<00:03,  5.40it/s]"
     ]
    },
    {
     "name": "stdout",
     "output_type": "stream",
     "text": [
      "torch.Size([1, 1, 150, 8])\n",
      "torch.Size([1, 1, 150, 8])\n"
     ]
    },
    {
     "name": "stderr",
     "output_type": "stream",
     "text": [
      " 82%|████████▏ | 84/103 [00:17<00:03,  5.30it/s]"
     ]
    },
    {
     "name": "stdout",
     "output_type": "stream",
     "text": [
      "torch.Size([1, 1, 150, 8])\n",
      "torch.Size([1, 1, 150, 8])\n"
     ]
    },
    {
     "name": "stderr",
     "output_type": "stream",
     "text": [
      " 83%|████████▎ | 85/103 [00:17<00:03,  5.19it/s]"
     ]
    },
    {
     "name": "stdout",
     "output_type": "stream",
     "text": [
      "torch.Size([1, 1, 150, 8])\n",
      "torch.Size([1, 1, 150, 8])\n"
     ]
    },
    {
     "name": "stderr",
     "output_type": "stream",
     "text": [
      " 83%|████████▎ | 86/103 [00:17<00:03,  5.34it/s]"
     ]
    },
    {
     "name": "stdout",
     "output_type": "stream",
     "text": [
      "torch.Size([1, 1, 150, 8])\n",
      "torch.Size([1, 1, 150, 8])\n",
      "torch.Size([1, 1, 150, 8])\n",
      "torch.Size([1, 1, 150, 8])\n"
     ]
    },
    {
     "name": "stderr",
     "output_type": "stream",
     "text": [
      " 84%|████████▍ | 87/103 [00:17<00:02,  5.37it/s]"
     ]
    },
    {
     "name": "stdout",
     "output_type": "stream",
     "text": [
      "torch.Size([1, 1, 150, 8])\n",
      "torch.Size([1, 1, 150, 8])\n"
     ]
    },
    {
     "name": "stderr",
     "output_type": "stream",
     "text": [
      " 86%|████████▋ | 89/103 [00:18<00:03,  4.53it/s]"
     ]
    },
    {
     "name": "stdout",
     "output_type": "stream",
     "text": [
      "torch.Size([1, 1, 150, 8])\n",
      "torch.Size([1, 1, 150, 8])\n"
     ]
    },
    {
     "name": "stderr",
     "output_type": "stream",
     "text": [
      " 87%|████████▋ | 90/103 [00:18<00:02,  4.75it/s]"
     ]
    },
    {
     "name": "stdout",
     "output_type": "stream",
     "text": [
      "torch.Size([1, 1, 150, 8])\n",
      "torch.Size([1, 1, 150, 8])\n",
      "torch.Size([1, 1, 150, 8])\n",
      "torch.Size([1, 1, 150, 8])\n"
     ]
    },
    {
     "name": "stderr",
     "output_type": "stream",
     "text": [
      " 88%|████████▊ | 91/103 [00:18<00:02,  4.73it/s]"
     ]
    },
    {
     "name": "stdout",
     "output_type": "stream",
     "text": [
      "torch.Size([1, 1, 150, 8])\n",
      "torch.Size([1, 1, 150, 8])\n"
     ]
    },
    {
     "name": "stderr",
     "output_type": "stream",
     "text": [
      " 89%|████████▉ | 92/103 [00:18<00:02,  4.21it/s]"
     ]
    },
    {
     "name": "stdout",
     "output_type": "stream",
     "text": [
      "torch.Size([1, 1, 150, 8])\n",
      "torch.Size([1, 1, 150, 8])\n"
     ]
    },
    {
     "name": "stderr",
     "output_type": "stream",
     "text": [
      " 90%|█████████ | 93/103 [00:19<00:02,  4.25it/s]"
     ]
    },
    {
     "name": "stdout",
     "output_type": "stream",
     "text": [
      "torch.Size([1, 1, 150, 8])\n",
      "torch.Size([1, 1, 150, 8])\n"
     ]
    },
    {
     "name": "stderr",
     "output_type": "stream",
     "text": [
      " 92%|█████████▏| 95/103 [00:19<00:01,  4.35it/s]"
     ]
    },
    {
     "name": "stdout",
     "output_type": "stream",
     "text": [
      "torch.Size([1, 1, 150, 8])\n",
      "torch.Size([1, 1, 150, 8])\n"
     ]
    },
    {
     "name": "stderr",
     "output_type": "stream",
     "text": [
      " 93%|█████████▎| 96/103 [00:19<00:01,  4.66it/s]"
     ]
    },
    {
     "name": "stdout",
     "output_type": "stream",
     "text": [
      "torch.Size([1, 1, 150, 8])\n",
      "torch.Size([1, 1, 150, 8])\n",
      "torch.Size([1, 1, 150, 8])\n",
      "torch.Size([1, 1, 150, 8])\n"
     ]
    },
    {
     "name": "stderr",
     "output_type": "stream",
     "text": [
      " 94%|█████████▍| 97/103 [00:19<00:01,  5.01it/s]"
     ]
    },
    {
     "name": "stdout",
     "output_type": "stream",
     "text": [
      "torch.Size([1, 1, 150, 8])\n",
      "torch.Size([1, 1, 150, 8])\n"
     ]
    },
    {
     "name": "stderr",
     "output_type": "stream",
     "text": [
      " 95%|█████████▌| 98/103 [00:20<00:01,  4.95it/s]"
     ]
    },
    {
     "name": "stdout",
     "output_type": "stream",
     "text": [
      "torch.Size([1, 1, 150, 8])\n",
      "torch.Size([1, 1, 150, 8])\n"
     ]
    },
    {
     "name": "stderr",
     "output_type": "stream",
     "text": [
      " 97%|█████████▋| 100/103 [00:20<00:00,  4.73it/s]"
     ]
    },
    {
     "name": "stdout",
     "output_type": "stream",
     "text": [
      "torch.Size([1, 1, 150, 8])\n",
      "torch.Size([1, 1, 150, 8])\n"
     ]
    },
    {
     "name": "stderr",
     "output_type": "stream",
     "text": [
      " 98%|█████████▊| 101/103 [00:20<00:00,  5.00it/s]"
     ]
    },
    {
     "name": "stdout",
     "output_type": "stream",
     "text": [
      "torch.Size([1, 1, 150, 8])\n",
      "torch.Size([1, 1, 150, 8])\n",
      "torch.Size([1, 1, 150, 8])\n",
      "torch.Size([1, 1, 150, 8])\n"
     ]
    },
    {
     "name": "stderr",
     "output_type": "stream",
     "text": [
      " 99%|█████████▉| 102/103 [00:20<00:00,  5.22it/s]"
     ]
    },
    {
     "name": "stdout",
     "output_type": "stream",
     "text": [
      "torch.Size([1, 1, 150, 8])\n",
      "torch.Size([1, 1, 150, 8])\n"
     ]
    },
    {
     "name": "stderr",
     "output_type": "stream",
     "text": [
      "100%|██████████| 103/103 [00:21<00:00,  4.88it/s]\n"
     ]
    },
    {
     "name": "stdout",
     "output_type": "stream",
     "text": [
      "Finished! \n",
      "\n",
      "Number of zero values uncertainty array: 0\n",
      "Number of negative values for full rank: 0\n",
      "\n",
      " --- Plotting Results --- \n",
      "\n"
     ]
    },
    {
     "data": {
      "image/png": "[encoded data removed]",
      "text/plain": [
       "<Figure size 640x480 with 1 Axes>"
      ]
     },
     "metadata": {},
     "output_type": "display_data"
    },
    {
     "data": {
      "image/png": "[encoded data removed]",
      "text/plain": [
       "<Figure size 640x480 with 1 Axes>"
      ]
     },
     "metadata": {},
     "output_type": "display_data"
    },
    {
     "data": {
      "image/png": "[encoded data removed]",
      "text/plain": [
       "<Figure size 640x480 with 1 Axes>"
      ]
     },
     "metadata": {},
     "output_type": "display_data"
    },
    {
     "data": {
      "image/png": "[encoded data removed]",
      "text/plain": [
       "<Figure size 640x480 with 1 Axes>"
      ]
     },
     "metadata": {},
     "output_type": "display_data"
    },
    {
     "data": {
      "image/png": "[encoded data removed]",
      "text/plain": [
       "<Figure size 640x480 with 1 Axes>"
      ]
     },
     "metadata": {},
     "output_type": "display_data"
    },
    {
     "name": "stdout",
     "output_type": "stream",
     "text": [
      "Final ntk training MSE = 0.012\n",
      "Final ntk test MSE = 16.42\n",
      "Final ensemble training MSE = [0.0188 0.0157 0.0177 0.0115 0.036 ]\n",
      "Final ensemble test MSE = [13.3967 17.075  19.8286 14.9882 20.5739]\n"
     ]
    }
   ],
   "source": [
    "type_solve = 'iterative'\n",
    "rtol_solve = 1e-9\n",
    "maxit_solve = 2000\n",
    "\n",
    "# Get cpu, gpu or mps device for training.\n",
    "device = (\n",
    "    \"cuda\"\n",
    "    if torch.cuda.is_available()\n",
    "    else \"mps\"\n",
    "    if torch.backends.mps.is_available()\n",
    "    else \"cpu\"\n",
    ")\n",
    "print(f\"Using {device} device\")\n",
    "\n",
    "## load models\n",
    "print(\"Loading models:\")\n",
    "\n",
    "# Load NTK Model\n",
    "ntk_saved_model = torch.load(NTK_MODEL_PATH)\n",
    "\n",
    "ntk_network = df.MLP(input_d=num_features,width=LAYER_WIDTH).to(device=device, dtype=torch.float64)\n",
    "if NTK_WEIGHT_INIT:\n",
    "    ntk_network.apply(df.weights_init)\n",
    "ntk_network.load_state_dict(ntk_saved_model['model'])\n",
    "ntk_network.eval()\n",
    "\n",
    "ntk_train_mse = ntk_saved_model['train_mse']\n",
    "ntk_test_mse = ntk_saved_model['test_mse']\n",
    "ntk_test_rel_error = ntk_saved_model['test_rel_err']\n",
    "\n",
    "# Load Ensemble Models\n",
    "ensemble_saved_models = torch.load(ENSEMBLE_MODEL_PATH)\n",
    "\n",
    "ensemble_model_list = []\n",
    "for i in range(ensemble_M):\n",
    "    ensemble_model_list.append(df.EnsembleNetwork(input_d=num_features, width=LAYER_WIDTH).to(device=device,dtype=torch.float64))\n",
    "    ensemble_model_list[i].load_state_dict(ensemble_saved_models['models'][i])\n",
    "    ensemble_model_list[i].eval()\n",
    "\n",
    "ensemble_mse_training_list = ensemble_saved_models['train_mse']\n",
    "ensemble_mse_test_list = ensemble_saved_models['test_mse']\n",
    "ensemble_nll_list = ensemble_saved_models['test_nll']\n",
    "ensemble_rel_err_test_list = ensemble_saved_models['test_rel_err']\n",
    "\n",
    "print(\"Models loaded.\")\n",
    "\n",
    "### --- NTK --- ###\n",
    "if FIND_MAN_KAPPA:\n",
    "    EPSILON = 0\n",
    "    print(\"\\n --- Finding Kappa --- \\n\")\n",
    "    kappa_man_time_start = time.time()\n",
    "    Kappa_man = df.ntk_matrix(train_dataset,train_dataset,model=ntk_network,optimizer=ntk_optimizer)\n",
    "    kappa_man_time_end = time.time()\n",
    "    kappa_man_time = kappa_man_time_end - kappa_man_time_start\n",
    "    eigvals = np.linalg.eigvalsh(Kappa_man)\n",
    "\n",
    "if FIND_FUNC_JAX_KAPPA:\n",
    "    kappa_jax_time_start = time.time()\n",
    "    Kappa = df.empirical_ntk(\n",
    "        model=ntk_network,\n",
    "        dataset1=train_dataset,\n",
    "        dataset2=train_dataset\n",
    "    )\n",
    "    Kappa_jax = Kappa.detach().numpy().squeeze((2,3))\n",
    "    kappa_jax_time_end = time.time()\n",
    "    kappa_jax_time = kappa_jax_time_end - kappa_jax_time_start\n",
    "    eigvals = np.linalg.eigvalsh(Kappa_jax)\n",
    "\n",
    "if REPORT_KAPPA:\n",
    "    print(\"\\n--- Kappa (Manual) Summary --- \\n\")\n",
    "    print(\"Condition number of Kappa = {:.2f}\".format(np.linalg.cond(Kappa)))\n",
    "    eigvals = np.linalg.eigvalsh(Kappa)\n",
    "    print(\"Number of negative eigenvalues of Kappa = {}\".format(eigvals[eigvals<0].size))\n",
    "    print(\"Number of zero eigenvalues of Kappa = {}\".format(eigvals[eigvals==0].size))\n",
    "    print(\"Smallest eigenvalue is = {}\".format(sorted(eigvals)[0]))\n",
    "\n",
    "if KAPPA_COMPARISON:\n",
    "\n",
    "    man_eigvals = np.linalg.eigvalsh(Kappa_man)\n",
    "    jax_eigvals = np.linalg.eigvalsh(Kappa_jax)\n",
    "\n",
    "    plot_dir = \"./ntk_conditioning_results/\"\n",
    "    results_name = \"results.txt\"\n",
    "    with open(plot_dir+results_name,'w') as results:\n",
    "        results.write(\"{} \\n\".format(datetime.datetime.now()))\n",
    "        results.write(\"Manual method: \\n\\\n",
    "                    Method time elapsed = {} seconds\\n \\\n",
    "                    Condition number = {}, \\n\\\n",
    "                    Num negative eigvals = {} \\n\\\n",
    "                    Smallest eigval = {}. \\n\".format(kappa_man_time,\n",
    "                                                     np.linalg.cond(Kappa_man),\n",
    "                                                        man_eigvals[man_eigvals<0].size,\n",
    "                                                        sorted(man_eigvals)[0])\n",
    "        )\n",
    "        results.write(\"\\n PyTorch JAX method: \\n\\\n",
    "                    Method time elapsed = {} seconds\\n \\\n",
    "                    Condition number = {} \\n\\\n",
    "                    Num negative eigvals = {} \\n\\\n",
    "                    Smallest eigval = {}. \\n\".format(kappa_jax_time,\n",
    "                                                     np.linalg.cond(Kappa_jax),\n",
    "                                                        jax_eigvals[jax_eigvals<0].size,\n",
    "                                                        sorted(jax_eigvals)[0])\n",
    "        )\n",
    "        results.write(\"Frobenius norm difference between two methods = {}\".format(\n",
    "            np.linalg.norm(Kappa_man-Kappa_jax)\n",
    "        ))\n",
    "\n",
    "### --- Current Kappa --- ###\n",
    "        \n",
    "Kappa = Kappa_jax\n",
    "\n",
    "## Uncertainty Quantification\n",
    "print(\"\\n --- Finding uncertainty estimates --- \\n\")\n",
    "uncert_time_start = time.time()\n",
    "uncertainty_array, solver_info, uncertainty_array_lifted, mu = df.ntk_uncertainty_explicit(\n",
    "    Kappa=Kappa, \n",
    "    train_dataset=train_dataset,\n",
    "    test_dataset=test_dataset,\n",
    "    model=ntk_network,\n",
    "    type=type_solve,\n",
    "    rtol=rtol_solve,\n",
    "    maxit=maxit_solve)\n",
    "uncert_time_end = time.time()\n",
    "uncert_time = uncert_time_end-uncert_time_start # (seconds)\n",
    "solver_info_mean = np.mean(solver_info,axis=1)\n",
    "print(\"Finished! \\n\")\n",
    "print(\"Number of zero values uncertainty array: {}\".format(uncertainty_array[uncertainty_array==0].size))\n",
    "print(\"Number of negative values for full rank: {}\".format(uncertainty_array[uncertainty_array<0].size))\n",
    "\n",
    "# uncertainty_array = uncertainty_array / np.sqrt(sum(p.numel() for p in ntk_network.parameters() if p.requires_grad))\n",
    "\n",
    "mu_mean, sigma_mean = df.ensemble_result(\n",
    "    test_loader=test_loader,\n",
    "    ensemble_M=ensemble_M,\n",
    "    model_list=ensemble_model_list,\n",
    "    sy=train_sy,\n",
    "    my=train_my\n",
    ")\n",
    "ensemble_rel_err_test_list = np.mean(ensemble_rel_err_test_list,axis=0)\n",
    "\n",
    "### --- Plot results --- ###\n",
    "param_ntk = sum(p.numel() for p in ntk_network.parameters() if p.requires_grad)\n",
    "\n",
    "print(\"\\n --- Plotting Results --- \\n\")\n",
    "today = datetime.date.today()\n",
    "now = datetime.datetime.now()\n",
    "# plot_dir = \"./data/{}/{}/plot/\".format(dataset_str, today.strftime(\"%d_%m_%Y\"))\n",
    "# plot_dir = \"./data/{}/{}/plot/\".format(dataset_str, now.strftime(\"%d_%m_%Y__%H_%M_%S\"))\n",
    "plot_dir = \"./data/{}/early_stop_p_2_{}/plot/\".format(dataset_str,param_ntk)\n",
    "if not os.path.isdir(plot_dir):\n",
    "    os.makedirs(plot_dir)\n",
    "\n",
    "## NTK Scatter\n",
    "plot_name = \"ntk_scatter.pdf\"\n",
    "plt.scatter(ntk_test_rel_error, uncertainty_array*(train_sy**2))\n",
    "plt.xlabel(\"Relative squared error\")\n",
    "plt.ylabel(\"Uncertainty\")\n",
    "plt.title(\"NTK Method\")\n",
    "plt.savefig(plot_dir + plot_name, format=\"pdf\", bbox_inches=\"tight\")\n",
    "plt.show()\n",
    "\n",
    "# ## NTK Lifted Scatter\n",
    "# plot_name = \"ntk_lifted_scatter.pdf\"\n",
    "# plt.scatter(ntk_test_rel_error, uncertainty_array_lifted*(train_sy**2))\n",
    "# plt.xlabel(\"Relative squared error\")\n",
    "# plt.ylabel(\"Uncertainty\")\n",
    "# plt.title(\"NTK Lifted Method\")\n",
    "# plt.savefig(plot_dir + plot_name, format=\"pdf\", bbox_inches=\"tight\")\n",
    "# plt.show()\n",
    "\n",
    "## Deep Ensemble scatter\n",
    "plot_name = \"ensemble_scatter.pdf\"\n",
    "plt.scatter(ensemble_rel_err_test_list, sigma_mean)\n",
    "plt.xlabel(\"Relative squared error\")\n",
    "plt.ylabel(\"Uncertainty\")\n",
    "plt.title(\"Deep Ensemble\")\n",
    "plt.savefig(plot_dir + plot_name, format=\"pdf\", bbox_inches=\"tight\")\n",
    "plt.show()\n",
    "\n",
    "## NTK Histogram\n",
    "plot_name = \"ntk_hist.pdf\"\n",
    "plt.hist(sorted((train_sy**2)*uncertainty_array.squeeze(0)), bins='auto')\n",
    "plt.xlabel(\"$\\sigma^2$\")\n",
    "plt.ylabel(\"Frequency\")\n",
    "plt.title(\"Histogram of NTK uncertainty estimates\")\n",
    "plt.savefig(plot_dir + plot_name, format=\"pdf\", bbox_inches=\"tight\")\n",
    "plt.show()\n",
    "\n",
    "# ## NTK Lifted Histogram\n",
    "# plot_name = \"ntk_lifted_hist.pdf\"\n",
    "# plt.hist(sorted((train_sy**2)*uncertainty_array_lifted.squeeze(0)), bins='auto')\n",
    "# plt.xlabel(\"$\\sigma^2$\")\n",
    "# plt.ylabel(\"Frequency\")\n",
    "# plt.title(\"Histogram of NTK Lifted uncertainty estimates\")\n",
    "# plt.savefig(plot_dir + plot_name, format=\"pdf\", bbox_inches=\"tight\")\n",
    "# plt.show()\n",
    "\n",
    "## Deep Ensemble Histogram\n",
    "plot_name = \"ensemble_hist.pdf\"\n",
    "plt.hist(sorted(sigma_mean), bins='auto')\n",
    "plt.xlabel(\"$\\sigma^2$\")\n",
    "plt.ylabel(\"Frequency\")\n",
    "plt.title(\"Histogram of Deep Ensemble uncertainty estimates\")\n",
    "plt.savefig(plot_dir + plot_name.format(dataset_str), format=\"pdf\", bbox_inches=\"tight\")\n",
    "plt.show()\n",
    "\n",
    "### --- Plot calibration curve --- ###\n",
    "\n",
    "plot_name = \"calibration_curve.pdf\"\n",
    "observed_true_ntk = df.calibration_curve_ntk(\n",
    "    testloader=test_loader, \n",
    "    uncertainties=uncertainty_array, \n",
    "    model=ntk_network, \n",
    "    num_c=11, \n",
    "    my=train_my, \n",
    "    sy=train_sy)\n",
    "observed_true_ensemble = df.calibration_curve_ensemble(\n",
    "    testloader=test_loader, \n",
    "    mu=mu_mean, \n",
    "    sigma2=sigma_mean, \n",
    "    num_c=11)\n",
    "df.plot_calibration(\n",
    "    observed_true_ntk=observed_true_ntk, \n",
    "    observed_true_ensemble=observed_true_ensemble, \n",
    "    dataset_str=dataset_str, \n",
    "    dir_name=plot_dir, \n",
    "    plot_name=plot_name)\n",
    "\n",
    "# ### --- Plot calibration curve (lifted) --- ###\n",
    "\n",
    "# plot_name = \"calibration_curve_lifted.pdf\"\n",
    "# observed_true_ntk = df.calibration_curve_ntk(\n",
    "#     testloader=test_loader, \n",
    "#     uncertainties=uncertainty_array_lifted, \n",
    "#     model=ntk_network, \n",
    "#     num_c=11, \n",
    "#     my=train_my, \n",
    "#     sy=train_sy)\n",
    "# observed_true_ensemble = df.calibration_curve_ensemble(\n",
    "#     testloader=test_loader, \n",
    "#     mu=mu_mean, \n",
    "#     sigma2=sigma_mean, \n",
    "#     num_c=11)\n",
    "# df.plot_calibration(\n",
    "#     observed_true_ntk=observed_true_ntk, \n",
    "#     observed_true_ensemble=observed_true_ensemble, \n",
    "#     dataset_str=dataset_str, \n",
    "#     dir_name=plot_dir, \n",
    "#     plot_name=plot_name)\n",
    "\n",
    "# result_dir = \"./data/{}/{}/result/\".format(dataset_str, now.strftime(\"%d_%m_%Y__%H_%M_%S\"))\n",
    "result_dir = \"./data/{}/early_stop_p_2_{}/result/\".format(dataset_str,param_ntk)\n",
    "if not os.path.isdir(result_dir):\n",
    "    os.makedirs(result_dir)\n",
    "\n",
    "print(\"Final ntk training MSE = {:.3f}\".format(ntk_train_mse))\n",
    "print(\"Final ntk test MSE = {:.2f}\".format(ntk_test_mse))\n",
    "print(\"Final ensemble training MSE = {}\".format(ensemble_mse_training_list))\n",
    "print(\"Final ensemble test MSE = {}\".format(ensemble_mse_test_list))\n",
    "\n",
    "results_name = \"results.txt\"\n",
    "with open(result_dir+results_name,'w') as results:\n",
    "    results.write(\"--- Dataset & Model --- \\n\")\n",
    "    results.write(\"Number of training points = {} \\n\".format(len(training_set)))\n",
    "    results.write(\"Number of test points = {} \\n\".format(len(test_set)))\n",
    "    results.write(\"Number of features = {} \\n\".format(num_features))\n",
    "    results.write(\"Number of hidden layers = {} \\n\".format(3))\n",
    "    results.write(\"Width of hidden layer = {} \\n\".format(LAYER_WIDTH))\n",
    "    results.write(\"Number of parameters in NTK network = {} \\n\".format(\n",
    "        sum(p.numel() for p in ntk_network.parameters() if p.requires_grad)))\n",
    "\n",
    "    results.write(\"\\n --- Results --- \\n\")\n",
    "    results.write(\"Final ntk training mse = {:.3f} \\n\".format(ntk_train_mse))\n",
    "    results.write(\"Final ntk test mse = {:.2f} \\n\".format(ntk_test_mse))\n",
    "    results.write(\"Deep Ensemble training mse: mean = {:.2f}, std = {:.2f} \\n\".format(np.mean(ensemble_mse_training_list),np.std(ensemble_mse_training_list)))\n",
    "    results.write(\"Deep Ensemble test mse: mean = {:.2f}, std = {:.2f} \\n\".format(np.mean(ensemble_mse_test_list),np.std(ensemble_mse_test_list)))\n",
    "    results.write(\"Deep Ensemble NLL: mean = {:.2f}, std {:.2f} \\n\".format(np.mean(ensemble_nll_list),np.std(ensemble_nll_list)))\n",
    "    results.write(\"\\n --- Training Details --- \\n\")\n",
    "    results.write(\"Learning Rate = {} \\n\".format(learning_rate))\n",
    "    results.write(\"Training Epochs = {} \\n\".format(epochs))\n",
    "    results.write(\"Number of ensembles = {} \\n\".format(ensemble_M))\n",
    "\n",
    "    results.write(\"\\n --- NTK Method Details --- \\n\")\n",
    "    results.write(\"Condition number of Kappa = {:.2f} \\n\".format(np.linalg.cond(Kappa)))\n",
    "    results.write(\"Number of negative eigenvalues of Kappa = {} \\n\".format(eigvals[eigvals<0].size))\n",
    "    results.write(\"Number of zero eigenvalues of Kappa = {} \\n\".format(eigvals[eigvals==0].size))\n",
    "\n",
    "    results.write(\"\\n --- Uncertainty Solution Details --- \\n\")\n",
    "    results.write(\"Type of linear solver = {} \\n\".format(type_solve))\n",
    "    if type_solve=='iterative':\n",
    "        results.write(\"Time to solve all test examples = {:.2f} seconds \\n\".format(uncert_time))\n",
    "        results.write(\"Tolerance of solver = {} \\n\".format(rtol_solve))\n",
    "        results.write(\"Max iteration of solver = {} \\n\".format(maxit_solve))\n",
    "        results.write(\"Average solver iter = {} \\n\".format(solver_info_mean[0]))\n",
    "        results.write(\"Average solver resid error = {} \\n\".format(solver_info_mean[1]))\n",
    "        results.write(\"Average solver matrix resid error = {} \\n\".format(solver_info_mean[2]))\n",
    "    results.write(\"\\n Number of negative values in NTK uncertainties array: {} \\n\".format(uncertainty_array[uncertainty_array<0].size))\n",
    "    results.write(\"Number of zero values in NTK uncertainties array: {} \\n\".format(uncertainty_array[uncertainty_array==0].size))\n"
   ]
  },
  {
   "cell_type": "code",
   "execution_count": 49,
   "metadata": {},
   "outputs": [],
   "source": [
    "test_dataloader = DataLoader(test_dataset,len(test_dataset))\n",
    "X_test,y_test = next(iter(test_dataloader))\n",
    "x_hat = ntk_network(X_test)"
   ]
  },
  {
   "cell_type": "code",
   "execution_count": 50,
   "metadata": {},
   "outputs": [
    {
     "name": "stdout",
     "output_type": "stream",
     "text": [
      "Sizes are torch.Size([103, 1]),torch.Size([103, 1]),torch.Size([103, 1])\n",
      "tensor(16.4237, grad_fn=<MseLossBackward0>)\n",
      "tensor(551.8833)\n",
      "tensor(14.1972, grad_fn=<LinalgVectorNormBackward0>)\n"
     ]
    }
   ],
   "source": [
    "mu_t = torch.from_numpy(mu).reshape(-1,1)\n",
    "x_hat = x_hat\n",
    "y_test = y_test.reshape(-1,1)\n",
    "print(\"Sizes are {},{},{}\".format(mu_t.shape,x_hat.shape,y_test.shape))\n",
    "mse_loss = nn.MSELoss(reduction='mean')\n",
    "print(mse_loss(x_hat*train_sy+train_my,y_test))\n",
    "print(mse_loss(mu_t*train_sy+train_my,y_test))\n",
    "print(torch.norm(mu_t-x_hat))\n",
    "# print(mu_t*train_sy+train_my)\n",
    "# print(x_hat*train_sy+train_my)\n"
   ]
  },
  {
   "cell_type": "markdown",
   "metadata": {},
   "source": [
    "# Classification"
   ]
  },
  {
   "cell_type": "code",
   "execution_count": 63,
   "metadata": {},
   "outputs": [
    {
     "name": "stdout",
     "output_type": "stream",
     "text": [
      "Number of parameters p = 1301\n"
     ]
    },
    {
     "name": "stderr",
     "output_type": "stream",
     "text": [
      "  2%|▏         | 1/50 [00:00<00:07,  6.14it/s]"
     ]
    },
    {
     "name": "stdout",
     "output_type": "stream",
     "text": [
      "Epoch 0 of 50\n",
      "Training CE = 2.210\n",
      "Test CE = 1.90\n",
      "Test accuracy = 39.0%\n"
     ]
    },
    {
     "name": "stderr",
     "output_type": "stream",
     "text": [
      "  4%|▍         | 2/50 [00:00<00:07,  6.20it/s]"
     ]
    },
    {
     "name": "stdout",
     "output_type": "stream",
     "text": [
      "Epoch 1 of 50\n",
      "Training CE = 1.487\n",
      "Test CE = 1.25\n",
      "Test accuracy = 55.0%\n"
     ]
    },
    {
     "name": "stderr",
     "output_type": "stream",
     "text": [
      "  6%|▌         | 3/50 [00:00<00:08,  5.77it/s]"
     ]
    },
    {
     "name": "stdout",
     "output_type": "stream",
     "text": [
      "Epoch 2 of 50\n",
      "Training CE = 0.945\n",
      "Test CE = 1.04\n",
      "Test accuracy = 65.0%\n"
     ]
    },
    {
     "name": "stderr",
     "output_type": "stream",
     "text": [
      "  8%|▊         | 4/50 [00:00<00:07,  5.94it/s]"
     ]
    },
    {
     "name": "stdout",
     "output_type": "stream",
     "text": [
      "Epoch 3 of 50\n",
      "Training CE = 0.747\n",
      "Test CE = 0.89\n",
      "Test accuracy = 69.0%\n"
     ]
    },
    {
     "name": "stderr",
     "output_type": "stream",
     "text": [
      " 10%|█         | 5/50 [00:00<00:07,  5.96it/s]"
     ]
    },
    {
     "name": "stdout",
     "output_type": "stream",
     "text": [
      "Epoch 4 of 50\n",
      "Training CE = 0.635\n",
      "Test CE = 0.81\n",
      "Test accuracy = 73.0%\n"
     ]
    },
    {
     "name": "stderr",
     "output_type": "stream",
     "text": [
      " 12%|█▏        | 6/50 [00:00<00:07,  6.13it/s]"
     ]
    },
    {
     "name": "stdout",
     "output_type": "stream",
     "text": [
      "Epoch 5 of 50\n",
      "Training CE = 0.551\n",
      "Test CE = 0.73\n",
      "Test accuracy = 77.0%\n"
     ]
    },
    {
     "name": "stderr",
     "output_type": "stream",
     "text": [
      " 14%|█▍        | 7/50 [00:01<00:07,  5.97it/s]"
     ]
    },
    {
     "name": "stdout",
     "output_type": "stream",
     "text": [
      "Epoch 6 of 50\n",
      "Training CE = 0.488\n",
      "Test CE = 0.67\n",
      "Test accuracy = 79.0%\n"
     ]
    },
    {
     "name": "stderr",
     "output_type": "stream",
     "text": [
      " 16%|█▌        | 8/50 [00:01<00:06,  6.01it/s]"
     ]
    },
    {
     "name": "stdout",
     "output_type": "stream",
     "text": [
      "Epoch 7 of 50\n",
      "Training CE = 0.440\n",
      "Test CE = 0.62\n",
      "Test accuracy = 84.0%\n"
     ]
    },
    {
     "name": "stderr",
     "output_type": "stream",
     "text": [
      " 18%|█▊        | 9/50 [00:01<00:06,  6.05it/s]"
     ]
    },
    {
     "name": "stdout",
     "output_type": "stream",
     "text": [
      "Epoch 8 of 50\n",
      "Training CE = 0.399\n",
      "Test CE = 0.57\n",
      "Test accuracy = 85.0%\n"
     ]
    },
    {
     "name": "stderr",
     "output_type": "stream",
     "text": [
      " 20%|██        | 10/50 [00:01<00:06,  6.04it/s]"
     ]
    },
    {
     "name": "stdout",
     "output_type": "stream",
     "text": [
      "Epoch 9 of 50\n",
      "Training CE = 0.367\n",
      "Test CE = 0.53\n",
      "Test accuracy = 86.0%\n"
     ]
    },
    {
     "name": "stderr",
     "output_type": "stream",
     "text": [
      " 22%|██▏       | 11/50 [00:01<00:06,  6.01it/s]"
     ]
    },
    {
     "name": "stdout",
     "output_type": "stream",
     "text": [
      "Epoch 10 of 50\n",
      "Training CE = 0.337\n",
      "Test CE = 0.50\n",
      "Test accuracy = 87.0%\n"
     ]
    },
    {
     "name": "stderr",
     "output_type": "stream",
     "text": [
      " 24%|██▍       | 12/50 [00:01<00:06,  6.06it/s]"
     ]
    },
    {
     "name": "stdout",
     "output_type": "stream",
     "text": [
      "Epoch 11 of 50\n",
      "Training CE = 0.316\n",
      "Test CE = 0.49\n",
      "Test accuracy = 89.0%\n"
     ]
    },
    {
     "name": "stderr",
     "output_type": "stream",
     "text": [
      " 26%|██▌       | 13/50 [00:02<00:06,  5.82it/s]"
     ]
    },
    {
     "name": "stdout",
     "output_type": "stream",
     "text": [
      "Epoch 12 of 50\n",
      "Training CE = 0.297\n",
      "Test CE = 0.47\n",
      "Test accuracy = 88.0%\n"
     ]
    },
    {
     "name": "stderr",
     "output_type": "stream",
     "text": [
      " 28%|██▊       | 14/50 [00:02<00:06,  5.91it/s]"
     ]
    },
    {
     "name": "stdout",
     "output_type": "stream",
     "text": [
      "Epoch 13 of 50\n",
      "Training CE = 0.278\n",
      "Test CE = 0.46\n",
      "Test accuracy = 88.0%\n"
     ]
    },
    {
     "name": "stderr",
     "output_type": "stream",
     "text": [
      " 30%|███       | 15/50 [00:02<00:05,  5.99it/s]"
     ]
    },
    {
     "name": "stdout",
     "output_type": "stream",
     "text": [
      "Epoch 14 of 50\n",
      "Training CE = 0.266\n",
      "Test CE = 0.45\n",
      "Test accuracy = 88.0%\n"
     ]
    },
    {
     "name": "stderr",
     "output_type": "stream",
     "text": [
      " 32%|███▏      | 16/50 [00:02<00:05,  6.05it/s]"
     ]
    },
    {
     "name": "stdout",
     "output_type": "stream",
     "text": [
      "Epoch 15 of 50\n",
      "Training CE = 0.253\n",
      "Test CE = 0.43\n",
      "Test accuracy = 88.0%\n"
     ]
    },
    {
     "name": "stderr",
     "output_type": "stream",
     "text": [
      " 34%|███▍      | 17/50 [00:02<00:05,  6.06it/s]"
     ]
    },
    {
     "name": "stdout",
     "output_type": "stream",
     "text": [
      "Epoch 16 of 50\n",
      "Training CE = 0.242\n",
      "Test CE = 0.42\n",
      "Test accuracy = 89.0%\n"
     ]
    },
    {
     "name": "stderr",
     "output_type": "stream",
     "text": [
      " 36%|███▌      | 18/50 [00:02<00:05,  6.11it/s]"
     ]
    },
    {
     "name": "stdout",
     "output_type": "stream",
     "text": [
      "Epoch 17 of 50\n",
      "Training CE = 0.231\n",
      "Test CE = 0.41\n",
      "Test accuracy = 89.0%\n"
     ]
    },
    {
     "name": "stderr",
     "output_type": "stream",
     "text": [
      " 38%|███▊      | 19/50 [00:03<00:05,  6.09it/s]"
     ]
    },
    {
     "name": "stdout",
     "output_type": "stream",
     "text": [
      "Epoch 18 of 50\n",
      "Training CE = 0.221\n",
      "Test CE = 0.41\n",
      "Test accuracy = 89.0%\n"
     ]
    },
    {
     "name": "stderr",
     "output_type": "stream",
     "text": [
      " 40%|████      | 20/50 [00:03<00:04,  6.13it/s]"
     ]
    },
    {
     "name": "stdout",
     "output_type": "stream",
     "text": [
      "Epoch 19 of 50\n",
      "Training CE = 0.212\n",
      "Test CE = 0.41\n",
      "Test accuracy = 89.0%\n"
     ]
    },
    {
     "name": "stderr",
     "output_type": "stream",
     "text": [
      " 42%|████▏     | 21/50 [00:03<00:04,  6.14it/s]"
     ]
    },
    {
     "name": "stdout",
     "output_type": "stream",
     "text": [
      "Epoch 20 of 50\n",
      "Training CE = 0.205\n",
      "Test CE = 0.39\n",
      "Test accuracy = 89.0%\n"
     ]
    },
    {
     "name": "stderr",
     "output_type": "stream",
     "text": [
      " 44%|████▍     | 22/50 [00:03<00:04,  6.20it/s]"
     ]
    },
    {
     "name": "stdout",
     "output_type": "stream",
     "text": [
      "Epoch 21 of 50\n",
      "Training CE = 0.196\n",
      "Test CE = 0.39\n",
      "Test accuracy = 89.0%\n"
     ]
    },
    {
     "name": "stderr",
     "output_type": "stream",
     "text": [
      " 46%|████▌     | 23/50 [00:03<00:04,  6.04it/s]"
     ]
    },
    {
     "name": "stdout",
     "output_type": "stream",
     "text": [
      "Epoch 22 of 50\n",
      "Training CE = 0.188\n",
      "Test CE = 0.39\n",
      "Test accuracy = 89.0%\n"
     ]
    },
    {
     "name": "stderr",
     "output_type": "stream",
     "text": [
      " 48%|████▊     | 24/50 [00:03<00:04,  6.02it/s]"
     ]
    },
    {
     "name": "stdout",
     "output_type": "stream",
     "text": [
      "Epoch 23 of 50\n",
      "Training CE = 0.181\n",
      "Test CE = 0.39\n",
      "Test accuracy = 89.0%\n"
     ]
    },
    {
     "name": "stderr",
     "output_type": "stream",
     "text": [
      " 50%|█████     | 25/50 [00:04<00:04,  6.09it/s]"
     ]
    },
    {
     "name": "stdout",
     "output_type": "stream",
     "text": [
      "Epoch 24 of 50\n",
      "Training CE = 0.173\n",
      "Test CE = 0.39\n",
      "Test accuracy = 89.0%\n"
     ]
    },
    {
     "name": "stderr",
     "output_type": "stream",
     "text": [
      " 52%|█████▏    | 26/50 [00:04<00:03,  6.15it/s]"
     ]
    },
    {
     "name": "stdout",
     "output_type": "stream",
     "text": [
      "Epoch 25 of 50\n",
      "Training CE = 0.168\n",
      "Test CE = 0.39\n",
      "Test accuracy = 89.0%\n"
     ]
    },
    {
     "name": "stderr",
     "output_type": "stream",
     "text": [
      " 54%|█████▍    | 27/50 [00:04<00:03,  6.20it/s]"
     ]
    },
    {
     "name": "stdout",
     "output_type": "stream",
     "text": [
      "Epoch 26 of 50\n",
      "Training CE = 0.162\n",
      "Test CE = 0.38\n",
      "Test accuracy = 89.0%\n"
     ]
    },
    {
     "name": "stderr",
     "output_type": "stream",
     "text": [
      " 56%|█████▌    | 28/50 [00:04<00:03,  6.13it/s]"
     ]
    },
    {
     "name": "stdout",
     "output_type": "stream",
     "text": [
      "Epoch 27 of 50\n",
      "Training CE = 0.157\n",
      "Test CE = 0.39\n",
      "Test accuracy = 89.0%\n"
     ]
    },
    {
     "name": "stderr",
     "output_type": "stream",
     "text": [
      " 58%|█████▊    | 29/50 [00:04<00:03,  6.19it/s]"
     ]
    },
    {
     "name": "stdout",
     "output_type": "stream",
     "text": [
      "Epoch 28 of 50\n",
      "Training CE = 0.151\n",
      "Test CE = 0.39\n",
      "Test accuracy = 88.0%\n"
     ]
    },
    {
     "name": "stderr",
     "output_type": "stream",
     "text": [
      " 60%|██████    | 30/50 [00:04<00:03,  6.24it/s]"
     ]
    },
    {
     "name": "stdout",
     "output_type": "stream",
     "text": [
      "Epoch 29 of 50\n",
      "Training CE = 0.146\n",
      "Test CE = 0.39\n",
      "Test accuracy = 88.0%\n"
     ]
    },
    {
     "name": "stderr",
     "output_type": "stream",
     "text": [
      " 62%|██████▏   | 31/50 [00:05<00:03,  6.23it/s]"
     ]
    },
    {
     "name": "stdout",
     "output_type": "stream",
     "text": [
      "Epoch 30 of 50\n",
      "Training CE = 0.143\n",
      "Test CE = 0.38\n",
      "Test accuracy = 89.0%\n"
     ]
    },
    {
     "name": "stderr",
     "output_type": "stream",
     "text": [
      " 64%|██████▍   | 32/50 [00:05<00:02,  6.24it/s]"
     ]
    },
    {
     "name": "stdout",
     "output_type": "stream",
     "text": [
      "Epoch 31 of 50\n",
      "Training CE = 0.139\n",
      "Test CE = 0.39\n",
      "Test accuracy = 88.0%\n"
     ]
    },
    {
     "name": "stderr",
     "output_type": "stream",
     "text": [
      " 66%|██████▌   | 33/50 [00:05<00:02,  6.04it/s]"
     ]
    },
    {
     "name": "stdout",
     "output_type": "stream",
     "text": [
      "Epoch 32 of 50\n",
      "Training CE = 0.135\n",
      "Test CE = 0.39\n",
      "Test accuracy = 88.0%\n"
     ]
    },
    {
     "name": "stderr",
     "output_type": "stream",
     "text": [
      " 68%|██████▊   | 34/50 [00:05<00:02,  6.11it/s]"
     ]
    },
    {
     "name": "stdout",
     "output_type": "stream",
     "text": [
      "Epoch 33 of 50\n",
      "Training CE = 0.132\n",
      "Test CE = 0.39\n",
      "Test accuracy = 89.0%\n"
     ]
    },
    {
     "name": "stderr",
     "output_type": "stream",
     "text": [
      " 70%|███████   | 35/50 [00:05<00:02,  6.17it/s]"
     ]
    },
    {
     "name": "stdout",
     "output_type": "stream",
     "text": [
      "Epoch 34 of 50\n",
      "Training CE = 0.129\n",
      "Test CE = 0.40\n",
      "Test accuracy = 89.0%\n"
     ]
    },
    {
     "name": "stderr",
     "output_type": "stream",
     "text": [
      " 72%|███████▏  | 36/50 [00:05<00:02,  6.21it/s]"
     ]
    },
    {
     "name": "stdout",
     "output_type": "stream",
     "text": [
      "Epoch 35 of 50\n",
      "Training CE = 0.125\n",
      "Test CE = 0.41\n",
      "Test accuracy = 88.0%\n"
     ]
    },
    {
     "name": "stderr",
     "output_type": "stream",
     "text": [
      " 74%|███████▍  | 37/50 [00:06<00:02,  6.21it/s]"
     ]
    },
    {
     "name": "stdout",
     "output_type": "stream",
     "text": [
      "Epoch 36 of 50\n",
      "Training CE = 0.121\n",
      "Test CE = 0.41\n",
      "Test accuracy = 88.0%\n"
     ]
    },
    {
     "name": "stderr",
     "output_type": "stream",
     "text": [
      " 76%|███████▌  | 38/50 [00:06<00:01,  6.23it/s]"
     ]
    },
    {
     "name": "stdout",
     "output_type": "stream",
     "text": [
      "Epoch 37 of 50\n",
      "Training CE = 0.117\n",
      "Test CE = 0.43\n",
      "Test accuracy = 88.0%\n"
     ]
    },
    {
     "name": "stderr",
     "output_type": "stream",
     "text": [
      " 78%|███████▊  | 39/50 [00:06<00:01,  6.22it/s]"
     ]
    },
    {
     "name": "stdout",
     "output_type": "stream",
     "text": [
      "Epoch 38 of 50\n",
      "Training CE = 0.113\n",
      "Test CE = 0.43\n",
      "Test accuracy = 88.0%\n"
     ]
    },
    {
     "name": "stderr",
     "output_type": "stream",
     "text": [
      " 80%|████████  | 40/50 [00:06<00:01,  6.23it/s]"
     ]
    },
    {
     "name": "stdout",
     "output_type": "stream",
     "text": [
      "Epoch 39 of 50\n",
      "Training CE = 0.109\n",
      "Test CE = 0.44\n",
      "Test accuracy = 87.0%\n"
     ]
    },
    {
     "name": "stderr",
     "output_type": "stream",
     "text": [
      " 82%|████████▏ | 41/50 [00:06<00:01,  6.24it/s]"
     ]
    },
    {
     "name": "stdout",
     "output_type": "stream",
     "text": [
      "Epoch 40 of 50\n",
      "Training CE = 0.106\n",
      "Test CE = 0.44\n",
      "Test accuracy = 87.0%\n"
     ]
    },
    {
     "name": "stderr",
     "output_type": "stream",
     "text": [
      " 84%|████████▍ | 42/50 [00:06<00:01,  6.39it/s]"
     ]
    },
    {
     "name": "stdout",
     "output_type": "stream",
     "text": [
      "Epoch 41 of 50\n",
      "Training CE = 0.103\n",
      "Test CE = 0.44\n",
      "Test accuracy = 87.0%\n"
     ]
    },
    {
     "name": "stderr",
     "output_type": "stream",
     "text": [
      " 86%|████████▌ | 43/50 [00:07<00:01,  5.98it/s]"
     ]
    },
    {
     "name": "stdout",
     "output_type": "stream",
     "text": [
      "Epoch 42 of 50\n",
      "Training CE = 0.099\n",
      "Test CE = 0.45\n",
      "Test accuracy = 87.0%\n"
     ]
    },
    {
     "name": "stderr",
     "output_type": "stream",
     "text": [
      " 88%|████████▊ | 44/50 [00:07<00:00,  6.07it/s]"
     ]
    },
    {
     "name": "stdout",
     "output_type": "stream",
     "text": [
      "Epoch 43 of 50\n",
      "Training CE = 0.097\n",
      "Test CE = 0.46\n",
      "Test accuracy = 88.0%\n"
     ]
    },
    {
     "name": "stderr",
     "output_type": "stream",
     "text": [
      " 90%|█████████ | 45/50 [00:07<00:00,  6.12it/s]"
     ]
    },
    {
     "name": "stdout",
     "output_type": "stream",
     "text": [
      "Epoch 44 of 50\n",
      "Training CE = 0.094\n",
      "Test CE = 0.46\n",
      "Test accuracy = 88.0%\n"
     ]
    },
    {
     "name": "stderr",
     "output_type": "stream",
     "text": [
      " 92%|█████████▏| 46/50 [00:07<00:00,  6.17it/s]"
     ]
    },
    {
     "name": "stdout",
     "output_type": "stream",
     "text": [
      "Epoch 45 of 50\n",
      "Training CE = 0.090\n",
      "Test CE = 0.47\n",
      "Test accuracy = 88.0%\n"
     ]
    },
    {
     "name": "stderr",
     "output_type": "stream",
     "text": [
      " 94%|█████████▍| 47/50 [00:07<00:00,  6.21it/s]"
     ]
    },
    {
     "name": "stdout",
     "output_type": "stream",
     "text": [
      "Epoch 46 of 50\n",
      "Training CE = 0.088\n",
      "Test CE = 0.47\n",
      "Test accuracy = 89.0%\n"
     ]
    },
    {
     "name": "stderr",
     "output_type": "stream",
     "text": [
      " 96%|█████████▌| 48/50 [00:07<00:00,  6.19it/s]"
     ]
    },
    {
     "name": "stdout",
     "output_type": "stream",
     "text": [
      "Epoch 47 of 50\n",
      "Training CE = 0.085\n",
      "Test CE = 0.48\n",
      "Test accuracy = 88.0%\n"
     ]
    },
    {
     "name": "stderr",
     "output_type": "stream",
     "text": [
      " 98%|█████████▊| 49/50 [00:08<00:00,  6.22it/s]"
     ]
    },
    {
     "name": "stdout",
     "output_type": "stream",
     "text": [
      "Epoch 48 of 50\n",
      "Training CE = 0.080\n",
      "Test CE = 0.48\n",
      "Test accuracy = 89.0%\n"
     ]
    },
    {
     "name": "stderr",
     "output_type": "stream",
     "text": [
      "100%|██████████| 50/50 [00:08<00:00,  6.11it/s]"
     ]
    },
    {
     "name": "stdout",
     "output_type": "stream",
     "text": [
      "Epoch 49 of 50\n",
      "Training CE = 0.076\n",
      "Test CE = 0.49\n",
      "Test accuracy = 90.0%\n",
      "Done!\n",
      "Final cnn training cross-entropy = 0.076\n",
      "Final cnn test cross-entropy = 0.49\n",
      "Final cnn test accuracy = 90.0%\n"
     ]
    },
    {
     "name": "stderr",
     "output_type": "stream",
     "text": [
      "\n"
     ]
    }
   ],
   "source": [
    "import torch\n",
    "from torchvision.transforms import ToTensor\n",
    "from torchvision import datasets\n",
    "from tqdm import tqdm\n",
    "import definitions as df\n",
    "from importlib import reload\n",
    "import definitions as df\n",
    "import torch\n",
    "from tqdm import tqdm\n",
    "import importlib\n",
    "import numpy as np\n",
    "from torch import nn\n",
    "from torch.utils.data import DataLoader\n",
    "import solvers\n",
    "importlib.reload(solvers)\n",
    "\n",
    "torch.set_default_dtype(torch.float64)\n",
    "\n",
    "reload(df)\n",
    "\n",
    "N_TRAIN = 1000\n",
    "N_TEST = 100\n",
    "N_OUTPUT = 10\n",
    "learning_rate = 1e-1\n",
    "batch_size = 50\n",
    "epochs = 50\n",
    "\n",
    "training_data = datasets.MNIST(\n",
    "    root=\"data/MNIST\",\n",
    "    train=True,\n",
    "    download=True,\n",
    "    transform=ToTensor()\n",
    ")\n",
    "\n",
    "test_data = datasets.MNIST(\n",
    "    root=\"data/MNIST\",\n",
    "    train=False,\n",
    "    download=True,\n",
    "    transform=ToTensor()\n",
    ")\n",
    "\n",
    "training_data = torch.utils.data.Subset(training_data,range(N_TRAIN))\n",
    "test_data = torch.utils.data.Subset(test_data,range(N_TEST))\n",
    " \n",
    "cnn = df.CNN()\n",
    "print(\"Number of parameters p = {}\".format(sum(p.numel() for p in cnn.parameters() if p.requires_grad)))\n",
    "\n",
    "train_dataloader = DataLoader(training_data, batch_size)\n",
    "test_dataloader = DataLoader(test_data, N_TEST)\n",
    "\n",
    "loss_fn = nn.CrossEntropyLoss()\n",
    "optimizer = torch.optim.SGD(cnn.parameters(), lr=learning_rate)\n",
    "\n",
    "for epoch in tqdm(range(epochs)):\n",
    "    cnn_train_ce = df.train_loop(train_dataloader, cnn, loss_fn, optimizer)\n",
    "    cnn_test_ce, cnn_test_acc = df.test_loop(test_dataloader, cnn, loss_fn)\n",
    "    if epoch % int(epochs/50) == 0:\n",
    "        print(\"Epoch {} of {}\".format(epoch,epochs))\n",
    "        print(\"Training CE = {:.3f}\".format(cnn_train_ce))\n",
    "        print(\"Test CE = {:.2f}\".format(cnn_test_ce))\n",
    "        print(\"Test accuracy = {:.1f}%\".format(100*cnn_test_acc))\n",
    "print(\"Done!\")\n",
    "print(\"Final cnn training cross-entropy = {:.3f}\".format(cnn_train_ce))\n",
    "print(\"Final cnn test cross-entropy = {:.2f}\".format(cnn_test_ce))\n",
    "print(\"Final cnn test accuracy = {:.1f}%\".format(100*cnn_test_acc))"
   ]
  },
  {
   "cell_type": "code",
   "execution_count": 90,
   "metadata": {},
   "outputs": [
    {
     "name": "stdout",
     "output_type": "stream",
     "text": [
      "fnet shape is torch.Size([1])\n",
      "fnet is tensor([0.2641], grad_fn=<ReshapeAliasBackward0>)\n",
      "torch.Size([1000, 1000, 1, 1])\n",
      "torch.Size([100, 1000, 1, 1])\n"
     ]
    }
   ],
   "source": [
    "from functorch import make_functional\n",
    "reload(df)\n",
    "\n",
    "fnet, params = make_functional(cnn)     \n",
    "\n",
    "def fnet_single(params, x):\n",
    "    return fnet(params, x.unsqueeze(0)).squeeze(0)[1].reshape(1)\n",
    "\n",
    "dataset1_ntk = DataLoader(training_data,len(training_data))\n",
    "x1_ntk,_ = next(iter(dataset1_ntk))\n",
    "dataset1_single = DataLoader(training_data,1)\n",
    "x1_single,_ = next(iter(dataset1_single))\n",
    "dataset2_ntk = DataLoader(training_data,len(training_data))\n",
    "x2_ntk,_ = next(iter(dataset2_ntk))\n",
    "test_dataloader = DataLoader(test_data,len(test_data))\n",
    "x1_test,_ = next(iter(test_dataloader))\n",
    "\n",
    "# print(\"Test shape is {}\".format(x1_test.shape))\n",
    "for x1_single in x1_ntk:\n",
    "    y = fnet_single(params,x1_single)\n",
    "print(\"fnet shape is {}\".format(y.shape))\n",
    "print(\"fnet is {}\".format(y))\n",
    "\n",
    "# # Kappa_c = df.empirical_ntk_jacobian_contraction_c(fnet_single, params, x1_ntk, x2_ntk,c=1)\n",
    "Kappa = df.empirical_ntk_jacobian_contraction(fnet_single, params, x1_ntk, x2_ntk)\n",
    "# # kappa_xx = df.empirical_ntk_jacobian_contraction_c(fnet_single=fnet_single,params=params,x1=x1_test,x2=x1_test,c=0)\n",
    "# # kappa_xX_c = df.empirical_ntk_jacobian_contraction_c(fnet_single=fnet_single,params=params,x1=x1_test,x2=x2_ntk,c=0)\n",
    "kappa_xX = df.empirical_ntk_jacobian_contraction(fnet_single=fnet_single,params=params,x1=x1_test,x2=x2_ntk)\n",
    "print(Kappa.shape)\n",
    "print(kappa_xX.shape)\n",
    "# # print(kappa_xx.shape)\n",
    "# # print(kappa_xX.shape)"
   ]
  },
  {
   "cell_type": "code",
   "execution_count": 16,
   "metadata": {},
   "outputs": [
    {
     "name": "stdout",
     "output_type": "stream",
     "text": [
      "tensor(6.7744e-12, grad_fn=<LinalgVectorNormBackward0>)\n"
     ]
    }
   ],
   "source": [
    "print(torch.norm(kappa_xX[:,:,0,0]-kappa_xX_c))"
   ]
  },
  {
   "cell_type": "code",
   "execution_count": 91,
   "metadata": {},
   "outputs": [
    {
     "name": "stderr",
     "output_type": "stream",
     "text": [
      "C:\\Users\\s4531973\\AppData\\Local\\Packages\\PythonSoftwareFoundation.Python.3.11_qbz5n2kfra8p0\\LocalCache\\local-packages\\Python311\\site-packages\\torch\\_functorch\\deprecated.py:97: UserWarning: We've integrated functorch into PyTorch. As the final step of the integration, functorch.make_functional is deprecated as of PyTorch 2.0 and will be deleted in a future version of PyTorch >= 2.3. Please use torch.func.functional_call instead; see the PyTorch 2.0 release notes and/or the torch.func migration guide for more details https://pytorch.org/docs/master/func.migrating.html\n",
      "  warn_deprecated('make_functional', 'torch.func.functional_call')\n",
      "  0%|          | 0/1000 [00:00<?, ?it/s]C:\\Users\\s4531973\\AppData\\Local\\Packages\\PythonSoftwareFoundation.Python.3.11_qbz5n2kfra8p0\\LocalCache\\local-packages\\Python311\\site-packages\\torch\\_functorch\\deprecated.py:80: UserWarning: We've integrated functorch into PyTorch. As the final step of the integration, functorch.jacrev is deprecated as of PyTorch 2.0 and will be deleted in a future version of PyTorch >= 2.3. Please use torch.func.jacrev instead; see the PyTorch 2.0 release notes and/or the torch.func migration guide for more details https://pytorch.org/docs/master/func.migrating.html\n",
      "  warn_deprecated('jacrev')\n",
      "C:\\Users\\s4531973\\AppData\\Local\\Packages\\PythonSoftwareFoundation.Python.3.11_qbz5n2kfra8p0\\LocalCache\\local-packages\\Python311\\site-packages\\torch\\_functorch\\deprecated.py:58: UserWarning: We've integrated functorch into PyTorch. As the final step of the integration, functorch.vmap is deprecated as of PyTorch 2.0 and will be deleted in a future version of PyTorch >= 2.3. Please use torch.vmap instead; see the PyTorch 2.0 release notes and/or the torch.func migration guide for more details https://pytorch.org/docs/master/func.migrating.html\n",
      "  warn_deprecated('vmap', 'torch.vmap')\n",
      "100%|██████████| 1000/1000 [04:34<00:00,  3.65it/s]\n"
     ]
    }
   ],
   "source": [
    "reload(df)\n",
    "\n",
    "rtol_solve = 1e-5\n",
    "maxit_solve = 50\n",
    "\n",
    "uncertainty_array = df.ntk_uncertainty_explicit_class(\n",
    "    train_dataset=training_data,\n",
    "    test_dataset=test_data,\n",
    "    model=cnn,\n",
    "    num_classes=10,\n",
    "    type='iterative',\n",
    "    rtol=rtol_solve,\n",
    "    maxit=maxit_solve)"
   ]
  },
  {
   "cell_type": "code",
   "execution_count": 92,
   "metadata": {},
   "outputs": [
    {
     "name": "stdout",
     "output_type": "stream",
     "text": [
      "[[17.5364 21.0882  8.5065 27.0647 13.0698  6.7741 17.8175 16.6966 13.3384\n",
      "  14.2626 16.2242 20.9794 19.8212 20.361  13.8388 18.1488 18.5528 12.4587\n",
      "  20.8341 21.8695 20.1175 13.7494 20.5486 21.2474 18.0822 18.6385 15.503\n",
      "  20.1546 18.7424 13.3568 13.5085 10.1312 14.3332 20.1518 15.181  18.9523\n",
      "  13.2352 12.4273 12.4975 14.6802  8.3043 14.1669 25.1221 20.8049 17.6817\n",
      "  20.6766 14.2526 13.4096 20.5259 20.257  16.8495 20.0535 18.8015 12.9767\n",
      "  22.2016 24.0933 15.445   9.4543 14.4651 10.175  11.1715 16.9677 21.1329\n",
      "  15.807  14.17   20.7167 24.1153 18.1452 21.4276  8.0959 12.8657 11.4046\n",
      "  18.0998 14.0939 10.2362 13.35   18.9486  9.6754 14.1036 17.1497 23.2877\n",
      "  22.7203 15.47   18.0807 18.0083 16.1923 12.8778 25.3248 16.7416  8.2236\n",
      "  14.2243 15.1983 14.8312 13.2522 14.7048 19.54   14.0704 16.79   11.7886\n",
      "  16.1118]\n",
      " [18.3309 32.4752 16.8345 17.199  20.0927 11.9831 28.2905 22.1094 13.1746\n",
      "  25.5888 14.6627 49.0078 21.2536 15.2601 14.8782 14.4178 29.0706 10.2974\n",
      "  24.2303 27.5341 23.4492 14.1187 24.8029 27.3239 25.6433 16.213  12.8204\n",
      "  12.7775 12.6515 10.949  12.1289 11.1956 16.5834 15.3764 13.8851 32.7976\n",
      "  17.6446 11.264  14.6322 14.934   8.2592 20.9329 31.5852 21.1175 29.116\n",
      "  25.8324 19.3311 20.218  20.6697 24.3115 17.4304 18.0283 16.2145 19.1484\n",
      "  32.6148 33.0962 19.3291 15.4331 19.8006 12.9117 12.7504 24.5908 20.6555\n",
      "  18.5456 17.097  27.119  47.3559 21.0723 16.1944 10.5667 14.8202 12.1568\n",
      "  25.1683 26.0569 13.373  20.5941 25.84   14.9986 25.8555 19.3669 25.2356\n",
      "  48.9564 21.3166 24.312  35.0939 28.7693 18.6262 28.3874 20.771  13.2362\n",
      "  10.1242 26.8859 21.8434 19.3625 21.9549 23.0856 17.0688 16.6183 16.718\n",
      "  27.9749]\n",
      " [19.2417 21.5146 12.7386 35.9657 28.7033 11.9876 31.9151 21.6054 26.5725\n",
      "  31.4108 24.4699 30.5867 20.1866 25.3143 13.9665 19.2482 29.5232 20.1212\n",
      "  24.1663 30.0569 21.0526 24.0551 32.6434 21.4202 30.6462 22.2289 21.3577\n",
      "  24.2082 23.9173 15.0295 21.5993 15.0862 14.8225 19.6391 25.6762 28.6982\n",
      "  29.2593 11.4159 21.2638 14.4382 12.3934 26.066  24.4816 18.9694 27.9306\n",
      "  28.1474 21.6567 17.6895 27.7385 42.9815 25.6082 21.4242 19.9539 26.3648\n",
      "  25.6628 27.247  24.9758 16.4388 29.6245 14.9219 15.8363 23.2991 24.0903\n",
      "  21.5268 30.0176 25.3281 36.0116 23.2961 23.9395 18.9266 19.8492 19.0563\n",
      "  31.2509 34.2405 16.023  26.137  28.8168 27.8639 20.4876 34.7097 23.2879\n",
      "  31.0741 22.2676 31.2598 24.4931 20.8507 19.9259 36.5904 28.0961 11.6228\n",
      "  18.0648 18.0833 21.2653 26.927  23.2855 34.0253 19.5566 27.0274 18.5582\n",
      "  38.3443]\n",
      " [20.4453 43.4693 14.6239 34.1858 18.4722 11.9697 24.8844 38.9716 18.5526\n",
      "  37.1362 27.9643 43.3291 28.1287 28.5052 11.0347 27.9874 31.2001 15.3672\n",
      "  58.4316 35.99   30.5544 34.1698 31.8951 25.226  25.882  21.7851 12.2463\n",
      "  39.8968 34.9764 14.1462 12.9808 13.7056 26.198  34.1059 27.8966 30.7492\n",
      "  19.7022 10.5899 31.1793 26.0337 13.0612 20.7355 40.867  36.164  22.8001\n",
      "  42.3524 17.404  20.9776 28.4235 25.7987 27.6064 46.5994 26.1286 27.8257\n",
      "  28.7289 46.4067 38.4703 17.9992 35.4534 16.384  25.007  28.5028 24.7911\n",
      "  20.2804 22.955  31.6119 59.128  32.0212 26.3244 16.3841 17.6281 24.9838\n",
      "  18.5029 27.8398 13.6444 28.4135 31.9492 25.2782 23.5141 38.2001 36.7519\n",
      "  24.8755 42.7655 25.1223 52.9756 30.3398 32.5318 44.7536 22.1466 16.0474\n",
      "  27.7452 37.3734 20.2463 19.1297 18.546  21.3743 15.8096 40.5007 28.1996\n",
      "  47.2766]\n",
      " [18.5985 34.2733 20.0404 40.6559 31.4405 13.2943 43.5942 37.1032 18.2013\n",
      "  27.0758 28.0687 50.043  22.5577 28.9049 19.2246 25.5264 40.6359 10.4572\n",
      "  24.983  26.132  26.3301 26.9637 42.9427 33.6455 20.1034 21.574  28.9782\n",
      "  32.8695 19.7677 25.9399 23.218  20.9297 23.6904 27.1314 21.0018 37.0855\n",
      "  25.9516 13.2906 28.5641 19.9851 12.8766 31.8939 38.474  27.4064 29.6674\n",
      "  49.2    24.2353 27.5764 33.7814 50.2937 21.659  26.5118 13.6705 39.5907\n",
      "  33.6546 43.8629 33.5715 15.7099 22.4254 11.3166 13.9077 28.2844 34.2608\n",
      "  25.3057 21.8805 31.2897 57.724  32.8921 20.8822 10.0992 17.9112 26.4372\n",
      "  33.5135 33.0912 20.4167 28.8479 28.0842 18.8859 29.4561 23.9825 32.9109\n",
      "  40.139  21.3399 29.1012 28.9849 35.8755 24.2184 51.485  40.4987 14.446\n",
      "  21.7195 28.6306 14.4764 27.4839 27.2267 27.9436 20.0629 28.0061 38.473\n",
      "  46.3791]\n",
      " [16.3921 23.8571 11.8561 27.5546 23.2313 16.5834 30.9035 20.9017 16.3822\n",
      "  34.124  22.4936 39.7634 20.9111 25.299   9.6165 17.3846 21.7775 14.4764\n",
      "  31.3059 27.7827 28.036  17.984  41.8605 19.8834 27.9591 15.8735 22.5133\n",
      "  22.5945 24.1992  8.3628 11.5607  8.9057 14.2867 16.5723 23.9783 26.1595\n",
      "  28.158   7.9847 17.9509  9.1974  8.1735 22.6505 32.5595 23.3829 11.3017\n",
      "  23.4185 12.8789 24.6676 21.0377 30.0125 16.7846 28.3928 15.6944 24.6471\n",
      "  26.5314 27.994  24.573  14.2738 27.9128 11.0402 17.8751 15.4954 14.321\n",
      "  25.6758 23.7256 35.9309 48.7655 25.8816 24.6336 12.3216 15.9936 16.3279\n",
      "  22.3002 17.4479  9.9197 25.5891 21.3963 21.3928 25.2922 34.0229 25.2845\n",
      "  31.9334 25.5076 28.5195 37.6419 27.8734 18.086  25.2643 30.1231 17.3023\n",
      "  24.3082 14.5378 22.5355 29.8252 13.0486 38.1831 11.2492 23.4769 15.3515\n",
      "  25.6621]\n",
      " [17.0401 19.8224 14.181  25.8771 20.007  12.3954 22.5044 17.9528 21.7522\n",
      "  26.0288 14.5039 30.8236 22.913  21.0762 10.8349 12.6678 23.9433 14.4453\n",
      "  22.647  26.5969 21.6425 14.2712 26.0533 20.2331 31.8913 13.0997 15.5886\n",
      "  23.4257 15.6818 12.0339 15.3381 10.3505 14.5878 15.6866 18.6586 25.0588\n",
      "  24.0279 13.0917 17.1327 12.8543 11.2634 23.7513 30.3979 19.1981 20.9733\n",
      "  26.4239 14.646  24.965  27.7606 24.1238 20.7197 21.9808 19.9531 16.4663\n",
      "  13.7271 28.4027 18.3458 12.2007 22.8298 10.7266 19.5987 26.0835 25.4928\n",
      "  21.717  27.196  27.8237 32.6177 23.7107 27.2789 10.1693 18.083  12.9419\n",
      "  26.3047 25.1374 13.2177 23.4074 23.0863 21.3987 20.9878 18.2906 25.1401\n",
      "  20.6745 21.6352 26.45   33.4781 25.682  21.2092 31.3477 18.058  14.0051\n",
      "  24.392  13.5451 18.0622 24.5503 20.4541 38.82   14.5421 22.8527 12.9205\n",
      "  37.9291]\n",
      " [17.166  31.6492 12.6786 31.859  23.3362 11.5486 33.1955 23.7774 15.9263\n",
      "  41.3787 11.5898 23.7631 31.3375 26.8155 19.81   23.1276 30.5861 21.3587\n",
      "  24.6864 22.1707 36.8945 20.2044 28.0756 28.3332 26.7623 17.6754 26.224\n",
      "  31.7848 25.6461 13.3779 30.6384 14.8237 11.6172 22.1825 28.2726 23.2451\n",
      "  17.7602 21.8053 17.4113 18.2198 17.6464 23.6694 35.7468 24.4411 25.2769\n",
      "  30.194  16.4164 27.4277 19.0179 29.806  19.4051 22.4792 28.7846 24.498\n",
      "  31.2255 34.2669 29.0933 16.6806 26.9778 22.     13.9034 26.282  14.26\n",
      "  25.3135 45.1769 20.2884 35.4084 27.4478 27.4521 11.4872 24.4916 14.6102\n",
      "  22.9074 40.1358 17.7543 28.4027 28.1413 31.5696 35.0523 35.6255 30.6314\n",
      "  25.7938 36.7952 18.6949 28.6875 26.779  23.4676 39.2318 17.071  15.4321\n",
      "  23.4182 26.0421 35.5612 27.2697 13.7944 21.9745 16.2126 25.2039 10.9262\n",
      "  35.6256]\n",
      " [15.1238 23.2717  8.3106 23.5642 27.1001  8.6579 26.013  20.1276 13.9612\n",
      "  21.2779 13.0436 26.9099 16.1202 15.3738  9.4225 13.1945 26.1019 16.5472\n",
      "  27.0431 17.3355 22.0781 23.3583 27.5492 25.6374 23.5441 14.8378 12.6136\n",
      "  18.7163 17.3693 10.5929 18.3421 13.0018 20.1835 23.5001 13.0153 19.5902\n",
      "  17.5727  8.8428 14.2944  9.2401  9.3617 18.2219 23.176  17.8377 15.8018\n",
      "  23.4182 12.6278 14.108  15.9867 17.7749 17.8451 20.2946 11.9498 19.4571\n",
      "  21.3229 21.486  20.0953  8.8408 22.7717  8.2745 14.241  14.5329 17.0799\n",
      "  20.6016 17.7116 16.3338 30.3908 26.5034 16.4412 13.915  19.129  12.7822\n",
      "  18.9515 19.0459 11.0424 21.7792 20.612  17.2412 19.6914 19.0931 21.87\n",
      "  21.1711 19.6088 17.5699 16.7557 24.8821 16.8487 33.6038 17.9753 10.4456\n",
      "  23.5254 16.8744 11.1108 19.9508 11.9465 16.983  10.7057 11.4045 12.0712\n",
      "  22.4271]\n",
      " [15.3619 22.7985  9.6075 26.219  17.6191  8.9761 24.2081 20.8578 19.0884\n",
      "  19.9152 17.0988 30.3444 16.7472 17.1247  8.9261 15.6558 25.8457  8.7384\n",
      "  23.7005 16.8963 22.0835 16.1922 25.7385 21.8613 22.078  12.5349 16.6995\n",
      "  16.7757 14.0552 13.347  13.6134 11.4472 20.7004 14.6512 16.0785 30.5436\n",
      "  18.6272  9.4619 19.6989  9.7909  9.6353 21.3868 30.5491 15.7502 21.1328\n",
      "  28.1625 18.303  23.1089 22.2653 22.9141 18.4494 17.2152 12.3429 18.506\n",
      "  27.8007 26.7635 19.0024 12.2633 16.2096 11.0562 15.6384 20.6896 19.963\n",
      "  18.0609 18.649  21.7663 38.1473 21.9507 14.0681 11.6935 14.3735 11.0074\n",
      "  13.5433 18.0595 10.4172 20.4346 22.7148 18.8427 21.8927 26.8537 30.6511\n",
      "  24.1785 24.6907 13.3488 30.3327 25.2115 14.8964 29.338  22.3724 12.4376\n",
      "  14.0884 21.4862 17.1723 22.6727 18.4484 22.6744 15.9842 25.4355 16.5822\n",
      "  24.4426]]\n"
     ]
    }
   ],
   "source": [
    "print(uncertainty_array)"
   ]
  },
  {
   "cell_type": "code",
   "execution_count": 100,
   "metadata": {},
   "outputs": [
    {
     "name": "stdout",
     "output_type": "stream",
     "text": [
      "Number of negative sigma^2 values = 0\n",
      "Mean shape is (10, 100)\n",
      "Uncertainty shape is (10, 100)\n",
      "[ -6.8565  -3.2292   3.9202  13.766    2.6104  -2.3877 -23.5324  27.3945\n",
      "  -8.4903  12.918 ]\n",
      "[-2.4415 -1.1278  1.3402  4.5813  0.9059 -0.8756 -8.4851  9.8461 -3.2231\n",
      "  4.8712]\n",
      "[17.5364 18.3309 19.2417 20.4453 18.5985 16.3921 17.0401 17.166  15.1238\n",
      " 15.3619]\n",
      "-3.2230785503406523\n"
     ]
    }
   ],
   "source": [
    "test_dataloader = DataLoader(test_data,len(test_data))\n",
    "X_test,_ = next(iter(test_dataloader))\n",
    "mean = cnn(X_test).detach().numpy().transpose()\n",
    "n = uncertainty_array[uncertainty_array<0].size\n",
    "print(\"Number of negative sigma^2 values = {}\".format(n))\n",
    "print(\"Mean shape is {}\".format(mean.shape))\n",
    "print(\"Uncertainty shape is {}\".format(uncertainty_array.shape))\n",
    "probit_approx = df.general_probit_approx(mean,uncertainty_array)\n",
    "print(mean[:,0])\n",
    "print(probit_approx[:,0])\n",
    "print(uncertainty_array[:,0])"
   ]
  },
  {
   "cell_type": "code",
   "execution_count": 18,
   "metadata": {},
   "outputs": [
    {
     "name": "stdout",
     "output_type": "stream",
     "text": [
      "torch.Size([1000, 1, 28, 28])\n",
      "torch.Size([1000])\n"
     ]
    }
   ],
   "source": [
    "dataset = DataLoader(training_data,len(training_data))\n",
    "x,y = next(iter(dataset))\n",
    "print(x.shape)\n",
    "print(y.shape)"
   ]
  },
  {
   "cell_type": "code",
   "execution_count": null,
   "metadata": {},
   "outputs": [],
   "source": [
    "ood_data = datasets.FashionMNIST(\n",
    "    root = \"data\",\n",
    "    train=False,\n",
    "    download=True,\n",
    "    transform=ToTensor()\n",
    ")\n",
    "ood_test_point = ood_data.__getitem__(1)\n",
    "ood_uncertainty_array=ntk_uncertainty_classification_single(training_data,ood_test_point[0],model=cnn,optimizer=optimizer,num_c=10,mode='max')\n",
    "test_point = test_data.__getitem__(1)[0]\n",
    "uncertainty_array=ntk_uncertainty_classification_single(training_data,test_point,model=cnn,optimizer=optimizer,num_c=10,mode='max')\n",
    "print(uncertainty_array)\n",
    "print(ood_uncertainty_array)\n",
    "print(torch.argmax(cnn(ood_test_point[0])).item())\n",
    "print(ood_test_point[1])"
   ]
  },
  {
   "cell_type": "code",
   "execution_count": 4,
   "metadata": {},
   "outputs": [
    {
     "name": "stdout",
     "output_type": "stream",
     "text": [
      "torch.Size([4, 4])\n"
     ]
    }
   ],
   "source": [
    "x = torch.ones((4,4,4,4))\n",
    "print(x[:,:,1,1].shape)"
   ]
  }
 ],
 "metadata": {
  "kernelspec": {
   "display_name": "Python 3",
   "language": "python",
   "name": "python3"
  },
  "language_info": {
   "codemirror_mode": {
    "name": "ipython",
    "version": 3
   },
   "file_extension": ".py",
   "mimetype": "text/x-python",
   "name": "python",
   "nbconvert_exporter": "python",
   "pygments_lexer": "ipython3",
   "version": "3.11.8"
  }
 },
 "nbformat": 4,
 "nbformat_minor": 2
}
